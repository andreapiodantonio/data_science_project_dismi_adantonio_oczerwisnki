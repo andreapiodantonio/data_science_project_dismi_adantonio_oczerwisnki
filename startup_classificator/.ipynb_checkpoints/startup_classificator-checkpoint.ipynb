{
 "cells": [
  {
   "cell_type": "code",
   "execution_count": 1,
   "id": "fifth-syndicate",
   "metadata": {},
   "outputs": [],
   "source": [
    "import pandas as pd\n",
    "import numpy as np\n",
    "import matplotlib.pyplot as plt \n",
    "import yaml\n",
    "import warnings\n",
    "import datetime\n",
    "import sklearn\n",
    "import seaborn as sns\n",
    "import datetime\n",
    "from datetime import date, datetime, timedelta\n",
    "\n",
    "warnings.filterwarnings(\"ignore\")\n",
    "plt.style.use('ggplot')"
   ]
  },
  {
   "cell_type": "markdown",
   "id": "first-serum",
   "metadata": {},
   "source": [
    "### collect data from CSV"
   ]
  },
  {
   "cell_type": "markdown",
   "id": "ultimate-astrology",
   "metadata": {},
   "source": [
    "https://www.kaggle.com/manishkc06/startup-success-prediction"
   ]
  },
  {
   "cell_type": "code",
   "execution_count": 2,
   "id": "unexpected-character",
   "metadata": {},
   "outputs": [],
   "source": [
    "startup = pd.read_csv('data//in//startup_data.csv')"
   ]
  },
  {
   "cell_type": "code",
   "execution_count": 3,
   "id": "complete-output",
   "metadata": {},
   "outputs": [
    {
     "data": {
      "text/html": [
       "<div>\n",
       "<style scoped>\n",
       "    .dataframe tbody tr th:only-of-type {\n",
       "        vertical-align: middle;\n",
       "    }\n",
       "\n",
       "    .dataframe tbody tr th {\n",
       "        vertical-align: top;\n",
       "    }\n",
       "\n",
       "    .dataframe thead th {\n",
       "        text-align: right;\n",
       "    }\n",
       "</style>\n",
       "<table border=\"1\" class=\"dataframe\">\n",
       "  <thead>\n",
       "    <tr style=\"text-align: right;\">\n",
       "      <th></th>\n",
       "      <th>unamed:0</th>\n",
       "      <th>state_code</th>\n",
       "      <th>latitude</th>\n",
       "      <th>longitude</th>\n",
       "      <th>zip_code</th>\n",
       "      <th>id</th>\n",
       "      <th>city</th>\n",
       "      <th>Unnamed: 6</th>\n",
       "      <th>name</th>\n",
       "      <th>labels</th>\n",
       "      <th>...</th>\n",
       "      <th>object_id</th>\n",
       "      <th>has_VC</th>\n",
       "      <th>has_angel</th>\n",
       "      <th>has_roundA</th>\n",
       "      <th>has_roundB</th>\n",
       "      <th>has_roundC</th>\n",
       "      <th>has_roundD</th>\n",
       "      <th>avg_participants</th>\n",
       "      <th>is_top500</th>\n",
       "      <th>status</th>\n",
       "    </tr>\n",
       "  </thead>\n",
       "  <tbody>\n",
       "    <tr>\n",
       "      <th>0</th>\n",
       "      <td>1005</td>\n",
       "      <td>CA</td>\n",
       "      <td>42.358880</td>\n",
       "      <td>-71.056820</td>\n",
       "      <td>92101</td>\n",
       "      <td>c:6669</td>\n",
       "      <td>San Diego</td>\n",
       "      <td>NaN</td>\n",
       "      <td>Bandsintown</td>\n",
       "      <td>1.0</td>\n",
       "      <td>...</td>\n",
       "      <td>c:6669</td>\n",
       "      <td>0.0</td>\n",
       "      <td>1.0</td>\n",
       "      <td>0.0</td>\n",
       "      <td>0.0</td>\n",
       "      <td>0.0</td>\n",
       "      <td>0.0</td>\n",
       "      <td>1.0000</td>\n",
       "      <td>0.0</td>\n",
       "      <td>acquired</td>\n",
       "    </tr>\n",
       "    <tr>\n",
       "      <th>1</th>\n",
       "      <td>204</td>\n",
       "      <td>CA</td>\n",
       "      <td>37.238916</td>\n",
       "      <td>-121.973718</td>\n",
       "      <td>95032</td>\n",
       "      <td>c:16283</td>\n",
       "      <td>Los Gatos</td>\n",
       "      <td>NaN</td>\n",
       "      <td>TriCipher</td>\n",
       "      <td>1.0</td>\n",
       "      <td>...</td>\n",
       "      <td>c:16283</td>\n",
       "      <td>1.0</td>\n",
       "      <td>0.0</td>\n",
       "      <td>0.0</td>\n",
       "      <td>1.0</td>\n",
       "      <td>1.0</td>\n",
       "      <td>1.0</td>\n",
       "      <td>4.7500</td>\n",
       "      <td>1.0</td>\n",
       "      <td>acquired</td>\n",
       "    </tr>\n",
       "    <tr>\n",
       "      <th>2</th>\n",
       "      <td>1001</td>\n",
       "      <td>CA</td>\n",
       "      <td>32.901049</td>\n",
       "      <td>-117.192656</td>\n",
       "      <td>92121</td>\n",
       "      <td>c:65620</td>\n",
       "      <td>San Diego</td>\n",
       "      <td>San Diego CA 92121</td>\n",
       "      <td>Plixi</td>\n",
       "      <td>1.0</td>\n",
       "      <td>...</td>\n",
       "      <td>c:65620</td>\n",
       "      <td>0.0</td>\n",
       "      <td>0.0</td>\n",
       "      <td>1.0</td>\n",
       "      <td>0.0</td>\n",
       "      <td>0.0</td>\n",
       "      <td>0.0</td>\n",
       "      <td>4.0000</td>\n",
       "      <td>1.0</td>\n",
       "      <td>acquired</td>\n",
       "    </tr>\n",
       "    <tr>\n",
       "      <th>3</th>\n",
       "      <td>738</td>\n",
       "      <td>CA</td>\n",
       "      <td>37.320309</td>\n",
       "      <td>-122.050040</td>\n",
       "      <td>95014</td>\n",
       "      <td>c:42668</td>\n",
       "      <td>Cupertino</td>\n",
       "      <td>Cupertino CA 95014</td>\n",
       "      <td>Solidcore Systems</td>\n",
       "      <td>1.0</td>\n",
       "      <td>...</td>\n",
       "      <td>c:42668</td>\n",
       "      <td>0.0</td>\n",
       "      <td>0.0</td>\n",
       "      <td>0.0</td>\n",
       "      <td>1.0</td>\n",
       "      <td>1.0</td>\n",
       "      <td>1.0</td>\n",
       "      <td>3.3333</td>\n",
       "      <td>1.0</td>\n",
       "      <td>acquired</td>\n",
       "    </tr>\n",
       "    <tr>\n",
       "      <th>4</th>\n",
       "      <td>1002</td>\n",
       "      <td>CA</td>\n",
       "      <td>37.779281</td>\n",
       "      <td>-122.419236</td>\n",
       "      <td>94105</td>\n",
       "      <td>c:65806</td>\n",
       "      <td>San Francisco</td>\n",
       "      <td>San Francisco CA 94105</td>\n",
       "      <td>Inhale Digital</td>\n",
       "      <td>0.0</td>\n",
       "      <td>...</td>\n",
       "      <td>c:65806</td>\n",
       "      <td>1.0</td>\n",
       "      <td>1.0</td>\n",
       "      <td>0.0</td>\n",
       "      <td>0.0</td>\n",
       "      <td>0.0</td>\n",
       "      <td>0.0</td>\n",
       "      <td>1.0000</td>\n",
       "      <td>1.0</td>\n",
       "      <td>closed</td>\n",
       "    </tr>\n",
       "  </tbody>\n",
       "</table>\n",
       "<p>5 rows × 49 columns</p>\n",
       "</div>"
      ],
      "text/plain": [
       "  unamed:0 state_code   latitude   longitude zip_code       id           city  \\\n",
       "0     1005         CA  42.358880  -71.056820    92101   c:6669      San Diego   \n",
       "1      204         CA  37.238916 -121.973718    95032  c:16283      Los Gatos   \n",
       "2     1001         CA  32.901049 -117.192656    92121  c:65620      San Diego   \n",
       "3      738         CA  37.320309 -122.050040    95014  c:42668      Cupertino   \n",
       "4     1002         CA  37.779281 -122.419236    94105  c:65806  San Francisco   \n",
       "\n",
       "               Unnamed: 6               name  labels  ... object_id has_VC  \\\n",
       "0                     NaN        Bandsintown     1.0  ...    c:6669    0.0   \n",
       "1                     NaN          TriCipher     1.0  ...   c:16283    1.0   \n",
       "2      San Diego CA 92121              Plixi     1.0  ...   c:65620    0.0   \n",
       "3      Cupertino CA 95014  Solidcore Systems     1.0  ...   c:42668    0.0   \n",
       "4  San Francisco CA 94105     Inhale Digital     0.0  ...   c:65806    1.0   \n",
       "\n",
       "  has_angel has_roundA  has_roundB  has_roundC  has_roundD  avg_participants  \\\n",
       "0       1.0        0.0         0.0         0.0         0.0            1.0000   \n",
       "1       0.0        0.0         1.0         1.0         1.0            4.7500   \n",
       "2       0.0        1.0         0.0         0.0         0.0            4.0000   \n",
       "3       0.0        0.0         1.0         1.0         1.0            3.3333   \n",
       "4       1.0        0.0         0.0         0.0         0.0            1.0000   \n",
       "\n",
       "   is_top500    status  \n",
       "0        0.0  acquired  \n",
       "1        1.0  acquired  \n",
       "2        1.0  acquired  \n",
       "3        1.0  acquired  \n",
       "4        1.0    closed  \n",
       "\n",
       "[5 rows x 49 columns]"
      ]
     },
     "execution_count": 3,
     "metadata": {},
     "output_type": "execute_result"
    }
   ],
   "source": [
    "startup.head(5)"
   ]
  },
  {
   "cell_type": "code",
   "execution_count": 4,
   "id": "vocational-grade",
   "metadata": {},
   "outputs": [],
   "source": [
    "startup = startup.drop(columns={'Unnamed: 6'})"
   ]
  },
  {
   "cell_type": "code",
   "execution_count": 5,
   "id": "ancient-discrimination",
   "metadata": {},
   "outputs": [
    {
     "data": {
      "text/html": [
       "<div>\n",
       "<style scoped>\n",
       "    .dataframe tbody tr th:only-of-type {\n",
       "        vertical-align: middle;\n",
       "    }\n",
       "\n",
       "    .dataframe tbody tr th {\n",
       "        vertical-align: top;\n",
       "    }\n",
       "\n",
       "    .dataframe thead th {\n",
       "        text-align: right;\n",
       "    }\n",
       "</style>\n",
       "<table border=\"1\" class=\"dataframe\">\n",
       "  <thead>\n",
       "    <tr style=\"text-align: right;\">\n",
       "      <th></th>\n",
       "      <th>unamed:0</th>\n",
       "      <th>state_code</th>\n",
       "      <th>latitude</th>\n",
       "      <th>longitude</th>\n",
       "      <th>zip_code</th>\n",
       "      <th>id</th>\n",
       "      <th>city</th>\n",
       "      <th>name</th>\n",
       "      <th>labels</th>\n",
       "      <th>founded_at</th>\n",
       "      <th>...</th>\n",
       "      <th>object_id</th>\n",
       "      <th>has_VC</th>\n",
       "      <th>has_angel</th>\n",
       "      <th>has_roundA</th>\n",
       "      <th>has_roundB</th>\n",
       "      <th>has_roundC</th>\n",
       "      <th>has_roundD</th>\n",
       "      <th>avg_participants</th>\n",
       "      <th>is_top500</th>\n",
       "      <th>status</th>\n",
       "    </tr>\n",
       "  </thead>\n",
       "  <tbody>\n",
       "    <tr>\n",
       "      <th>0</th>\n",
       "      <td>1005</td>\n",
       "      <td>CA</td>\n",
       "      <td>42.358880</td>\n",
       "      <td>-71.056820</td>\n",
       "      <td>92101</td>\n",
       "      <td>c:6669</td>\n",
       "      <td>San Diego</td>\n",
       "      <td>Bandsintown</td>\n",
       "      <td>1.0</td>\n",
       "      <td>1/1/2007</td>\n",
       "      <td>...</td>\n",
       "      <td>c:6669</td>\n",
       "      <td>0.0</td>\n",
       "      <td>1.0</td>\n",
       "      <td>0.0</td>\n",
       "      <td>0.0</td>\n",
       "      <td>0.0</td>\n",
       "      <td>0.0</td>\n",
       "      <td>1.0000</td>\n",
       "      <td>0.0</td>\n",
       "      <td>acquired</td>\n",
       "    </tr>\n",
       "    <tr>\n",
       "      <th>1</th>\n",
       "      <td>204</td>\n",
       "      <td>CA</td>\n",
       "      <td>37.238916</td>\n",
       "      <td>-121.973718</td>\n",
       "      <td>95032</td>\n",
       "      <td>c:16283</td>\n",
       "      <td>Los Gatos</td>\n",
       "      <td>TriCipher</td>\n",
       "      <td>1.0</td>\n",
       "      <td>1/1/2000</td>\n",
       "      <td>...</td>\n",
       "      <td>c:16283</td>\n",
       "      <td>1.0</td>\n",
       "      <td>0.0</td>\n",
       "      <td>0.0</td>\n",
       "      <td>1.0</td>\n",
       "      <td>1.0</td>\n",
       "      <td>1.0</td>\n",
       "      <td>4.7500</td>\n",
       "      <td>1.0</td>\n",
       "      <td>acquired</td>\n",
       "    </tr>\n",
       "    <tr>\n",
       "      <th>2</th>\n",
       "      <td>1001</td>\n",
       "      <td>CA</td>\n",
       "      <td>32.901049</td>\n",
       "      <td>-117.192656</td>\n",
       "      <td>92121</td>\n",
       "      <td>c:65620</td>\n",
       "      <td>San Diego</td>\n",
       "      <td>Plixi</td>\n",
       "      <td>1.0</td>\n",
       "      <td>3/18/2009</td>\n",
       "      <td>...</td>\n",
       "      <td>c:65620</td>\n",
       "      <td>0.0</td>\n",
       "      <td>0.0</td>\n",
       "      <td>1.0</td>\n",
       "      <td>0.0</td>\n",
       "      <td>0.0</td>\n",
       "      <td>0.0</td>\n",
       "      <td>4.0000</td>\n",
       "      <td>1.0</td>\n",
       "      <td>acquired</td>\n",
       "    </tr>\n",
       "    <tr>\n",
       "      <th>3</th>\n",
       "      <td>738</td>\n",
       "      <td>CA</td>\n",
       "      <td>37.320309</td>\n",
       "      <td>-122.050040</td>\n",
       "      <td>95014</td>\n",
       "      <td>c:42668</td>\n",
       "      <td>Cupertino</td>\n",
       "      <td>Solidcore Systems</td>\n",
       "      <td>1.0</td>\n",
       "      <td>1/1/2002</td>\n",
       "      <td>...</td>\n",
       "      <td>c:42668</td>\n",
       "      <td>0.0</td>\n",
       "      <td>0.0</td>\n",
       "      <td>0.0</td>\n",
       "      <td>1.0</td>\n",
       "      <td>1.0</td>\n",
       "      <td>1.0</td>\n",
       "      <td>3.3333</td>\n",
       "      <td>1.0</td>\n",
       "      <td>acquired</td>\n",
       "    </tr>\n",
       "    <tr>\n",
       "      <th>4</th>\n",
       "      <td>1002</td>\n",
       "      <td>CA</td>\n",
       "      <td>37.779281</td>\n",
       "      <td>-122.419236</td>\n",
       "      <td>94105</td>\n",
       "      <td>c:65806</td>\n",
       "      <td>San Francisco</td>\n",
       "      <td>Inhale Digital</td>\n",
       "      <td>0.0</td>\n",
       "      <td>8/1/2010</td>\n",
       "      <td>...</td>\n",
       "      <td>c:65806</td>\n",
       "      <td>1.0</td>\n",
       "      <td>1.0</td>\n",
       "      <td>0.0</td>\n",
       "      <td>0.0</td>\n",
       "      <td>0.0</td>\n",
       "      <td>0.0</td>\n",
       "      <td>1.0000</td>\n",
       "      <td>1.0</td>\n",
       "      <td>closed</td>\n",
       "    </tr>\n",
       "  </tbody>\n",
       "</table>\n",
       "<p>5 rows × 48 columns</p>\n",
       "</div>"
      ],
      "text/plain": [
       "  unamed:0 state_code   latitude   longitude zip_code       id           city  \\\n",
       "0     1005         CA  42.358880  -71.056820    92101   c:6669      San Diego   \n",
       "1      204         CA  37.238916 -121.973718    95032  c:16283      Los Gatos   \n",
       "2     1001         CA  32.901049 -117.192656    92121  c:65620      San Diego   \n",
       "3      738         CA  37.320309 -122.050040    95014  c:42668      Cupertino   \n",
       "4     1002         CA  37.779281 -122.419236    94105  c:65806  San Francisco   \n",
       "\n",
       "                name  labels founded_at  ... object_id has_VC has_angel  \\\n",
       "0        Bandsintown     1.0   1/1/2007  ...    c:6669    0.0       1.0   \n",
       "1          TriCipher     1.0   1/1/2000  ...   c:16283    1.0       0.0   \n",
       "2              Plixi     1.0  3/18/2009  ...   c:65620    0.0       0.0   \n",
       "3  Solidcore Systems     1.0   1/1/2002  ...   c:42668    0.0       0.0   \n",
       "4     Inhale Digital     0.0   8/1/2010  ...   c:65806    1.0       1.0   \n",
       "\n",
       "   has_roundA  has_roundB  has_roundC  has_roundD  avg_participants  \\\n",
       "0         0.0         0.0         0.0         0.0            1.0000   \n",
       "1         0.0         1.0         1.0         1.0            4.7500   \n",
       "2         1.0         0.0         0.0         0.0            4.0000   \n",
       "3         0.0         1.0         1.0         1.0            3.3333   \n",
       "4         0.0         0.0         0.0         0.0            1.0000   \n",
       "\n",
       "   is_top500    status  \n",
       "0        0.0  acquired  \n",
       "1        1.0  acquired  \n",
       "2        1.0  acquired  \n",
       "3        1.0  acquired  \n",
       "4        1.0    closed  \n",
       "\n",
       "[5 rows x 48 columns]"
      ]
     },
     "execution_count": 5,
     "metadata": {},
     "output_type": "execute_result"
    }
   ],
   "source": [
    "startup.head(5)"
   ]
  },
  {
   "cell_type": "code",
   "execution_count": 6,
   "id": "willing-virus",
   "metadata": {},
   "outputs": [
    {
     "name": "stdout",
     "output_type": "stream",
     "text": [
      "<class 'pandas.core.frame.DataFrame'>\n",
      "RangeIndex: 923 entries, 0 to 922\n",
      "Data columns (total 48 columns):\n",
      " #   Column                    Non-Null Count  Dtype  \n",
      "---  ------                    --------------  -----  \n",
      " 0   unamed:0                  923 non-null    object \n",
      " 1   state_code                915 non-null    object \n",
      " 2   latitude                  915 non-null    float64\n",
      " 3   longitude                 915 non-null    float64\n",
      " 4   zip_code                  915 non-null    object \n",
      " 5   id                        915 non-null    object \n",
      " 6   city                      915 non-null    object \n",
      " 7   name                      915 non-null    object \n",
      " 8   labels                    915 non-null    float64\n",
      " 9   founded_at                915 non-null    object \n",
      " 10  closed_at                 333 non-null    object \n",
      " 11  first_funding_at          915 non-null    object \n",
      " 12  last_funding_at           915 non-null    object \n",
      " 13  age_first_funding_year    915 non-null    float64\n",
      " 14  age_last_funding_year     915 non-null    float64\n",
      " 15  age_first_milestone_year  764 non-null    float64\n",
      " 16  age_last_milestone_year   764 non-null    float64\n",
      " 17  relationships             915 non-null    float64\n",
      " 18  funding_rounds            915 non-null    float64\n",
      " 19  funding_total_usd         915 non-null    float64\n",
      " 20  milestones                915 non-null    float64\n",
      " 21  state_code.1              914 non-null    object \n",
      " 22  is_CA                     915 non-null    float64\n",
      " 23  is_NY                     915 non-null    float64\n",
      " 24  is_MA                     915 non-null    float64\n",
      " 25  is_TX                     915 non-null    float64\n",
      " 26  is_otherstate             915 non-null    float64\n",
      " 27  category_code             915 non-null    object \n",
      " 28  is_software               915 non-null    float64\n",
      " 29  is_web                    915 non-null    float64\n",
      " 30  is_mobile                 915 non-null    float64\n",
      " 31  is_enterprise             915 non-null    float64\n",
      " 32  is_advertising            915 non-null    float64\n",
      " 33  is_gamesvideo             915 non-null    float64\n",
      " 34  is_ecommerce              915 non-null    float64\n",
      " 35  is_biotech                915 non-null    float64\n",
      " 36  is_consulting             915 non-null    float64\n",
      " 37  is_othercategory          915 non-null    float64\n",
      " 38  object_id                 915 non-null    object \n",
      " 39  has_VC                    915 non-null    float64\n",
      " 40  has_angel                 915 non-null    float64\n",
      " 41  has_roundA                915 non-null    float64\n",
      " 42  has_roundB                915 non-null    float64\n",
      " 43  has_roundC                915 non-null    float64\n",
      " 44  has_roundD                915 non-null    float64\n",
      " 45  avg_participants          915 non-null    float64\n",
      " 46  is_top500                 915 non-null    float64\n",
      " 47  status                    915 non-null    object \n",
      "dtypes: float64(34), object(14)\n",
      "memory usage: 346.2+ KB\n"
     ]
    }
   ],
   "source": [
    "startup.info()"
   ]
  },
  {
   "cell_type": "markdown",
   "id": "alpine-compilation",
   "metadata": {},
   "source": [
    "# Data cleaning"
   ]
  },
  {
   "cell_type": "markdown",
   "id": "least-massage",
   "metadata": {},
   "source": [
    "We take just the columns that could be used in a ML algorithm"
   ]
  },
  {
   "cell_type": "code",
   "execution_count": 7,
   "id": "apart-elements",
   "metadata": {},
   "outputs": [],
   "source": [
    "startup_clean = startup[['name','age_first_funding_year','age_last_funding_year','age_first_milestone_year','age_last_milestone_year', 'relationships','funding_rounds', 'funding_total_usd','is_CA','is_TX','is_NY'\n",
    "         ,'is_MA', 'is_otherstate', 'is_software', 'is_web', 'is_mobile', 'is_enterprise','is_advertising','is_gamesvideo','is_ecommerce','is_biotech','is_consulting','is_othercategory','has_angel',\n",
    "        'has_VC','has_roundA','has_roundB','has_roundC','has_roundD','avg_participants', 'status']]"
   ]
  },
  {
   "cell_type": "markdown",
   "id": "terminal-ghana",
   "metadata": {},
   "source": [
    "We convert the 'status', that will be our Y to predict, in a boolean variable"
   ]
  },
  {
   "cell_type": "code",
   "execution_count": 8,
   "id": "meaning-blackberry",
   "metadata": {},
   "outputs": [],
   "source": [
    "startup_clean['status'] = startup_clean['status'].replace('acquired', 1)\n",
    "startup_clean['status'] = startup_clean['status'].replace('closed', 0)\n",
    "\n",
    "startup_clean = startup_clean.rename(columns={'status': 'has_succeded'})"
   ]
  },
  {
   "cell_type": "code",
   "execution_count": 9,
   "id": "addressed-implement",
   "metadata": {},
   "outputs": [],
   "source": [
    "startup_clean = startup_clean[startup_clean['has_succeded'].notna()]"
   ]
  },
  {
   "cell_type": "code",
   "execution_count": 10,
   "id": "viral-directory",
   "metadata": {},
   "outputs": [
    {
     "data": {
      "text/html": [
       "<div>\n",
       "<style scoped>\n",
       "    .dataframe tbody tr th:only-of-type {\n",
       "        vertical-align: middle;\n",
       "    }\n",
       "\n",
       "    .dataframe tbody tr th {\n",
       "        vertical-align: top;\n",
       "    }\n",
       "\n",
       "    .dataframe thead th {\n",
       "        text-align: right;\n",
       "    }\n",
       "</style>\n",
       "<table border=\"1\" class=\"dataframe\">\n",
       "  <thead>\n",
       "    <tr style=\"text-align: right;\">\n",
       "      <th></th>\n",
       "      <th>age_first_funding_year</th>\n",
       "      <th>age_last_funding_year</th>\n",
       "      <th>age_first_milestone_year</th>\n",
       "      <th>age_last_milestone_year</th>\n",
       "      <th>relationships</th>\n",
       "      <th>funding_rounds</th>\n",
       "      <th>funding_total_usd</th>\n",
       "      <th>is_CA</th>\n",
       "      <th>is_TX</th>\n",
       "      <th>is_NY</th>\n",
       "      <th>...</th>\n",
       "      <th>is_consulting</th>\n",
       "      <th>is_othercategory</th>\n",
       "      <th>has_angel</th>\n",
       "      <th>has_VC</th>\n",
       "      <th>has_roundA</th>\n",
       "      <th>has_roundB</th>\n",
       "      <th>has_roundC</th>\n",
       "      <th>has_roundD</th>\n",
       "      <th>avg_participants</th>\n",
       "      <th>has_succeded</th>\n",
       "    </tr>\n",
       "  </thead>\n",
       "  <tbody>\n",
       "    <tr>\n",
       "      <th>count</th>\n",
       "      <td>915.000000</td>\n",
       "      <td>915.000000</td>\n",
       "      <td>764.000000</td>\n",
       "      <td>764.000000</td>\n",
       "      <td>915.000000</td>\n",
       "      <td>915.000000</td>\n",
       "      <td>9.150000e+02</td>\n",
       "      <td>915.000000</td>\n",
       "      <td>915.000000</td>\n",
       "      <td>915.000000</td>\n",
       "      <td>...</td>\n",
       "      <td>915.000000</td>\n",
       "      <td>915.000000</td>\n",
       "      <td>915.000000</td>\n",
       "      <td>915.000000</td>\n",
       "      <td>915.000000</td>\n",
       "      <td>915.000000</td>\n",
       "      <td>915.000000</td>\n",
       "      <td>915.000000</td>\n",
       "      <td>915.000000</td>\n",
       "      <td>915.000000</td>\n",
       "    </tr>\n",
       "    <tr>\n",
       "      <th>mean</th>\n",
       "      <td>2.244694</td>\n",
       "      <td>3.941282</td>\n",
       "      <td>3.055172</td>\n",
       "      <td>4.752341</td>\n",
       "      <td>7.664481</td>\n",
       "      <td>2.309290</td>\n",
       "      <td>2.520676e+07</td>\n",
       "      <td>0.530055</td>\n",
       "      <td>0.043716</td>\n",
       "      <td>0.114754</td>\n",
       "      <td>...</td>\n",
       "      <td>0.003279</td>\n",
       "      <td>0.322404</td>\n",
       "      <td>0.253552</td>\n",
       "      <td>0.326776</td>\n",
       "      <td>0.508197</td>\n",
       "      <td>0.392350</td>\n",
       "      <td>0.231694</td>\n",
       "      <td>0.099454</td>\n",
       "      <td>2.842275</td>\n",
       "      <td>0.645902</td>\n",
       "    </tr>\n",
       "    <tr>\n",
       "      <th>std</th>\n",
       "      <td>2.516872</td>\n",
       "      <td>2.977394</td>\n",
       "      <td>2.983129</td>\n",
       "      <td>3.218284</td>\n",
       "      <td>7.207005</td>\n",
       "      <td>1.391389</td>\n",
       "      <td>1.902398e+08</td>\n",
       "      <td>0.499369</td>\n",
       "      <td>0.204574</td>\n",
       "      <td>0.318899</td>\n",
       "      <td>...</td>\n",
       "      <td>0.057197</td>\n",
       "      <td>0.467652</td>\n",
       "      <td>0.435282</td>\n",
       "      <td>0.469291</td>\n",
       "      <td>0.500206</td>\n",
       "      <td>0.488541</td>\n",
       "      <td>0.422145</td>\n",
       "      <td>0.299434</td>\n",
       "      <td>1.878195</td>\n",
       "      <td>0.478501</td>\n",
       "    </tr>\n",
       "    <tr>\n",
       "      <th>min</th>\n",
       "      <td>-9.046600</td>\n",
       "      <td>-9.046600</td>\n",
       "      <td>-14.169900</td>\n",
       "      <td>-7.005500</td>\n",
       "      <td>0.000000</td>\n",
       "      <td>1.000000</td>\n",
       "      <td>1.100000e+04</td>\n",
       "      <td>0.000000</td>\n",
       "      <td>0.000000</td>\n",
       "      <td>0.000000</td>\n",
       "      <td>...</td>\n",
       "      <td>0.000000</td>\n",
       "      <td>0.000000</td>\n",
       "      <td>0.000000</td>\n",
       "      <td>0.000000</td>\n",
       "      <td>0.000000</td>\n",
       "      <td>0.000000</td>\n",
       "      <td>0.000000</td>\n",
       "      <td>0.000000</td>\n",
       "      <td>1.000000</td>\n",
       "      <td>0.000000</td>\n",
       "    </tr>\n",
       "    <tr>\n",
       "      <th>25%</th>\n",
       "      <td>0.580800</td>\n",
       "      <td>1.669850</td>\n",
       "      <td>1.000000</td>\n",
       "      <td>2.424700</td>\n",
       "      <td>3.000000</td>\n",
       "      <td>1.000000</td>\n",
       "      <td>2.875000e+06</td>\n",
       "      <td>0.000000</td>\n",
       "      <td>0.000000</td>\n",
       "      <td>0.000000</td>\n",
       "      <td>...</td>\n",
       "      <td>0.000000</td>\n",
       "      <td>0.000000</td>\n",
       "      <td>0.000000</td>\n",
       "      <td>0.000000</td>\n",
       "      <td>0.000000</td>\n",
       "      <td>0.000000</td>\n",
       "      <td>0.000000</td>\n",
       "      <td>0.000000</td>\n",
       "      <td>1.500000</td>\n",
       "      <td>0.000000</td>\n",
       "    </tr>\n",
       "    <tr>\n",
       "      <th>50%</th>\n",
       "      <td>1.446600</td>\n",
       "      <td>3.545200</td>\n",
       "      <td>2.519150</td>\n",
       "      <td>4.450700</td>\n",
       "      <td>5.000000</td>\n",
       "      <td>2.000000</td>\n",
       "      <td>1.000000e+07</td>\n",
       "      <td>1.000000</td>\n",
       "      <td>0.000000</td>\n",
       "      <td>0.000000</td>\n",
       "      <td>...</td>\n",
       "      <td>0.000000</td>\n",
       "      <td>0.000000</td>\n",
       "      <td>0.000000</td>\n",
       "      <td>0.000000</td>\n",
       "      <td>1.000000</td>\n",
       "      <td>0.000000</td>\n",
       "      <td>0.000000</td>\n",
       "      <td>0.000000</td>\n",
       "      <td>2.500000</td>\n",
       "      <td>1.000000</td>\n",
       "    </tr>\n",
       "    <tr>\n",
       "      <th>75%</th>\n",
       "      <td>3.594500</td>\n",
       "      <td>5.568450</td>\n",
       "      <td>4.684250</td>\n",
       "      <td>6.753400</td>\n",
       "      <td>10.000000</td>\n",
       "      <td>3.000000</td>\n",
       "      <td>2.472500e+07</td>\n",
       "      <td>1.000000</td>\n",
       "      <td>0.000000</td>\n",
       "      <td>0.000000</td>\n",
       "      <td>...</td>\n",
       "      <td>0.000000</td>\n",
       "      <td>1.000000</td>\n",
       "      <td>1.000000</td>\n",
       "      <td>1.000000</td>\n",
       "      <td>1.000000</td>\n",
       "      <td>1.000000</td>\n",
       "      <td>0.000000</td>\n",
       "      <td>0.000000</td>\n",
       "      <td>3.900000</td>\n",
       "      <td>1.000000</td>\n",
       "    </tr>\n",
       "    <tr>\n",
       "      <th>max</th>\n",
       "      <td>21.895900</td>\n",
       "      <td>21.895900</td>\n",
       "      <td>24.684900</td>\n",
       "      <td>24.684900</td>\n",
       "      <td>63.000000</td>\n",
       "      <td>10.000000</td>\n",
       "      <td>5.700000e+09</td>\n",
       "      <td>1.000000</td>\n",
       "      <td>1.000000</td>\n",
       "      <td>1.000000</td>\n",
       "      <td>...</td>\n",
       "      <td>1.000000</td>\n",
       "      <td>1.000000</td>\n",
       "      <td>1.000000</td>\n",
       "      <td>1.000000</td>\n",
       "      <td>1.000000</td>\n",
       "      <td>1.000000</td>\n",
       "      <td>1.000000</td>\n",
       "      <td>1.000000</td>\n",
       "      <td>16.000000</td>\n",
       "      <td>1.000000</td>\n",
       "    </tr>\n",
       "  </tbody>\n",
       "</table>\n",
       "<p>8 rows × 30 columns</p>\n",
       "</div>"
      ],
      "text/plain": [
       "       age_first_funding_year  age_last_funding_year  \\\n",
       "count              915.000000             915.000000   \n",
       "mean                 2.244694               3.941282   \n",
       "std                  2.516872               2.977394   \n",
       "min                 -9.046600              -9.046600   \n",
       "25%                  0.580800               1.669850   \n",
       "50%                  1.446600               3.545200   \n",
       "75%                  3.594500               5.568450   \n",
       "max                 21.895900              21.895900   \n",
       "\n",
       "       age_first_milestone_year  age_last_milestone_year  relationships  \\\n",
       "count                764.000000               764.000000     915.000000   \n",
       "mean                   3.055172                 4.752341       7.664481   \n",
       "std                    2.983129                 3.218284       7.207005   \n",
       "min                  -14.169900                -7.005500       0.000000   \n",
       "25%                    1.000000                 2.424700       3.000000   \n",
       "50%                    2.519150                 4.450700       5.000000   \n",
       "75%                    4.684250                 6.753400      10.000000   \n",
       "max                   24.684900                24.684900      63.000000   \n",
       "\n",
       "       funding_rounds  funding_total_usd       is_CA       is_TX       is_NY  \\\n",
       "count      915.000000       9.150000e+02  915.000000  915.000000  915.000000   \n",
       "mean         2.309290       2.520676e+07    0.530055    0.043716    0.114754   \n",
       "std          1.391389       1.902398e+08    0.499369    0.204574    0.318899   \n",
       "min          1.000000       1.100000e+04    0.000000    0.000000    0.000000   \n",
       "25%          1.000000       2.875000e+06    0.000000    0.000000    0.000000   \n",
       "50%          2.000000       1.000000e+07    1.000000    0.000000    0.000000   \n",
       "75%          3.000000       2.472500e+07    1.000000    0.000000    0.000000   \n",
       "max         10.000000       5.700000e+09    1.000000    1.000000    1.000000   \n",
       "\n",
       "       ...  is_consulting  is_othercategory   has_angel      has_VC  \\\n",
       "count  ...     915.000000        915.000000  915.000000  915.000000   \n",
       "mean   ...       0.003279          0.322404    0.253552    0.326776   \n",
       "std    ...       0.057197          0.467652    0.435282    0.469291   \n",
       "min    ...       0.000000          0.000000    0.000000    0.000000   \n",
       "25%    ...       0.000000          0.000000    0.000000    0.000000   \n",
       "50%    ...       0.000000          0.000000    0.000000    0.000000   \n",
       "75%    ...       0.000000          1.000000    1.000000    1.000000   \n",
       "max    ...       1.000000          1.000000    1.000000    1.000000   \n",
       "\n",
       "       has_roundA  has_roundB  has_roundC  has_roundD  avg_participants  \\\n",
       "count  915.000000  915.000000  915.000000  915.000000        915.000000   \n",
       "mean     0.508197    0.392350    0.231694    0.099454          2.842275   \n",
       "std      0.500206    0.488541    0.422145    0.299434          1.878195   \n",
       "min      0.000000    0.000000    0.000000    0.000000          1.000000   \n",
       "25%      0.000000    0.000000    0.000000    0.000000          1.500000   \n",
       "50%      1.000000    0.000000    0.000000    0.000000          2.500000   \n",
       "75%      1.000000    1.000000    0.000000    0.000000          3.900000   \n",
       "max      1.000000    1.000000    1.000000    1.000000         16.000000   \n",
       "\n",
       "       has_succeded  \n",
       "count    915.000000  \n",
       "mean       0.645902  \n",
       "std        0.478501  \n",
       "min        0.000000  \n",
       "25%        0.000000  \n",
       "50%        1.000000  \n",
       "75%        1.000000  \n",
       "max        1.000000  \n",
       "\n",
       "[8 rows x 30 columns]"
      ]
     },
     "execution_count": 10,
     "metadata": {},
     "output_type": "execute_result"
    }
   ],
   "source": [
    "startup_clean.describe()"
   ]
  },
  {
   "cell_type": "code",
   "execution_count": 11,
   "id": "logical-leeds",
   "metadata": {},
   "outputs": [
    {
     "data": {
      "text/html": [
       "<div>\n",
       "<style scoped>\n",
       "    .dataframe tbody tr th:only-of-type {\n",
       "        vertical-align: middle;\n",
       "    }\n",
       "\n",
       "    .dataframe tbody tr th {\n",
       "        vertical-align: top;\n",
       "    }\n",
       "\n",
       "    .dataframe thead th {\n",
       "        text-align: right;\n",
       "    }\n",
       "</style>\n",
       "<table border=\"1\" class=\"dataframe\">\n",
       "  <thead>\n",
       "    <tr style=\"text-align: right;\">\n",
       "      <th></th>\n",
       "      <th>name</th>\n",
       "      <th>age_first_funding_year</th>\n",
       "      <th>age_last_funding_year</th>\n",
       "      <th>age_first_milestone_year</th>\n",
       "      <th>age_last_milestone_year</th>\n",
       "      <th>relationships</th>\n",
       "      <th>funding_rounds</th>\n",
       "      <th>funding_total_usd</th>\n",
       "      <th>is_CA</th>\n",
       "      <th>is_TX</th>\n",
       "      <th>...</th>\n",
       "      <th>is_consulting</th>\n",
       "      <th>is_othercategory</th>\n",
       "      <th>has_angel</th>\n",
       "      <th>has_VC</th>\n",
       "      <th>has_roundA</th>\n",
       "      <th>has_roundB</th>\n",
       "      <th>has_roundC</th>\n",
       "      <th>has_roundD</th>\n",
       "      <th>avg_participants</th>\n",
       "      <th>has_succeded</th>\n",
       "    </tr>\n",
       "  </thead>\n",
       "  <tbody>\n",
       "    <tr>\n",
       "      <th>0</th>\n",
       "      <td>Bandsintown</td>\n",
       "      <td>2.2493</td>\n",
       "      <td>3.0027</td>\n",
       "      <td>4.6685</td>\n",
       "      <td>6.7041</td>\n",
       "      <td>3.0</td>\n",
       "      <td>3.0</td>\n",
       "      <td>375000.0</td>\n",
       "      <td>1.0</td>\n",
       "      <td>0.0</td>\n",
       "      <td>...</td>\n",
       "      <td>0.0</td>\n",
       "      <td>1.0</td>\n",
       "      <td>1.0</td>\n",
       "      <td>0.0</td>\n",
       "      <td>0.0</td>\n",
       "      <td>0.0</td>\n",
       "      <td>0.0</td>\n",
       "      <td>0.0</td>\n",
       "      <td>1.00</td>\n",
       "      <td>1.0</td>\n",
       "    </tr>\n",
       "    <tr>\n",
       "      <th>1</th>\n",
       "      <td>TriCipher</td>\n",
       "      <td>5.1260</td>\n",
       "      <td>9.9973</td>\n",
       "      <td>7.0055</td>\n",
       "      <td>7.0055</td>\n",
       "      <td>9.0</td>\n",
       "      <td>4.0</td>\n",
       "      <td>40100000.0</td>\n",
       "      <td>1.0</td>\n",
       "      <td>0.0</td>\n",
       "      <td>...</td>\n",
       "      <td>0.0</td>\n",
       "      <td>0.0</td>\n",
       "      <td>0.0</td>\n",
       "      <td>1.0</td>\n",
       "      <td>0.0</td>\n",
       "      <td>1.0</td>\n",
       "      <td>1.0</td>\n",
       "      <td>1.0</td>\n",
       "      <td>4.75</td>\n",
       "      <td>1.0</td>\n",
       "    </tr>\n",
       "  </tbody>\n",
       "</table>\n",
       "<p>2 rows × 31 columns</p>\n",
       "</div>"
      ],
      "text/plain": [
       "          name  age_first_funding_year  age_last_funding_year  \\\n",
       "0  Bandsintown                  2.2493                 3.0027   \n",
       "1    TriCipher                  5.1260                 9.9973   \n",
       "\n",
       "   age_first_milestone_year  age_last_milestone_year  relationships  \\\n",
       "0                    4.6685                   6.7041            3.0   \n",
       "1                    7.0055                   7.0055            9.0   \n",
       "\n",
       "   funding_rounds  funding_total_usd  is_CA  is_TX  ...  is_consulting  \\\n",
       "0             3.0           375000.0    1.0    0.0  ...            0.0   \n",
       "1             4.0         40100000.0    1.0    0.0  ...            0.0   \n",
       "\n",
       "   is_othercategory  has_angel  has_VC  has_roundA  has_roundB  has_roundC  \\\n",
       "0               1.0        1.0     0.0         0.0         0.0         0.0   \n",
       "1               0.0        0.0     1.0         0.0         1.0         1.0   \n",
       "\n",
       "   has_roundD  avg_participants  has_succeded  \n",
       "0         0.0              1.00           1.0  \n",
       "1         1.0              4.75           1.0  \n",
       "\n",
       "[2 rows x 31 columns]"
      ]
     },
     "execution_count": 11,
     "metadata": {},
     "output_type": "execute_result"
    }
   ],
   "source": [
    "startup_clean.head(2)#[startup['age_first_milestone_year'].isna()][['milestones','age_first_milestone_year','age_last_milestone_year']]"
   ]
  },
  {
   "cell_type": "code",
   "execution_count": 12,
   "id": "enormous-learning",
   "metadata": {},
   "outputs": [],
   "source": [
    "startup_clean['funding_total_usd'] = startup_clean['funding_total_usd']/1000000"
   ]
  },
  {
   "cell_type": "code",
   "execution_count": 13,
   "id": "vocational-biodiversity",
   "metadata": {},
   "outputs": [],
   "source": [
    "startup_clean = startup_clean.rename(columns={'funding_total_usd': 'funding_total_usd(MLN)'})"
   ]
  },
  {
   "cell_type": "markdown",
   "id": "ahead-newport",
   "metadata": {},
   "source": [
    "### to check how to substitute the null of age_first_milestone_year"
   ]
  },
  {
   "cell_type": "code",
   "execution_count": 14,
   "id": "contemporary-trail",
   "metadata": {},
   "outputs": [
    {
     "name": "stdout",
     "output_type": "stream",
     "text": [
      "mean: 3.0551718586387433\n",
      "median: 2.51915\n"
     ]
    }
   ],
   "source": [
    "age_fmy_mean = startup_clean['age_first_milestone_year'].mean()\n",
    "print(\"mean: \"+str(age_fmy_mean))\n",
    "\n",
    "#age_fmy_mode = startup_clean['age_first_milestone_year'].mode().iat[0]\n",
    "#print(\"mode: \"+ str(age_fmy_mode))\n",
    "\n",
    "age_fmy_median = startup_clean['age_first_milestone_year'].median()\n",
    "print(\"median: \"+ str(age_fmy_median))"
   ]
  },
  {
   "cell_type": "code",
   "execution_count": 15,
   "id": "twelve-field",
   "metadata": {},
   "outputs": [
    {
     "data": {
      "text/plain": [
       "<AxesSubplot:ylabel='Frequency'>"
      ]
     },
     "execution_count": 15,
     "metadata": {},
     "output_type": "execute_result"
    },
    {
     "data": {
      "image/png": "[encoded data removed]",
      "text/plain": [
       "<Figure size 864x576 with 1 Axes>"
      ]
     },
     "metadata": {},
     "output_type": "display_data"
    }
   ],
   "source": [
    "startup_clean['age_first_milestone_year'].dropna().plot(kind='hist', figsize=(12,8), bins=25)"
   ]
  },
  {
   "cell_type": "markdown",
   "id": "verbal-netscape",
   "metadata": {},
   "source": [
    "### to check how to substitute the null of age_first_milestone_year"
   ]
  },
  {
   "cell_type": "code",
   "execution_count": 16,
   "id": "handmade-outreach",
   "metadata": {},
   "outputs": [
    {
     "name": "stdout",
     "output_type": "stream",
     "text": [
      "mean: 4.7523412303664925\n",
      "median: 4.7523412303664925\n"
     ]
    }
   ],
   "source": [
    "age_lmy_mean = startup_clean['age_last_milestone_year'].mean()\n",
    "print(\"mean: \"+str(age_lmy_mean))\n",
    "\n",
    "#age_fmy_mode = startup_clean['age_first_milestone_year'].mode().iat[0]\n",
    "#print(\"mode: \"+ str(age_fmy_mode))\n",
    "\n",
    "age_lmy_median = startup_clean['age_last_milestone_year'].median()\n",
    "print(\"median: \"+ str(age_lmy_mean))"
   ]
  },
  {
   "cell_type": "code",
   "execution_count": 17,
   "id": "introductory-equity",
   "metadata": {},
   "outputs": [
    {
     "data": {
      "text/plain": [
       "<AxesSubplot:ylabel='Frequency'>"
      ]
     },
     "execution_count": 17,
     "metadata": {},
     "output_type": "execute_result"
    },
    {
     "data": {
      "image/png": "[encoded data removed]",
      "text/plain": [
       "<Figure size 864x576 with 1 Axes>"
      ]
     },
     "metadata": {},
     "output_type": "display_data"
    }
   ],
   "source": [
    "startup_clean['age_last_milestone_year'].dropna().plot(kind='hist', figsize=(12,8), bins=25, color='lightskyblue')"
   ]
  },
  {
   "cell_type": "markdown",
   "id": "collectible-columbia",
   "metadata": {},
   "source": [
    "in order to avoid the null value on the fields 'age_first_milestone_year' and 'age_last_milestone_year' \n",
    "we procedeed in this way: <br>\n",
    "    - calculate the mean of these value <br>\n",
    "    - replace the nan with the mean"
   ]
  },
  {
   "cell_type": "code",
   "execution_count": 18,
   "id": "casual-natural",
   "metadata": {},
   "outputs": [],
   "source": [
    "startup_clean['age_first_milestone_year']= startup_clean['age_first_milestone_year'].fillna(age_fmy_mean)\n",
    "startup_clean['age_last_milestone_year']= startup_clean['age_last_milestone_year'].fillna(age_lmy_mean)"
   ]
  },
  {
   "cell_type": "markdown",
   "id": "front-plain",
   "metadata": {},
   "source": [
    "check on null values"
   ]
  },
  {
   "cell_type": "code",
   "execution_count": 19,
   "id": "neutral-initial",
   "metadata": {},
   "outputs": [
    {
     "data": {
      "text/plain": [
       "unamed:0                      0\n",
       "state_code                    8\n",
       "latitude                      8\n",
       "longitude                     8\n",
       "zip_code                      8\n",
       "id                            8\n",
       "city                          8\n",
       "name                          8\n",
       "labels                        8\n",
       "founded_at                    8\n",
       "closed_at                   590\n",
       "first_funding_at              8\n",
       "last_funding_at               8\n",
       "age_first_funding_year        8\n",
       "age_last_funding_year         8\n",
       "age_first_milestone_year    159\n",
       "age_last_milestone_year     159\n",
       "relationships                 8\n",
       "funding_rounds                8\n",
       "funding_total_usd             8\n",
       "milestones                    8\n",
       "state_code.1                  9\n",
       "is_CA                         8\n",
       "is_NY                         8\n",
       "is_MA                         8\n",
       "is_TX                         8\n",
       "is_otherstate                 8\n",
       "category_code                 8\n",
       "is_software                   8\n",
       "is_web                        8\n",
       "is_mobile                     8\n",
       "is_enterprise                 8\n",
       "is_advertising                8\n",
       "is_gamesvideo                 8\n",
       "is_ecommerce                  8\n",
       "is_biotech                    8\n",
       "is_consulting                 8\n",
       "is_othercategory              8\n",
       "object_id                     8\n",
       "has_VC                        8\n",
       "has_angel                     8\n",
       "has_roundA                    8\n",
       "has_roundB                    8\n",
       "has_roundC                    8\n",
       "has_roundD                    8\n",
       "avg_participants              8\n",
       "is_top500                     8\n",
       "status                        8\n",
       "dtype: int64"
      ]
     },
     "execution_count": 19,
     "metadata": {},
     "output_type": "execute_result"
    }
   ],
   "source": [
    "startup.isnull().sum()"
   ]
  },
  {
   "cell_type": "code",
   "execution_count": 20,
   "id": "outdoor-thanks",
   "metadata": {},
   "outputs": [
    {
     "data": {
      "text/plain": [
       "name                        0\n",
       "age_first_funding_year      0\n",
       "age_last_funding_year       0\n",
       "age_first_milestone_year    0\n",
       "age_last_milestone_year     0\n",
       "relationships               0\n",
       "funding_rounds              0\n",
       "funding_total_usd(MLN)      0\n",
       "is_CA                       0\n",
       "is_TX                       0\n",
       "is_NY                       0\n",
       "is_MA                       0\n",
       "is_otherstate               0\n",
       "is_software                 0\n",
       "is_web                      0\n",
       "is_mobile                   0\n",
       "is_enterprise               0\n",
       "is_advertising              0\n",
       "is_gamesvideo               0\n",
       "is_ecommerce                0\n",
       "is_biotech                  0\n",
       "is_consulting               0\n",
       "is_othercategory            0\n",
       "has_angel                   0\n",
       "has_VC                      0\n",
       "has_roundA                  0\n",
       "has_roundB                  0\n",
       "has_roundC                  0\n",
       "has_roundD                  0\n",
       "avg_participants            0\n",
       "has_succeded                0\n",
       "dtype: int64"
      ]
     },
     "execution_count": 20,
     "metadata": {},
     "output_type": "execute_result"
    }
   ],
   "source": [
    "startup_clean.isnull().sum()"
   ]
  },
  {
   "cell_type": "markdown",
   "id": "mature-hawaiian",
   "metadata": {},
   "source": [
    "# Data Exploration"
   ]
  },
  {
   "cell_type": "code",
   "execution_count": 21,
   "id": "colored-crest",
   "metadata": {},
   "outputs": [],
   "source": [
    "startup_founded = startup[startup['founded_at'].isna()==False].reset_index().drop(columns={'index'})\n",
    "\n",
    "startup_closed = startup[startup['closed_at'].isna()==False].reset_index().drop(columns={'index'})"
   ]
  },
  {
   "cell_type": "code",
   "execution_count": 22,
   "id": "structural-moderator",
   "metadata": {},
   "outputs": [
    {
     "data": {
      "text/html": [
       "<div>\n",
       "<style scoped>\n",
       "    .dataframe tbody tr th:only-of-type {\n",
       "        vertical-align: middle;\n",
       "    }\n",
       "\n",
       "    .dataframe tbody tr th {\n",
       "        vertical-align: top;\n",
       "    }\n",
       "\n",
       "    .dataframe thead th {\n",
       "        text-align: right;\n",
       "    }\n",
       "</style>\n",
       "<table border=\"1\" class=\"dataframe\">\n",
       "  <thead>\n",
       "    <tr style=\"text-align: right;\">\n",
       "      <th></th>\n",
       "      <th>unamed:0</th>\n",
       "      <th>state_code</th>\n",
       "      <th>latitude</th>\n",
       "      <th>longitude</th>\n",
       "      <th>zip_code</th>\n",
       "      <th>id</th>\n",
       "      <th>city</th>\n",
       "      <th>name</th>\n",
       "      <th>labels</th>\n",
       "      <th>founded_at</th>\n",
       "      <th>...</th>\n",
       "      <th>object_id</th>\n",
       "      <th>has_VC</th>\n",
       "      <th>has_angel</th>\n",
       "      <th>has_roundA</th>\n",
       "      <th>has_roundB</th>\n",
       "      <th>has_roundC</th>\n",
       "      <th>has_roundD</th>\n",
       "      <th>avg_participants</th>\n",
       "      <th>is_top500</th>\n",
       "      <th>status</th>\n",
       "    </tr>\n",
       "  </thead>\n",
       "  <tbody>\n",
       "    <tr>\n",
       "      <th>0</th>\n",
       "      <td>1005</td>\n",
       "      <td>CA</td>\n",
       "      <td>42.358880</td>\n",
       "      <td>-71.056820</td>\n",
       "      <td>92101</td>\n",
       "      <td>c:6669</td>\n",
       "      <td>San Diego</td>\n",
       "      <td>Bandsintown</td>\n",
       "      <td>1.0</td>\n",
       "      <td>1/1/2007</td>\n",
       "      <td>...</td>\n",
       "      <td>c:6669</td>\n",
       "      <td>0.0</td>\n",
       "      <td>1.0</td>\n",
       "      <td>0.0</td>\n",
       "      <td>0.0</td>\n",
       "      <td>0.0</td>\n",
       "      <td>0.0</td>\n",
       "      <td>1.00</td>\n",
       "      <td>0.0</td>\n",
       "      <td>acquired</td>\n",
       "    </tr>\n",
       "    <tr>\n",
       "      <th>1</th>\n",
       "      <td>204</td>\n",
       "      <td>CA</td>\n",
       "      <td>37.238916</td>\n",
       "      <td>-121.973718</td>\n",
       "      <td>95032</td>\n",
       "      <td>c:16283</td>\n",
       "      <td>Los Gatos</td>\n",
       "      <td>TriCipher</td>\n",
       "      <td>1.0</td>\n",
       "      <td>1/1/2000</td>\n",
       "      <td>...</td>\n",
       "      <td>c:16283</td>\n",
       "      <td>1.0</td>\n",
       "      <td>0.0</td>\n",
       "      <td>0.0</td>\n",
       "      <td>1.0</td>\n",
       "      <td>1.0</td>\n",
       "      <td>1.0</td>\n",
       "      <td>4.75</td>\n",
       "      <td>1.0</td>\n",
       "      <td>acquired</td>\n",
       "    </tr>\n",
       "    <tr>\n",
       "      <th>2</th>\n",
       "      <td>1001</td>\n",
       "      <td>CA</td>\n",
       "      <td>32.901049</td>\n",
       "      <td>-117.192656</td>\n",
       "      <td>92121</td>\n",
       "      <td>c:65620</td>\n",
       "      <td>San Diego</td>\n",
       "      <td>Plixi</td>\n",
       "      <td>1.0</td>\n",
       "      <td>3/18/2009</td>\n",
       "      <td>...</td>\n",
       "      <td>c:65620</td>\n",
       "      <td>0.0</td>\n",
       "      <td>0.0</td>\n",
       "      <td>1.0</td>\n",
       "      <td>0.0</td>\n",
       "      <td>0.0</td>\n",
       "      <td>0.0</td>\n",
       "      <td>4.00</td>\n",
       "      <td>1.0</td>\n",
       "      <td>acquired</td>\n",
       "    </tr>\n",
       "  </tbody>\n",
       "</table>\n",
       "<p>3 rows × 48 columns</p>\n",
       "</div>"
      ],
      "text/plain": [
       "  unamed:0 state_code   latitude   longitude zip_code       id       city  \\\n",
       "0     1005         CA  42.358880  -71.056820    92101   c:6669  San Diego   \n",
       "1      204         CA  37.238916 -121.973718    95032  c:16283  Los Gatos   \n",
       "2     1001         CA  32.901049 -117.192656    92121  c:65620  San Diego   \n",
       "\n",
       "          name  labels founded_at  ... object_id has_VC has_angel  has_roundA  \\\n",
       "0  Bandsintown     1.0   1/1/2007  ...    c:6669    0.0       1.0         0.0   \n",
       "1    TriCipher     1.0   1/1/2000  ...   c:16283    1.0       0.0         0.0   \n",
       "2        Plixi     1.0  3/18/2009  ...   c:65620    0.0       0.0         1.0   \n",
       "\n",
       "   has_roundB  has_roundC  has_roundD  avg_participants  is_top500    status  \n",
       "0         0.0         0.0         0.0              1.00        0.0  acquired  \n",
       "1         1.0         1.0         1.0              4.75        1.0  acquired  \n",
       "2         0.0         0.0         0.0              4.00        1.0  acquired  \n",
       "\n",
       "[3 rows x 48 columns]"
      ]
     },
     "execution_count": 22,
     "metadata": {},
     "output_type": "execute_result"
    }
   ],
   "source": [
    "startup_founded.head(3)"
   ]
  },
  {
   "cell_type": "code",
   "execution_count": 23,
   "id": "upset-tucson",
   "metadata": {},
   "outputs": [
    {
     "data": {
      "text/html": [
       "<div>\n",
       "<style scoped>\n",
       "    .dataframe tbody tr th:only-of-type {\n",
       "        vertical-align: middle;\n",
       "    }\n",
       "\n",
       "    .dataframe tbody tr th {\n",
       "        vertical-align: top;\n",
       "    }\n",
       "\n",
       "    .dataframe thead th {\n",
       "        text-align: right;\n",
       "    }\n",
       "</style>\n",
       "<table border=\"1\" class=\"dataframe\">\n",
       "  <thead>\n",
       "    <tr style=\"text-align: right;\">\n",
       "      <th></th>\n",
       "      <th>unamed:0</th>\n",
       "      <th>state_code</th>\n",
       "      <th>latitude</th>\n",
       "      <th>longitude</th>\n",
       "      <th>zip_code</th>\n",
       "      <th>id</th>\n",
       "      <th>city</th>\n",
       "      <th>name</th>\n",
       "      <th>labels</th>\n",
       "      <th>founded_at</th>\n",
       "      <th>...</th>\n",
       "      <th>object_id</th>\n",
       "      <th>has_VC</th>\n",
       "      <th>has_angel</th>\n",
       "      <th>has_roundA</th>\n",
       "      <th>has_roundB</th>\n",
       "      <th>has_roundC</th>\n",
       "      <th>has_roundD</th>\n",
       "      <th>avg_participants</th>\n",
       "      <th>is_top500</th>\n",
       "      <th>status</th>\n",
       "    </tr>\n",
       "  </thead>\n",
       "  <tbody>\n",
       "    <tr>\n",
       "      <th>0</th>\n",
       "      <td>1002</td>\n",
       "      <td>CA</td>\n",
       "      <td>37.779281</td>\n",
       "      <td>-122.419236</td>\n",
       "      <td>94105</td>\n",
       "      <td>c:65806</td>\n",
       "      <td>San Francisco</td>\n",
       "      <td>Inhale Digital</td>\n",
       "      <td>0.0</td>\n",
       "      <td>8/1/2010</td>\n",
       "      <td>...</td>\n",
       "      <td>c:65806</td>\n",
       "      <td>1.0</td>\n",
       "      <td>1.0</td>\n",
       "      <td>0.0</td>\n",
       "      <td>0.0</td>\n",
       "      <td>0.0</td>\n",
       "      <td>0.0</td>\n",
       "      <td>1.00</td>\n",
       "      <td>1.0</td>\n",
       "      <td>closed</td>\n",
       "    </tr>\n",
       "    <tr>\n",
       "      <th>1</th>\n",
       "      <td>379</td>\n",
       "      <td>CA</td>\n",
       "      <td>37.406914</td>\n",
       "      <td>-122.090370</td>\n",
       "      <td>94043</td>\n",
       "      <td>c:22898</td>\n",
       "      <td>Mountain View</td>\n",
       "      <td>Matisse Networks</td>\n",
       "      <td>0.0</td>\n",
       "      <td>1/1/2002</td>\n",
       "      <td>...</td>\n",
       "      <td>c:22898</td>\n",
       "      <td>0.0</td>\n",
       "      <td>0.0</td>\n",
       "      <td>0.0</td>\n",
       "      <td>1.0</td>\n",
       "      <td>0.0</td>\n",
       "      <td>0.0</td>\n",
       "      <td>3.00</td>\n",
       "      <td>1.0</td>\n",
       "      <td>closed</td>\n",
       "    </tr>\n",
       "    <tr>\n",
       "      <th>2</th>\n",
       "      <td>835</td>\n",
       "      <td>CA</td>\n",
       "      <td>37.452992</td>\n",
       "      <td>-122.185098</td>\n",
       "      <td>94025</td>\n",
       "      <td>c:4829</td>\n",
       "      <td>Menlo Park</td>\n",
       "      <td>Center'd</td>\n",
       "      <td>0.0</td>\n",
       "      <td>1/1/2006</td>\n",
       "      <td>...</td>\n",
       "      <td>c:4829</td>\n",
       "      <td>1.0</td>\n",
       "      <td>1.0</td>\n",
       "      <td>1.0</td>\n",
       "      <td>0.0</td>\n",
       "      <td>0.0</td>\n",
       "      <td>0.0</td>\n",
       "      <td>1.75</td>\n",
       "      <td>1.0</td>\n",
       "      <td>closed</td>\n",
       "    </tr>\n",
       "    <tr>\n",
       "      <th>3</th>\n",
       "      <td>531</td>\n",
       "      <td>KY</td>\n",
       "      <td>38.241467</td>\n",
       "      <td>-85.724511</td>\n",
       "      <td>40204</td>\n",
       "      <td>c:30290</td>\n",
       "      <td>Louisville</td>\n",
       "      <td>Resonant Vibes</td>\n",
       "      <td>0.0</td>\n",
       "      <td>1/1/2004</td>\n",
       "      <td>...</td>\n",
       "      <td>c:30290</td>\n",
       "      <td>1.0</td>\n",
       "      <td>0.0</td>\n",
       "      <td>0.0</td>\n",
       "      <td>0.0</td>\n",
       "      <td>0.0</td>\n",
       "      <td>0.0</td>\n",
       "      <td>1.00</td>\n",
       "      <td>0.0</td>\n",
       "      <td>closed</td>\n",
       "    </tr>\n",
       "    <tr>\n",
       "      <th>4</th>\n",
       "      <td>898</td>\n",
       "      <td>VA</td>\n",
       "      <td>38.901301</td>\n",
       "      <td>-77.265158</td>\n",
       "      <td>22182</td>\n",
       "      <td>c:54177</td>\n",
       "      <td>Vienna</td>\n",
       "      <td>Invicta Networks</td>\n",
       "      <td>0.0</td>\n",
       "      <td>1/1/1999</td>\n",
       "      <td>...</td>\n",
       "      <td>c:54177</td>\n",
       "      <td>1.0</td>\n",
       "      <td>0.0</td>\n",
       "      <td>0.0</td>\n",
       "      <td>0.0</td>\n",
       "      <td>0.0</td>\n",
       "      <td>0.0</td>\n",
       "      <td>1.00</td>\n",
       "      <td>0.0</td>\n",
       "      <td>closed</td>\n",
       "    </tr>\n",
       "  </tbody>\n",
       "</table>\n",
       "<p>5 rows × 48 columns</p>\n",
       "</div>"
      ],
      "text/plain": [
       "  unamed:0 state_code   latitude   longitude zip_code       id           city  \\\n",
       "0     1002         CA  37.779281 -122.419236    94105  c:65806  San Francisco   \n",
       "1      379         CA  37.406914 -122.090370    94043  c:22898  Mountain View   \n",
       "2      835         CA  37.452992 -122.185098    94025   c:4829     Menlo Park   \n",
       "3      531         KY  38.241467  -85.724511    40204  c:30290     Louisville   \n",
       "4      898         VA  38.901301  -77.265158    22182  c:54177         Vienna   \n",
       "\n",
       "               name  labels founded_at  ... object_id has_VC has_angel  \\\n",
       "0    Inhale Digital     0.0   8/1/2010  ...   c:65806    1.0       1.0   \n",
       "1  Matisse Networks     0.0   1/1/2002  ...   c:22898    0.0       0.0   \n",
       "2          Center'd     0.0   1/1/2006  ...    c:4829    1.0       1.0   \n",
       "3    Resonant Vibes     0.0   1/1/2004  ...   c:30290    1.0       0.0   \n",
       "4  Invicta Networks     0.0   1/1/1999  ...   c:54177    1.0       0.0   \n",
       "\n",
       "   has_roundA  has_roundB  has_roundC  has_roundD  avg_participants  \\\n",
       "0         0.0         0.0         0.0         0.0              1.00   \n",
       "1         0.0         1.0         0.0         0.0              3.00   \n",
       "2         1.0         0.0         0.0         0.0              1.75   \n",
       "3         0.0         0.0         0.0         0.0              1.00   \n",
       "4         0.0         0.0         0.0         0.0              1.00   \n",
       "\n",
       "   is_top500  status  \n",
       "0        1.0  closed  \n",
       "1        1.0  closed  \n",
       "2        1.0  closed  \n",
       "3        0.0  closed  \n",
       "4        0.0  closed  \n",
       "\n",
       "[5 rows x 48 columns]"
      ]
     },
     "execution_count": 23,
     "metadata": {},
     "output_type": "execute_result"
    }
   ],
   "source": [
    "startup_closed.head(5)"
   ]
  },
  {
   "cell_type": "code",
   "execution_count": 24,
   "id": "particular-airplane",
   "metadata": {},
   "outputs": [
    {
     "data": {
      "text/plain": [
       "915"
      ]
     },
     "execution_count": 24,
     "metadata": {},
     "output_type": "execute_result"
    }
   ],
   "source": [
    "startup_founded['founded_at'] = pd.to_datetime(startup_founded['founded_at'])\n",
    "len(startup_founded)"
   ]
  },
  {
   "cell_type": "code",
   "execution_count": 25,
   "id": "vocal-distance",
   "metadata": {},
   "outputs": [
    {
     "data": {
      "text/plain": [
       "333"
      ]
     },
     "execution_count": 25,
     "metadata": {},
     "output_type": "execute_result"
    }
   ],
   "source": [
    "startup_closed['closed_at'] = pd.to_datetime(startup_closed['closed_at'])\n",
    "len(startup_closed)"
   ]
  },
  {
   "cell_type": "code",
   "execution_count": 26,
   "id": "minor-oxford",
   "metadata": {},
   "outputs": [],
   "source": [
    "# calculation of founded startup\n",
    "startup_founded['founded_at_ym'] = pd.Series()\n",
    "\n",
    "for i in range(len(startup_founded)):\n",
    "     startup_founded['founded_at_ym'][i] = startup_founded['founded_at'][i].strftime('%Y')\n",
    "        \n",
    "startup_founded['founded_at_ym']= startup_founded['founded_at_ym'].astype(int)\n",
    "\n",
    "\n",
    "# calculation of closed startup\n",
    "startup_closed['closed_at_ym'] = pd.Series()\n",
    "\n",
    "for i in range(len(startup_closed)):\n",
    "     startup_closed['closed_at_ym'][i] = startup_closed['closed_at'][i].strftime('%Y')\n",
    "        \n",
    "startup_closed['closed_at_ym']= startup_closed['closed_at_ym'].astype(int)"
   ]
  },
  {
   "cell_type": "code",
   "execution_count": 27,
   "id": "naughty-subscriber",
   "metadata": {},
   "outputs": [],
   "source": [
    "stgbf = startup_founded.groupby(by='founded_at_ym').agg({'unamed:0':'count'}).sort_values('founded_at_ym').reset_index()\n",
    "stgbc = startup_closed.groupby(by='closed_at_ym').agg({'unamed:0':'count'}).sort_values('closed_at_ym').reset_index()\n",
    "\n",
    "\n",
    "stgbf = stgbf.rename(columns={'unamed:0': '# startups founded','founded_at_ym':'year'})\n",
    "stgbc = stgbc.rename(columns={'unamed:0': '# startups closed','closed_at_ym':'year'})"
   ]
  },
  {
   "cell_type": "code",
   "execution_count": 28,
   "id": "natural-malawi",
   "metadata": {},
   "outputs": [],
   "source": [
    "stgbfc = stgbf.merge(stgbc, how='left', on='year')\n",
    "stgbfc = stgbfc.fillna(0)\n",
    "stgbfc['# startups closed'] = stgbfc['# startups closed'].astype(int)\n",
    "#stgbfc"
   ]
  },
  {
   "cell_type": "code",
   "execution_count": 29,
   "id": "informal-blanket",
   "metadata": {},
   "outputs": [],
   "source": [
    "startup_founded['status'] = startup_founded['status'].replace('acquired', 1)\n",
    "startup_founded['status'] = startup_founded['status'].replace('closed', 0)"
   ]
  },
  {
   "cell_type": "code",
   "execution_count": 30,
   "id": "separate-research",
   "metadata": {},
   "outputs": [],
   "source": [
    "startup_founded = startup_founded.rename(columns={'unamed:0': '# startups founded','status':'# startups succeded'})"
   ]
  },
  {
   "cell_type": "code",
   "execution_count": 31,
   "id": "exceptional-antique",
   "metadata": {},
   "outputs": [
    {
     "data": {
      "text/html": [
       "<div>\n",
       "<style scoped>\n",
       "    .dataframe tbody tr th:only-of-type {\n",
       "        vertical-align: middle;\n",
       "    }\n",
       "\n",
       "    .dataframe tbody tr th {\n",
       "        vertical-align: top;\n",
       "    }\n",
       "\n",
       "    .dataframe thead th {\n",
       "        text-align: right;\n",
       "    }\n",
       "</style>\n",
       "<table border=\"1\" class=\"dataframe\">\n",
       "  <thead>\n",
       "    <tr style=\"text-align: right;\">\n",
       "      <th></th>\n",
       "      <th>founded_at_ym</th>\n",
       "      <th># startups founded</th>\n",
       "      <th># startups succeded</th>\n",
       "    </tr>\n",
       "  </thead>\n",
       "  <tbody>\n",
       "    <tr>\n",
       "      <th>0</th>\n",
       "      <td>1984</td>\n",
       "      <td>1</td>\n",
       "      <td>0</td>\n",
       "    </tr>\n",
       "    <tr>\n",
       "      <th>1</th>\n",
       "      <td>1985</td>\n",
       "      <td>1</td>\n",
       "      <td>0</td>\n",
       "    </tr>\n",
       "    <tr>\n",
       "      <th>2</th>\n",
       "      <td>1990</td>\n",
       "      <td>1</td>\n",
       "      <td>0</td>\n",
       "    </tr>\n",
       "    <tr>\n",
       "      <th>3</th>\n",
       "      <td>1992</td>\n",
       "      <td>1</td>\n",
       "      <td>0</td>\n",
       "    </tr>\n",
       "    <tr>\n",
       "      <th>4</th>\n",
       "      <td>1995</td>\n",
       "      <td>1</td>\n",
       "      <td>0</td>\n",
       "    </tr>\n",
       "    <tr>\n",
       "      <th>5</th>\n",
       "      <td>1996</td>\n",
       "      <td>3</td>\n",
       "      <td>0</td>\n",
       "    </tr>\n",
       "    <tr>\n",
       "      <th>6</th>\n",
       "      <td>1997</td>\n",
       "      <td>3</td>\n",
       "      <td>0</td>\n",
       "    </tr>\n",
       "    <tr>\n",
       "      <th>7</th>\n",
       "      <td>1998</td>\n",
       "      <td>4</td>\n",
       "      <td>0</td>\n",
       "    </tr>\n",
       "    <tr>\n",
       "      <th>8</th>\n",
       "      <td>1999</td>\n",
       "      <td>11</td>\n",
       "      <td>0</td>\n",
       "    </tr>\n",
       "    <tr>\n",
       "      <th>9</th>\n",
       "      <td>2000</td>\n",
       "      <td>65</td>\n",
       "      <td>53</td>\n",
       "    </tr>\n",
       "    <tr>\n",
       "      <th>10</th>\n",
       "      <td>2001</td>\n",
       "      <td>41</td>\n",
       "      <td>30</td>\n",
       "    </tr>\n",
       "    <tr>\n",
       "      <th>11</th>\n",
       "      <td>2002</td>\n",
       "      <td>58</td>\n",
       "      <td>45</td>\n",
       "    </tr>\n",
       "    <tr>\n",
       "      <th>12</th>\n",
       "      <td>2003</td>\n",
       "      <td>63</td>\n",
       "      <td>46</td>\n",
       "    </tr>\n",
       "    <tr>\n",
       "      <th>13</th>\n",
       "      <td>2004</td>\n",
       "      <td>71</td>\n",
       "      <td>46</td>\n",
       "    </tr>\n",
       "    <tr>\n",
       "      <th>14</th>\n",
       "      <td>2005</td>\n",
       "      <td>101</td>\n",
       "      <td>70</td>\n",
       "    </tr>\n",
       "    <tr>\n",
       "      <th>15</th>\n",
       "      <td>2006</td>\n",
       "      <td>105</td>\n",
       "      <td>67</td>\n",
       "    </tr>\n",
       "    <tr>\n",
       "      <th>16</th>\n",
       "      <td>2007</td>\n",
       "      <td>103</td>\n",
       "      <td>68</td>\n",
       "    </tr>\n",
       "    <tr>\n",
       "      <th>17</th>\n",
       "      <td>2008</td>\n",
       "      <td>85</td>\n",
       "      <td>55</td>\n",
       "    </tr>\n",
       "    <tr>\n",
       "      <th>18</th>\n",
       "      <td>2009</td>\n",
       "      <td>82</td>\n",
       "      <td>56</td>\n",
       "    </tr>\n",
       "    <tr>\n",
       "      <th>19</th>\n",
       "      <td>2010</td>\n",
       "      <td>71</td>\n",
       "      <td>32</td>\n",
       "    </tr>\n",
       "    <tr>\n",
       "      <th>20</th>\n",
       "      <td>2011</td>\n",
       "      <td>31</td>\n",
       "      <td>16</td>\n",
       "    </tr>\n",
       "    <tr>\n",
       "      <th>21</th>\n",
       "      <td>2012</td>\n",
       "      <td>10</td>\n",
       "      <td>6</td>\n",
       "    </tr>\n",
       "    <tr>\n",
       "      <th>22</th>\n",
       "      <td>2013</td>\n",
       "      <td>3</td>\n",
       "      <td>1</td>\n",
       "    </tr>\n",
       "  </tbody>\n",
       "</table>\n",
       "</div>"
      ],
      "text/plain": [
       "    founded_at_ym  # startups founded  # startups succeded\n",
       "0            1984                   1                    0\n",
       "1            1985                   1                    0\n",
       "2            1990                   1                    0\n",
       "3            1992                   1                    0\n",
       "4            1995                   1                    0\n",
       "5            1996                   3                    0\n",
       "6            1997                   3                    0\n",
       "7            1998                   4                    0\n",
       "8            1999                  11                    0\n",
       "9            2000                  65                   53\n",
       "10           2001                  41                   30\n",
       "11           2002                  58                   45\n",
       "12           2003                  63                   46\n",
       "13           2004                  71                   46\n",
       "14           2005                 101                   70\n",
       "15           2006                 105                   67\n",
       "16           2007                 103                   68\n",
       "17           2008                  85                   55\n",
       "18           2009                  82                   56\n",
       "19           2010                  71                   32\n",
       "20           2011                  31                   16\n",
       "21           2012                  10                    6\n",
       "22           2013                   3                    1"
      ]
     },
     "execution_count": 31,
     "metadata": {},
     "output_type": "execute_result"
    }
   ],
   "source": [
    "startup_founded_gp = startup_founded.groupby(by='founded_at_ym').agg({'# startups founded':'count','# startups succeded':'sum'}).reset_index()\n",
    "startup_founded_gp"
   ]
  },
  {
   "cell_type": "code",
   "execution_count": 32,
   "id": "announced-watts",
   "metadata": {},
   "outputs": [
    {
     "data": {
      "image/png": "[encoded data removed]",
      "text/plain": [
       "<Figure size 1152x576 with 1 Axes>"
      ]
     },
     "metadata": {},
     "output_type": "display_data"
    }
   ],
   "source": [
    "plt.figure(figsize=(16,8))\n",
    "\n",
    "ax=startup_founded_gp['founded_at_ym']\n",
    "width = 0.3\n",
    "plt.xlabel('year')\n",
    "#plt.ylabel('')\n",
    "\n",
    "#plt.ylim( (0, 0.9) )\n",
    "plt.bar(ax-0.15, startup_founded_gp['# startups founded'], width, color =\"steelblue\", label='# startups founded')\n",
    "plt.bar(ax+0.15, startup_founded_gp['# startups succeded'], width, color =\"mediumseagreen\", label='# startups succeded')\n",
    "\n",
    "plt.legend()\n",
    "plt.show()\n"
   ]
  },
  {
   "cell_type": "code",
   "execution_count": 33,
   "id": "seeing-bowling",
   "metadata": {},
   "outputs": [],
   "source": [
    "#startup_founded.groupby(by='founded_at_ym').agg({'# startup founded':'count','# startups succeded':'sum'}).plot(kind='bar', figsize=(16,8))"
   ]
  },
  {
   "cell_type": "markdown",
   "id": "weighted-avenue",
   "metadata": {},
   "source": [
    "The chart below allow us to check the number of startups founded and closed by year. As we can easily note the two trends are really different."
   ]
  },
  {
   "cell_type": "code",
   "execution_count": 34,
   "id": "rational-ontario",
   "metadata": {},
   "outputs": [
    {
     "data": {
      "text/plain": [
       "<AxesSubplot:xlabel='year'>"
      ]
     },
     "execution_count": 34,
     "metadata": {},
     "output_type": "execute_result"
    },
    {
     "data": {
      "image/png": "[encoded data removed]",
      "text/plain": [
       "<Figure size 1152x576 with 1 Axes>"
      ]
     },
     "metadata": {},
     "output_type": "display_data"
    }
   ],
   "source": [
    "stgbfc.plot(figsize=(16,8), kind='bar', x='year', y=['# startups closed', '# startups founded'])"
   ]
  },
  {
   "cell_type": "code",
   "execution_count": 35,
   "id": "postal-knight",
   "metadata": {},
   "outputs": [],
   "source": [
    "#stgbf.plot(figsize=(16,8), kind='bar', title='number of startups by  year of foundation', color='green')"
   ]
  },
  {
   "cell_type": "code",
   "execution_count": 36,
   "id": "mysterious-marker",
   "metadata": {},
   "outputs": [],
   "source": [
    "#stgbc.plot(figsize=(16,8), kind='bar', title='number of startups closed by year', color='red')"
   ]
  },
  {
   "cell_type": "markdown",
   "id": "secondary-attention",
   "metadata": {},
   "source": [
    "We start checking with a boxplots chart the shape of our features"
   ]
  },
  {
   "cell_type": "code",
   "execution_count": 37,
   "id": "fitted-hardwood",
   "metadata": {},
   "outputs": [
    {
     "data": {
      "image/png": "[encoded data removed]",
      "text/plain": [
       "<Figure size 1440x2016 with 29 Axes>"
      ]
     },
     "metadata": {},
     "output_type": "display_data"
    }
   ],
   "source": [
    "plt.subplots(figsize=(20,28))\n",
    "c_ = sns.color_palette(\"deep\", n_colors=30)\n",
    "i = 1\n",
    "for col in startup_clean.columns[1:-1]:\n",
    "    plt.subplot(6,5,i)\n",
    "    sns.boxplot(data=startup_clean[col],color=c_[i-1])\n",
    "    #sns.swarmplot(data=startup_clean[col],color=\".9\")\n",
    "    plt.title('boxplot '+ col)#   plt.xlim((0,1))\n",
    "    i+=1\n",
    "plt.suptitle(\"Boxplots 01/20 - 06/21\",fontsize=24)\n",
    "plt.show()"
   ]
  },
  {
   "cell_type": "markdown",
   "id": "clear-quick",
   "metadata": {},
   "source": [
    "We repeat the same operation avoiding the binary features"
   ]
  },
  {
   "cell_type": "code",
   "execution_count": 38,
   "id": "divine-mission",
   "metadata": {},
   "outputs": [],
   "source": [
    "columnsbox = ['age_first_funding_year','age_last_funding_year','age_first_milestone_year','relationships','funding_rounds','funding_total_usd(MLN)','avg_participants']"
   ]
  },
  {
   "cell_type": "code",
   "execution_count": 39,
   "id": "excited-cover",
   "metadata": {},
   "outputs": [],
   "source": [
    "#sns.set_theme(style=\"whitegrid\")"
   ]
  },
  {
   "cell_type": "code",
   "execution_count": 40,
   "id": "alien-remedy",
   "metadata": {},
   "outputs": [
    {
     "data": {
      "image/png": "[encoded data removed]",
      "text/plain": [
       "<Figure size 1440x1440 with 7 Axes>"
      ]
     },
     "metadata": {},
     "output_type": "display_data"
    }
   ],
   "source": [
    "plt.subplots(figsize=(20,20))\n",
    "c_ = sns.color_palette(\"deep\",n_colors=30)\n",
    "i = 1\n",
    "for col in columnsbox:\n",
    "    plt.subplot(4,2,i)\n",
    "    sns.boxplot(data=startup_clean[col],color=c_[i-1], orient='h' )\n",
    "    #sns.swarmplot(data=startup_clean[col],color=\".9\")\n",
    "    plt.title('boxplot '+ col)#   plt.xlim((0,1))\n",
    "    i+=1\n",
    "plt.suptitle(\"Boxplots\",fontsize=24)\n",
    "plt.show()"
   ]
  },
  {
   "cell_type": "code",
   "execution_count": 41,
   "id": "paperback-skirt",
   "metadata": {},
   "outputs": [
    {
     "data": {
      "text/plain": [
       "name                        915\n",
       "age_first_funding_year      915\n",
       "age_last_funding_year       915\n",
       "age_first_milestone_year    915\n",
       "age_last_milestone_year     915\n",
       "relationships               915\n",
       "funding_rounds              915\n",
       "funding_total_usd(MLN)      915\n",
       "is_CA                       915\n",
       "is_TX                       915\n",
       "is_NY                       915\n",
       "is_MA                       915\n",
       "is_otherstate               915\n",
       "is_software                 915\n",
       "is_web                      915\n",
       "is_mobile                   915\n",
       "is_enterprise               915\n",
       "is_advertising              915\n",
       "is_gamesvideo               915\n",
       "is_ecommerce                915\n",
       "is_biotech                  915\n",
       "is_consulting               915\n",
       "is_othercategory            915\n",
       "has_angel                   915\n",
       "has_VC                      915\n",
       "has_roundA                  915\n",
       "has_roundB                  915\n",
       "has_roundC                  915\n",
       "has_roundD                  915\n",
       "avg_participants            915\n",
       "has_succeded                915\n",
       "dtype: int64"
      ]
     },
     "execution_count": 41,
     "metadata": {},
     "output_type": "execute_result"
    }
   ],
   "source": [
    "startup_clean.count()#[startup_clean['age_first_funding_year']<0]"
   ]
  },
  {
   "cell_type": "code",
   "execution_count": 42,
   "id": "celtic-skill",
   "metadata": {},
   "outputs": [
    {
     "data": {
      "text/plain": [
       "754       0.011000\n",
       "434       0.012000\n",
       "827       0.015000\n",
       "167       0.015000\n",
       "585       0.019000\n",
       "          ...     \n",
       "694     211.403000\n",
       "728     232.000100\n",
       "497     238.209999\n",
       "82      510.000000\n",
       "364    5700.000000\n",
       "Name: funding_total_usd(MLN), Length: 915, dtype: float64"
      ]
     },
     "execution_count": 42,
     "metadata": {},
     "output_type": "execute_result"
    }
   ],
   "source": [
    "startup_clean['funding_total_usd(MLN)'].sort_values()"
   ]
  },
  {
   "cell_type": "code",
   "execution_count": 43,
   "id": "integral-employer",
   "metadata": {},
   "outputs": [
    {
     "data": {
      "text/html": [
       "<div>\n",
       "<style scoped>\n",
       "    .dataframe tbody tr th:only-of-type {\n",
       "        vertical-align: middle;\n",
       "    }\n",
       "\n",
       "    .dataframe tbody tr th {\n",
       "        vertical-align: top;\n",
       "    }\n",
       "\n",
       "    .dataframe thead th {\n",
       "        text-align: right;\n",
       "    }\n",
       "</style>\n",
       "<table border=\"1\" class=\"dataframe\">\n",
       "  <thead>\n",
       "    <tr style=\"text-align: right;\">\n",
       "      <th></th>\n",
       "      <th>name</th>\n",
       "      <th>age_first_funding_year</th>\n",
       "      <th>age_last_funding_year</th>\n",
       "      <th>age_first_milestone_year</th>\n",
       "      <th>age_last_milestone_year</th>\n",
       "      <th>relationships</th>\n",
       "      <th>funding_rounds</th>\n",
       "      <th>funding_total_usd(MLN)</th>\n",
       "      <th>is_CA</th>\n",
       "      <th>is_TX</th>\n",
       "      <th>...</th>\n",
       "      <th>is_consulting</th>\n",
       "      <th>is_othercategory</th>\n",
       "      <th>has_angel</th>\n",
       "      <th>has_VC</th>\n",
       "      <th>has_roundA</th>\n",
       "      <th>has_roundB</th>\n",
       "      <th>has_roundC</th>\n",
       "      <th>has_roundD</th>\n",
       "      <th>avg_participants</th>\n",
       "      <th>has_succeded</th>\n",
       "    </tr>\n",
       "  </thead>\n",
       "  <tbody>\n",
       "    <tr>\n",
       "      <th>248</th>\n",
       "      <td>Meridian</td>\n",
       "      <td>0.5397</td>\n",
       "      <td>1.5014</td>\n",
       "      <td>-14.1699</td>\n",
       "      <td>2.2082</td>\n",
       "      <td>6.0</td>\n",
       "      <td>2.0</td>\n",
       "      <td>1.975</td>\n",
       "      <td>0.0</td>\n",
       "      <td>0.0</td>\n",
       "      <td>...</td>\n",
       "      <td>0.0</td>\n",
       "      <td>0.0</td>\n",
       "      <td>1.0</td>\n",
       "      <td>1.0</td>\n",
       "      <td>0.0</td>\n",
       "      <td>0.0</td>\n",
       "      <td>0.0</td>\n",
       "      <td>0.0</td>\n",
       "      <td>3.0</td>\n",
       "      <td>1.0</td>\n",
       "    </tr>\n",
       "  </tbody>\n",
       "</table>\n",
       "<p>1 rows × 31 columns</p>\n",
       "</div>"
      ],
      "text/plain": [
       "         name  age_first_funding_year  age_last_funding_year  \\\n",
       "248  Meridian                  0.5397                 1.5014   \n",
       "\n",
       "     age_first_milestone_year  age_last_milestone_year  relationships  \\\n",
       "248                  -14.1699                   2.2082            6.0   \n",
       "\n",
       "     funding_rounds  funding_total_usd(MLN)  is_CA  is_TX  ...  is_consulting  \\\n",
       "248             2.0                   1.975    0.0    0.0  ...            0.0   \n",
       "\n",
       "     is_othercategory  has_angel  has_VC  has_roundA  has_roundB  has_roundC  \\\n",
       "248               0.0        1.0     1.0         0.0         0.0         0.0   \n",
       "\n",
       "     has_roundD  avg_participants  has_succeded  \n",
       "248         0.0               3.0           1.0  \n",
       "\n",
       "[1 rows x 31 columns]"
      ]
     },
     "execution_count": 43,
     "metadata": {},
     "output_type": "execute_result"
    }
   ],
   "source": [
    "startup_clean[startup_clean['age_first_milestone_year']<=(-14)]\n"
   ]
  },
  {
   "cell_type": "markdown",
   "id": "radical-pepper",
   "metadata": {},
   "source": [
    "### remove relevant outliers"
   ]
  },
  {
   "cell_type": "code",
   "execution_count": 44,
   "id": "outdoor-christianity",
   "metadata": {},
   "outputs": [],
   "source": [
    "startup_clean = startup_clean[startup_clean['funding_total_usd(MLN)']<200]\n",
    "startup_clean = startup_clean[startup_clean['avg_participants']<10]\n",
    "startup_clean = startup_clean[startup_clean['age_first_milestone_year']<15]\n",
    "startup_clean = startup_clean[startup_clean['age_first_milestone_year']>-14]\n",
    "startup_clean = startup_clean[startup_clean['funding_rounds']<8]\n",
    "startup_clean = startup_clean[startup_clean['relationships']<20]"
   ]
  },
  {
   "cell_type": "code",
   "execution_count": 45,
   "id": "convertible-necklace",
   "metadata": {},
   "outputs": [
    {
     "data": {
      "image/png": "[encoded data removed]",
      "text/plain": [
       "<Figure size 1440x1440 with 7 Axes>"
      ]
     },
     "metadata": {},
     "output_type": "display_data"
    }
   ],
   "source": [
    "def plot_regs(df, features):\n",
    "    plt.subplots(figsize=(20,20))\n",
    "    i = 1\n",
    "    for col in features:\n",
    "        plt.subplot(3,3,i)\n",
    "        sns.regplot(y = df['has_succeded'] , x = df[col], data = df, color='mediumseagreen') #, scatter_kws={'facecolors':df['color']})\n",
    "        plt.title('has succeded vs '+ col)\n",
    "        z1,z2,j1,j2 = plt.axis()\n",
    "        plt.axis((z1,z2, -0.1,1.1))\n",
    "        i+=1\n",
    "                  \n",
    "#columnsbox = ['age_first_funding_year','age_last_funding_year','age_first_milestone_year','relationships','funding_rounds','funding_total_usd(MLN)','avg_participants']\n",
    "regressors = startup_clean.columns[1:-1]\n",
    "plot_regs(startup_clean, columnsbox)\n",
    "#plt.savefig('correlations_week_{}'.format(end_date))\n",
    "plt.suptitle(\"Has Succeded vs No Boolean Features\",fontsize=24)\n",
    "plt.show()"
   ]
  },
  {
   "cell_type": "code",
   "execution_count": 46,
   "id": "important-subdivision",
   "metadata": {},
   "outputs": [
    {
     "data": {
      "text/html": [
       "<div>\n",
       "<style scoped>\n",
       "    .dataframe tbody tr th:only-of-type {\n",
       "        vertical-align: middle;\n",
       "    }\n",
       "\n",
       "    .dataframe tbody tr th {\n",
       "        vertical-align: top;\n",
       "    }\n",
       "\n",
       "    .dataframe thead th {\n",
       "        text-align: right;\n",
       "    }\n",
       "</style>\n",
       "<table border=\"1\" class=\"dataframe\">\n",
       "  <thead>\n",
       "    <tr style=\"text-align: right;\">\n",
       "      <th></th>\n",
       "      <th>age_first_funding_year</th>\n",
       "      <th>age_last_funding_year</th>\n",
       "      <th>age_first_milestone_year</th>\n",
       "      <th>age_last_milestone_year</th>\n",
       "      <th>relationships</th>\n",
       "      <th>funding_rounds</th>\n",
       "      <th>funding_total_usd(MLN)</th>\n",
       "      <th>is_CA</th>\n",
       "      <th>is_TX</th>\n",
       "      <th>is_NY</th>\n",
       "      <th>...</th>\n",
       "      <th>is_consulting</th>\n",
       "      <th>is_othercategory</th>\n",
       "      <th>has_angel</th>\n",
       "      <th>has_VC</th>\n",
       "      <th>has_roundA</th>\n",
       "      <th>has_roundB</th>\n",
       "      <th>has_roundC</th>\n",
       "      <th>has_roundD</th>\n",
       "      <th>avg_participants</th>\n",
       "      <th>has_succeded</th>\n",
       "    </tr>\n",
       "  </thead>\n",
       "  <tbody>\n",
       "    <tr>\n",
       "      <th>has_succeded</th>\n",
       "      <td>-0.03995</td>\n",
       "      <td>0.091496</td>\n",
       "      <td>0.174027</td>\n",
       "      <td>0.253932</td>\n",
       "      <td>0.408412</td>\n",
       "      <td>0.184834</td>\n",
       "      <td>0.127747</td>\n",
       "      <td>0.073363</td>\n",
       "      <td>-0.045117</td>\n",
       "      <td>0.047563</td>\n",
       "      <td>...</td>\n",
       "      <td>-0.012782</td>\n",
       "      <td>-0.022662</td>\n",
       "      <td>-0.074126</td>\n",
       "      <td>-0.056113</td>\n",
       "      <td>0.167606</td>\n",
       "      <td>0.1961</td>\n",
       "      <td>0.147196</td>\n",
       "      <td>0.113185</td>\n",
       "      <td>0.175737</td>\n",
       "      <td>1.0</td>\n",
       "    </tr>\n",
       "  </tbody>\n",
       "</table>\n",
       "<p>1 rows × 30 columns</p>\n",
       "</div>"
      ],
      "text/plain": [
       "              age_first_funding_year  age_last_funding_year  \\\n",
       "has_succeded                -0.03995               0.091496   \n",
       "\n",
       "              age_first_milestone_year  age_last_milestone_year  \\\n",
       "has_succeded                  0.174027                 0.253932   \n",
       "\n",
       "              relationships  funding_rounds  funding_total_usd(MLN)     is_CA  \\\n",
       "has_succeded       0.408412        0.184834                0.127747  0.073363   \n",
       "\n",
       "                 is_TX     is_NY  ...  is_consulting  is_othercategory  \\\n",
       "has_succeded -0.045117  0.047563  ...      -0.012782         -0.022662   \n",
       "\n",
       "              has_angel    has_VC  has_roundA  has_roundB  has_roundC  \\\n",
       "has_succeded  -0.074126 -0.056113    0.167606      0.1961    0.147196   \n",
       "\n",
       "              has_roundD  avg_participants  has_succeded  \n",
       "has_succeded    0.113185          0.175737           1.0  \n",
       "\n",
       "[1 rows x 30 columns]"
      ]
     },
     "execution_count": 46,
     "metadata": {},
     "output_type": "execute_result"
    }
   ],
   "source": [
    "df_corr_hs = startup_clean.iloc[:,:]\n",
    "mat_hs = df_corr_hs.corr()\n",
    "mat_hs_p = mat_hs[mat_hs.index=='has_succeded']\n",
    "mat_hs_p"
   ]
  },
  {
   "cell_type": "code",
   "execution_count": 47,
   "id": "nonprofit-harvest",
   "metadata": {},
   "outputs": [
    {
     "data": {
      "image/png": "[encoded data removed]",
      "text/plain": [
       "<Figure size 864x144 with 1 Axes>"
      ]
     },
     "metadata": {},
     "output_type": "display_data"
    }
   ],
   "source": [
    "#plt.subplots(figsize=(7, 5))\n",
    "f, ax = plt.subplots(figsize=(12,2))\n",
    "#plt.figure(figsize=(20,20))\n",
    "sns.heatmap(abs(mat_hs_p),\n",
    "            ax = ax,\n",
    "            cmap = sns.cm.rocket_r,\n",
    "            cbar=False\n",
    "           )\n",
    "\n",
    "ax.set_title('Correlations between dependent variable and features: ')\n",
    "plt.show()"
   ]
  },
  {
   "cell_type": "code",
   "execution_count": 48,
   "id": "tribal-queensland",
   "metadata": {},
   "outputs": [
    {
     "data": {
      "text/html": [
       "<div>\n",
       "<style scoped>\n",
       "    .dataframe tbody tr th:only-of-type {\n",
       "        vertical-align: middle;\n",
       "    }\n",
       "\n",
       "    .dataframe tbody tr th {\n",
       "        vertical-align: top;\n",
       "    }\n",
       "\n",
       "    .dataframe thead th {\n",
       "        text-align: right;\n",
       "    }\n",
       "</style>\n",
       "<table border=\"1\" class=\"dataframe\">\n",
       "  <thead>\n",
       "    <tr style=\"text-align: right;\">\n",
       "      <th></th>\n",
       "      <th>age_first_funding_year</th>\n",
       "      <th>age_last_funding_year</th>\n",
       "      <th>age_first_milestone_year</th>\n",
       "      <th>age_last_milestone_year</th>\n",
       "      <th>relationships</th>\n",
       "      <th>funding_rounds</th>\n",
       "      <th>funding_total_usd(MLN)</th>\n",
       "      <th>is_CA</th>\n",
       "      <th>is_TX</th>\n",
       "      <th>is_NY</th>\n",
       "      <th>...</th>\n",
       "      <th>is_biotech</th>\n",
       "      <th>is_consulting</th>\n",
       "      <th>is_othercategory</th>\n",
       "      <th>has_angel</th>\n",
       "      <th>has_VC</th>\n",
       "      <th>has_roundA</th>\n",
       "      <th>has_roundB</th>\n",
       "      <th>has_roundC</th>\n",
       "      <th>has_roundD</th>\n",
       "      <th>avg_participants</th>\n",
       "    </tr>\n",
       "  </thead>\n",
       "  <tbody>\n",
       "    <tr>\n",
       "      <th>age_first_funding_year</th>\n",
       "      <td>1.000000</td>\n",
       "      <td>0.772430</td>\n",
       "      <td>0.463386</td>\n",
       "      <td>0.356758</td>\n",
       "      <td>-0.204918</td>\n",
       "      <td>-0.139738</td>\n",
       "      <td>0.186324</td>\n",
       "      <td>0.001974</td>\n",
       "      <td>0.037708</td>\n",
       "      <td>-0.142856</td>\n",
       "      <td>...</td>\n",
       "      <td>0.209219</td>\n",
       "      <td>-0.003054</td>\n",
       "      <td>0.111567</td>\n",
       "      <td>-0.365911</td>\n",
       "      <td>0.184345</td>\n",
       "      <td>-0.296561</td>\n",
       "      <td>-0.025921</td>\n",
       "      <td>0.082250</td>\n",
       "      <td>0.177564</td>\n",
       "      <td>0.188597</td>\n",
       "    </tr>\n",
       "    <tr>\n",
       "      <th>age_last_funding_year</th>\n",
       "      <td>0.772430</td>\n",
       "      <td>1.000000</td>\n",
       "      <td>0.565856</td>\n",
       "      <td>0.502457</td>\n",
       "      <td>0.018403</td>\n",
       "      <td>0.394686</td>\n",
       "      <td>0.468774</td>\n",
       "      <td>0.015581</td>\n",
       "      <td>0.030345</td>\n",
       "      <td>-0.159094</td>\n",
       "      <td>...</td>\n",
       "      <td>0.208889</td>\n",
       "      <td>0.010001</td>\n",
       "      <td>0.101499</td>\n",
       "      <td>-0.368713</td>\n",
       "      <td>0.368143</td>\n",
       "      <td>-0.112398</td>\n",
       "      <td>0.281432</td>\n",
       "      <td>0.343761</td>\n",
       "      <td>0.325546</td>\n",
       "      <td>0.195183</td>\n",
       "    </tr>\n",
       "    <tr>\n",
       "      <th>age_first_milestone_year</th>\n",
       "      <td>0.463386</td>\n",
       "      <td>0.565856</td>\n",
       "      <td>1.000000</td>\n",
       "      <td>0.750434</td>\n",
       "      <td>0.189872</td>\n",
       "      <td>0.167384</td>\n",
       "      <td>0.296430</td>\n",
       "      <td>0.034292</td>\n",
       "      <td>0.012780</td>\n",
       "      <td>-0.098532</td>\n",
       "      <td>...</td>\n",
       "      <td>0.074627</td>\n",
       "      <td>-0.008364</td>\n",
       "      <td>0.024156</td>\n",
       "      <td>-0.269905</td>\n",
       "      <td>0.120161</td>\n",
       "      <td>-0.004611</td>\n",
       "      <td>0.193545</td>\n",
       "      <td>0.202113</td>\n",
       "      <td>0.234261</td>\n",
       "      <td>0.121545</td>\n",
       "    </tr>\n",
       "    <tr>\n",
       "      <th>age_last_milestone_year</th>\n",
       "      <td>0.356758</td>\n",
       "      <td>0.502457</td>\n",
       "      <td>0.750434</td>\n",
       "      <td>1.000000</td>\n",
       "      <td>0.276634</td>\n",
       "      <td>0.217177</td>\n",
       "      <td>0.279667</td>\n",
       "      <td>0.051697</td>\n",
       "      <td>0.020093</td>\n",
       "      <td>-0.077725</td>\n",
       "      <td>...</td>\n",
       "      <td>0.017836</td>\n",
       "      <td>-0.021460</td>\n",
       "      <td>0.001059</td>\n",
       "      <td>-0.227509</td>\n",
       "      <td>0.084790</td>\n",
       "      <td>0.092154</td>\n",
       "      <td>0.239600</td>\n",
       "      <td>0.246175</td>\n",
       "      <td>0.218329</td>\n",
       "      <td>0.130559</td>\n",
       "    </tr>\n",
       "    <tr>\n",
       "      <th>relationships</th>\n",
       "      <td>-0.204918</td>\n",
       "      <td>0.018403</td>\n",
       "      <td>0.189872</td>\n",
       "      <td>0.276634</td>\n",
       "      <td>1.000000</td>\n",
       "      <td>0.295855</td>\n",
       "      <td>0.157894</td>\n",
       "      <td>0.100971</td>\n",
       "      <td>-0.047775</td>\n",
       "      <td>0.080209</td>\n",
       "      <td>...</td>\n",
       "      <td>-0.046679</td>\n",
       "      <td>0.029880</td>\n",
       "      <td>-0.047158</td>\n",
       "      <td>-0.018545</td>\n",
       "      <td>-0.070878</td>\n",
       "      <td>0.324438</td>\n",
       "      <td>0.274451</td>\n",
       "      <td>0.192752</td>\n",
       "      <td>0.102148</td>\n",
       "      <td>0.085107</td>\n",
       "    </tr>\n",
       "    <tr>\n",
       "      <th>funding_rounds</th>\n",
       "      <td>-0.139738</td>\n",
       "      <td>0.394686</td>\n",
       "      <td>0.167384</td>\n",
       "      <td>0.217177</td>\n",
       "      <td>0.295855</td>\n",
       "      <td>1.000000</td>\n",
       "      <td>0.490039</td>\n",
       "      <td>0.012603</td>\n",
       "      <td>-0.013089</td>\n",
       "      <td>-0.019477</td>\n",
       "      <td>...</td>\n",
       "      <td>0.019803</td>\n",
       "      <td>0.011163</td>\n",
       "      <td>0.013760</td>\n",
       "      <td>0.034788</td>\n",
       "      <td>0.336047</td>\n",
       "      <td>0.238056</td>\n",
       "      <td>0.429087</td>\n",
       "      <td>0.401494</td>\n",
       "      <td>0.276530</td>\n",
       "      <td>0.060615</td>\n",
       "    </tr>\n",
       "    <tr>\n",
       "      <th>funding_total_usd(MLN)</th>\n",
       "      <td>0.186324</td>\n",
       "      <td>0.468774</td>\n",
       "      <td>0.296430</td>\n",
       "      <td>0.279667</td>\n",
       "      <td>0.157894</td>\n",
       "      <td>0.490039</td>\n",
       "      <td>1.000000</td>\n",
       "      <td>0.093498</td>\n",
       "      <td>-0.016596</td>\n",
       "      <td>-0.121890</td>\n",
       "      <td>...</td>\n",
       "      <td>0.278832</td>\n",
       "      <td>-0.008940</td>\n",
       "      <td>0.100562</td>\n",
       "      <td>-0.307488</td>\n",
       "      <td>0.203865</td>\n",
       "      <td>0.031475</td>\n",
       "      <td>0.403337</td>\n",
       "      <td>0.464211</td>\n",
       "      <td>0.411869</td>\n",
       "      <td>0.232621</td>\n",
       "    </tr>\n",
       "    <tr>\n",
       "      <th>is_CA</th>\n",
       "      <td>0.001974</td>\n",
       "      <td>0.015581</td>\n",
       "      <td>0.034292</td>\n",
       "      <td>0.051697</td>\n",
       "      <td>0.100971</td>\n",
       "      <td>0.012603</td>\n",
       "      <td>0.093498</td>\n",
       "      <td>1.000000</td>\n",
       "      <td>-0.227211</td>\n",
       "      <td>-0.370526</td>\n",
       "      <td>...</td>\n",
       "      <td>0.021993</td>\n",
       "      <td>-0.002096</td>\n",
       "      <td>0.036237</td>\n",
       "      <td>-0.077043</td>\n",
       "      <td>-0.055263</td>\n",
       "      <td>0.053466</td>\n",
       "      <td>0.094926</td>\n",
       "      <td>0.065231</td>\n",
       "      <td>0.089022</td>\n",
       "      <td>0.065575</td>\n",
       "    </tr>\n",
       "    <tr>\n",
       "      <th>is_TX</th>\n",
       "      <td>0.037708</td>\n",
       "      <td>0.030345</td>\n",
       "      <td>0.012780</td>\n",
       "      <td>0.020093</td>\n",
       "      <td>-0.047775</td>\n",
       "      <td>-0.013089</td>\n",
       "      <td>-0.016596</td>\n",
       "      <td>-0.227211</td>\n",
       "      <td>1.000000</td>\n",
       "      <td>-0.077268</td>\n",
       "      <td>...</td>\n",
       "      <td>-0.044017</td>\n",
       "      <td>0.106900</td>\n",
       "      <td>0.056263</td>\n",
       "      <td>-0.050979</td>\n",
       "      <td>-0.004829</td>\n",
       "      <td>0.051023</td>\n",
       "      <td>-0.049783</td>\n",
       "      <td>0.041317</td>\n",
       "      <td>-0.046186</td>\n",
       "      <td>-0.032272</td>\n",
       "    </tr>\n",
       "    <tr>\n",
       "      <th>is_NY</th>\n",
       "      <td>-0.142856</td>\n",
       "      <td>-0.159094</td>\n",
       "      <td>-0.098532</td>\n",
       "      <td>-0.077725</td>\n",
       "      <td>0.080209</td>\n",
       "      <td>-0.019477</td>\n",
       "      <td>-0.121890</td>\n",
       "      <td>-0.370526</td>\n",
       "      <td>-0.077268</td>\n",
       "      <td>1.000000</td>\n",
       "      <td>...</td>\n",
       "      <td>-0.052344</td>\n",
       "      <td>-0.017342</td>\n",
       "      <td>-0.021441</td>\n",
       "      <td>0.176271</td>\n",
       "      <td>-0.061716</td>\n",
       "      <td>0.008454</td>\n",
       "      <td>-0.094741</td>\n",
       "      <td>-0.082419</td>\n",
       "      <td>-0.081708</td>\n",
       "      <td>0.082787</td>\n",
       "    </tr>\n",
       "    <tr>\n",
       "      <th>is_MA</th>\n",
       "      <td>0.029502</td>\n",
       "      <td>0.106160</td>\n",
       "      <td>0.048862</td>\n",
       "      <td>0.033859</td>\n",
       "      <td>0.025256</td>\n",
       "      <td>0.093201</td>\n",
       "      <td>0.066743</td>\n",
       "      <td>-0.338659</td>\n",
       "      <td>-0.070622</td>\n",
       "      <td>-0.115168</td>\n",
       "      <td>...</td>\n",
       "      <td>0.038769</td>\n",
       "      <td>-0.015850</td>\n",
       "      <td>-0.052727</td>\n",
       "      <td>-0.072581</td>\n",
       "      <td>0.025128</td>\n",
       "      <td>-0.000386</td>\n",
       "      <td>0.093005</td>\n",
       "      <td>0.069941</td>\n",
       "      <td>0.045531</td>\n",
       "      <td>0.021177</td>\n",
       "    </tr>\n",
       "    <tr>\n",
       "      <th>is_otherstate</th>\n",
       "      <td>0.066093</td>\n",
       "      <td>0.012279</td>\n",
       "      <td>-0.008055</td>\n",
       "      <td>-0.040258</td>\n",
       "      <td>-0.179597</td>\n",
       "      <td>-0.058909</td>\n",
       "      <td>-0.060754</td>\n",
       "      <td>-0.562425</td>\n",
       "      <td>-0.117286</td>\n",
       "      <td>-0.191265</td>\n",
       "      <td>...</td>\n",
       "      <td>0.008438</td>\n",
       "      <td>-0.026323</td>\n",
       "      <td>-0.022196</td>\n",
       "      <td>0.037176</td>\n",
       "      <td>0.099424</td>\n",
       "      <td>-0.098383</td>\n",
       "      <td>-0.086325</td>\n",
       "      <td>-0.084063</td>\n",
       "      <td>-0.052956</td>\n",
       "      <td>-0.139369</td>\n",
       "    </tr>\n",
       "    <tr>\n",
       "      <th>is_software</th>\n",
       "      <td>0.097668</td>\n",
       "      <td>0.098123</td>\n",
       "      <td>0.133259</td>\n",
       "      <td>0.060715</td>\n",
       "      <td>-0.079303</td>\n",
       "      <td>-0.001026</td>\n",
       "      <td>-0.022793</td>\n",
       "      <td>-0.038542</td>\n",
       "      <td>0.021091</td>\n",
       "      <td>-0.093057</td>\n",
       "      <td>...</td>\n",
       "      <td>-0.092751</td>\n",
       "      <td>-0.022407</td>\n",
       "      <td>-0.319127</td>\n",
       "      <td>-0.136419</td>\n",
       "      <td>0.042727</td>\n",
       "      <td>-0.007931</td>\n",
       "      <td>0.100151</td>\n",
       "      <td>0.038913</td>\n",
       "      <td>0.039117</td>\n",
       "      <td>0.001162</td>\n",
       "    </tr>\n",
       "    <tr>\n",
       "      <th>is_web</th>\n",
       "      <td>-0.161357</td>\n",
       "      <td>-0.217168</td>\n",
       "      <td>-0.086981</td>\n",
       "      <td>-0.012248</td>\n",
       "      <td>0.013718</td>\n",
       "      <td>-0.107746</td>\n",
       "      <td>-0.165045</td>\n",
       "      <td>0.015351</td>\n",
       "      <td>-0.043314</td>\n",
       "      <td>0.062397</td>\n",
       "      <td>...</td>\n",
       "      <td>-0.084949</td>\n",
       "      <td>-0.020522</td>\n",
       "      <td>-0.292283</td>\n",
       "      <td>0.168210</td>\n",
       "      <td>-0.128718</td>\n",
       "      <td>0.050024</td>\n",
       "      <td>-0.117837</td>\n",
       "      <td>-0.144404</td>\n",
       "      <td>-0.104805</td>\n",
       "      <td>-0.084526</td>\n",
       "    </tr>\n",
       "    <tr>\n",
       "      <th>is_mobile</th>\n",
       "      <td>-0.054198</td>\n",
       "      <td>0.000158</td>\n",
       "      <td>-0.053446</td>\n",
       "      <td>0.015891</td>\n",
       "      <td>0.059586</td>\n",
       "      <td>0.113277</td>\n",
       "      <td>0.035533</td>\n",
       "      <td>-0.013134</td>\n",
       "      <td>-0.025724</td>\n",
       "      <td>0.012719</td>\n",
       "      <td>...</td>\n",
       "      <td>-0.061916</td>\n",
       "      <td>-0.014958</td>\n",
       "      <td>-0.213036</td>\n",
       "      <td>0.040960</td>\n",
       "      <td>0.077232</td>\n",
       "      <td>0.041323</td>\n",
       "      <td>0.027123</td>\n",
       "      <td>0.007730</td>\n",
       "      <td>0.042969</td>\n",
       "      <td>-0.012668</td>\n",
       "    </tr>\n",
       "    <tr>\n",
       "      <th>is_enterprise</th>\n",
       "      <td>-0.030831</td>\n",
       "      <td>0.010667</td>\n",
       "      <td>0.032912</td>\n",
       "      <td>0.007204</td>\n",
       "      <td>0.105788</td>\n",
       "      <td>0.044530</td>\n",
       "      <td>-0.056235</td>\n",
       "      <td>-0.030285</td>\n",
       "      <td>0.067036</td>\n",
       "      <td>-0.059240</td>\n",
       "      <td>...</td>\n",
       "      <td>-0.058074</td>\n",
       "      <td>-0.014030</td>\n",
       "      <td>-0.199814</td>\n",
       "      <td>0.003212</td>\n",
       "      <td>0.029899</td>\n",
       "      <td>0.033771</td>\n",
       "      <td>0.037806</td>\n",
       "      <td>-0.028131</td>\n",
       "      <td>-0.007786</td>\n",
       "      <td>-0.018563</td>\n",
       "    </tr>\n",
       "    <tr>\n",
       "      <th>is_advertising</th>\n",
       "      <td>-0.088443</td>\n",
       "      <td>-0.063788</td>\n",
       "      <td>-0.002800</td>\n",
       "      <td>0.007461</td>\n",
       "      <td>0.094470</td>\n",
       "      <td>-0.011668</td>\n",
       "      <td>-0.058544</td>\n",
       "      <td>-0.016033</td>\n",
       "      <td>-0.056488</td>\n",
       "      <td>0.063199</td>\n",
       "      <td>...</td>\n",
       "      <td>-0.052477</td>\n",
       "      <td>-0.012678</td>\n",
       "      <td>-0.180558</td>\n",
       "      <td>0.035490</td>\n",
       "      <td>-0.055229</td>\n",
       "      <td>0.069851</td>\n",
       "      <td>0.012024</td>\n",
       "      <td>-0.014749</td>\n",
       "      <td>-0.061967</td>\n",
       "      <td>-0.026831</td>\n",
       "    </tr>\n",
       "    <tr>\n",
       "      <th>is_gamesvideo</th>\n",
       "      <td>-0.065235</td>\n",
       "      <td>-0.076212</td>\n",
       "      <td>-0.100306</td>\n",
       "      <td>-0.055355</td>\n",
       "      <td>-0.019392</td>\n",
       "      <td>-0.004018</td>\n",
       "      <td>-0.024555</td>\n",
       "      <td>0.040775</td>\n",
       "      <td>-0.028909</td>\n",
       "      <td>0.124110</td>\n",
       "      <td>...</td>\n",
       "      <td>-0.049783</td>\n",
       "      <td>-0.012027</td>\n",
       "      <td>-0.171287</td>\n",
       "      <td>0.040721</td>\n",
       "      <td>-0.050949</td>\n",
       "      <td>0.036645</td>\n",
       "      <td>0.011207</td>\n",
       "      <td>-0.014702</td>\n",
       "      <td>-0.002094</td>\n",
       "      <td>-0.018074</td>\n",
       "    </tr>\n",
       "    <tr>\n",
       "      <th>is_ecommerce</th>\n",
       "      <td>-0.076385</td>\n",
       "      <td>-0.112508</td>\n",
       "      <td>-0.091803</td>\n",
       "      <td>-0.105667</td>\n",
       "      <td>-0.052224</td>\n",
       "      <td>-0.073488</td>\n",
       "      <td>-0.052622</td>\n",
       "      <td>-0.036880</td>\n",
       "      <td>-0.035698</td>\n",
       "      <td>0.012724</td>\n",
       "      <td>...</td>\n",
       "      <td>-0.033163</td>\n",
       "      <td>-0.008012</td>\n",
       "      <td>-0.114104</td>\n",
       "      <td>0.072405</td>\n",
       "      <td>0.013099</td>\n",
       "      <td>-0.025920</td>\n",
       "      <td>-0.095894</td>\n",
       "      <td>-0.066797</td>\n",
       "      <td>-0.050213</td>\n",
       "      <td>-0.052511</td>\n",
       "    </tr>\n",
       "    <tr>\n",
       "      <th>is_biotech</th>\n",
       "      <td>0.209219</td>\n",
       "      <td>0.208889</td>\n",
       "      <td>0.074627</td>\n",
       "      <td>0.017836</td>\n",
       "      <td>-0.046679</td>\n",
       "      <td>0.019803</td>\n",
       "      <td>0.278832</td>\n",
       "      <td>0.021993</td>\n",
       "      <td>-0.044017</td>\n",
       "      <td>-0.052344</td>\n",
       "      <td>...</td>\n",
       "      <td>1.000000</td>\n",
       "      <td>-0.009879</td>\n",
       "      <td>-0.140698</td>\n",
       "      <td>-0.106129</td>\n",
       "      <td>0.042293</td>\n",
       "      <td>-0.074868</td>\n",
       "      <td>0.033745</td>\n",
       "      <td>0.060087</td>\n",
       "      <td>0.069421</td>\n",
       "      <td>0.084904</td>\n",
       "    </tr>\n",
       "    <tr>\n",
       "      <th>is_consulting</th>\n",
       "      <td>-0.003054</td>\n",
       "      <td>0.010001</td>\n",
       "      <td>-0.008364</td>\n",
       "      <td>-0.021460</td>\n",
       "      <td>0.029880</td>\n",
       "      <td>0.011163</td>\n",
       "      <td>-0.008940</td>\n",
       "      <td>-0.002096</td>\n",
       "      <td>0.106900</td>\n",
       "      <td>-0.017342</td>\n",
       "      <td>...</td>\n",
       "      <td>-0.009879</td>\n",
       "      <td>1.000000</td>\n",
       "      <td>-0.033991</td>\n",
       "      <td>-0.029011</td>\n",
       "      <td>0.018112</td>\n",
       "      <td>0.001164</td>\n",
       "      <td>-0.037745</td>\n",
       "      <td>0.034440</td>\n",
       "      <td>-0.014958</td>\n",
       "      <td>-0.035110</td>\n",
       "    </tr>\n",
       "    <tr>\n",
       "      <th>is_othercategory</th>\n",
       "      <td>0.111567</td>\n",
       "      <td>0.101499</td>\n",
       "      <td>0.024156</td>\n",
       "      <td>0.001059</td>\n",
       "      <td>-0.047158</td>\n",
       "      <td>0.013760</td>\n",
       "      <td>0.100562</td>\n",
       "      <td>0.036237</td>\n",
       "      <td>0.056263</td>\n",
       "      <td>-0.021441</td>\n",
       "      <td>...</td>\n",
       "      <td>-0.140698</td>\n",
       "      <td>-0.033991</td>\n",
       "      <td>1.000000</td>\n",
       "      <td>-0.060360</td>\n",
       "      <td>0.030461</td>\n",
       "      <td>-0.090111</td>\n",
       "      <td>-0.017970</td>\n",
       "      <td>0.099036</td>\n",
       "      <td>0.050019</td>\n",
       "      <td>0.090726</td>\n",
       "    </tr>\n",
       "    <tr>\n",
       "      <th>has_angel</th>\n",
       "      <td>-0.365911</td>\n",
       "      <td>-0.368713</td>\n",
       "      <td>-0.269905</td>\n",
       "      <td>-0.227509</td>\n",
       "      <td>-0.018545</td>\n",
       "      <td>0.034788</td>\n",
       "      <td>-0.307488</td>\n",
       "      <td>-0.077043</td>\n",
       "      <td>-0.050979</td>\n",
       "      <td>0.176271</td>\n",
       "      <td>...</td>\n",
       "      <td>-0.106129</td>\n",
       "      <td>-0.029011</td>\n",
       "      <td>-0.060360</td>\n",
       "      <td>1.000000</td>\n",
       "      <td>-0.210744</td>\n",
       "      <td>-0.145889</td>\n",
       "      <td>-0.296289</td>\n",
       "      <td>-0.254850</td>\n",
       "      <td>-0.133396</td>\n",
       "      <td>-0.056176</td>\n",
       "    </tr>\n",
       "    <tr>\n",
       "      <th>has_VC</th>\n",
       "      <td>0.184345</td>\n",
       "      <td>0.368143</td>\n",
       "      <td>0.120161</td>\n",
       "      <td>0.084790</td>\n",
       "      <td>-0.070878</td>\n",
       "      <td>0.336047</td>\n",
       "      <td>0.203865</td>\n",
       "      <td>-0.055263</td>\n",
       "      <td>-0.004829</td>\n",
       "      <td>-0.061716</td>\n",
       "      <td>...</td>\n",
       "      <td>0.042293</td>\n",
       "      <td>0.018112</td>\n",
       "      <td>0.030461</td>\n",
       "      <td>-0.210744</td>\n",
       "      <td>1.000000</td>\n",
       "      <td>-0.206952</td>\n",
       "      <td>-0.002224</td>\n",
       "      <td>0.055539</td>\n",
       "      <td>0.013736</td>\n",
       "      <td>-0.021978</td>\n",
       "    </tr>\n",
       "    <tr>\n",
       "      <th>has_roundA</th>\n",
       "      <td>-0.296561</td>\n",
       "      <td>-0.112398</td>\n",
       "      <td>-0.004611</td>\n",
       "      <td>0.092154</td>\n",
       "      <td>0.324438</td>\n",
       "      <td>0.238056</td>\n",
       "      <td>0.031475</td>\n",
       "      <td>0.053466</td>\n",
       "      <td>0.051023</td>\n",
       "      <td>0.008454</td>\n",
       "      <td>...</td>\n",
       "      <td>-0.074868</td>\n",
       "      <td>0.001164</td>\n",
       "      <td>-0.090111</td>\n",
       "      <td>-0.145889</td>\n",
       "      <td>-0.206952</td>\n",
       "      <td>1.000000</td>\n",
       "      <td>0.220228</td>\n",
       "      <td>-0.069241</td>\n",
       "      <td>-0.120322</td>\n",
       "      <td>-0.105154</td>\n",
       "    </tr>\n",
       "    <tr>\n",
       "      <th>has_roundB</th>\n",
       "      <td>-0.025921</td>\n",
       "      <td>0.281432</td>\n",
       "      <td>0.193545</td>\n",
       "      <td>0.239600</td>\n",
       "      <td>0.274451</td>\n",
       "      <td>0.429087</td>\n",
       "      <td>0.403337</td>\n",
       "      <td>0.094926</td>\n",
       "      <td>-0.049783</td>\n",
       "      <td>-0.094741</td>\n",
       "      <td>...</td>\n",
       "      <td>0.033745</td>\n",
       "      <td>-0.037745</td>\n",
       "      <td>-0.017970</td>\n",
       "      <td>-0.296289</td>\n",
       "      <td>-0.002224</td>\n",
       "      <td>0.220228</td>\n",
       "      <td>1.000000</td>\n",
       "      <td>0.273735</td>\n",
       "      <td>0.044702</td>\n",
       "      <td>0.035335</td>\n",
       "    </tr>\n",
       "    <tr>\n",
       "      <th>has_roundC</th>\n",
       "      <td>0.082250</td>\n",
       "      <td>0.343761</td>\n",
       "      <td>0.202113</td>\n",
       "      <td>0.246175</td>\n",
       "      <td>0.192752</td>\n",
       "      <td>0.401494</td>\n",
       "      <td>0.464211</td>\n",
       "      <td>0.065231</td>\n",
       "      <td>0.041317</td>\n",
       "      <td>-0.082419</td>\n",
       "      <td>...</td>\n",
       "      <td>0.060087</td>\n",
       "      <td>0.034440</td>\n",
       "      <td>0.099036</td>\n",
       "      <td>-0.254850</td>\n",
       "      <td>0.055539</td>\n",
       "      <td>-0.069241</td>\n",
       "      <td>0.273735</td>\n",
       "      <td>1.000000</td>\n",
       "      <td>0.288699</td>\n",
       "      <td>0.160340</td>\n",
       "    </tr>\n",
       "    <tr>\n",
       "      <th>has_roundD</th>\n",
       "      <td>0.177564</td>\n",
       "      <td>0.325546</td>\n",
       "      <td>0.234261</td>\n",
       "      <td>0.218329</td>\n",
       "      <td>0.102148</td>\n",
       "      <td>0.276530</td>\n",
       "      <td>0.411869</td>\n",
       "      <td>0.089022</td>\n",
       "      <td>-0.046186</td>\n",
       "      <td>-0.081708</td>\n",
       "      <td>...</td>\n",
       "      <td>0.069421</td>\n",
       "      <td>-0.014958</td>\n",
       "      <td>0.050019</td>\n",
       "      <td>-0.133396</td>\n",
       "      <td>0.013736</td>\n",
       "      <td>-0.120322</td>\n",
       "      <td>0.044702</td>\n",
       "      <td>0.288699</td>\n",
       "      <td>1.000000</td>\n",
       "      <td>0.225076</td>\n",
       "    </tr>\n",
       "    <tr>\n",
       "      <th>avg_participants</th>\n",
       "      <td>0.188597</td>\n",
       "      <td>0.195183</td>\n",
       "      <td>0.121545</td>\n",
       "      <td>0.130559</td>\n",
       "      <td>0.085107</td>\n",
       "      <td>0.060615</td>\n",
       "      <td>0.232621</td>\n",
       "      <td>0.065575</td>\n",
       "      <td>-0.032272</td>\n",
       "      <td>0.082787</td>\n",
       "      <td>...</td>\n",
       "      <td>0.084904</td>\n",
       "      <td>-0.035110</td>\n",
       "      <td>0.090726</td>\n",
       "      <td>-0.056176</td>\n",
       "      <td>-0.021978</td>\n",
       "      <td>-0.105154</td>\n",
       "      <td>0.035335</td>\n",
       "      <td>0.160340</td>\n",
       "      <td>0.225076</td>\n",
       "      <td>1.000000</td>\n",
       "    </tr>\n",
       "  </tbody>\n",
       "</table>\n",
       "<p>29 rows × 29 columns</p>\n",
       "</div>"
      ],
      "text/plain": [
       "                          age_first_funding_year  age_last_funding_year  \\\n",
       "age_first_funding_year                  1.000000               0.772430   \n",
       "age_last_funding_year                   0.772430               1.000000   \n",
       "age_first_milestone_year                0.463386               0.565856   \n",
       "age_last_milestone_year                 0.356758               0.502457   \n",
       "relationships                          -0.204918               0.018403   \n",
       "funding_rounds                         -0.139738               0.394686   \n",
       "funding_total_usd(MLN)                  0.186324               0.468774   \n",
       "is_CA                                   0.001974               0.015581   \n",
       "is_TX                                   0.037708               0.030345   \n",
       "is_NY                                  -0.142856              -0.159094   \n",
       "is_MA                                   0.029502               0.106160   \n",
       "is_otherstate                           0.066093               0.012279   \n",
       "is_software                             0.097668               0.098123   \n",
       "is_web                                 -0.161357              -0.217168   \n",
       "is_mobile                              -0.054198               0.000158   \n",
       "is_enterprise                          -0.030831               0.010667   \n",
       "is_advertising                         -0.088443              -0.063788   \n",
       "is_gamesvideo                          -0.065235              -0.076212   \n",
       "is_ecommerce                           -0.076385              -0.112508   \n",
       "is_biotech                              0.209219               0.208889   \n",
       "is_consulting                          -0.003054               0.010001   \n",
       "is_othercategory                        0.111567               0.101499   \n",
       "has_angel                              -0.365911              -0.368713   \n",
       "has_VC                                  0.184345               0.368143   \n",
       "has_roundA                             -0.296561              -0.112398   \n",
       "has_roundB                             -0.025921               0.281432   \n",
       "has_roundC                              0.082250               0.343761   \n",
       "has_roundD                              0.177564               0.325546   \n",
       "avg_participants                        0.188597               0.195183   \n",
       "\n",
       "                          age_first_milestone_year  age_last_milestone_year  \\\n",
       "age_first_funding_year                    0.463386                 0.356758   \n",
       "age_last_funding_year                     0.565856                 0.502457   \n",
       "age_first_milestone_year                  1.000000                 0.750434   \n",
       "age_last_milestone_year                   0.750434                 1.000000   \n",
       "relationships                             0.189872                 0.276634   \n",
       "funding_rounds                            0.167384                 0.217177   \n",
       "funding_total_usd(MLN)                    0.296430                 0.279667   \n",
       "is_CA                                     0.034292                 0.051697   \n",
       "is_TX                                     0.012780                 0.020093   \n",
       "is_NY                                    -0.098532                -0.077725   \n",
       "is_MA                                     0.048862                 0.033859   \n",
       "is_otherstate                            -0.008055                -0.040258   \n",
       "is_software                               0.133259                 0.060715   \n",
       "is_web                                   -0.086981                -0.012248   \n",
       "is_mobile                                -0.053446                 0.015891   \n",
       "is_enterprise                             0.032912                 0.007204   \n",
       "is_advertising                           -0.002800                 0.007461   \n",
       "is_gamesvideo                            -0.100306                -0.055355   \n",
       "is_ecommerce                             -0.091803                -0.105667   \n",
       "is_biotech                                0.074627                 0.017836   \n",
       "is_consulting                            -0.008364                -0.021460   \n",
       "is_othercategory                          0.024156                 0.001059   \n",
       "has_angel                                -0.269905                -0.227509   \n",
       "has_VC                                    0.120161                 0.084790   \n",
       "has_roundA                               -0.004611                 0.092154   \n",
       "has_roundB                                0.193545                 0.239600   \n",
       "has_roundC                                0.202113                 0.246175   \n",
       "has_roundD                                0.234261                 0.218329   \n",
       "avg_participants                          0.121545                 0.130559   \n",
       "\n",
       "                          relationships  funding_rounds  \\\n",
       "age_first_funding_year        -0.204918       -0.139738   \n",
       "age_last_funding_year          0.018403        0.394686   \n",
       "age_first_milestone_year       0.189872        0.167384   \n",
       "age_last_milestone_year        0.276634        0.217177   \n",
       "relationships                  1.000000        0.295855   \n",
       "funding_rounds                 0.295855        1.000000   \n",
       "funding_total_usd(MLN)         0.157894        0.490039   \n",
       "is_CA                          0.100971        0.012603   \n",
       "is_TX                         -0.047775       -0.013089   \n",
       "is_NY                          0.080209       -0.019477   \n",
       "is_MA                          0.025256        0.093201   \n",
       "is_otherstate                 -0.179597       -0.058909   \n",
       "is_software                   -0.079303       -0.001026   \n",
       "is_web                         0.013718       -0.107746   \n",
       "is_mobile                      0.059586        0.113277   \n",
       "is_enterprise                  0.105788        0.044530   \n",
       "is_advertising                 0.094470       -0.011668   \n",
       "is_gamesvideo                 -0.019392       -0.004018   \n",
       "is_ecommerce                  -0.052224       -0.073488   \n",
       "is_biotech                    -0.046679        0.019803   \n",
       "is_consulting                  0.029880        0.011163   \n",
       "is_othercategory              -0.047158        0.013760   \n",
       "has_angel                     -0.018545        0.034788   \n",
       "has_VC                        -0.070878        0.336047   \n",
       "has_roundA                     0.324438        0.238056   \n",
       "has_roundB                     0.274451        0.429087   \n",
       "has_roundC                     0.192752        0.401494   \n",
       "has_roundD                     0.102148        0.276530   \n",
       "avg_participants               0.085107        0.060615   \n",
       "\n",
       "                          funding_total_usd(MLN)     is_CA     is_TX  \\\n",
       "age_first_funding_year                  0.186324  0.001974  0.037708   \n",
       "age_last_funding_year                   0.468774  0.015581  0.030345   \n",
       "age_first_milestone_year                0.296430  0.034292  0.012780   \n",
       "age_last_milestone_year                 0.279667  0.051697  0.020093   \n",
       "relationships                           0.157894  0.100971 -0.047775   \n",
       "funding_rounds                          0.490039  0.012603 -0.013089   \n",
       "funding_total_usd(MLN)                  1.000000  0.093498 -0.016596   \n",
       "is_CA                                   0.093498  1.000000 -0.227211   \n",
       "is_TX                                  -0.016596 -0.227211  1.000000   \n",
       "is_NY                                  -0.121890 -0.370526 -0.077268   \n",
       "is_MA                                   0.066743 -0.338659 -0.070622   \n",
       "is_otherstate                          -0.060754 -0.562425 -0.117286   \n",
       "is_software                            -0.022793 -0.038542  0.021091   \n",
       "is_web                                 -0.165045  0.015351 -0.043314   \n",
       "is_mobile                               0.035533 -0.013134 -0.025724   \n",
       "is_enterprise                          -0.056235 -0.030285  0.067036   \n",
       "is_advertising                         -0.058544 -0.016033 -0.056488   \n",
       "is_gamesvideo                          -0.024555  0.040775 -0.028909   \n",
       "is_ecommerce                           -0.052622 -0.036880 -0.035698   \n",
       "is_biotech                              0.278832  0.021993 -0.044017   \n",
       "is_consulting                          -0.008940 -0.002096  0.106900   \n",
       "is_othercategory                        0.100562  0.036237  0.056263   \n",
       "has_angel                              -0.307488 -0.077043 -0.050979   \n",
       "has_VC                                  0.203865 -0.055263 -0.004829   \n",
       "has_roundA                              0.031475  0.053466  0.051023   \n",
       "has_roundB                              0.403337  0.094926 -0.049783   \n",
       "has_roundC                              0.464211  0.065231  0.041317   \n",
       "has_roundD                              0.411869  0.089022 -0.046186   \n",
       "avg_participants                        0.232621  0.065575 -0.032272   \n",
       "\n",
       "                             is_NY  ...  is_biotech  is_consulting  \\\n",
       "age_first_funding_year   -0.142856  ...    0.209219      -0.003054   \n",
       "age_last_funding_year    -0.159094  ...    0.208889       0.010001   \n",
       "age_first_milestone_year -0.098532  ...    0.074627      -0.008364   \n",
       "age_last_milestone_year  -0.077725  ...    0.017836      -0.021460   \n",
       "relationships             0.080209  ...   -0.046679       0.029880   \n",
       "funding_rounds           -0.019477  ...    0.019803       0.011163   \n",
       "funding_total_usd(MLN)   -0.121890  ...    0.278832      -0.008940   \n",
       "is_CA                    -0.370526  ...    0.021993      -0.002096   \n",
       "is_TX                    -0.077268  ...   -0.044017       0.106900   \n",
       "is_NY                     1.000000  ...   -0.052344      -0.017342   \n",
       "is_MA                    -0.115168  ...    0.038769      -0.015850   \n",
       "is_otherstate            -0.191265  ...    0.008438      -0.026323   \n",
       "is_software              -0.093057  ...   -0.092751      -0.022407   \n",
       "is_web                    0.062397  ...   -0.084949      -0.020522   \n",
       "is_mobile                 0.012719  ...   -0.061916      -0.014958   \n",
       "is_enterprise            -0.059240  ...   -0.058074      -0.014030   \n",
       "is_advertising            0.063199  ...   -0.052477      -0.012678   \n",
       "is_gamesvideo             0.124110  ...   -0.049783      -0.012027   \n",
       "is_ecommerce              0.012724  ...   -0.033163      -0.008012   \n",
       "is_biotech               -0.052344  ...    1.000000      -0.009879   \n",
       "is_consulting            -0.017342  ...   -0.009879       1.000000   \n",
       "is_othercategory         -0.021441  ...   -0.140698      -0.033991   \n",
       "has_angel                 0.176271  ...   -0.106129      -0.029011   \n",
       "has_VC                   -0.061716  ...    0.042293       0.018112   \n",
       "has_roundA                0.008454  ...   -0.074868       0.001164   \n",
       "has_roundB               -0.094741  ...    0.033745      -0.037745   \n",
       "has_roundC               -0.082419  ...    0.060087       0.034440   \n",
       "has_roundD               -0.081708  ...    0.069421      -0.014958   \n",
       "avg_participants          0.082787  ...    0.084904      -0.035110   \n",
       "\n",
       "                          is_othercategory  has_angel    has_VC  has_roundA  \\\n",
       "age_first_funding_year            0.111567  -0.365911  0.184345   -0.296561   \n",
       "age_last_funding_year             0.101499  -0.368713  0.368143   -0.112398   \n",
       "age_first_milestone_year          0.024156  -0.269905  0.120161   -0.004611   \n",
       "age_last_milestone_year           0.001059  -0.227509  0.084790    0.092154   \n",
       "relationships                    -0.047158  -0.018545 -0.070878    0.324438   \n",
       "funding_rounds                    0.013760   0.034788  0.336047    0.238056   \n",
       "funding_total_usd(MLN)            0.100562  -0.307488  0.203865    0.031475   \n",
       "is_CA                             0.036237  -0.077043 -0.055263    0.053466   \n",
       "is_TX                             0.056263  -0.050979 -0.004829    0.051023   \n",
       "is_NY                            -0.021441   0.176271 -0.061716    0.008454   \n",
       "is_MA                            -0.052727  -0.072581  0.025128   -0.000386   \n",
       "is_otherstate                    -0.022196   0.037176  0.099424   -0.098383   \n",
       "is_software                      -0.319127  -0.136419  0.042727   -0.007931   \n",
       "is_web                           -0.292283   0.168210 -0.128718    0.050024   \n",
       "is_mobile                        -0.213036   0.040960  0.077232    0.041323   \n",
       "is_enterprise                    -0.199814   0.003212  0.029899    0.033771   \n",
       "is_advertising                   -0.180558   0.035490 -0.055229    0.069851   \n",
       "is_gamesvideo                    -0.171287   0.040721 -0.050949    0.036645   \n",
       "is_ecommerce                     -0.114104   0.072405  0.013099   -0.025920   \n",
       "is_biotech                       -0.140698  -0.106129  0.042293   -0.074868   \n",
       "is_consulting                    -0.033991  -0.029011  0.018112    0.001164   \n",
       "is_othercategory                  1.000000  -0.060360  0.030461   -0.090111   \n",
       "has_angel                        -0.060360   1.000000 -0.210744   -0.145889   \n",
       "has_VC                            0.030461  -0.210744  1.000000   -0.206952   \n",
       "has_roundA                       -0.090111  -0.145889 -0.206952    1.000000   \n",
       "has_roundB                       -0.017970  -0.296289 -0.002224    0.220228   \n",
       "has_roundC                        0.099036  -0.254850  0.055539   -0.069241   \n",
       "has_roundD                        0.050019  -0.133396  0.013736   -0.120322   \n",
       "avg_participants                  0.090726  -0.056176 -0.021978   -0.105154   \n",
       "\n",
       "                          has_roundB  has_roundC  has_roundD  avg_participants  \n",
       "age_first_funding_year     -0.025921    0.082250    0.177564          0.188597  \n",
       "age_last_funding_year       0.281432    0.343761    0.325546          0.195183  \n",
       "age_first_milestone_year    0.193545    0.202113    0.234261          0.121545  \n",
       "age_last_milestone_year     0.239600    0.246175    0.218329          0.130559  \n",
       "relationships               0.274451    0.192752    0.102148          0.085107  \n",
       "funding_rounds              0.429087    0.401494    0.276530          0.060615  \n",
       "funding_total_usd(MLN)      0.403337    0.464211    0.411869          0.232621  \n",
       "is_CA                       0.094926    0.065231    0.089022          0.065575  \n",
       "is_TX                      -0.049783    0.041317   -0.046186         -0.032272  \n",
       "is_NY                      -0.094741   -0.082419   -0.081708          0.082787  \n",
       "is_MA                       0.093005    0.069941    0.045531          0.021177  \n",
       "is_otherstate              -0.086325   -0.084063   -0.052956         -0.139369  \n",
       "is_software                 0.100151    0.038913    0.039117          0.001162  \n",
       "is_web                     -0.117837   -0.144404   -0.104805         -0.084526  \n",
       "is_mobile                   0.027123    0.007730    0.042969         -0.012668  \n",
       "is_enterprise               0.037806   -0.028131   -0.007786         -0.018563  \n",
       "is_advertising              0.012024   -0.014749   -0.061967         -0.026831  \n",
       "is_gamesvideo               0.011207   -0.014702   -0.002094         -0.018074  \n",
       "is_ecommerce               -0.095894   -0.066797   -0.050213         -0.052511  \n",
       "is_biotech                  0.033745    0.060087    0.069421          0.084904  \n",
       "is_consulting              -0.037745    0.034440   -0.014958         -0.035110  \n",
       "is_othercategory           -0.017970    0.099036    0.050019          0.090726  \n",
       "has_angel                  -0.296289   -0.254850   -0.133396         -0.056176  \n",
       "has_VC                     -0.002224    0.055539    0.013736         -0.021978  \n",
       "has_roundA                  0.220228   -0.069241   -0.120322         -0.105154  \n",
       "has_roundB                  1.000000    0.273735    0.044702          0.035335  \n",
       "has_roundC                  0.273735    1.000000    0.288699          0.160340  \n",
       "has_roundD                  0.044702    0.288699    1.000000          0.225076  \n",
       "avg_participants            0.035335    0.160340    0.225076          1.000000  \n",
       "\n",
       "[29 rows x 29 columns]"
      ]
     },
     "execution_count": 48,
     "metadata": {},
     "output_type": "execute_result"
    }
   ],
   "source": [
    "df_corr = startup_clean.iloc[:-1,:-1]\n",
    "mat = df_corr.corr()\n",
    "mat"
   ]
  },
  {
   "cell_type": "code",
   "execution_count": 49,
   "id": "individual-ethiopia",
   "metadata": {},
   "outputs": [
    {
     "data": {
      "image/png": "[encoded data removed]",
      "text/plain": [
       "<Figure size 432x432 with 1 Axes>"
      ]
     },
     "metadata": {},
     "output_type": "display_data"
    }
   ],
   "source": [
    "#plt.subplots(figsize=(7, 5))\n",
    "f, ax = plt.subplots(figsize=(6,6))\n",
    "#plt.figure(figsize=(20,20))\n",
    "sns.heatmap(abs(mat),\n",
    "            ax = ax,\n",
    "            cmap = sns.cm.rocket_r,\n",
    "            cbar=False\n",
    "           )\n",
    "\n",
    "ax.set_title('Correlations between features: ')\n",
    "plt.show()\n"
   ]
  },
  {
   "cell_type": "markdown",
   "id": "upset-obligation",
   "metadata": {},
   "source": [
    "# Classificator - Machine Learning"
   ]
  },
  {
   "cell_type": "code",
   "execution_count": 50,
   "id": "intimate-assumption",
   "metadata": {},
   "outputs": [],
   "source": [
    "from sklearn.svm import SVC\n",
    "from sklearn.model_selection import train_test_split\n",
    "from sklearn.model_selection import StratifiedKFold\n",
    "from sklearn.model_selection import KFold\n",
    "from sklearn.model_selection import cross_val_score\n",
    "from sklearn.preprocessing import MinMaxScaler"
   ]
  },
  {
   "cell_type": "markdown",
   "id": "clinical-stranger",
   "metadata": {},
   "source": [
    "We took out from features:<br>\n",
    "    - last funding year<br>\n",
    "    - last milestone year<br>\n",
    "    - funding rounds<br>\n",
    "    - all the \"categories\" variable: is_software, is_web, is_mobile, is_enterprise, is_advertising, is_gamesvideo, is_ecommerc', is_biotech, is_consulting, is_othercategory"
   ]
  },
  {
   "cell_type": "markdown",
   "id": "departmental-commitment",
   "metadata": {},
   "source": [
    "We create two array X and y, in order to have all our features in X and the dependent variable in y"
   ]
  },
  {
   "cell_type": "code",
   "execution_count": 51,
   "id": "abroad-going",
   "metadata": {},
   "outputs": [],
   "source": [
    "X = startup_clean[['age_first_funding_year','age_first_milestone_year', 'relationships', 'funding_total_usd(MLN)','is_CA','is_TX','is_NY'\n",
    "        ,'is_MA', 'is_otherstate','has_angel','has_VC','has_roundA','has_roundB','has_roundC','has_roundD','avg_participants']].to_numpy()\n",
    "\n",
    "y = startup_clean['has_succeded'].to_numpy()"
   ]
  },
  {
   "cell_type": "markdown",
   "id": "organized-reform",
   "metadata": {},
   "source": [
    "We normalize data with the minmax scaler function"
   ]
  },
  {
   "cell_type": "code",
   "execution_count": 52,
   "id": "binary-contamination",
   "metadata": {},
   "outputs": [],
   "source": [
    "scaler = MinMaxScaler()\n",
    "scaler.fit(X)\n",
    "X = scaler.transform(X)"
   ]
  },
  {
   "cell_type": "code",
   "execution_count": 53,
   "id": "greatest-effect",
   "metadata": {},
   "outputs": [
    {
     "data": {
      "text/plain": [
       "array([[0.37839549, 0.59837208, 0.15789474, ..., 0.        , 0.        ,\n",
       "        0.        ],\n",
       "       [0.47476057, 0.71815927, 0.47368421, ..., 1.        , 1.        ,\n",
       "        0.44117647],\n",
       "       [0.33764794, 0.43378644, 0.26315789, ..., 0.        , 0.        ,\n",
       "        0.35294118],\n",
       "       ...,\n",
       "       [0.5876471 , 0.8206729 , 0.26315789, ..., 0.        , 1.        ,\n",
       "        0.82352941],\n",
       "       [0.32846935, 0.39797843, 0.63157895, ..., 0.        , 0.        ,\n",
       "        0.        ],\n",
       "       [0.40757937, 0.56424529, 0.21052632, ..., 0.        , 0.        ,\n",
       "        0.23529412]])"
      ]
     },
     "execution_count": 53,
     "metadata": {},
     "output_type": "execute_result"
    }
   ],
   "source": [
    "X"
   ]
  },
  {
   "cell_type": "code",
   "execution_count": 54,
   "id": "refined-drink",
   "metadata": {},
   "outputs": [
    {
     "name": "stdout",
     "output_type": "stream",
     "text": [
      "shape of X:\n",
      "(841, 16)\n",
      "type of X:\n",
      "<class 'numpy.ndarray'>\n",
      "shape of y:\n",
      "(841,)\n",
      "type of y:\n",
      "<class 'numpy.ndarray'>\n"
     ]
    }
   ],
   "source": [
    "print('shape of X:')\n",
    "print(X.shape)\n",
    "print('type of X:')\n",
    "print(type(X))\n",
    "print('shape of y:')\n",
    "print(y.shape)\n",
    "print('type of y:')\n",
    "print(type(y))"
   ]
  },
  {
   "cell_type": "markdown",
   "id": "medical-recommendation",
   "metadata": {},
   "source": [
    "Creation of n Folds"
   ]
  },
  {
   "cell_type": "code",
   "execution_count": 55,
   "id": "periodic-victory",
   "metadata": {},
   "outputs": [],
   "source": [
    "#folds = StratifiedKFold(n_splits=10)"
   ]
  },
  {
   "cell_type": "code",
   "execution_count": 56,
   "id": "settled-owner",
   "metadata": {},
   "outputs": [],
   "source": [
    "X_train, X_test, y_train, y_test = train_test_split(X, y, test_size=0.1, random_state=0, shuffle=True, stratify=y)\n",
    "X_train, X_val, y_train, y_val   = train_test_split(X_train, y_train, test_size=0.3, random_state=0, shuffle=True, stratify=y_train)"
   ]
  },
  {
   "cell_type": "code",
   "execution_count": 57,
   "id": "coral-printer",
   "metadata": {},
   "outputs": [
    {
     "name": "stdout",
     "output_type": "stream",
     "text": [
      "529\n",
      "85\n",
      "227\n"
     ]
    }
   ],
   "source": [
    "print(len(X_train))\n",
    "print(len(X_test))\n",
    "print(len(X_val))"
   ]
  },
  {
   "cell_type": "code",
   "execution_count": 58,
   "id": "welcome-detection",
   "metadata": {},
   "outputs": [
    {
     "data": {
      "text/plain": [
       "array([[0.44438415, 0.61550211, 0.47368421, ..., 1.        , 1.        ,\n",
       "        0.41176471],\n",
       "       [0.28808694, 0.51594087, 0.73684211, ..., 0.        , 0.        ,\n",
       "        0.03921176],\n",
       "       [0.30295691, 0.36090438, 0.10526316, ..., 0.        , 0.        ,\n",
       "        0.        ],\n",
       "       ...,\n",
       "       [0.30304736, 0.53391664, 0.15789474, ..., 0.        , 0.        ,\n",
       "        0.23529412],\n",
       "       [0.38445202, 0.79876574, 0.52631579, ..., 1.        , 0.        ,\n",
       "        0.31372941],\n",
       "       [0.56075787, 1.        , 0.15789474, ..., 0.        , 0.        ,\n",
       "        0.15685882]])"
      ]
     },
     "execution_count": 58,
     "metadata": {},
     "output_type": "execute_result"
    }
   ],
   "source": [
    "X_train"
   ]
  },
  {
   "cell_type": "code",
   "execution_count": 59,
   "id": "resistant-supplement",
   "metadata": {},
   "outputs": [
    {
     "data": {
      "text/plain": [
       "array([[0.40693955, 0.56424529, 0.15789474, ..., 0.        , 0.        ,\n",
       "        0.        ],\n",
       "       [0.32250327, 0.51734531, 0.57894737, ..., 0.        , 0.        ,\n",
       "        0.23529412],\n",
       "       [0.33948365, 0.53840673, 0.10526316, ..., 1.        , 0.        ,\n",
       "        0.35294118],\n",
       "       ...,\n",
       "       [0.30708392, 0.34658322, 0.31578947, ..., 0.        , 0.        ,\n",
       "        0.11764706],\n",
       "       [0.4398853 , 0.51567802, 0.10526316, ..., 1.        , 1.        ,\n",
       "        0.58823529],\n",
       "       [0.28634501, 0.33352298, 0.52631579, ..., 1.        , 0.        ,\n",
       "        0.17647059]])"
      ]
     },
     "execution_count": 59,
     "metadata": {},
     "output_type": "execute_result"
    }
   ],
   "source": [
    "X_test"
   ]
  },
  {
   "cell_type": "code",
   "execution_count": 60,
   "id": "ignored-coordinator",
   "metadata": {},
   "outputs": [
    {
     "data": {
      "text/plain": [
       "array([[0.38179224, 0.41047484, 0.84210526, ..., 1.        , 1.        ,\n",
       "        0.23529412],\n",
       "       [0.42951417, 0.87319063, 0.94736842, ..., 0.        , 0.        ,\n",
       "        0.11764706],\n",
       "       [0.54937509, 0.92459097, 0.68421053, ..., 0.        , 0.        ,\n",
       "        0.52941176],\n",
       "       ...,\n",
       "       [0.68603214, 0.51567802, 0.05263158, ..., 1.        , 0.        ,\n",
       "        0.47058824],\n",
       "       [0.30956281, 0.42115164, 0.68421053, ..., 0.        , 0.        ,\n",
       "        0.55882353],\n",
       "       [0.34792527, 0.42873252, 0.        , ..., 0.        , 0.        ,\n",
       "        0.11764706]])"
      ]
     },
     "execution_count": 60,
     "metadata": {},
     "output_type": "execute_result"
    }
   ],
   "source": [
    "X_val"
   ]
  },
  {
   "cell_type": "code",
   "execution_count": 61,
   "id": "surrounded-breakfast",
   "metadata": {},
   "outputs": [],
   "source": [
    "#plt.figure(figsize=(8,8))\n",
    "#plt.scatter(x=X_test[:,[0]], y=X_test[:,[1]])\n",
    "#plt.show()"
   ]
  },
  {
   "cell_type": "markdown",
   "id": "earned-stability",
   "metadata": {},
   "source": [
    "## Logistic Regression"
   ]
  },
  {
   "cell_type": "code",
   "execution_count": 62,
   "id": "acceptable-sodium",
   "metadata": {},
   "outputs": [],
   "source": [
    "from sklearn.metrics import confusion_matrix\n",
    "from sklearn.linear_model import LogisticRegression\n",
    "import confusion_matrix_custom"
   ]
  },
  {
   "cell_type": "markdown",
   "id": "documentary-lesbian",
   "metadata": {},
   "source": [
    "The first model that we would like to try is the Logistic Regression Model.<br>\n",
    "With the library sklearn we create the object lr."
   ]
  },
  {
   "cell_type": "code",
   "execution_count": 63,
   "id": "rough-colleague",
   "metadata": {},
   "outputs": [],
   "source": [
    "lr = LogisticRegression(solver='liblinear')"
   ]
  },
  {
   "cell_type": "code",
   "execution_count": 64,
   "id": "fuzzy-background",
   "metadata": {},
   "outputs": [
    {
     "data": {
      "image/png": "[encoded data removed]",
      "text/plain": [
       "<Figure size 432x288 with 1 Axes>"
      ]
     },
     "metadata": {},
     "output_type": "display_data"
    }
   ],
   "source": [
    "accuracy_val_lr = []\n",
    "\n",
    "\n",
    "for i in range(0,10):\n",
    "      \n",
    "      X_train, X_test, y_train, y_test = train_test_split(X, y, test_size=0.1, random_state=i, shuffle=True, stratify=y)\n",
    "      X_train, X_val, y_train, y_val   = train_test_split(X_train, y_train, test_size=0.3, random_state=0, shuffle=True, stratify=y_train)\n",
    "        \n",
    "      # for each iteration we create train and predict on the val, creating i confusion matrix   \n",
    "      fit = lr.fit(X_train, y_train)\n",
    "      y_pred = fit.predict(X_val)\n",
    "      globals()[f\"conf_mat_val_lr_{i}\"]  = confusion_matrix(y_val, y_pred)\n",
    "       \n",
    "      # from each of these confusion matrix we extract with the function ravel tn, fn, fp, tp and we calculate the accuracy\n",
    "      globals()[f\"tn_val_lr_{i}\"], globals()[f\"fp_val_lr_{i}\"], globals()[f\"fn_val_lr_{i}\"], globals()[f\"tp_val_lr_{i}\"] = globals()[f\"conf_mat_val_lr_{i}\"].ravel()  \n",
    "      globals()[f\"accuracy_val_lr_{i}\"] = (globals()[f\"tn_val_lr_{i}\"]+globals()[f\"tp_val_lr_{i}\"])/(globals()[f\"tn_val_lr_{i}\"]+globals()[f\"fn_val_lr_{i}\"]+globals()[f\"fp_val_lr_{i}\"]+globals()[f\"tp_val_lr_{i}\"])\n",
    "        \n",
    "      # we collect the accuracy in an array with len i  \n",
    "      accuracy_val_lr.append(globals()[f\"accuracy_val_lr_{i}\"])\n",
    "      \n",
    "\n",
    "labels=['True label','Predicted label']\n",
    "#conf_mat_lr_perc = (conf_mat_lr/conf_mat_lr.sum())\n",
    "conf_mat_val_lr = (conf_mat_val_lr_0+conf_mat_val_lr_1+conf_mat_val_lr_2+conf_mat_val_lr_3+conf_mat_val_lr_4+conf_mat_val_lr_5+conf_mat_val_lr_6+conf_mat_val_lr_7+conf_mat_val_lr_8+conf_mat_val_lr_9)/10\n",
    "#sns.heatmap(conf_mat_lr_perc, square=True, annot=True, cmap='Blues',cbar=True,fmt='.2%')\n",
    "confusion_matrix_custom.make_confusion_matrix(conf_mat_val_lr,cbar=False)"
   ]
  },
  {
   "cell_type": "code",
   "execution_count": 65,
   "id": "green-mountain",
   "metadata": {},
   "outputs": [
    {
     "data": {
      "text/plain": [
       "[0.7312775330396476,\n",
       " 0.73568281938326,\n",
       " 0.73568281938326,\n",
       " 0.6740088105726872,\n",
       " 0.73568281938326,\n",
       " 0.7004405286343612,\n",
       " 0.7709251101321586,\n",
       " 0.73568281938326,\n",
       " 0.7312775330396476,\n",
       " 0.7224669603524229]"
      ]
     },
     "execution_count": 65,
     "metadata": {},
     "output_type": "execute_result"
    }
   ],
   "source": [
    "accuracy_val_lr"
   ]
  },
  {
   "cell_type": "markdown",
   "id": "desirable-pledge",
   "metadata": {},
   "source": [
    "In this part the idea is to use the method folds.split in order to apply the prediction to differents subset of our arrays.<br>\n",
    "For each iteration we collect the y predicted and the y test in order to obtain teh confusion matrix: in this way we have 10 confusion matrix.\n",
    "In order to plot it, we sum all the results in a single confusion matrix."
   ]
  },
  {
   "cell_type": "markdown",
   "id": "initial-twenty",
   "metadata": {},
   "source": [
    "## Random Forest Classifier"
   ]
  },
  {
   "cell_type": "code",
   "execution_count": 66,
   "id": "compliant-party",
   "metadata": {},
   "outputs": [],
   "source": [
    "from sklearn.ensemble import RandomForestClassifier\n",
    "from numpy import random"
   ]
  },
  {
   "cell_type": "markdown",
   "id": "centered-stress",
   "metadata": {},
   "source": [
    "Now we would like to apply with the same data the classifier 'Random Forest'. Here in order to have the best results we need<br>\n",
    "to find the optimal n_estimators, that, as we can see, is required by the object."
   ]
  },
  {
   "cell_type": "code",
   "execution_count": 67,
   "id": "designing-donna",
   "metadata": {},
   "outputs": [
    {
     "data": {
      "text/plain": [
       "41"
      ]
     },
     "execution_count": 67,
     "metadata": {},
     "output_type": "execute_result"
    }
   ],
   "source": [
    "n = random.randint(0,80)\n",
    "n"
   ]
  },
  {
   "cell_type": "code",
   "execution_count": 68,
   "id": "provincial-nation",
   "metadata": {},
   "outputs": [
    {
     "data": {
      "text/plain": [
       "array([0.70588235, 0.73809524, 0.77380952, 0.75      , 0.78571429,\n",
       "       0.72619048, 0.73809524, 0.76190476, 0.73809524, 0.76190476])"
      ]
     },
     "execution_count": 68,
     "metadata": {},
     "output_type": "execute_result"
    }
   ],
   "source": [
    "cross_val_score(RandomForestClassifier(n_estimators=n), X, y, cv=10)#"
   ]
  },
  {
   "cell_type": "markdown",
   "id": "hidden-share",
   "metadata": {},
   "source": [
    "We create a dataframe to collect all the accuracies calculated by our classifier. After that we launch in loop the model <br>\n",
    "changing each iteration the n of estimators (from 2 to 80) and collecting the results in the dataframe. Sorting the dataframe by the <br>\n",
    "accuracy it is possible to get the best n of estimators."
   ]
  },
  {
   "cell_type": "code",
   "execution_count": 69,
   "id": "systematic-province",
   "metadata": {},
   "outputs": [
    {
     "name": "stdout",
     "output_type": "stream",
     "text": [
      "Wall time: 44.7 s\n"
     ]
    },
    {
     "data": {
      "text/plain": [
       "<AxesSubplot:xlabel='n_estimators'>"
      ]
     },
     "execution_count": 69,
     "metadata": {},
     "output_type": "execute_result"
    },
    {
     "data": {
      "image/png": "[encoded data removed]",
      "text/plain": [
       "<Figure size 864x432 with 1 Axes>"
      ]
     },
     "metadata": {},
     "output_type": "display_data"
    }
   ],
   "source": [
    "%%time\n",
    "\n",
    "#for collect the results of n_estimators and accuracy to plot\n",
    "accuracy_rf_nest=pd.DataFrame(np.array([(0, 0.0)]), columns=['n_estimators','accuracy_rf'])\n",
    "\n",
    "#first cicle for the n estimators\n",
    "for nest in range(2,80):\n",
    "    rf = RandomForestClassifier(n_estimators=nest,random_state=0) \n",
    "    globals()[f\"accuracy_val_rf{nest}\"]=[]\n",
    "    \n",
    "    #second cicle for K Cross Fold Validation\n",
    "    for i in range(0,10):\n",
    "\n",
    "          X_train, X_test, y_train, y_test = train_test_split(X, y, test_size=0.1, random_state=i, shuffle=True, stratify=y)\n",
    "          X_train, X_val, y_train, y_val   = train_test_split(X_train, y_train, test_size=0.3, random_state=0, shuffle=True, stratify=y_train)\n",
    "          \n",
    "          # for each iteration we create train and predict on the val, creating i confusion matrix  \n",
    "          fit = rf.fit(X_train, y_train)        \n",
    "          y_pred = fit.predict(X_val)\n",
    "          globals()[f\"conf_val_rf_{i}\"]  = confusion_matrix(y_val, y_pred)\n",
    "          \n",
    "          # from each of these confusion matrix we extract with the function ravel tn, fp, fn, tp and we calculate the accuracy (tn, fp, fn, tp = confusion_matrix([0, 1, 0, 1], [1, 1, 1, 0]).ravel())\n",
    "          globals()[f\"tn_val_rf_{i}\"], globals()[f\"fp_val_rf_{i}\"], globals()[f\"fn_val_rf_{i}\"], globals()[f\"tp_val_rf_{i}\"] = globals()[f\"conf_val_rf_{i}\"].ravel()  \n",
    "          globals()[f\"accuracy_{i}\"] = (globals()[f\"tn_val_rf_{i}\"]+globals()[f\"tp_val_rf_{i}\"]) / (globals()[f\"tn_val_rf_{i}\"]+globals()[f\"fp_val_rf_{i}\"]+globals()[f\"fn_val_rf_{i}\"]+globals()[f\"tp_val_rf_{i}\"])          \n",
    "          \n",
    "          # we collect the accuracy in an nest-esim array with len i\n",
    "          globals()[f\"accuracy_val_rf{nest}\"].append(globals()[f\"accuracy_{i}\"])     \n",
    "                \n",
    "                \n",
    "    #out of the second cycle we put for each iteration in our dataframe the n_est and the mean of the accuracies of the i-esim array            \n",
    "    accuracy_rf_nest['n_estimators'][nest-2] = nest\n",
    "    accuracy_rf_nest['accuracy_rf'][nest-2] = np.mean(globals()[f\"accuracy_val_rf{nest}\"])\n",
    "    accuracy_rf_nest = accuracy_rf_nest.append({'n_estimators':0, 'accuracy_rf':0}, ignore_index=True)  \n",
    "       \n",
    "\n",
    "#we plot all the means and we obtain the best n of estimators for our validations sets    \n",
    "accuracy_rf_nest=accuracy_rf_nest[accuracy_rf_nest['accuracy_rf']!=0]#.set_index()\n",
    "accuracy_rf_nest.plot(kind='line', x='n_estimators',  y='accuracy_rf', figsize=(12,6), color='mediumblue')      "
   ]
  },
  {
   "cell_type": "code",
   "execution_count": 70,
   "id": "antique-section",
   "metadata": {},
   "outputs": [
    {
     "data": {
      "text/html": [
       "<div>\n",
       "<style scoped>\n",
       "    .dataframe tbody tr th:only-of-type {\n",
       "        vertical-align: middle;\n",
       "    }\n",
       "\n",
       "    .dataframe tbody tr th {\n",
       "        vertical-align: top;\n",
       "    }\n",
       "\n",
       "    .dataframe thead th {\n",
       "        text-align: right;\n",
       "    }\n",
       "</style>\n",
       "<table border=\"1\" class=\"dataframe\">\n",
       "  <thead>\n",
       "    <tr style=\"text-align: right;\">\n",
       "      <th></th>\n",
       "      <th>n_estimators</th>\n",
       "      <th>accuracy_rf</th>\n",
       "    </tr>\n",
       "  </thead>\n",
       "  <tbody>\n",
       "    <tr>\n",
       "      <th>0</th>\n",
       "      <td>77.0</td>\n",
       "      <td>0.761674</td>\n",
       "    </tr>\n",
       "    <tr>\n",
       "      <th>1</th>\n",
       "      <td>71.0</td>\n",
       "      <td>0.761233</td>\n",
       "    </tr>\n",
       "    <tr>\n",
       "      <th>2</th>\n",
       "      <td>79.0</td>\n",
       "      <td>0.761233</td>\n",
       "    </tr>\n",
       "    <tr>\n",
       "      <th>3</th>\n",
       "      <td>78.0</td>\n",
       "      <td>0.761233</td>\n",
       "    </tr>\n",
       "    <tr>\n",
       "      <th>4</th>\n",
       "      <td>69.0</td>\n",
       "      <td>0.761233</td>\n",
       "    </tr>\n",
       "    <tr>\n",
       "      <th>...</th>\n",
       "      <td>...</td>\n",
       "      <td>...</td>\n",
       "    </tr>\n",
       "    <tr>\n",
       "      <th>73</th>\n",
       "      <td>5.0</td>\n",
       "      <td>0.724229</td>\n",
       "    </tr>\n",
       "    <tr>\n",
       "      <th>74</th>\n",
       "      <td>6.0</td>\n",
       "      <td>0.714978</td>\n",
       "    </tr>\n",
       "    <tr>\n",
       "      <th>75</th>\n",
       "      <td>3.0</td>\n",
       "      <td>0.708370</td>\n",
       "    </tr>\n",
       "    <tr>\n",
       "      <th>76</th>\n",
       "      <td>4.0</td>\n",
       "      <td>0.687225</td>\n",
       "    </tr>\n",
       "    <tr>\n",
       "      <th>77</th>\n",
       "      <td>2.0</td>\n",
       "      <td>0.628634</td>\n",
       "    </tr>\n",
       "  </tbody>\n",
       "</table>\n",
       "<p>78 rows × 2 columns</p>\n",
       "</div>"
      ],
      "text/plain": [
       "    n_estimators  accuracy_rf\n",
       "0           77.0     0.761674\n",
       "1           71.0     0.761233\n",
       "2           79.0     0.761233\n",
       "3           78.0     0.761233\n",
       "4           69.0     0.761233\n",
       "..           ...          ...\n",
       "73           5.0     0.724229\n",
       "74           6.0     0.714978\n",
       "75           3.0     0.708370\n",
       "76           4.0     0.687225\n",
       "77           2.0     0.628634\n",
       "\n",
       "[78 rows x 2 columns]"
      ]
     },
     "execution_count": 70,
     "metadata": {},
     "output_type": "execute_result"
    }
   ],
   "source": [
    "accuracy_rf_nest = accuracy_rf_nest.sort_values('accuracy_rf', ascending=False).reset_index(drop=True)#.tail(3)\n",
    "accuracy_rf_nest"
   ]
  },
  {
   "cell_type": "code",
   "execution_count": 71,
   "id": "external-majority",
   "metadata": {},
   "outputs": [
    {
     "data": {
      "text/plain": [
       "77.0"
      ]
     },
     "execution_count": 71,
     "metadata": {},
     "output_type": "execute_result"
    }
   ],
   "source": [
    "accuracy_rf_nest['n_estimators'][0]"
   ]
  },
  {
   "cell_type": "markdown",
   "id": "healthy-anderson",
   "metadata": {},
   "source": [
    "Once we know the best n estimators to use, we can use as before this number to get the accuracy of our model and <br>\n",
    "to plot the confusion matrix"
   ]
  },
  {
   "cell_type": "code",
   "execution_count": 72,
   "id": "bearing-politics",
   "metadata": {},
   "outputs": [],
   "source": [
    "rf = RandomForestClassifier(n_estimators=int(accuracy_rf_nest['n_estimators'][0]), random_state=0)"
   ]
  },
  {
   "cell_type": "code",
   "execution_count": 73,
   "id": "auburn-fortune",
   "metadata": {},
   "outputs": [
    {
     "data": {
      "image/png": "[encoded data removed]",
      "text/plain": [
       "<Figure size 432x288 with 1 Axes>"
      ]
     },
     "metadata": {},
     "output_type": "display_data"
    }
   ],
   "source": [
    "accuracy_val_rf = []\n",
    "\n",
    "\n",
    "for i in range(0,10):\n",
    "      X_train, X_test, y_train, y_test = train_test_split(X, y, test_size=0.1, random_state=i, shuffle=True, stratify=y)\n",
    "      X_train, X_val, y_train, y_val   = train_test_split(X_train, y_train, test_size=0.3, random_state=0, shuffle=True, stratify=y_train)\n",
    "      #print(y_val)\n",
    "      fit = rf.fit(X_train, y_train)\n",
    "      y_pred = fit.predict(X_val)\n",
    "      globals()[f\"conf_mat_val_rf_{i}\"]  = confusion_matrix(y_val, y_pred)\n",
    "        \n",
    "      globals()[f\"tn_val_rf_{i}\"], globals()[f\"fp_val_rf_{i}\"], globals()[f\"fn_val_rf_{i}\"], globals()[f\"tp_val_rf_{i}\"] = globals()[f\"conf_mat_val_rf_{i}\"].ravel()  \n",
    "      globals()[f\"accuracy_val_rf_{i}\"] = (globals()[f\"tn_val_rf_{i}\"]+globals()[f\"tp_val_rf_{i}\"])/(globals()[f\"tn_val_rf_{i}\"]+globals()[f\"fn_val_rf_{i}\"]+globals()[f\"fp_val_rf_{i}\"]+globals()[f\"tp_val_rf_{i}\"])\n",
    "        \n",
    "      accuracy_val_rf.append(globals()[f\"accuracy_val_rf_{i}\"])\n",
    "      \n",
    "\n",
    "labels=['True label','Predicted label']\n",
    "\n",
    "conf_mat_val_rf = (conf_mat_val_rf_0+conf_mat_val_rf_1+conf_mat_val_rf_2+conf_mat_val_rf_3+conf_mat_val_rf_4+conf_mat_val_rf_5+conf_mat_val_rf_6+conf_mat_val_rf_7+conf_mat_val_rf_8+conf_mat_val_rf_9)/10\n",
    "\n",
    "confusion_matrix_custom.make_confusion_matrix(conf_mat_val_rf,cbar=False)"
   ]
  },
  {
   "cell_type": "code",
   "execution_count": 74,
   "id": "accessory-humidity",
   "metadata": {},
   "outputs": [
    {
     "data": {
      "text/plain": [
       "[0.73568281938326,\n",
       " 0.7709251101321586,\n",
       " 0.775330396475771,\n",
       " 0.7180616740088106,\n",
       " 0.775330396475771,\n",
       " 0.7180616740088106,\n",
       " 0.7533039647577092,\n",
       " 0.788546255506608,\n",
       " 0.7797356828193832,\n",
       " 0.801762114537445]"
      ]
     },
     "execution_count": 74,
     "metadata": {},
     "output_type": "execute_result"
    }
   ],
   "source": [
    "accuracy_val_rf"
   ]
  },
  {
   "cell_type": "code",
   "execution_count": 75,
   "id": "married-thailand",
   "metadata": {},
   "outputs": [
    {
     "data": {
      "text/plain": [
       "0.7616740088105727"
      ]
     },
     "execution_count": 75,
     "metadata": {},
     "output_type": "execute_result"
    }
   ],
   "source": [
    "np.mean(accuracy_val_rf)"
   ]
  },
  {
   "cell_type": "markdown",
   "id": "stone-financing",
   "metadata": {},
   "source": [
    "# Support Vector Machine"
   ]
  },
  {
   "cell_type": "code",
   "execution_count": 76,
   "id": "independent-bouquet",
   "metadata": {},
   "outputs": [],
   "source": [
    "from sklearn import svm"
   ]
  },
  {
   "cell_type": "code",
   "execution_count": 77,
   "id": "specialized-anime",
   "metadata": {},
   "outputs": [
    {
     "name": "stdout",
     "output_type": "stream",
     "text": [
      "Wall time: 43.5 s\n"
     ]
    },
    {
     "data": {
      "text/plain": [
       "<AxesSubplot:xlabel='c'>"
      ]
     },
     "execution_count": 77,
     "metadata": {},
     "output_type": "execute_result"
    },
    {
     "data": {
      "image/png": "[encoded data removed]",
      "text/plain": [
       "<Figure size 864x432 with 1 Axes>"
      ]
     },
     "metadata": {},
     "output_type": "display_data"
    }
   ],
   "source": [
    "%%time\n",
    "\n",
    "#for collect the results of n_estimators and accuracy to plot\n",
    "accuracy_svc_c_linear=pd.DataFrame(np.array([(0, 0.0)]), columns=['c','accuracy_svc_linear'])\n",
    "\n",
    "#first cicle for the n estimators\n",
    "for j in range(0,200):\n",
    "    c=(j+1)/2\n",
    "    svc = svm.SVC(C=c, kernel='linear')\n",
    "    globals()[f\"accuracy_val_svc{j}\"]=[]\n",
    "    \n",
    "    #second cicle for K Cross Fold Validation\n",
    "    for i in range(0,10):\n",
    "\n",
    "          X_train, X_test, y_train, y_test = train_test_split(X, y, test_size=0.1, random_state=i, shuffle=True, stratify=y)\n",
    "          X_train, X_val, y_train, y_val   = train_test_split(X_train, y_train, test_size=0.3, random_state=0, shuffle=True, stratify=y_train)\n",
    "          \n",
    "          # for each iteration we create train and predict on the val, creating i confusion matrix  \n",
    "          fit = svc.fit(X_train, y_train)        \n",
    "          y_pred = fit.predict(X_val)\n",
    "          globals()[f\"conf_val_svc_{i}\"]  = confusion_matrix(y_val, y_pred)\n",
    "          \n",
    "          # from each of these confusion matrix we extract with the function ravel tn, fn, fp, tp and we calculate the accuracy\n",
    "          globals()[f\"tn_val_svc_{i}\"], globals()[f\"fp_val_svc_{i}\"], globals()[f\"fn_val_svc_{i}\"], globals()[f\"tp_val_svc_{i}\"] = globals()[f\"conf_val_svc_{i}\"].ravel()  \n",
    "          globals()[f\"accuracy_svc{i}\"] = (globals()[f\"tn_val_svc_{i}\"]+globals()[f\"tp_val_svc_{i}\"]) / (globals()[f\"tn_val_svc_{i}\"]+globals()[f\"fn_val_svc_{i}\"]+globals()[f\"fp_val_svc_{i}\"]+globals()[f\"tp_val_svc_{i}\"])          \n",
    "          \n",
    "          # we collect the accuracy in an c-esim array with len i\n",
    "          globals()[f\"accuracy_val_svc{j}\"].append(globals()[f\"accuracy_svc{i}\"])     \n",
    "                \n",
    "                \n",
    "    #out of the second cycle we put for each iteration in our dataframe the n_est and the mean of the accuracies of the i-esim array            \n",
    "    accuracy_svc_c_linear['c'][j-2] = c\n",
    "    accuracy_svc_c_linear['accuracy_svc_linear'][j-2] = np.mean(globals()[f\"accuracy_val_svc{j}\"])\n",
    "    accuracy_svc_c_linear = accuracy_svc_c_linear.append({'c':0, 'accuracy_svc_linear':0}, ignore_index=True)  \n",
    "       \n",
    "\n",
    "#we plot all the means and we obtain the best n of estimators for our validations sets    \n",
    "accuracy_svc_c_linear=accuracy_svc_c_linear[accuracy_svc_c_linear['accuracy_svc_linear']!=0]#.set_index()\n",
    "accuracy_svc_c_linear.plot(kind='line', x='c',  y='accuracy_svc_linear', figsize=(12,6), color='mediumblue')     "
   ]
  },
  {
   "cell_type": "code",
   "execution_count": 78,
   "id": "brutal-balloon",
   "metadata": {},
   "outputs": [
    {
     "name": "stdout",
     "output_type": "stream",
     "text": [
      "Wall time: 3.53 s\n"
     ]
    },
    {
     "data": {
      "text/plain": [
       "<AxesSubplot:xlabel='c'>"
      ]
     },
     "execution_count": 78,
     "metadata": {},
     "output_type": "execute_result"
    },
    {
     "data": {
      "image/png": "[encoded data removed]",
      "text/plain": [
       "<Figure size 864x432 with 1 Axes>"
      ]
     },
     "metadata": {},
     "output_type": "display_data"
    }
   ],
   "source": [
    "%%time\n",
    "\n",
    "#for collect the results of n_estimators and accuracy to plot\n",
    "accuracy_svc_c_rbf=pd.DataFrame(np.array([(0, 0.0)]), columns=['c','accuracy_svc_rbf'])\n",
    "\n",
    "#first cicle for the n estimators\n",
    "for j in range(0,30):\n",
    "    c=(j+1)/10\n",
    "    svc = svm.SVC(C=c)\n",
    "    globals()[f\"accuracy_val_svc{j}\"]=[]\n",
    "    \n",
    "    #second cicle for K Cross Fold Validation\n",
    "    for i in range(0,10):\n",
    "\n",
    "          X_train, X_test, y_train, y_test = train_test_split(X, y, test_size=0.1, random_state=i, shuffle=True, stratify=y)\n",
    "          X_train, X_val, y_train, y_val   = train_test_split(X_train, y_train, test_size=0.3, random_state=0, shuffle=True, stratify=y_train)\n",
    "          \n",
    "          # for each iteration we create train and predict on the val, creating i confusion matrix  \n",
    "          fit = svc.fit(X_train, y_train)        \n",
    "          y_pred = fit.predict(X_val)\n",
    "          globals()[f\"conf_val_svc_{i}\"]  = confusion_matrix(y_val, y_pred)\n",
    "          \n",
    "          # from each of these confusion matrix we extract with the function ravel tn, fn, fp, tp and we calculate the accuracy\n",
    "          globals()[f\"tn_val_svc_{i}\"], globals()[f\"fp_val_svc_{i}\"], globals()[f\"fn_val_svc_{i}\"], globals()[f\"tp_val_svc_{i}\"] = globals()[f\"conf_val_svc_{i}\"].ravel()  \n",
    "          globals()[f\"accuracy_svc{i}\"] = (globals()[f\"tn_val_svc_{i}\"]+globals()[f\"tp_val_svc_{i}\"]) / (globals()[f\"tn_val_svc_{i}\"]+globals()[f\"fn_val_svc_{i}\"]+globals()[f\"fp_val_svc_{i}\"]+globals()[f\"tp_val_svc_{i}\"])          \n",
    "          \n",
    "          # we collect the accuracy in an c-esim array with len i\n",
    "          globals()[f\"accuracy_val_svc{j}\"].append(globals()[f\"accuracy_svc{i}\"])     \n",
    "                \n",
    "                \n",
    "    #out of the second cycle we put for each iteration in our dataframe the n_est and the mean of the accuracies of the i-esim array            \n",
    "    accuracy_svc_c_rbf['c'][j-2] = c\n",
    "    accuracy_svc_c_rbf['accuracy_svc_rbf'][j-2] = np.mean(globals()[f\"accuracy_val_svc{j}\"])\n",
    "    accuracy_svc_c_rbf = accuracy_svc_c_rbf.append({'c':0, 'accuracy_svc_rbf':0}, ignore_index=True)  \n",
    "       \n",
    "\n",
    "#we plot all the means and we obtain the best n of estimators for our validations sets    \n",
    "accuracy_svc_c_rbf=accuracy_svc_c_rbf[accuracy_svc_c_rbf['accuracy_svc_rbf']!=0]#.set_index()\n",
    "accuracy_svc_c_rbf.plot(kind='line', x='c',  y='accuracy_svc_rbf', figsize=(12,6), color='mediumblue')     "
   ]
  },
  {
   "cell_type": "code",
   "execution_count": 79,
   "id": "heard-protest",
   "metadata": {},
   "outputs": [
    {
     "name": "stdout",
     "output_type": "stream",
     "text": [
      "Wall time: 3.67 s\n"
     ]
    },
    {
     "data": {
      "text/plain": [
       "<AxesSubplot:xlabel='c'>"
      ]
     },
     "execution_count": 79,
     "metadata": {},
     "output_type": "execute_result"
    },
    {
     "data": {
      "image/png": "[encoded data removed]",
      "text/plain": [
       "<Figure size 864x432 with 1 Axes>"
      ]
     },
     "metadata": {},
     "output_type": "display_data"
    }
   ],
   "source": [
    "%%time\n",
    "\n",
    "#for collect the results of n_estimators and accuracy to plot\n",
    "accuracy_svc_c=pd.DataFrame(np.array([(0, 0.0)]), columns=['c','accuracy_svc_sigmoid'])\n",
    "\n",
    "#first cicle for the n estimators\n",
    "for j in range(0,30):\n",
    "    c=(j+1)/20\n",
    "    svc = svm.SVC(C=c, kernel='sigmoid')\n",
    "    globals()[f\"accuracy_val_svc{j}\"]=[]\n",
    "    \n",
    "    #second cicle for K Cross Fold Validation\n",
    "    for i in range(0,10):\n",
    "\n",
    "          X_train, X_test, y_train, y_test = train_test_split(X, y, test_size=0.1, random_state=i, shuffle=True, stratify=y)\n",
    "          X_train, X_val, y_train, y_val   = train_test_split(X_train, y_train, test_size=0.3, random_state=0, shuffle=True, stratify=y_train)\n",
    "          \n",
    "          # for each iteration we create train and predict on the val, creating i confusion matrix  \n",
    "          fit = svc.fit(X_train, y_train)        \n",
    "          y_pred = fit.predict(X_val)\n",
    "          globals()[f\"conf_val_svc_{i}\"]  = confusion_matrix(y_val, y_pred)\n",
    "          \n",
    "          # from each of these confusion matrix we extract with the function ravel tn, fn, fp, tp and we calculate the accuracy\n",
    "          globals()[f\"tn_val_svc_{i}\"], globals()[f\"fp_val_svc_{i}\"], globals()[f\"fn_val_svc_{i}\"], globals()[f\"tp_val_svc_{i}\"] = globals()[f\"conf_val_svc_{i}\"].ravel()  \n",
    "          globals()[f\"accuracy_svc{i}\"] = (globals()[f\"tn_val_svc_{i}\"]+globals()[f\"tp_val_svc_{i}\"]) / (globals()[f\"tn_val_svc_{i}\"]+globals()[f\"fn_val_svc_{i}\"]+globals()[f\"fp_val_svc_{i}\"]+globals()[f\"tp_val_svc_{i}\"])          \n",
    "          \n",
    "          # we collect the accuracy in an c-esim array with len i\n",
    "          globals()[f\"accuracy_val_svc{j}\"].append(globals()[f\"accuracy_svc{i}\"])     \n",
    "                \n",
    "                \n",
    "    #out of the second cycle we put for each iteration in our dataframe the n_est and the mean of the accuracies of the i-esim array            \n",
    "    accuracy_svc_c['c'][j-2] = c\n",
    "    accuracy_svc_c['accuracy_svc_sigmoid'][j-2] = np.mean(globals()[f\"accuracy_val_svc{j}\"])\n",
    "    accuracy_svc_c = accuracy_svc_c.append({'c':0, 'accuracy_svc_sigmoid':0}, ignore_index=True)  \n",
    "       \n",
    "\n",
    "#we plot all the means and we obtain the best n of estimators for our validations sets    \n",
    "accuracy_svc_c=accuracy_svc_c[accuracy_svc_c['accuracy_svc_sigmoid']!=0]#.set_index()\n",
    "accuracy_svc_c.plot(kind='line', x='c',  y='accuracy_svc_sigmoid', figsize=(12,6), color='mediumblue')     "
   ]
  },
  {
   "cell_type": "markdown",
   "id": "asian-veteran",
   "metadata": {},
   "source": [
    "We create a dataframe to collect all the accuracies calculated by our classifier. After that we launch in loop the model <br>\n",
    "changing each iteration the value of C and collecting the results in the dataframe. Sorting the dataframe by the <br>\n",
    "accuracy it is possible to get the best n of estimators."
   ]
  },
  {
   "cell_type": "code",
   "execution_count": 80,
   "id": "sound-treat",
   "metadata": {},
   "outputs": [
    {
     "data": {
      "text/html": [
       "<div>\n",
       "<style scoped>\n",
       "    .dataframe tbody tr th:only-of-type {\n",
       "        vertical-align: middle;\n",
       "    }\n",
       "\n",
       "    .dataframe tbody tr th {\n",
       "        vertical-align: top;\n",
       "    }\n",
       "\n",
       "    .dataframe thead th {\n",
       "        text-align: right;\n",
       "    }\n",
       "</style>\n",
       "<table border=\"1\" class=\"dataframe\">\n",
       "  <thead>\n",
       "    <tr style=\"text-align: right;\">\n",
       "      <th></th>\n",
       "      <th>c</th>\n",
       "      <th>accuracy_svc_linear</th>\n",
       "    </tr>\n",
       "  </thead>\n",
       "  <tbody>\n",
       "    <tr>\n",
       "      <th>0</th>\n",
       "      <td>95.0</td>\n",
       "      <td>0.722907</td>\n",
       "    </tr>\n",
       "    <tr>\n",
       "      <th>1</th>\n",
       "      <td>94.5</td>\n",
       "      <td>0.722907</td>\n",
       "    </tr>\n",
       "    <tr>\n",
       "      <th>2</th>\n",
       "      <td>91.0</td>\n",
       "      <td>0.722907</td>\n",
       "    </tr>\n",
       "    <tr>\n",
       "      <th>3</th>\n",
       "      <td>51.0</td>\n",
       "      <td>0.722467</td>\n",
       "    </tr>\n",
       "    <tr>\n",
       "      <th>4</th>\n",
       "      <td>66.5</td>\n",
       "      <td>0.722467</td>\n",
       "    </tr>\n",
       "  </tbody>\n",
       "</table>\n",
       "</div>"
      ],
      "text/plain": [
       "      c  accuracy_svc_linear\n",
       "0  95.0             0.722907\n",
       "1  94.5             0.722907\n",
       "2  91.0             0.722907\n",
       "3  51.0             0.722467\n",
       "4  66.5             0.722467"
      ]
     },
     "execution_count": 80,
     "metadata": {},
     "output_type": "execute_result"
    }
   ],
   "source": [
    "accuracy_svc_c_linear = accuracy_svc_c_linear.sort_values('accuracy_svc_linear', ascending=False).reset_index(drop=True)#.tail(3)\n",
    "accuracy_svc_c_linear.head(5)"
   ]
  },
  {
   "cell_type": "code",
   "execution_count": 81,
   "id": "pacific-cigarette",
   "metadata": {},
   "outputs": [
    {
     "data": {
      "text/html": [
       "<div>\n",
       "<style scoped>\n",
       "    .dataframe tbody tr th:only-of-type {\n",
       "        vertical-align: middle;\n",
       "    }\n",
       "\n",
       "    .dataframe tbody tr th {\n",
       "        vertical-align: top;\n",
       "    }\n",
       "\n",
       "    .dataframe thead th {\n",
       "        text-align: right;\n",
       "    }\n",
       "</style>\n",
       "<table border=\"1\" class=\"dataframe\">\n",
       "  <thead>\n",
       "    <tr style=\"text-align: right;\">\n",
       "      <th></th>\n",
       "      <th>c</th>\n",
       "      <th>accuracy_svc_rbf</th>\n",
       "    </tr>\n",
       "  </thead>\n",
       "  <tbody>\n",
       "    <tr>\n",
       "      <th>0</th>\n",
       "      <td>2.2</td>\n",
       "      <td>0.696476</td>\n",
       "    </tr>\n",
       "    <tr>\n",
       "      <th>1</th>\n",
       "      <td>2.1</td>\n",
       "      <td>0.695595</td>\n",
       "    </tr>\n",
       "    <tr>\n",
       "      <th>2</th>\n",
       "      <td>2.0</td>\n",
       "      <td>0.695154</td>\n",
       "    </tr>\n",
       "    <tr>\n",
       "      <th>3</th>\n",
       "      <td>1.4</td>\n",
       "      <td>0.695154</td>\n",
       "    </tr>\n",
       "    <tr>\n",
       "      <th>4</th>\n",
       "      <td>2.3</td>\n",
       "      <td>0.694714</td>\n",
       "    </tr>\n",
       "  </tbody>\n",
       "</table>\n",
       "</div>"
      ],
      "text/plain": [
       "     c  accuracy_svc_rbf\n",
       "0  2.2          0.696476\n",
       "1  2.1          0.695595\n",
       "2  2.0          0.695154\n",
       "3  1.4          0.695154\n",
       "4  2.3          0.694714"
      ]
     },
     "execution_count": 81,
     "metadata": {},
     "output_type": "execute_result"
    }
   ],
   "source": [
    "accuracy_svc_c_rbf = accuracy_svc_c_rbf.sort_values('accuracy_svc_rbf', ascending=False).reset_index(drop=True)#.tail(3)\n",
    "accuracy_svc_c_rbf.head(5)"
   ]
  },
  {
   "cell_type": "code",
   "execution_count": 82,
   "id": "ahead-invalid",
   "metadata": {},
   "outputs": [
    {
     "data": {
      "text/plain": [
       "2.2"
      ]
     },
     "execution_count": 82,
     "metadata": {},
     "output_type": "execute_result"
    }
   ],
   "source": [
    "accuracy_svc_c_rbf['c'][0]"
   ]
  },
  {
   "cell_type": "code",
   "execution_count": 83,
   "id": "imperial-spain",
   "metadata": {},
   "outputs": [],
   "source": [
    "svc = svm.SVC(C=float(accuracy_svc_c_linear['c'][0]), kernel='linear') #"
   ]
  },
  {
   "cell_type": "code",
   "execution_count": 84,
   "id": "solved-champion",
   "metadata": {},
   "outputs": [
    {
     "data": {
      "image/png": "[encoded data removed]",
      "text/plain": [
       "<Figure size 432x288 with 1 Axes>"
      ]
     },
     "metadata": {},
     "output_type": "display_data"
    }
   ],
   "source": [
    "accuracy_val_svc = []\n",
    "\n",
    "\n",
    "for i in range(0,10):\n",
    "      X_train, X_test, y_train, y_test = train_test_split(X, y, test_size=0.1, random_state=i, shuffle=True, stratify=y)\n",
    "      X_train, X_val, y_train, y_val   = train_test_split(X_train, y_train, test_size=0.3, random_state=0, shuffle=True, stratify=y_train)\n",
    "      fit = svc.fit(X_train, y_train)\n",
    "      y_pred = fit.predict(X_val)\n",
    "      globals()[f\"conf_mat_val_svc_{i}\"]  = confusion_matrix(y_val, y_pred)\n",
    "        \n",
    "      globals()[f\"tn_val_svc_{i}\"], globals()[f\"fp_val_svc_{i}\"], globals()[f\"fn_val_svc_{i}\"], globals()[f\"tp_val_svc_{i}\"] = globals()[f\"conf_mat_val_svc_{i}\"].ravel()  \n",
    "      globals()[f\"accuracy_val_svc_{i}\"] = (globals()[f\"tn_val_svc_{i}\"]+globals()[f\"tp_val_svc_{i}\"])/(globals()[f\"tn_val_svc_{i}\"]+globals()[f\"fn_val_svc_{i}\"]+globals()[f\"fp_val_svc_{i}\"]+globals()[f\"tp_val_svc_{i}\"])\n",
    "        \n",
    "      accuracy_val_svc.append(globals()[f\"accuracy_val_svc_{i}\"])\n",
    "              \n",
    "\n",
    "labels=['True label','Predicted label']\n",
    "#conf_mat_svc_perc = (conf_mat_svc/conf_mat_svc.sum())\n",
    "conf_mat_val_svc = (conf_mat_val_svc_0+conf_mat_val_svc_1+conf_mat_val_svc_2+conf_mat_val_svc_3+conf_mat_val_svc_4+conf_mat_val_svc_5+conf_mat_val_svc_6+conf_mat_val_svc_7+conf_mat_val_svc_8+conf_mat_val_svc_9)/10\n",
    "#sns.heatmap(conf_mat_svc_perc, square=True, annot=True, cmap='Blues',cbar=True,fmt='.2%')\n",
    "confusion_matrix_custom.make_confusion_matrix(conf_mat_val_svc,cbar=False)"
   ]
  },
  {
   "cell_type": "code",
   "execution_count": 85,
   "id": "spoken-participation",
   "metadata": {},
   "outputs": [
    {
     "data": {
      "text/plain": [
       "[0.7092511013215859,\n",
       " 0.7268722466960352,\n",
       " 0.7533039647577092,\n",
       " 0.6696035242290749,\n",
       " 0.7312775330396476,\n",
       " 0.6872246696035242,\n",
       " 0.7312775330396476,\n",
       " 0.7400881057268722,\n",
       " 0.73568281938326,\n",
       " 0.7444933920704846]"
      ]
     },
     "execution_count": 85,
     "metadata": {},
     "output_type": "execute_result"
    }
   ],
   "source": [
    "accuracy_val_svc"
   ]
  },
  {
   "cell_type": "markdown",
   "id": "subjective-twist",
   "metadata": {},
   "source": [
    "### Wilcoxon Test"
   ]
  },
  {
   "cell_type": "code",
   "execution_count": 86,
   "id": "english-crack",
   "metadata": {},
   "outputs": [],
   "source": [
    "from scipy.stats import wilcoxon"
   ]
  },
  {
   "cell_type": "markdown",
   "id": "attempted-miller",
   "metadata": {},
   "source": [
    "During the fit on the validation sets we collected all the accuracies for each model in these below arrays:"
   ]
  },
  {
   "cell_type": "code",
   "execution_count": 87,
   "id": "decimal-vocabulary",
   "metadata": {},
   "outputs": [
    {
     "data": {
      "image/png": "[encoded data removed]",
      "text/plain": [
       "<Figure size 864x576 with 1 Axes>"
      ]
     },
     "metadata": {},
     "output_type": "display_data"
    }
   ],
   "source": [
    "plt.figure(figsize=(12,8))\n",
    "\n",
    "ax=[0,1,2,3,4,5,6,7,8,9]\n",
    "\n",
    "plt.xlabel('Validation Set')\n",
    "plt.ylabel('Accuracy')\n",
    "\n",
    "plt.ylim( (0, 0.9) )\n",
    "\n",
    "plt.plot(ax, accuracy_val_lr, color =\"green\", label='Logistic Regression')\n",
    "plt.plot(ax, accuracy_val_rf, color =\"blue\", label='Random Forest')\n",
    "plt.plot(ax, accuracy_val_svc, color =\"red\", label='SVC')\n",
    "\n",
    "\n",
    "plt.legend()\n",
    "plt.show()"
   ]
  },
  {
   "cell_type": "code",
   "execution_count": 88,
   "id": "planned-determination",
   "metadata": {},
   "outputs": [
    {
     "data": {
      "text/plain": [
       "[0.7312775330396476,\n",
       " 0.73568281938326,\n",
       " 0.73568281938326,\n",
       " 0.6740088105726872,\n",
       " 0.73568281938326,\n",
       " 0.7004405286343612,\n",
       " 0.7709251101321586,\n",
       " 0.73568281938326,\n",
       " 0.7312775330396476,\n",
       " 0.7224669603524229]"
      ]
     },
     "execution_count": 88,
     "metadata": {},
     "output_type": "execute_result"
    }
   ],
   "source": [
    "accuracy_val_lr"
   ]
  },
  {
   "cell_type": "code",
   "execution_count": 89,
   "id": "isolated-redhead",
   "metadata": {},
   "outputs": [
    {
     "data": {
      "text/plain": [
       "[0.73568281938326,\n",
       " 0.7709251101321586,\n",
       " 0.775330396475771,\n",
       " 0.7180616740088106,\n",
       " 0.775330396475771,\n",
       " 0.7180616740088106,\n",
       " 0.7533039647577092,\n",
       " 0.788546255506608,\n",
       " 0.7797356828193832,\n",
       " 0.801762114537445]"
      ]
     },
     "execution_count": 89,
     "metadata": {},
     "output_type": "execute_result"
    }
   ],
   "source": [
    "accuracy_val_rf"
   ]
  },
  {
   "cell_type": "code",
   "execution_count": 90,
   "id": "variable-disposition",
   "metadata": {},
   "outputs": [
    {
     "data": {
      "text/plain": [
       "[0.7092511013215859,\n",
       " 0.7268722466960352,\n",
       " 0.7533039647577092,\n",
       " 0.6696035242290749,\n",
       " 0.7312775330396476,\n",
       " 0.6872246696035242,\n",
       " 0.7312775330396476,\n",
       " 0.7400881057268722,\n",
       " 0.73568281938326,\n",
       " 0.7444933920704846]"
      ]
     },
     "execution_count": 90,
     "metadata": {},
     "output_type": "execute_result"
    }
   ],
   "source": [
    "accuracy_val_svc"
   ]
  },
  {
   "cell_type": "markdown",
   "id": "based-tribute",
   "metadata": {},
   "source": [
    "At this point we need to perform the Wilcoxon test (https://docs.scipy.org/doc/scipy/reference/generated/scipy.stats.wilcoxon.html); due to the limit of the function we will perform the tests for each couple of <br>\n",
    "model (Round Robin)"
   ]
  },
  {
   "cell_type": "markdown",
   "id": "color-soldier",
   "metadata": {},
   "source": [
    "Logistic Regression vs Random Forest"
   ]
  },
  {
   "cell_type": "code",
   "execution_count": 91,
   "id": "proved-nerve",
   "metadata": {},
   "outputs": [],
   "source": [
    "w_lr_rf, p_lr_rf = wilcoxon(accuracy_val_lr, accuracy_val_rf)"
   ]
  },
  {
   "cell_type": "code",
   "execution_count": 92,
   "id": "incorporated-diabetes",
   "metadata": {},
   "outputs": [
    {
     "name": "stdout",
     "output_type": "stream",
     "text": [
      "P value for H0: LR accuracy = RF accuracy:\n",
      "0.005859375\n"
     ]
    }
   ],
   "source": [
    "print('P value for H0: LR accuracy = RF accuracy:') \n",
    "print(p_lr_rf)"
   ]
  },
  {
   "cell_type": "markdown",
   "id": "virgin-extension",
   "metadata": {},
   "source": [
    "Random Forest  vs Suppport Vector Classifier"
   ]
  },
  {
   "cell_type": "code",
   "execution_count": 93,
   "id": "brutal-memorial",
   "metadata": {},
   "outputs": [],
   "source": [
    "w_rf_svc, p_rf_svc = wilcoxon(accuracy_val_rf, accuracy_val_svc)"
   ]
  },
  {
   "cell_type": "code",
   "execution_count": 94,
   "id": "assigned-printer",
   "metadata": {},
   "outputs": [
    {
     "name": "stdout",
     "output_type": "stream",
     "text": [
      "P value for H0: RF accuracy = SVC accuracy:\n",
      "0.001953125\n"
     ]
    }
   ],
   "source": [
    "print('P value for H0: RF accuracy = SVC accuracy:') \n",
    "print(p_rf_svc)"
   ]
  },
  {
   "cell_type": "markdown",
   "id": "african-watson",
   "metadata": {},
   "source": [
    "Logistic Regression vs Suppport Vector Classifier"
   ]
  },
  {
   "cell_type": "code",
   "execution_count": 95,
   "id": "satisfied-partnership",
   "metadata": {},
   "outputs": [],
   "source": [
    "w_lr_svc, p_lr_svc = wilcoxon(accuracy_val_lr, accuracy_val_svc)"
   ]
  },
  {
   "cell_type": "code",
   "execution_count": 96,
   "id": "encouraging-rescue",
   "metadata": {},
   "outputs": [
    {
     "name": "stdout",
     "output_type": "stream",
     "text": [
      "P value for H0: LR accuracy = SVC accuracy:\n",
      "0.4921875\n"
     ]
    }
   ],
   "source": [
    "print('P value for H0: LR accuracy = SVC accuracy:') \n",
    "print(p_lr_svc)"
   ]
  },
  {
   "cell_type": "markdown",
   "id": "removable-computer",
   "metadata": {},
   "source": [
    "### Final Perfomance Calculation with Test sets"
   ]
  },
  {
   "cell_type": "markdown",
   "id": "designed-special",
   "metadata": {},
   "source": [
    "We choose to use the Random Forest. In order to calculate the perfomances we create again the confusion matrix using the test indexes."
   ]
  },
  {
   "cell_type": "code",
   "execution_count": 97,
   "id": "exceptional-novel",
   "metadata": {},
   "outputs": [
    {
     "data": {
      "image/png": "[encoded data removed]",
      "text/plain": [
       "<Figure size 432x288 with 1 Axes>"
      ]
     },
     "metadata": {},
     "output_type": "display_data"
    }
   ],
   "source": [
    "for i in range(0,10):\n",
    "      X_train, X_test, y_train, y_test = train_test_split(X, y, test_size=0.1, random_state=i, shuffle=True, stratify=y)\n",
    "      X_train, X_val, y_train, y_val   = train_test_split(X_train, y_train, test_size=0.3, random_state=0, shuffle=True, stratify=y_train)\n",
    "      fit = rf.fit(X_train, y_train)\n",
    "      y_pred = fit.predict(X_test)\n",
    "      globals()[f\"conf_mat{i}\"]  = confusion_matrix(y_test, y_pred)\n",
    "      \n",
    "\n",
    "labels=['True label','Predicted label']\n",
    "#conf_mat_lr_perc = (conf_mat_lr/conf_mat_lr.sum())\n",
    "conf_mat_rf = (conf_mat0+conf_mat1+conf_mat2+conf_mat3+conf_mat4+conf_mat5+conf_mat6+conf_mat7+conf_mat8+conf_mat9)/10     \n",
    "#sns.heatmap(conf_mat_lr_perc, square=True, annot=True, cmap='Blues',cbar=True,fmt='.2%')\n",
    "confusion_matrix_custom.make_confusion_matrix(conf_mat_rf,cbar=False)"
   ]
  },
  {
   "cell_type": "code",
   "execution_count": null,
   "id": "concrete-clock",
   "metadata": {},
   "outputs": [],
   "source": []
  },
  {
   "cell_type": "code",
   "execution_count": null,
   "id": "liable-grain",
   "metadata": {},
   "outputs": [],
   "source": []
  }
 ],
 "metadata": {
  "kernelspec": {
   "display_name": "Python 3",
   "language": "python",
   "name": "python3"
  },
  "language_info": {
   "codemirror_mode": {
    "name": "ipython",
    "version": 3
   },
   "file_extension": ".py",
   "mimetype": "text/x-python",
   "name": "python",
   "nbconvert_exporter": "python",
   "pygments_lexer": "ipython3",
   "version": "3.8.5"
  }
 },
 "nbformat": 4,
 "nbformat_minor": 5
}
