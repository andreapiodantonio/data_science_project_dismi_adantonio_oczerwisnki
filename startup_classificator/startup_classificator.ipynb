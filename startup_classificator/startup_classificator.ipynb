{
 "cells": [
  {
   "cell_type": "code",
   "execution_count": 1,
   "id": "portable-bread",
   "metadata": {},
   "outputs": [],
   "source": [
    "import pandas as pd\n",
    "import numpy as np\n",
    "import matplotlib.pyplot as plt \n",
    "import yaml\n",
    "import warnings\n",
    "import datetime\n",
    "import sklearn\n",
    "import seaborn as sns\n",
    "import datetime\n",
    "from datetime import date, datetime, timedelta\n",
    "\n",
    "warnings.filterwarnings(\"ignore\")\n",
    "plt.style.use('ggplot')"
   ]
  },
  {
   "cell_type": "markdown",
   "id": "danish-affairs",
   "metadata": {},
   "source": [
    "### collect data from CSV"
   ]
  },
  {
   "cell_type": "markdown",
   "id": "vital-egyptian",
   "metadata": {},
   "source": [
    "https://www.kaggle.com/manishkc06/startup-success-prediction"
   ]
  },
  {
   "cell_type": "code",
   "execution_count": 2,
   "id": "mediterranean-stress",
   "metadata": {},
   "outputs": [],
   "source": [
    "startup = pd.read_csv('data//in//startup_data.csv')"
   ]
  },
  {
   "cell_type": "code",
   "execution_count": 3,
   "id": "willing-saturn",
   "metadata": {},
   "outputs": [
    {
     "data": {
      "text/html": [
       "<div>\n",
       "<style scoped>\n",
       "    .dataframe tbody tr th:only-of-type {\n",
       "        vertical-align: middle;\n",
       "    }\n",
       "\n",
       "    .dataframe tbody tr th {\n",
       "        vertical-align: top;\n",
       "    }\n",
       "\n",
       "    .dataframe thead th {\n",
       "        text-align: right;\n",
       "    }\n",
       "</style>\n",
       "<table border=\"1\" class=\"dataframe\">\n",
       "  <thead>\n",
       "    <tr style=\"text-align: right;\">\n",
       "      <th></th>\n",
       "      <th>unamed:0</th>\n",
       "      <th>state_code</th>\n",
       "      <th>latitude</th>\n",
       "      <th>longitude</th>\n",
       "      <th>zip_code</th>\n",
       "      <th>id</th>\n",
       "      <th>city</th>\n",
       "      <th>Unnamed: 6</th>\n",
       "      <th>name</th>\n",
       "      <th>labels</th>\n",
       "      <th>...</th>\n",
       "      <th>object_id</th>\n",
       "      <th>has_VC</th>\n",
       "      <th>has_angel</th>\n",
       "      <th>has_roundA</th>\n",
       "      <th>has_roundB</th>\n",
       "      <th>has_roundC</th>\n",
       "      <th>has_roundD</th>\n",
       "      <th>avg_participants</th>\n",
       "      <th>is_top500</th>\n",
       "      <th>status</th>\n",
       "    </tr>\n",
       "  </thead>\n",
       "  <tbody>\n",
       "    <tr>\n",
       "      <th>0</th>\n",
       "      <td>1005</td>\n",
       "      <td>CA</td>\n",
       "      <td>42.358880</td>\n",
       "      <td>-71.056820</td>\n",
       "      <td>92101</td>\n",
       "      <td>c:6669</td>\n",
       "      <td>San Diego</td>\n",
       "      <td>NaN</td>\n",
       "      <td>Bandsintown</td>\n",
       "      <td>1.0</td>\n",
       "      <td>...</td>\n",
       "      <td>c:6669</td>\n",
       "      <td>0.0</td>\n",
       "      <td>1.0</td>\n",
       "      <td>0.0</td>\n",
       "      <td>0.0</td>\n",
       "      <td>0.0</td>\n",
       "      <td>0.0</td>\n",
       "      <td>1.0000</td>\n",
       "      <td>0.0</td>\n",
       "      <td>acquired</td>\n",
       "    </tr>\n",
       "    <tr>\n",
       "      <th>1</th>\n",
       "      <td>204</td>\n",
       "      <td>CA</td>\n",
       "      <td>37.238916</td>\n",
       "      <td>-121.973718</td>\n",
       "      <td>95032</td>\n",
       "      <td>c:16283</td>\n",
       "      <td>Los Gatos</td>\n",
       "      <td>NaN</td>\n",
       "      <td>TriCipher</td>\n",
       "      <td>1.0</td>\n",
       "      <td>...</td>\n",
       "      <td>c:16283</td>\n",
       "      <td>1.0</td>\n",
       "      <td>0.0</td>\n",
       "      <td>0.0</td>\n",
       "      <td>1.0</td>\n",
       "      <td>1.0</td>\n",
       "      <td>1.0</td>\n",
       "      <td>4.7500</td>\n",
       "      <td>1.0</td>\n",
       "      <td>acquired</td>\n",
       "    </tr>\n",
       "    <tr>\n",
       "      <th>2</th>\n",
       "      <td>1001</td>\n",
       "      <td>CA</td>\n",
       "      <td>32.901049</td>\n",
       "      <td>-117.192656</td>\n",
       "      <td>92121</td>\n",
       "      <td>c:65620</td>\n",
       "      <td>San Diego</td>\n",
       "      <td>San Diego CA 92121</td>\n",
       "      <td>Plixi</td>\n",
       "      <td>1.0</td>\n",
       "      <td>...</td>\n",
       "      <td>c:65620</td>\n",
       "      <td>0.0</td>\n",
       "      <td>0.0</td>\n",
       "      <td>1.0</td>\n",
       "      <td>0.0</td>\n",
       "      <td>0.0</td>\n",
       "      <td>0.0</td>\n",
       "      <td>4.0000</td>\n",
       "      <td>1.0</td>\n",
       "      <td>acquired</td>\n",
       "    </tr>\n",
       "    <tr>\n",
       "      <th>3</th>\n",
       "      <td>738</td>\n",
       "      <td>CA</td>\n",
       "      <td>37.320309</td>\n",
       "      <td>-122.050040</td>\n",
       "      <td>95014</td>\n",
       "      <td>c:42668</td>\n",
       "      <td>Cupertino</td>\n",
       "      <td>Cupertino CA 95014</td>\n",
       "      <td>Solidcore Systems</td>\n",
       "      <td>1.0</td>\n",
       "      <td>...</td>\n",
       "      <td>c:42668</td>\n",
       "      <td>0.0</td>\n",
       "      <td>0.0</td>\n",
       "      <td>0.0</td>\n",
       "      <td>1.0</td>\n",
       "      <td>1.0</td>\n",
       "      <td>1.0</td>\n",
       "      <td>3.3333</td>\n",
       "      <td>1.0</td>\n",
       "      <td>acquired</td>\n",
       "    </tr>\n",
       "    <tr>\n",
       "      <th>4</th>\n",
       "      <td>1002</td>\n",
       "      <td>CA</td>\n",
       "      <td>37.779281</td>\n",
       "      <td>-122.419236</td>\n",
       "      <td>94105</td>\n",
       "      <td>c:65806</td>\n",
       "      <td>San Francisco</td>\n",
       "      <td>San Francisco CA 94105</td>\n",
       "      <td>Inhale Digital</td>\n",
       "      <td>0.0</td>\n",
       "      <td>...</td>\n",
       "      <td>c:65806</td>\n",
       "      <td>1.0</td>\n",
       "      <td>1.0</td>\n",
       "      <td>0.0</td>\n",
       "      <td>0.0</td>\n",
       "      <td>0.0</td>\n",
       "      <td>0.0</td>\n",
       "      <td>1.0000</td>\n",
       "      <td>1.0</td>\n",
       "      <td>closed</td>\n",
       "    </tr>\n",
       "  </tbody>\n",
       "</table>\n",
       "<p>5 rows × 49 columns</p>\n",
       "</div>"
      ],
      "text/plain": [
       "  unamed:0 state_code   latitude   longitude zip_code       id           city  \\\n",
       "0     1005         CA  42.358880  -71.056820    92101   c:6669      San Diego   \n",
       "1      204         CA  37.238916 -121.973718    95032  c:16283      Los Gatos   \n",
       "2     1001         CA  32.901049 -117.192656    92121  c:65620      San Diego   \n",
       "3      738         CA  37.320309 -122.050040    95014  c:42668      Cupertino   \n",
       "4     1002         CA  37.779281 -122.419236    94105  c:65806  San Francisco   \n",
       "\n",
       "               Unnamed: 6               name  labels  ... object_id has_VC  \\\n",
       "0                     NaN        Bandsintown     1.0  ...    c:6669    0.0   \n",
       "1                     NaN          TriCipher     1.0  ...   c:16283    1.0   \n",
       "2      San Diego CA 92121              Plixi     1.0  ...   c:65620    0.0   \n",
       "3      Cupertino CA 95014  Solidcore Systems     1.0  ...   c:42668    0.0   \n",
       "4  San Francisco CA 94105     Inhale Digital     0.0  ...   c:65806    1.0   \n",
       "\n",
       "  has_angel has_roundA  has_roundB  has_roundC  has_roundD  avg_participants  \\\n",
       "0       1.0        0.0         0.0         0.0         0.0            1.0000   \n",
       "1       0.0        0.0         1.0         1.0         1.0            4.7500   \n",
       "2       0.0        1.0         0.0         0.0         0.0            4.0000   \n",
       "3       0.0        0.0         1.0         1.0         1.0            3.3333   \n",
       "4       1.0        0.0         0.0         0.0         0.0            1.0000   \n",
       "\n",
       "   is_top500    status  \n",
       "0        0.0  acquired  \n",
       "1        1.0  acquired  \n",
       "2        1.0  acquired  \n",
       "3        1.0  acquired  \n",
       "4        1.0    closed  \n",
       "\n",
       "[5 rows x 49 columns]"
      ]
     },
     "execution_count": 3,
     "metadata": {},
     "output_type": "execute_result"
    }
   ],
   "source": [
    "startup.head(5)"
   ]
  },
  {
   "cell_type": "code",
   "execution_count": 133,
   "id": "headed-technique",
   "metadata": {},
   "outputs": [],
   "source": [
    "startup = startup.drop(columns={'Unnamed: 6'})"
   ]
  },
  {
   "cell_type": "code",
   "execution_count": 4,
   "id": "charitable-plasma",
   "metadata": {},
   "outputs": [
    {
     "name": "stdout",
     "output_type": "stream",
     "text": [
      "<class 'pandas.core.frame.DataFrame'>\n",
      "RangeIndex: 923 entries, 0 to 922\n",
      "Data columns (total 49 columns):\n",
      " #   Column                    Non-Null Count  Dtype  \n",
      "---  ------                    --------------  -----  \n",
      " 0   unamed:0                  923 non-null    object \n",
      " 1   state_code                915 non-null    object \n",
      " 2   latitude                  915 non-null    float64\n",
      " 3   longitude                 915 non-null    float64\n",
      " 4   zip_code                  915 non-null    object \n",
      " 5   id                        915 non-null    object \n",
      " 6   city                      915 non-null    object \n",
      " 7   Unnamed: 6                428 non-null    object \n",
      " 8   name                      915 non-null    object \n",
      " 9   labels                    915 non-null    float64\n",
      " 10  founded_at                915 non-null    object \n",
      " 11  closed_at                 333 non-null    object \n",
      " 12  first_funding_at          915 non-null    object \n",
      " 13  last_funding_at           915 non-null    object \n",
      " 14  age_first_funding_year    915 non-null    float64\n",
      " 15  age_last_funding_year     915 non-null    float64\n",
      " 16  age_first_milestone_year  764 non-null    float64\n",
      " 17  age_last_milestone_year   764 non-null    float64\n",
      " 18  relationships             915 non-null    float64\n",
      " 19  funding_rounds            915 non-null    float64\n",
      " 20  funding_total_usd         915 non-null    float64\n",
      " 21  milestones                915 non-null    float64\n",
      " 22  state_code.1              914 non-null    object \n",
      " 23  is_CA                     915 non-null    float64\n",
      " 24  is_NY                     915 non-null    float64\n",
      " 25  is_MA                     915 non-null    float64\n",
      " 26  is_TX                     915 non-null    float64\n",
      " 27  is_otherstate             915 non-null    float64\n",
      " 28  category_code             915 non-null    object \n",
      " 29  is_software               915 non-null    float64\n",
      " 30  is_web                    915 non-null    float64\n",
      " 31  is_mobile                 915 non-null    float64\n",
      " 32  is_enterprise             915 non-null    float64\n",
      " 33  is_advertising            915 non-null    float64\n",
      " 34  is_gamesvideo             915 non-null    float64\n",
      " 35  is_ecommerce              915 non-null    float64\n",
      " 36  is_biotech                915 non-null    float64\n",
      " 37  is_consulting             915 non-null    float64\n",
      " 38  is_othercategory          915 non-null    float64\n",
      " 39  object_id                 915 non-null    object \n",
      " 40  has_VC                    915 non-null    float64\n",
      " 41  has_angel                 915 non-null    float64\n",
      " 42  has_roundA                915 non-null    float64\n",
      " 43  has_roundB                915 non-null    float64\n",
      " 44  has_roundC                915 non-null    float64\n",
      " 45  has_roundD                915 non-null    float64\n",
      " 46  avg_participants          915 non-null    float64\n",
      " 47  is_top500                 915 non-null    float64\n",
      " 48  status                    915 non-null    object \n",
      "dtypes: float64(34), object(15)\n",
      "memory usage: 353.5+ KB\n"
     ]
    }
   ],
   "source": [
    "startup.info()"
   ]
  },
  {
   "cell_type": "markdown",
   "id": "genuine-agent",
   "metadata": {},
   "source": [
    "# Data cleaning"
   ]
  },
  {
   "cell_type": "markdown",
   "id": "lonely-basis",
   "metadata": {},
   "source": [
    "We take just the columns that could be used in a ML algorithm"
   ]
  },
  {
   "cell_type": "code",
   "execution_count": 5,
   "id": "sharing-operations",
   "metadata": {},
   "outputs": [],
   "source": [
    "startup_clean = startup[['name','age_first_funding_year','age_last_funding_year','age_first_milestone_year','age_last_milestone_year', 'relationships','funding_rounds', 'funding_total_usd','is_CA','is_TX','is_NY'\n",
    "         ,'is_MA', 'is_otherstate', 'is_software', 'is_web', 'is_mobile', 'is_enterprise','is_advertising','is_gamesvideo','is_ecommerce','is_biotech','is_consulting','is_othercategory','has_angel',\n",
    "        'has_VC','has_roundA','has_roundB','has_roundC','has_roundD','avg_participants', 'status']]"
   ]
  },
  {
   "cell_type": "markdown",
   "id": "olive-corporation",
   "metadata": {},
   "source": [
    "We convert the 'status', that will be our Y to predict, in a boolean variable"
   ]
  },
  {
   "cell_type": "code",
   "execution_count": 6,
   "id": "thorough-sullivan",
   "metadata": {},
   "outputs": [],
   "source": [
    "startup_clean['status'] = startup_clean['status'].replace('acquired', 1)\n",
    "startup_clean['status'] = startup_clean['status'].replace('closed', 0)\n",
    "\n",
    "startup_clean = startup_clean.rename(columns={'status': 'has_succeded'})"
   ]
  },
  {
   "cell_type": "code",
   "execution_count": 7,
   "id": "female-audio",
   "metadata": {},
   "outputs": [],
   "source": [
    "startup_clean = startup_clean[startup_clean['has_succeded'].notna()]"
   ]
  },
  {
   "cell_type": "code",
   "execution_count": 8,
   "id": "sublime-trick",
   "metadata": {},
   "outputs": [
    {
     "data": {
      "text/html": [
       "<div>\n",
       "<style scoped>\n",
       "    .dataframe tbody tr th:only-of-type {\n",
       "        vertical-align: middle;\n",
       "    }\n",
       "\n",
       "    .dataframe tbody tr th {\n",
       "        vertical-align: top;\n",
       "    }\n",
       "\n",
       "    .dataframe thead th {\n",
       "        text-align: right;\n",
       "    }\n",
       "</style>\n",
       "<table border=\"1\" class=\"dataframe\">\n",
       "  <thead>\n",
       "    <tr style=\"text-align: right;\">\n",
       "      <th></th>\n",
       "      <th>age_first_funding_year</th>\n",
       "      <th>age_last_funding_year</th>\n",
       "      <th>age_first_milestone_year</th>\n",
       "      <th>age_last_milestone_year</th>\n",
       "      <th>relationships</th>\n",
       "      <th>funding_rounds</th>\n",
       "      <th>funding_total_usd</th>\n",
       "      <th>is_CA</th>\n",
       "      <th>is_TX</th>\n",
       "      <th>is_NY</th>\n",
       "      <th>...</th>\n",
       "      <th>is_consulting</th>\n",
       "      <th>is_othercategory</th>\n",
       "      <th>has_angel</th>\n",
       "      <th>has_VC</th>\n",
       "      <th>has_roundA</th>\n",
       "      <th>has_roundB</th>\n",
       "      <th>has_roundC</th>\n",
       "      <th>has_roundD</th>\n",
       "      <th>avg_participants</th>\n",
       "      <th>has_succeded</th>\n",
       "    </tr>\n",
       "  </thead>\n",
       "  <tbody>\n",
       "    <tr>\n",
       "      <th>count</th>\n",
       "      <td>915.000000</td>\n",
       "      <td>915.000000</td>\n",
       "      <td>764.000000</td>\n",
       "      <td>764.000000</td>\n",
       "      <td>915.000000</td>\n",
       "      <td>915.000000</td>\n",
       "      <td>9.150000e+02</td>\n",
       "      <td>915.000000</td>\n",
       "      <td>915.000000</td>\n",
       "      <td>915.000000</td>\n",
       "      <td>...</td>\n",
       "      <td>915.000000</td>\n",
       "      <td>915.000000</td>\n",
       "      <td>915.000000</td>\n",
       "      <td>915.000000</td>\n",
       "      <td>915.000000</td>\n",
       "      <td>915.000000</td>\n",
       "      <td>915.000000</td>\n",
       "      <td>915.000000</td>\n",
       "      <td>915.000000</td>\n",
       "      <td>915.000000</td>\n",
       "    </tr>\n",
       "    <tr>\n",
       "      <th>mean</th>\n",
       "      <td>2.244694</td>\n",
       "      <td>3.941282</td>\n",
       "      <td>3.055172</td>\n",
       "      <td>4.752341</td>\n",
       "      <td>7.664481</td>\n",
       "      <td>2.309290</td>\n",
       "      <td>2.520676e+07</td>\n",
       "      <td>0.530055</td>\n",
       "      <td>0.043716</td>\n",
       "      <td>0.114754</td>\n",
       "      <td>...</td>\n",
       "      <td>0.003279</td>\n",
       "      <td>0.322404</td>\n",
       "      <td>0.253552</td>\n",
       "      <td>0.326776</td>\n",
       "      <td>0.508197</td>\n",
       "      <td>0.392350</td>\n",
       "      <td>0.231694</td>\n",
       "      <td>0.099454</td>\n",
       "      <td>2.842275</td>\n",
       "      <td>0.645902</td>\n",
       "    </tr>\n",
       "    <tr>\n",
       "      <th>std</th>\n",
       "      <td>2.516872</td>\n",
       "      <td>2.977394</td>\n",
       "      <td>2.983129</td>\n",
       "      <td>3.218284</td>\n",
       "      <td>7.207005</td>\n",
       "      <td>1.391389</td>\n",
       "      <td>1.902398e+08</td>\n",
       "      <td>0.499369</td>\n",
       "      <td>0.204574</td>\n",
       "      <td>0.318899</td>\n",
       "      <td>...</td>\n",
       "      <td>0.057197</td>\n",
       "      <td>0.467652</td>\n",
       "      <td>0.435282</td>\n",
       "      <td>0.469291</td>\n",
       "      <td>0.500206</td>\n",
       "      <td>0.488541</td>\n",
       "      <td>0.422145</td>\n",
       "      <td>0.299434</td>\n",
       "      <td>1.878195</td>\n",
       "      <td>0.478501</td>\n",
       "    </tr>\n",
       "    <tr>\n",
       "      <th>min</th>\n",
       "      <td>-9.046600</td>\n",
       "      <td>-9.046600</td>\n",
       "      <td>-14.169900</td>\n",
       "      <td>-7.005500</td>\n",
       "      <td>0.000000</td>\n",
       "      <td>1.000000</td>\n",
       "      <td>1.100000e+04</td>\n",
       "      <td>0.000000</td>\n",
       "      <td>0.000000</td>\n",
       "      <td>0.000000</td>\n",
       "      <td>...</td>\n",
       "      <td>0.000000</td>\n",
       "      <td>0.000000</td>\n",
       "      <td>0.000000</td>\n",
       "      <td>0.000000</td>\n",
       "      <td>0.000000</td>\n",
       "      <td>0.000000</td>\n",
       "      <td>0.000000</td>\n",
       "      <td>0.000000</td>\n",
       "      <td>1.000000</td>\n",
       "      <td>0.000000</td>\n",
       "    </tr>\n",
       "    <tr>\n",
       "      <th>25%</th>\n",
       "      <td>0.580800</td>\n",
       "      <td>1.669850</td>\n",
       "      <td>1.000000</td>\n",
       "      <td>2.424700</td>\n",
       "      <td>3.000000</td>\n",
       "      <td>1.000000</td>\n",
       "      <td>2.875000e+06</td>\n",
       "      <td>0.000000</td>\n",
       "      <td>0.000000</td>\n",
       "      <td>0.000000</td>\n",
       "      <td>...</td>\n",
       "      <td>0.000000</td>\n",
       "      <td>0.000000</td>\n",
       "      <td>0.000000</td>\n",
       "      <td>0.000000</td>\n",
       "      <td>0.000000</td>\n",
       "      <td>0.000000</td>\n",
       "      <td>0.000000</td>\n",
       "      <td>0.000000</td>\n",
       "      <td>1.500000</td>\n",
       "      <td>0.000000</td>\n",
       "    </tr>\n",
       "    <tr>\n",
       "      <th>50%</th>\n",
       "      <td>1.446600</td>\n",
       "      <td>3.545200</td>\n",
       "      <td>2.519150</td>\n",
       "      <td>4.450700</td>\n",
       "      <td>5.000000</td>\n",
       "      <td>2.000000</td>\n",
       "      <td>1.000000e+07</td>\n",
       "      <td>1.000000</td>\n",
       "      <td>0.000000</td>\n",
       "      <td>0.000000</td>\n",
       "      <td>...</td>\n",
       "      <td>0.000000</td>\n",
       "      <td>0.000000</td>\n",
       "      <td>0.000000</td>\n",
       "      <td>0.000000</td>\n",
       "      <td>1.000000</td>\n",
       "      <td>0.000000</td>\n",
       "      <td>0.000000</td>\n",
       "      <td>0.000000</td>\n",
       "      <td>2.500000</td>\n",
       "      <td>1.000000</td>\n",
       "    </tr>\n",
       "    <tr>\n",
       "      <th>75%</th>\n",
       "      <td>3.594500</td>\n",
       "      <td>5.568450</td>\n",
       "      <td>4.684250</td>\n",
       "      <td>6.753400</td>\n",
       "      <td>10.000000</td>\n",
       "      <td>3.000000</td>\n",
       "      <td>2.472500e+07</td>\n",
       "      <td>1.000000</td>\n",
       "      <td>0.000000</td>\n",
       "      <td>0.000000</td>\n",
       "      <td>...</td>\n",
       "      <td>0.000000</td>\n",
       "      <td>1.000000</td>\n",
       "      <td>1.000000</td>\n",
       "      <td>1.000000</td>\n",
       "      <td>1.000000</td>\n",
       "      <td>1.000000</td>\n",
       "      <td>0.000000</td>\n",
       "      <td>0.000000</td>\n",
       "      <td>3.900000</td>\n",
       "      <td>1.000000</td>\n",
       "    </tr>\n",
       "    <tr>\n",
       "      <th>max</th>\n",
       "      <td>21.895900</td>\n",
       "      <td>21.895900</td>\n",
       "      <td>24.684900</td>\n",
       "      <td>24.684900</td>\n",
       "      <td>63.000000</td>\n",
       "      <td>10.000000</td>\n",
       "      <td>5.700000e+09</td>\n",
       "      <td>1.000000</td>\n",
       "      <td>1.000000</td>\n",
       "      <td>1.000000</td>\n",
       "      <td>...</td>\n",
       "      <td>1.000000</td>\n",
       "      <td>1.000000</td>\n",
       "      <td>1.000000</td>\n",
       "      <td>1.000000</td>\n",
       "      <td>1.000000</td>\n",
       "      <td>1.000000</td>\n",
       "      <td>1.000000</td>\n",
       "      <td>1.000000</td>\n",
       "      <td>16.000000</td>\n",
       "      <td>1.000000</td>\n",
       "    </tr>\n",
       "  </tbody>\n",
       "</table>\n",
       "<p>8 rows × 30 columns</p>\n",
       "</div>"
      ],
      "text/plain": [
       "       age_first_funding_year  age_last_funding_year  \\\n",
       "count              915.000000             915.000000   \n",
       "mean                 2.244694               3.941282   \n",
       "std                  2.516872               2.977394   \n",
       "min                 -9.046600              -9.046600   \n",
       "25%                  0.580800               1.669850   \n",
       "50%                  1.446600               3.545200   \n",
       "75%                  3.594500               5.568450   \n",
       "max                 21.895900              21.895900   \n",
       "\n",
       "       age_first_milestone_year  age_last_milestone_year  relationships  \\\n",
       "count                764.000000               764.000000     915.000000   \n",
       "mean                   3.055172                 4.752341       7.664481   \n",
       "std                    2.983129                 3.218284       7.207005   \n",
       "min                  -14.169900                -7.005500       0.000000   \n",
       "25%                    1.000000                 2.424700       3.000000   \n",
       "50%                    2.519150                 4.450700       5.000000   \n",
       "75%                    4.684250                 6.753400      10.000000   \n",
       "max                   24.684900                24.684900      63.000000   \n",
       "\n",
       "       funding_rounds  funding_total_usd       is_CA       is_TX       is_NY  \\\n",
       "count      915.000000       9.150000e+02  915.000000  915.000000  915.000000   \n",
       "mean         2.309290       2.520676e+07    0.530055    0.043716    0.114754   \n",
       "std          1.391389       1.902398e+08    0.499369    0.204574    0.318899   \n",
       "min          1.000000       1.100000e+04    0.000000    0.000000    0.000000   \n",
       "25%          1.000000       2.875000e+06    0.000000    0.000000    0.000000   \n",
       "50%          2.000000       1.000000e+07    1.000000    0.000000    0.000000   \n",
       "75%          3.000000       2.472500e+07    1.000000    0.000000    0.000000   \n",
       "max         10.000000       5.700000e+09    1.000000    1.000000    1.000000   \n",
       "\n",
       "       ...  is_consulting  is_othercategory   has_angel      has_VC  \\\n",
       "count  ...     915.000000        915.000000  915.000000  915.000000   \n",
       "mean   ...       0.003279          0.322404    0.253552    0.326776   \n",
       "std    ...       0.057197          0.467652    0.435282    0.469291   \n",
       "min    ...       0.000000          0.000000    0.000000    0.000000   \n",
       "25%    ...       0.000000          0.000000    0.000000    0.000000   \n",
       "50%    ...       0.000000          0.000000    0.000000    0.000000   \n",
       "75%    ...       0.000000          1.000000    1.000000    1.000000   \n",
       "max    ...       1.000000          1.000000    1.000000    1.000000   \n",
       "\n",
       "       has_roundA  has_roundB  has_roundC  has_roundD  avg_participants  \\\n",
       "count  915.000000  915.000000  915.000000  915.000000        915.000000   \n",
       "mean     0.508197    0.392350    0.231694    0.099454          2.842275   \n",
       "std      0.500206    0.488541    0.422145    0.299434          1.878195   \n",
       "min      0.000000    0.000000    0.000000    0.000000          1.000000   \n",
       "25%      0.000000    0.000000    0.000000    0.000000          1.500000   \n",
       "50%      1.000000    0.000000    0.000000    0.000000          2.500000   \n",
       "75%      1.000000    1.000000    0.000000    0.000000          3.900000   \n",
       "max      1.000000    1.000000    1.000000    1.000000         16.000000   \n",
       "\n",
       "       has_succeded  \n",
       "count    915.000000  \n",
       "mean       0.645902  \n",
       "std        0.478501  \n",
       "min        0.000000  \n",
       "25%        0.000000  \n",
       "50%        1.000000  \n",
       "75%        1.000000  \n",
       "max        1.000000  \n",
       "\n",
       "[8 rows x 30 columns]"
      ]
     },
     "execution_count": 8,
     "metadata": {},
     "output_type": "execute_result"
    }
   ],
   "source": [
    "startup_clean.describe()"
   ]
  },
  {
   "cell_type": "code",
   "execution_count": 9,
   "id": "found-invasion",
   "metadata": {},
   "outputs": [
    {
     "data": {
      "text/html": [
       "<div>\n",
       "<style scoped>\n",
       "    .dataframe tbody tr th:only-of-type {\n",
       "        vertical-align: middle;\n",
       "    }\n",
       "\n",
       "    .dataframe tbody tr th {\n",
       "        vertical-align: top;\n",
       "    }\n",
       "\n",
       "    .dataframe thead th {\n",
       "        text-align: right;\n",
       "    }\n",
       "</style>\n",
       "<table border=\"1\" class=\"dataframe\">\n",
       "  <thead>\n",
       "    <tr style=\"text-align: right;\">\n",
       "      <th></th>\n",
       "      <th>name</th>\n",
       "      <th>age_first_funding_year</th>\n",
       "      <th>age_last_funding_year</th>\n",
       "      <th>age_first_milestone_year</th>\n",
       "      <th>age_last_milestone_year</th>\n",
       "      <th>relationships</th>\n",
       "      <th>funding_rounds</th>\n",
       "      <th>funding_total_usd</th>\n",
       "      <th>is_CA</th>\n",
       "      <th>is_TX</th>\n",
       "      <th>...</th>\n",
       "      <th>is_consulting</th>\n",
       "      <th>is_othercategory</th>\n",
       "      <th>has_angel</th>\n",
       "      <th>has_VC</th>\n",
       "      <th>has_roundA</th>\n",
       "      <th>has_roundB</th>\n",
       "      <th>has_roundC</th>\n",
       "      <th>has_roundD</th>\n",
       "      <th>avg_participants</th>\n",
       "      <th>has_succeded</th>\n",
       "    </tr>\n",
       "  </thead>\n",
       "  <tbody>\n",
       "    <tr>\n",
       "      <th>0</th>\n",
       "      <td>Bandsintown</td>\n",
       "      <td>2.2493</td>\n",
       "      <td>3.0027</td>\n",
       "      <td>4.6685</td>\n",
       "      <td>6.7041</td>\n",
       "      <td>3.0</td>\n",
       "      <td>3.0</td>\n",
       "      <td>375000.0</td>\n",
       "      <td>1.0</td>\n",
       "      <td>0.0</td>\n",
       "      <td>...</td>\n",
       "      <td>0.0</td>\n",
       "      <td>1.0</td>\n",
       "      <td>1.0</td>\n",
       "      <td>0.0</td>\n",
       "      <td>0.0</td>\n",
       "      <td>0.0</td>\n",
       "      <td>0.0</td>\n",
       "      <td>0.0</td>\n",
       "      <td>1.00</td>\n",
       "      <td>1.0</td>\n",
       "    </tr>\n",
       "    <tr>\n",
       "      <th>1</th>\n",
       "      <td>TriCipher</td>\n",
       "      <td>5.1260</td>\n",
       "      <td>9.9973</td>\n",
       "      <td>7.0055</td>\n",
       "      <td>7.0055</td>\n",
       "      <td>9.0</td>\n",
       "      <td>4.0</td>\n",
       "      <td>40100000.0</td>\n",
       "      <td>1.0</td>\n",
       "      <td>0.0</td>\n",
       "      <td>...</td>\n",
       "      <td>0.0</td>\n",
       "      <td>0.0</td>\n",
       "      <td>0.0</td>\n",
       "      <td>1.0</td>\n",
       "      <td>0.0</td>\n",
       "      <td>1.0</td>\n",
       "      <td>1.0</td>\n",
       "      <td>1.0</td>\n",
       "      <td>4.75</td>\n",
       "      <td>1.0</td>\n",
       "    </tr>\n",
       "  </tbody>\n",
       "</table>\n",
       "<p>2 rows × 31 columns</p>\n",
       "</div>"
      ],
      "text/plain": [
       "          name  age_first_funding_year  age_last_funding_year  \\\n",
       "0  Bandsintown                  2.2493                 3.0027   \n",
       "1    TriCipher                  5.1260                 9.9973   \n",
       "\n",
       "   age_first_milestone_year  age_last_milestone_year  relationships  \\\n",
       "0                    4.6685                   6.7041            3.0   \n",
       "1                    7.0055                   7.0055            9.0   \n",
       "\n",
       "   funding_rounds  funding_total_usd  is_CA  is_TX  ...  is_consulting  \\\n",
       "0             3.0           375000.0    1.0    0.0  ...            0.0   \n",
       "1             4.0         40100000.0    1.0    0.0  ...            0.0   \n",
       "\n",
       "   is_othercategory  has_angel  has_VC  has_roundA  has_roundB  has_roundC  \\\n",
       "0               1.0        1.0     0.0         0.0         0.0         0.0   \n",
       "1               0.0        0.0     1.0         0.0         1.0         1.0   \n",
       "\n",
       "   has_roundD  avg_participants  has_succeded  \n",
       "0         0.0              1.00           1.0  \n",
       "1         1.0              4.75           1.0  \n",
       "\n",
       "[2 rows x 31 columns]"
      ]
     },
     "execution_count": 9,
     "metadata": {},
     "output_type": "execute_result"
    }
   ],
   "source": [
    "startup_clean.head(2)#[startup['age_first_milestone_year'].isna()][['milestones','age_first_milestone_year','age_last_milestone_year']]"
   ]
  },
  {
   "cell_type": "code",
   "execution_count": 10,
   "id": "excellent-updating",
   "metadata": {},
   "outputs": [],
   "source": [
    "startup_clean['funding_total_usd'] = startup_clean['funding_total_usd']/1000000"
   ]
  },
  {
   "cell_type": "code",
   "execution_count": 11,
   "id": "based-surface",
   "metadata": {},
   "outputs": [],
   "source": [
    "startup_clean = startup_clean.rename(columns={'funding_total_usd': 'funding_total_usd(MLN)'})"
   ]
  },
  {
   "cell_type": "markdown",
   "id": "turned-strip",
   "metadata": {},
   "source": [
    "### to check how to substitute the null of age_first_milestone_year"
   ]
  },
  {
   "cell_type": "code",
   "execution_count": 12,
   "id": "crazy-diving",
   "metadata": {},
   "outputs": [
    {
     "name": "stdout",
     "output_type": "stream",
     "text": [
      "mean: 3.0551718586387433\n",
      "median: 2.51915\n"
     ]
    }
   ],
   "source": [
    "age_fmy_mean = startup_clean['age_first_milestone_year'].mean()\n",
    "print(\"mean: \"+str(age_fmy_mean))\n",
    "\n",
    "#age_fmy_mode = startup_clean['age_first_milestone_year'].mode().iat[0]\n",
    "#print(\"mode: \"+ str(age_fmy_mode))\n",
    "\n",
    "age_fmy_median = startup_clean['age_first_milestone_year'].median()\n",
    "print(\"median: \"+ str(age_fmy_median))"
   ]
  },
  {
   "cell_type": "code",
   "execution_count": 13,
   "id": "contained-sleep",
   "metadata": {},
   "outputs": [
    {
     "data": {
      "text/plain": [
       "<AxesSubplot:ylabel='Frequency'>"
      ]
     },
     "execution_count": 13,
     "metadata": {},
     "output_type": "execute_result"
    },
    {
     "data": {
      "image/png": "[encoded data removed]",
      "text/plain": [
       "<Figure size 864x576 with 1 Axes>"
      ]
     },
     "metadata": {},
     "output_type": "display_data"
    }
   ],
   "source": [
    "startup_clean['age_first_milestone_year'].dropna().plot(kind='hist', figsize=(12,8), bins=25)"
   ]
  },
  {
   "cell_type": "markdown",
   "id": "funky-diving",
   "metadata": {},
   "source": [
    "### to check how to substitute the null of age_first_milestone_year"
   ]
  },
  {
   "cell_type": "code",
   "execution_count": 14,
   "id": "immune-developer",
   "metadata": {},
   "outputs": [
    {
     "name": "stdout",
     "output_type": "stream",
     "text": [
      "mean: 4.7523412303664925\n",
      "median: 4.7523412303664925\n"
     ]
    }
   ],
   "source": [
    "age_lmy_mean = startup_clean['age_last_milestone_year'].mean()\n",
    "print(\"mean: \"+str(age_lmy_mean))\n",
    "\n",
    "#age_fmy_mode = startup_clean['age_first_milestone_year'].mode().iat[0]\n",
    "#print(\"mode: \"+ str(age_fmy_mode))\n",
    "\n",
    "age_lmy_median = startup_clean['age_last_milestone_year'].median()\n",
    "print(\"median: \"+ str(age_lmy_mean))"
   ]
  },
  {
   "cell_type": "code",
   "execution_count": 15,
   "id": "fundamental-riverside",
   "metadata": {},
   "outputs": [
    {
     "data": {
      "text/plain": [
       "<AxesSubplot:ylabel='Frequency'>"
      ]
     },
     "execution_count": 15,
     "metadata": {},
     "output_type": "execute_result"
    },
    {
     "data": {
      "image/png": "[encoded data removed]",
      "text/plain": [
       "<Figure size 864x576 with 1 Axes>"
      ]
     },
     "metadata": {},
     "output_type": "display_data"
    }
   ],
   "source": [
    "startup_clean['age_last_milestone_year'].dropna().plot(kind='hist', figsize=(12,8), bins=25, color='lightskyblue')"
   ]
  },
  {
   "cell_type": "markdown",
   "id": "parental-finance",
   "metadata": {},
   "source": [
    "in order to avoid the null value on the fields 'age_first_milestone_year' and 'age_last_milestone_year' \n",
    "we procedeed in this way: <br>\n",
    "    - calculate the mean of these value <br>\n",
    "    - replace the nan with the mean"
   ]
  },
  {
   "cell_type": "code",
   "execution_count": 16,
   "id": "french-league",
   "metadata": {},
   "outputs": [],
   "source": [
    "startup_clean['age_first_milestone_year']= startup_clean['age_first_milestone_year'].fillna(age_fmy_mean)\n",
    "startup_clean['age_last_milestone_year']= startup_clean['age_last_milestone_year'].fillna(age_lmy_mean)"
   ]
  },
  {
   "cell_type": "markdown",
   "id": "bearing-fruit",
   "metadata": {},
   "source": [
    "check on null values"
   ]
  },
  {
   "cell_type": "code",
   "execution_count": 17,
   "id": "buried-breeding",
   "metadata": {},
   "outputs": [
    {
     "data": {
      "text/plain": [
       "unamed:0                      0\n",
       "state_code                    8\n",
       "latitude                      8\n",
       "longitude                     8\n",
       "zip_code                      8\n",
       "id                            8\n",
       "city                          8\n",
       "Unnamed: 6                  495\n",
       "name                          8\n",
       "labels                        8\n",
       "founded_at                    8\n",
       "closed_at                   590\n",
       "first_funding_at              8\n",
       "last_funding_at               8\n",
       "age_first_funding_year        8\n",
       "age_last_funding_year         8\n",
       "age_first_milestone_year    159\n",
       "age_last_milestone_year     159\n",
       "relationships                 8\n",
       "funding_rounds                8\n",
       "funding_total_usd             8\n",
       "milestones                    8\n",
       "state_code.1                  9\n",
       "is_CA                         8\n",
       "is_NY                         8\n",
       "is_MA                         8\n",
       "is_TX                         8\n",
       "is_otherstate                 8\n",
       "category_code                 8\n",
       "is_software                   8\n",
       "is_web                        8\n",
       "is_mobile                     8\n",
       "is_enterprise                 8\n",
       "is_advertising                8\n",
       "is_gamesvideo                 8\n",
       "is_ecommerce                  8\n",
       "is_biotech                    8\n",
       "is_consulting                 8\n",
       "is_othercategory              8\n",
       "object_id                     8\n",
       "has_VC                        8\n",
       "has_angel                     8\n",
       "has_roundA                    8\n",
       "has_roundB                    8\n",
       "has_roundC                    8\n",
       "has_roundD                    8\n",
       "avg_participants              8\n",
       "is_top500                     8\n",
       "status                        8\n",
       "dtype: int64"
      ]
     },
     "execution_count": 17,
     "metadata": {},
     "output_type": "execute_result"
    }
   ],
   "source": [
    "startup.isnull().sum()"
   ]
  },
  {
   "cell_type": "code",
   "execution_count": 18,
   "id": "magnetic-class",
   "metadata": {},
   "outputs": [
    {
     "data": {
      "text/plain": [
       "name                        0\n",
       "age_first_funding_year      0\n",
       "age_last_funding_year       0\n",
       "age_first_milestone_year    0\n",
       "age_last_milestone_year     0\n",
       "relationships               0\n",
       "funding_rounds              0\n",
       "funding_total_usd(MLN)      0\n",
       "is_CA                       0\n",
       "is_TX                       0\n",
       "is_NY                       0\n",
       "is_MA                       0\n",
       "is_otherstate               0\n",
       "is_software                 0\n",
       "is_web                      0\n",
       "is_mobile                   0\n",
       "is_enterprise               0\n",
       "is_advertising              0\n",
       "is_gamesvideo               0\n",
       "is_ecommerce                0\n",
       "is_biotech                  0\n",
       "is_consulting               0\n",
       "is_othercategory            0\n",
       "has_angel                   0\n",
       "has_VC                      0\n",
       "has_roundA                  0\n",
       "has_roundB                  0\n",
       "has_roundC                  0\n",
       "has_roundD                  0\n",
       "avg_participants            0\n",
       "has_succeded                0\n",
       "dtype: int64"
      ]
     },
     "execution_count": 18,
     "metadata": {},
     "output_type": "execute_result"
    }
   ],
   "source": [
    "startup_clean.isnull().sum()"
   ]
  },
  {
   "cell_type": "markdown",
   "id": "corrected-virtue",
   "metadata": {},
   "source": [
    "# Data Exploration"
   ]
  },
  {
   "cell_type": "code",
   "execution_count": 19,
   "id": "discrete-charity",
   "metadata": {},
   "outputs": [],
   "source": [
    "startup_founded = startup[startup['founded_at'].isna()==False].reset_index().drop(columns={'index'})\n",
    "\n",
    "startup_closed = startup[startup['closed_at'].isna()==False].reset_index().drop(columns={'index'})"
   ]
  },
  {
   "cell_type": "code",
   "execution_count": 20,
   "id": "patient-walker",
   "metadata": {},
   "outputs": [
    {
     "data": {
      "text/html": [
       "<div>\n",
       "<style scoped>\n",
       "    .dataframe tbody tr th:only-of-type {\n",
       "        vertical-align: middle;\n",
       "    }\n",
       "\n",
       "    .dataframe tbody tr th {\n",
       "        vertical-align: top;\n",
       "    }\n",
       "\n",
       "    .dataframe thead th {\n",
       "        text-align: right;\n",
       "    }\n",
       "</style>\n",
       "<table border=\"1\" class=\"dataframe\">\n",
       "  <thead>\n",
       "    <tr style=\"text-align: right;\">\n",
       "      <th></th>\n",
       "      <th>unamed:0</th>\n",
       "      <th>state_code</th>\n",
       "      <th>latitude</th>\n",
       "      <th>longitude</th>\n",
       "      <th>zip_code</th>\n",
       "      <th>id</th>\n",
       "      <th>city</th>\n",
       "      <th>Unnamed: 6</th>\n",
       "      <th>name</th>\n",
       "      <th>labels</th>\n",
       "      <th>...</th>\n",
       "      <th>object_id</th>\n",
       "      <th>has_VC</th>\n",
       "      <th>has_angel</th>\n",
       "      <th>has_roundA</th>\n",
       "      <th>has_roundB</th>\n",
       "      <th>has_roundC</th>\n",
       "      <th>has_roundD</th>\n",
       "      <th>avg_participants</th>\n",
       "      <th>is_top500</th>\n",
       "      <th>status</th>\n",
       "    </tr>\n",
       "  </thead>\n",
       "  <tbody>\n",
       "    <tr>\n",
       "      <th>0</th>\n",
       "      <td>1005</td>\n",
       "      <td>CA</td>\n",
       "      <td>42.358880</td>\n",
       "      <td>-71.056820</td>\n",
       "      <td>92101</td>\n",
       "      <td>c:6669</td>\n",
       "      <td>San Diego</td>\n",
       "      <td>NaN</td>\n",
       "      <td>Bandsintown</td>\n",
       "      <td>1.0</td>\n",
       "      <td>...</td>\n",
       "      <td>c:6669</td>\n",
       "      <td>0.0</td>\n",
       "      <td>1.0</td>\n",
       "      <td>0.0</td>\n",
       "      <td>0.0</td>\n",
       "      <td>0.0</td>\n",
       "      <td>0.0</td>\n",
       "      <td>1.00</td>\n",
       "      <td>0.0</td>\n",
       "      <td>acquired</td>\n",
       "    </tr>\n",
       "    <tr>\n",
       "      <th>1</th>\n",
       "      <td>204</td>\n",
       "      <td>CA</td>\n",
       "      <td>37.238916</td>\n",
       "      <td>-121.973718</td>\n",
       "      <td>95032</td>\n",
       "      <td>c:16283</td>\n",
       "      <td>Los Gatos</td>\n",
       "      <td>NaN</td>\n",
       "      <td>TriCipher</td>\n",
       "      <td>1.0</td>\n",
       "      <td>...</td>\n",
       "      <td>c:16283</td>\n",
       "      <td>1.0</td>\n",
       "      <td>0.0</td>\n",
       "      <td>0.0</td>\n",
       "      <td>1.0</td>\n",
       "      <td>1.0</td>\n",
       "      <td>1.0</td>\n",
       "      <td>4.75</td>\n",
       "      <td>1.0</td>\n",
       "      <td>acquired</td>\n",
       "    </tr>\n",
       "    <tr>\n",
       "      <th>2</th>\n",
       "      <td>1001</td>\n",
       "      <td>CA</td>\n",
       "      <td>32.901049</td>\n",
       "      <td>-117.192656</td>\n",
       "      <td>92121</td>\n",
       "      <td>c:65620</td>\n",
       "      <td>San Diego</td>\n",
       "      <td>San Diego CA 92121</td>\n",
       "      <td>Plixi</td>\n",
       "      <td>1.0</td>\n",
       "      <td>...</td>\n",
       "      <td>c:65620</td>\n",
       "      <td>0.0</td>\n",
       "      <td>0.0</td>\n",
       "      <td>1.0</td>\n",
       "      <td>0.0</td>\n",
       "      <td>0.0</td>\n",
       "      <td>0.0</td>\n",
       "      <td>4.00</td>\n",
       "      <td>1.0</td>\n",
       "      <td>acquired</td>\n",
       "    </tr>\n",
       "  </tbody>\n",
       "</table>\n",
       "<p>3 rows × 49 columns</p>\n",
       "</div>"
      ],
      "text/plain": [
       "  unamed:0 state_code   latitude   longitude zip_code       id       city  \\\n",
       "0     1005         CA  42.358880  -71.056820    92101   c:6669  San Diego   \n",
       "1      204         CA  37.238916 -121.973718    95032  c:16283  Los Gatos   \n",
       "2     1001         CA  32.901049 -117.192656    92121  c:65620  San Diego   \n",
       "\n",
       "           Unnamed: 6         name  labels  ... object_id has_VC has_angel  \\\n",
       "0                 NaN  Bandsintown     1.0  ...    c:6669    0.0       1.0   \n",
       "1                 NaN    TriCipher     1.0  ...   c:16283    1.0       0.0   \n",
       "2  San Diego CA 92121        Plixi     1.0  ...   c:65620    0.0       0.0   \n",
       "\n",
       "  has_roundA  has_roundB  has_roundC  has_roundD  avg_participants  is_top500  \\\n",
       "0        0.0         0.0         0.0         0.0              1.00        0.0   \n",
       "1        0.0         1.0         1.0         1.0              4.75        1.0   \n",
       "2        1.0         0.0         0.0         0.0              4.00        1.0   \n",
       "\n",
       "     status  \n",
       "0  acquired  \n",
       "1  acquired  \n",
       "2  acquired  \n",
       "\n",
       "[3 rows x 49 columns]"
      ]
     },
     "execution_count": 20,
     "metadata": {},
     "output_type": "execute_result"
    }
   ],
   "source": [
    "startup_founded.head(3)"
   ]
  },
  {
   "cell_type": "code",
   "execution_count": 21,
   "id": "universal-enterprise",
   "metadata": {},
   "outputs": [
    {
     "data": {
      "text/html": [
       "<div>\n",
       "<style scoped>\n",
       "    .dataframe tbody tr th:only-of-type {\n",
       "        vertical-align: middle;\n",
       "    }\n",
       "\n",
       "    .dataframe tbody tr th {\n",
       "        vertical-align: top;\n",
       "    }\n",
       "\n",
       "    .dataframe thead th {\n",
       "        text-align: right;\n",
       "    }\n",
       "</style>\n",
       "<table border=\"1\" class=\"dataframe\">\n",
       "  <thead>\n",
       "    <tr style=\"text-align: right;\">\n",
       "      <th></th>\n",
       "      <th>unamed:0</th>\n",
       "      <th>state_code</th>\n",
       "      <th>latitude</th>\n",
       "      <th>longitude</th>\n",
       "      <th>zip_code</th>\n",
       "      <th>id</th>\n",
       "      <th>city</th>\n",
       "      <th>Unnamed: 6</th>\n",
       "      <th>name</th>\n",
       "      <th>labels</th>\n",
       "      <th>...</th>\n",
       "      <th>object_id</th>\n",
       "      <th>has_VC</th>\n",
       "      <th>has_angel</th>\n",
       "      <th>has_roundA</th>\n",
       "      <th>has_roundB</th>\n",
       "      <th>has_roundC</th>\n",
       "      <th>has_roundD</th>\n",
       "      <th>avg_participants</th>\n",
       "      <th>is_top500</th>\n",
       "      <th>status</th>\n",
       "    </tr>\n",
       "  </thead>\n",
       "  <tbody>\n",
       "    <tr>\n",
       "      <th>0</th>\n",
       "      <td>1002</td>\n",
       "      <td>CA</td>\n",
       "      <td>37.779281</td>\n",
       "      <td>-122.419236</td>\n",
       "      <td>94105</td>\n",
       "      <td>c:65806</td>\n",
       "      <td>San Francisco</td>\n",
       "      <td>San Francisco CA 94105</td>\n",
       "      <td>Inhale Digital</td>\n",
       "      <td>0.0</td>\n",
       "      <td>...</td>\n",
       "      <td>c:65806</td>\n",
       "      <td>1.0</td>\n",
       "      <td>1.0</td>\n",
       "      <td>0.0</td>\n",
       "      <td>0.0</td>\n",
       "      <td>0.0</td>\n",
       "      <td>0.0</td>\n",
       "      <td>1.00</td>\n",
       "      <td>1.0</td>\n",
       "      <td>closed</td>\n",
       "    </tr>\n",
       "    <tr>\n",
       "      <th>1</th>\n",
       "      <td>379</td>\n",
       "      <td>CA</td>\n",
       "      <td>37.406914</td>\n",
       "      <td>-122.090370</td>\n",
       "      <td>94043</td>\n",
       "      <td>c:22898</td>\n",
       "      <td>Mountain View</td>\n",
       "      <td>Mountain View CA 94043</td>\n",
       "      <td>Matisse Networks</td>\n",
       "      <td>0.0</td>\n",
       "      <td>...</td>\n",
       "      <td>c:22898</td>\n",
       "      <td>0.0</td>\n",
       "      <td>0.0</td>\n",
       "      <td>0.0</td>\n",
       "      <td>1.0</td>\n",
       "      <td>0.0</td>\n",
       "      <td>0.0</td>\n",
       "      <td>3.00</td>\n",
       "      <td>1.0</td>\n",
       "      <td>closed</td>\n",
       "    </tr>\n",
       "    <tr>\n",
       "      <th>2</th>\n",
       "      <td>835</td>\n",
       "      <td>CA</td>\n",
       "      <td>37.452992</td>\n",
       "      <td>-122.185098</td>\n",
       "      <td>94025</td>\n",
       "      <td>c:4829</td>\n",
       "      <td>Menlo Park</td>\n",
       "      <td>NaN</td>\n",
       "      <td>Center'd</td>\n",
       "      <td>0.0</td>\n",
       "      <td>...</td>\n",
       "      <td>c:4829</td>\n",
       "      <td>1.0</td>\n",
       "      <td>1.0</td>\n",
       "      <td>1.0</td>\n",
       "      <td>0.0</td>\n",
       "      <td>0.0</td>\n",
       "      <td>0.0</td>\n",
       "      <td>1.75</td>\n",
       "      <td>1.0</td>\n",
       "      <td>closed</td>\n",
       "    </tr>\n",
       "    <tr>\n",
       "      <th>3</th>\n",
       "      <td>531</td>\n",
       "      <td>KY</td>\n",
       "      <td>38.241467</td>\n",
       "      <td>-85.724511</td>\n",
       "      <td>40204</td>\n",
       "      <td>c:30290</td>\n",
       "      <td>Louisville</td>\n",
       "      <td>NaN</td>\n",
       "      <td>Resonant Vibes</td>\n",
       "      <td>0.0</td>\n",
       "      <td>...</td>\n",
       "      <td>c:30290</td>\n",
       "      <td>1.0</td>\n",
       "      <td>0.0</td>\n",
       "      <td>0.0</td>\n",
       "      <td>0.0</td>\n",
       "      <td>0.0</td>\n",
       "      <td>0.0</td>\n",
       "      <td>1.00</td>\n",
       "      <td>0.0</td>\n",
       "      <td>closed</td>\n",
       "    </tr>\n",
       "    <tr>\n",
       "      <th>4</th>\n",
       "      <td>898</td>\n",
       "      <td>VA</td>\n",
       "      <td>38.901301</td>\n",
       "      <td>-77.265158</td>\n",
       "      <td>22182</td>\n",
       "      <td>c:54177</td>\n",
       "      <td>Vienna</td>\n",
       "      <td>Vienna VA 22182</td>\n",
       "      <td>Invicta Networks</td>\n",
       "      <td>0.0</td>\n",
       "      <td>...</td>\n",
       "      <td>c:54177</td>\n",
       "      <td>1.0</td>\n",
       "      <td>0.0</td>\n",
       "      <td>0.0</td>\n",
       "      <td>0.0</td>\n",
       "      <td>0.0</td>\n",
       "      <td>0.0</td>\n",
       "      <td>1.00</td>\n",
       "      <td>0.0</td>\n",
       "      <td>closed</td>\n",
       "    </tr>\n",
       "  </tbody>\n",
       "</table>\n",
       "<p>5 rows × 49 columns</p>\n",
       "</div>"
      ],
      "text/plain": [
       "  unamed:0 state_code   latitude   longitude zip_code       id           city  \\\n",
       "0     1002         CA  37.779281 -122.419236    94105  c:65806  San Francisco   \n",
       "1      379         CA  37.406914 -122.090370    94043  c:22898  Mountain View   \n",
       "2      835         CA  37.452992 -122.185098    94025   c:4829     Menlo Park   \n",
       "3      531         KY  38.241467  -85.724511    40204  c:30290     Louisville   \n",
       "4      898         VA  38.901301  -77.265158    22182  c:54177         Vienna   \n",
       "\n",
       "               Unnamed: 6              name  labels  ... object_id has_VC  \\\n",
       "0  San Francisco CA 94105    Inhale Digital     0.0  ...   c:65806    1.0   \n",
       "1  Mountain View CA 94043  Matisse Networks     0.0  ...   c:22898    0.0   \n",
       "2                     NaN          Center'd     0.0  ...    c:4829    1.0   \n",
       "3                     NaN    Resonant Vibes     0.0  ...   c:30290    1.0   \n",
       "4         Vienna VA 22182  Invicta Networks     0.0  ...   c:54177    1.0   \n",
       "\n",
       "  has_angel has_roundA  has_roundB  has_roundC  has_roundD  avg_participants  \\\n",
       "0       1.0        0.0         0.0         0.0         0.0              1.00   \n",
       "1       0.0        0.0         1.0         0.0         0.0              3.00   \n",
       "2       1.0        1.0         0.0         0.0         0.0              1.75   \n",
       "3       0.0        0.0         0.0         0.0         0.0              1.00   \n",
       "4       0.0        0.0         0.0         0.0         0.0              1.00   \n",
       "\n",
       "   is_top500  status  \n",
       "0        1.0  closed  \n",
       "1        1.0  closed  \n",
       "2        1.0  closed  \n",
       "3        0.0  closed  \n",
       "4        0.0  closed  \n",
       "\n",
       "[5 rows x 49 columns]"
      ]
     },
     "execution_count": 21,
     "metadata": {},
     "output_type": "execute_result"
    }
   ],
   "source": [
    "startup_closed.head(5)"
   ]
  },
  {
   "cell_type": "code",
   "execution_count": 22,
   "id": "early-participant",
   "metadata": {},
   "outputs": [
    {
     "data": {
      "text/plain": [
       "915"
      ]
     },
     "execution_count": 22,
     "metadata": {},
     "output_type": "execute_result"
    }
   ],
   "source": [
    "startup_founded['founded_at'] = pd.to_datetime(startup_founded['founded_at'])\n",
    "len(startup_founded)"
   ]
  },
  {
   "cell_type": "code",
   "execution_count": 23,
   "id": "geographic-comfort",
   "metadata": {},
   "outputs": [
    {
     "data": {
      "text/plain": [
       "333"
      ]
     },
     "execution_count": 23,
     "metadata": {},
     "output_type": "execute_result"
    }
   ],
   "source": [
    "startup_closed['closed_at'] = pd.to_datetime(startup_closed['closed_at'])\n",
    "len(startup_closed)"
   ]
  },
  {
   "cell_type": "code",
   "execution_count": 24,
   "id": "hazardous-thumb",
   "metadata": {},
   "outputs": [],
   "source": [
    "# calculation of founded startup\n",
    "startup_founded['founded_at_ym'] = pd.Series()\n",
    "\n",
    "for i in range(len(startup_founded)):\n",
    "     startup_founded['founded_at_ym'][i] = startup_founded['founded_at'][i].strftime('%Y')\n",
    "        \n",
    "startup_founded['founded_at_ym']= startup_founded['founded_at_ym'].astype(int)\n",
    "\n",
    "\n",
    "# calculation of closed startup\n",
    "startup_closed['closed_at_ym'] = pd.Series()\n",
    "\n",
    "for i in range(len(startup_closed)):\n",
    "     startup_closed['closed_at_ym'][i] = startup_closed['closed_at'][i].strftime('%Y')\n",
    "        \n",
    "startup_closed['closed_at_ym']= startup_closed['closed_at_ym'].astype(int)"
   ]
  },
  {
   "cell_type": "code",
   "execution_count": 25,
   "id": "narrative-cache",
   "metadata": {},
   "outputs": [],
   "source": [
    "stgbf = startup_founded.groupby(by='founded_at_ym').agg({'unamed:0':'count'}).sort_values('founded_at_ym').reset_index()\n",
    "stgbc = startup_closed.groupby(by='closed_at_ym').agg({'unamed:0':'count'}).sort_values('closed_at_ym').reset_index()\n",
    "\n",
    "\n",
    "stgbf = stgbf.rename(columns={'unamed:0': '# startups founded','founded_at_ym':'year'})\n",
    "stgbc = stgbc.rename(columns={'unamed:0': '# startups closed','closed_at_ym':'year'})"
   ]
  },
  {
   "cell_type": "code",
   "execution_count": 26,
   "id": "instrumental-logistics",
   "metadata": {},
   "outputs": [],
   "source": [
    "stgbfc = stgbf.merge(stgbc, how='left', on='year')\n",
    "stgbfc = stgbfc.fillna(0)\n",
    "stgbfc['# startups closed'] = stgbfc['# startups closed'].astype(int)\n",
    "#stgbfc"
   ]
  },
  {
   "cell_type": "code",
   "execution_count": 27,
   "id": "external-anaheim",
   "metadata": {},
   "outputs": [],
   "source": [
    "startup_founded['status'] = startup_founded['status'].replace('acquired', 1)\n",
    "startup_founded['status'] = startup_founded['status'].replace('closed', 0)"
   ]
  },
  {
   "cell_type": "code",
   "execution_count": 28,
   "id": "chubby-technique",
   "metadata": {},
   "outputs": [],
   "source": [
    "#startup_founded"
   ]
  },
  {
   "cell_type": "code",
   "execution_count": 29,
   "id": "departmental-manhattan",
   "metadata": {},
   "outputs": [
    {
     "data": {
      "text/plain": [
       "<AxesSubplot:xlabel='founded_at_ym'>"
      ]
     },
     "execution_count": 29,
     "metadata": {},
     "output_type": "execute_result"
    },
    {
     "data": {
      "image/png": "[encoded data removed]",
      "text/plain": [
       "<Figure size 1152x576 with 1 Axes>"
      ]
     },
     "metadata": {},
     "output_type": "display_data"
    }
   ],
   "source": [
    "startup_founded.groupby(by='founded_at_ym').agg({'unamed:0':'count','status':'sum'}).plot(kind='bar', figsize=(16,8))"
   ]
  },
  {
   "cell_type": "markdown",
   "id": "oriental-boost",
   "metadata": {},
   "source": [
    "The chart below allow us to check the number of startups founded and closed by year. As we can easily note the two trends are really different."
   ]
  },
  {
   "cell_type": "code",
   "execution_count": 30,
   "id": "naval-commitment",
   "metadata": {},
   "outputs": [
    {
     "data": {
      "text/plain": [
       "<AxesSubplot:xlabel='year'>"
      ]
     },
     "execution_count": 30,
     "metadata": {},
     "output_type": "execute_result"
    },
    {
     "data": {
      "image/png": "[encoded data removed]",
      "text/plain": [
       "<Figure size 1152x576 with 1 Axes>"
      ]
     },
     "metadata": {},
     "output_type": "display_data"
    }
   ],
   "source": [
    "stgbfc.plot(figsize=(16,8), kind='bar', x='year', y=['# startups closed', '# startups founded'])"
   ]
  },
  {
   "cell_type": "code",
   "execution_count": 31,
   "id": "noted-brain",
   "metadata": {},
   "outputs": [],
   "source": [
    "#stgbf.plot(figsize=(16,8), kind='bar', title='number of startups by  year of foundation', color='green')"
   ]
  },
  {
   "cell_type": "code",
   "execution_count": 32,
   "id": "inappropriate-cleaners",
   "metadata": {},
   "outputs": [],
   "source": [
    "#stgbc.plot(figsize=(16,8), kind='bar', title='number of startups closed by year', color='red')"
   ]
  },
  {
   "cell_type": "markdown",
   "id": "finnish-huntington",
   "metadata": {},
   "source": [
    "We start checking with a boxplots chart the shape of our features"
   ]
  },
  {
   "cell_type": "code",
   "execution_count": 33,
   "id": "distant-cookie",
   "metadata": {},
   "outputs": [
    {
     "data": {
      "image/png": "[encoded data removed]",
      "text/plain": [
       "<Figure size 1440x2016 with 29 Axes>"
      ]
     },
     "metadata": {},
     "output_type": "display_data"
    }
   ],
   "source": [
    "plt.subplots(figsize=(20,28))\n",
    "c_ = sns.color_palette(\"deep\", n_colors=30)\n",
    "i = 1\n",
    "for col in startup_clean.columns[1:-1]:\n",
    "    plt.subplot(6,5,i)\n",
    "    sns.boxplot(data=startup_clean[col],color=c_[i-1])\n",
    "    #sns.swarmplot(data=startup_clean[col],color=\".9\")\n",
    "    plt.title('boxplot '+ col)#   plt.xlim((0,1))\n",
    "    i+=1\n",
    "plt.suptitle(\"Boxplots 01/20 - 06/21\",fontsize=24)\n",
    "plt.show()"
   ]
  },
  {
   "cell_type": "markdown",
   "id": "demographic-norway",
   "metadata": {},
   "source": [
    "We repeat the same operation avoiding the binary features"
   ]
  },
  {
   "cell_type": "code",
   "execution_count": 34,
   "id": "floating-tenant",
   "metadata": {},
   "outputs": [],
   "source": [
    "columnsbox = ['age_first_funding_year','age_last_funding_year','age_first_milestone_year','relationships','funding_rounds','funding_total_usd(MLN)','avg_participants']"
   ]
  },
  {
   "cell_type": "code",
   "execution_count": 35,
   "id": "eight-orchestra",
   "metadata": {},
   "outputs": [],
   "source": [
    "#sns.set_theme(style=\"whitegrid\")"
   ]
  },
  {
   "cell_type": "code",
   "execution_count": 36,
   "id": "civic-sodium",
   "metadata": {},
   "outputs": [
    {
     "data": {
      "image/png": "[encoded data removed]",
      "text/plain": [
       "<Figure size 1440x1440 with 7 Axes>"
      ]
     },
     "metadata": {},
     "output_type": "display_data"
    }
   ],
   "source": [
    "plt.subplots(figsize=(20,20))\n",
    "c_ = sns.color_palette(\"deep\",n_colors=30)\n",
    "i = 1\n",
    "for col in columnsbox:\n",
    "    plt.subplot(4,2,i)\n",
    "    sns.boxplot(data=startup_clean[col],color=c_[i-1], orient='h' )\n",
    "    #sns.swarmplot(data=startup_clean[col],color=\".9\")\n",
    "    plt.title('boxplot '+ col)#   plt.xlim((0,1))\n",
    "    i+=1\n",
    "plt.suptitle(\"Boxplots\",fontsize=24)\n",
    "plt.show()"
   ]
  },
  {
   "cell_type": "code",
   "execution_count": 37,
   "id": "governing-inside",
   "metadata": {},
   "outputs": [
    {
     "data": {
      "text/plain": [
       "name                        915\n",
       "age_first_funding_year      915\n",
       "age_last_funding_year       915\n",
       "age_first_milestone_year    915\n",
       "age_last_milestone_year     915\n",
       "relationships               915\n",
       "funding_rounds              915\n",
       "funding_total_usd(MLN)      915\n",
       "is_CA                       915\n",
       "is_TX                       915\n",
       "is_NY                       915\n",
       "is_MA                       915\n",
       "is_otherstate               915\n",
       "is_software                 915\n",
       "is_web                      915\n",
       "is_mobile                   915\n",
       "is_enterprise               915\n",
       "is_advertising              915\n",
       "is_gamesvideo               915\n",
       "is_ecommerce                915\n",
       "is_biotech                  915\n",
       "is_consulting               915\n",
       "is_othercategory            915\n",
       "has_angel                   915\n",
       "has_VC                      915\n",
       "has_roundA                  915\n",
       "has_roundB                  915\n",
       "has_roundC                  915\n",
       "has_roundD                  915\n",
       "avg_participants            915\n",
       "has_succeded                915\n",
       "dtype: int64"
      ]
     },
     "execution_count": 37,
     "metadata": {},
     "output_type": "execute_result"
    }
   ],
   "source": [
    "startup_clean.count()#[startup_clean['age_first_funding_year']<0]"
   ]
  },
  {
   "cell_type": "code",
   "execution_count": 38,
   "id": "breathing-shaft",
   "metadata": {},
   "outputs": [
    {
     "data": {
      "text/plain": [
       "754       0.011000\n",
       "434       0.012000\n",
       "827       0.015000\n",
       "167       0.015000\n",
       "585       0.019000\n",
       "          ...     \n",
       "694     211.403000\n",
       "728     232.000100\n",
       "497     238.209999\n",
       "82      510.000000\n",
       "364    5700.000000\n",
       "Name: funding_total_usd(MLN), Length: 915, dtype: float64"
      ]
     },
     "execution_count": 38,
     "metadata": {},
     "output_type": "execute_result"
    }
   ],
   "source": [
    "startup_clean['funding_total_usd(MLN)'].sort_values()"
   ]
  },
  {
   "cell_type": "code",
   "execution_count": 39,
   "id": "extended-adolescent",
   "metadata": {},
   "outputs": [
    {
     "data": {
      "text/html": [
       "<div>\n",
       "<style scoped>\n",
       "    .dataframe tbody tr th:only-of-type {\n",
       "        vertical-align: middle;\n",
       "    }\n",
       "\n",
       "    .dataframe tbody tr th {\n",
       "        vertical-align: top;\n",
       "    }\n",
       "\n",
       "    .dataframe thead th {\n",
       "        text-align: right;\n",
       "    }\n",
       "</style>\n",
       "<table border=\"1\" class=\"dataframe\">\n",
       "  <thead>\n",
       "    <tr style=\"text-align: right;\">\n",
       "      <th></th>\n",
       "      <th>name</th>\n",
       "      <th>age_first_funding_year</th>\n",
       "      <th>age_last_funding_year</th>\n",
       "      <th>age_first_milestone_year</th>\n",
       "      <th>age_last_milestone_year</th>\n",
       "      <th>relationships</th>\n",
       "      <th>funding_rounds</th>\n",
       "      <th>funding_total_usd(MLN)</th>\n",
       "      <th>is_CA</th>\n",
       "      <th>is_TX</th>\n",
       "      <th>...</th>\n",
       "      <th>is_consulting</th>\n",
       "      <th>is_othercategory</th>\n",
       "      <th>has_angel</th>\n",
       "      <th>has_VC</th>\n",
       "      <th>has_roundA</th>\n",
       "      <th>has_roundB</th>\n",
       "      <th>has_roundC</th>\n",
       "      <th>has_roundD</th>\n",
       "      <th>avg_participants</th>\n",
       "      <th>has_succeded</th>\n",
       "    </tr>\n",
       "  </thead>\n",
       "  <tbody>\n",
       "    <tr>\n",
       "      <th>248</th>\n",
       "      <td>Meridian</td>\n",
       "      <td>0.5397</td>\n",
       "      <td>1.5014</td>\n",
       "      <td>-14.1699</td>\n",
       "      <td>2.2082</td>\n",
       "      <td>6.0</td>\n",
       "      <td>2.0</td>\n",
       "      <td>1.975</td>\n",
       "      <td>0.0</td>\n",
       "      <td>0.0</td>\n",
       "      <td>...</td>\n",
       "      <td>0.0</td>\n",
       "      <td>0.0</td>\n",
       "      <td>1.0</td>\n",
       "      <td>1.0</td>\n",
       "      <td>0.0</td>\n",
       "      <td>0.0</td>\n",
       "      <td>0.0</td>\n",
       "      <td>0.0</td>\n",
       "      <td>3.0</td>\n",
       "      <td>1.0</td>\n",
       "    </tr>\n",
       "  </tbody>\n",
       "</table>\n",
       "<p>1 rows × 31 columns</p>\n",
       "</div>"
      ],
      "text/plain": [
       "         name  age_first_funding_year  age_last_funding_year  \\\n",
       "248  Meridian                  0.5397                 1.5014   \n",
       "\n",
       "     age_first_milestone_year  age_last_milestone_year  relationships  \\\n",
       "248                  -14.1699                   2.2082            6.0   \n",
       "\n",
       "     funding_rounds  funding_total_usd(MLN)  is_CA  is_TX  ...  is_consulting  \\\n",
       "248             2.0                   1.975    0.0    0.0  ...            0.0   \n",
       "\n",
       "     is_othercategory  has_angel  has_VC  has_roundA  has_roundB  has_roundC  \\\n",
       "248               0.0        1.0     1.0         0.0         0.0         0.0   \n",
       "\n",
       "     has_roundD  avg_participants  has_succeded  \n",
       "248         0.0               3.0           1.0  \n",
       "\n",
       "[1 rows x 31 columns]"
      ]
     },
     "execution_count": 39,
     "metadata": {},
     "output_type": "execute_result"
    }
   ],
   "source": [
    "startup_clean[startup_clean['age_first_milestone_year']<=(-14)]\n"
   ]
  },
  {
   "cell_type": "markdown",
   "id": "iraqi-story",
   "metadata": {},
   "source": [
    "### remove relevant outliers"
   ]
  },
  {
   "cell_type": "code",
   "execution_count": 40,
   "id": "ideal-communist",
   "metadata": {},
   "outputs": [],
   "source": [
    "startup_clean = startup_clean[startup_clean['funding_total_usd(MLN)']<5000]\n",
    "startup_clean = startup_clean[startup_clean['avg_participants']<16]\n",
    "startup_clean = startup_clean[startup_clean['age_first_milestone_year']<22]\n",
    "startup_clean = startup_clean[startup_clean['age_first_milestone_year']>-14]"
   ]
  },
  {
   "cell_type": "code",
   "execution_count": 41,
   "id": "mexican-delicious",
   "metadata": {},
   "outputs": [
    {
     "data": {
      "image/png": "[encoded data removed]",
      "text/plain": [
       "<Figure size 1440x1440 with 7 Axes>"
      ]
     },
     "metadata": {},
     "output_type": "display_data"
    }
   ],
   "source": [
    "def plot_regs(df, features):\n",
    "    plt.subplots(figsize=(20,20))\n",
    "    i = 1\n",
    "    for col in features:\n",
    "        plt.subplot(3,3,i)\n",
    "        sns.regplot(y = df['has_succeded'] , x = col, data = df, color='mediumseagreen') #, scatter_kws={'facecolors':df['color']})\n",
    "        plt.title('has succceded vs '+ col)\n",
    "        i+=1\n",
    "\n",
    "regressors = startup_clean.columns[1:-1]\n",
    "plot_regs(startup_clean, columnsbox)\n",
    "#plt.savefig('correlations_week_{}'.format(end_date))\n",
    "plt.suptitle(\"Has Succeded vs No Boolean Features\",fontsize=24)\n",
    "plt.show()"
   ]
  },
  {
   "cell_type": "code",
   "execution_count": 42,
   "id": "removed-shopper",
   "metadata": {},
   "outputs": [
    {
     "data": {
      "text/html": [
       "<div>\n",
       "<style scoped>\n",
       "    .dataframe tbody tr th:only-of-type {\n",
       "        vertical-align: middle;\n",
       "    }\n",
       "\n",
       "    .dataframe tbody tr th {\n",
       "        vertical-align: top;\n",
       "    }\n",
       "\n",
       "    .dataframe thead th {\n",
       "        text-align: right;\n",
       "    }\n",
       "</style>\n",
       "<table border=\"1\" class=\"dataframe\">\n",
       "  <thead>\n",
       "    <tr style=\"text-align: right;\">\n",
       "      <th></th>\n",
       "      <th>age_first_funding_year</th>\n",
       "      <th>age_last_funding_year</th>\n",
       "      <th>age_first_milestone_year</th>\n",
       "      <th>age_last_milestone_year</th>\n",
       "      <th>relationships</th>\n",
       "      <th>funding_rounds</th>\n",
       "      <th>funding_total_usd(MLN)</th>\n",
       "      <th>is_CA</th>\n",
       "      <th>is_TX</th>\n",
       "      <th>is_NY</th>\n",
       "      <th>...</th>\n",
       "      <th>is_consulting</th>\n",
       "      <th>is_othercategory</th>\n",
       "      <th>has_angel</th>\n",
       "      <th>has_VC</th>\n",
       "      <th>has_roundA</th>\n",
       "      <th>has_roundB</th>\n",
       "      <th>has_roundC</th>\n",
       "      <th>has_roundD</th>\n",
       "      <th>avg_participants</th>\n",
       "      <th>has_succeded</th>\n",
       "    </tr>\n",
       "  </thead>\n",
       "  <tbody>\n",
       "    <tr>\n",
       "      <th>age_first_funding_year</th>\n",
       "      <td>1.000000</td>\n",
       "      <td>0.750737</td>\n",
       "      <td>0.464721</td>\n",
       "      <td>0.355531</td>\n",
       "      <td>-0.191995</td>\n",
       "      <td>-0.155724</td>\n",
       "      <td>0.102437</td>\n",
       "      <td>-0.002477</td>\n",
       "      <td>0.033725</td>\n",
       "      <td>-0.129478</td>\n",
       "      <td>...</td>\n",
       "      <td>-0.012798</td>\n",
       "      <td>0.127728</td>\n",
       "      <td>-0.351299</td>\n",
       "      <td>0.163647</td>\n",
       "      <td>-0.297656</td>\n",
       "      <td>-0.055184</td>\n",
       "      <td>0.038871</td>\n",
       "      <td>0.127162</td>\n",
       "      <td>0.127208</td>\n",
       "      <td>-0.067837</td>\n",
       "    </tr>\n",
       "    <tr>\n",
       "      <th>age_last_funding_year</th>\n",
       "      <td>0.750737</td>\n",
       "      <td>1.000000</td>\n",
       "      <td>0.597394</td>\n",
       "      <td>0.538085</td>\n",
       "      <td>0.077512</td>\n",
       "      <td>0.398542</td>\n",
       "      <td>0.360486</td>\n",
       "      <td>0.011586</td>\n",
       "      <td>0.015721</td>\n",
       "      <td>-0.140477</td>\n",
       "      <td>...</td>\n",
       "      <td>0.030641</td>\n",
       "      <td>0.103093</td>\n",
       "      <td>-0.357929</td>\n",
       "      <td>0.352767</td>\n",
       "      <td>-0.094922</td>\n",
       "      <td>0.271655</td>\n",
       "      <td>0.330493</td>\n",
       "      <td>0.323248</td>\n",
       "      <td>0.138088</td>\n",
       "      <td>0.084297</td>\n",
       "    </tr>\n",
       "    <tr>\n",
       "      <th>age_first_milestone_year</th>\n",
       "      <td>0.464721</td>\n",
       "      <td>0.597394</td>\n",
       "      <td>1.000000</td>\n",
       "      <td>0.776871</td>\n",
       "      <td>0.246418</td>\n",
       "      <td>0.193299</td>\n",
       "      <td>0.240133</td>\n",
       "      <td>0.036981</td>\n",
       "      <td>-0.001374</td>\n",
       "      <td>-0.089675</td>\n",
       "      <td>...</td>\n",
       "      <td>0.055236</td>\n",
       "      <td>0.033228</td>\n",
       "      <td>-0.262300</td>\n",
       "      <td>0.104700</td>\n",
       "      <td>0.018169</td>\n",
       "      <td>0.191727</td>\n",
       "      <td>0.202129</td>\n",
       "      <td>0.245890</td>\n",
       "      <td>0.066093</td>\n",
       "      <td>0.167190</td>\n",
       "    </tr>\n",
       "    <tr>\n",
       "      <th>age_last_milestone_year</th>\n",
       "      <td>0.355531</td>\n",
       "      <td>0.538085</td>\n",
       "      <td>0.776871</td>\n",
       "      <td>1.000000</td>\n",
       "      <td>0.338629</td>\n",
       "      <td>0.249115</td>\n",
       "      <td>0.240775</td>\n",
       "      <td>0.065292</td>\n",
       "      <td>0.006154</td>\n",
       "      <td>-0.080016</td>\n",
       "      <td>...</td>\n",
       "      <td>0.040567</td>\n",
       "      <td>0.003073</td>\n",
       "      <td>-0.233818</td>\n",
       "      <td>0.074519</td>\n",
       "      <td>0.117281</td>\n",
       "      <td>0.254008</td>\n",
       "      <td>0.263328</td>\n",
       "      <td>0.240604</td>\n",
       "      <td>0.090142</td>\n",
       "      <td>0.246254</td>\n",
       "    </tr>\n",
       "    <tr>\n",
       "      <th>relationships</th>\n",
       "      <td>-0.191995</td>\n",
       "      <td>0.077512</td>\n",
       "      <td>0.246418</td>\n",
       "      <td>0.338629</td>\n",
       "      <td>1.000000</td>\n",
       "      <td>0.352159</td>\n",
       "      <td>0.232857</td>\n",
       "      <td>0.112881</td>\n",
       "      <td>-0.039606</td>\n",
       "      <td>0.053057</td>\n",
       "      <td>...</td>\n",
       "      <td>0.079870</td>\n",
       "      <td>-0.072024</td>\n",
       "      <td>-0.056960</td>\n",
       "      <td>-0.030867</td>\n",
       "      <td>0.316202</td>\n",
       "      <td>0.291037</td>\n",
       "      <td>0.256323</td>\n",
       "      <td>0.210003</td>\n",
       "      <td>0.113703</td>\n",
       "      <td>0.356429</td>\n",
       "    </tr>\n",
       "    <tr>\n",
       "      <th>funding_rounds</th>\n",
       "      <td>-0.155724</td>\n",
       "      <td>0.398542</td>\n",
       "      <td>0.193299</td>\n",
       "      <td>0.249115</td>\n",
       "      <td>0.352159</td>\n",
       "      <td>1.000000</td>\n",
       "      <td>0.460825</td>\n",
       "      <td>0.006857</td>\n",
       "      <td>-0.028598</td>\n",
       "      <td>0.014125</td>\n",
       "      <td>...</td>\n",
       "      <td>0.028483</td>\n",
       "      <td>-0.008996</td>\n",
       "      <td>0.011318</td>\n",
       "      <td>0.336217</td>\n",
       "      <td>0.261788</td>\n",
       "      <td>0.446442</td>\n",
       "      <td>0.440951</td>\n",
       "      <td>0.328223</td>\n",
       "      <td>0.051556</td>\n",
       "      <td>0.203439</td>\n",
       "    </tr>\n",
       "    <tr>\n",
       "      <th>funding_total_usd(MLN)</th>\n",
       "      <td>0.102437</td>\n",
       "      <td>0.360486</td>\n",
       "      <td>0.240133</td>\n",
       "      <td>0.240775</td>\n",
       "      <td>0.232857</td>\n",
       "      <td>0.460825</td>\n",
       "      <td>1.000000</td>\n",
       "      <td>0.050651</td>\n",
       "      <td>-0.032068</td>\n",
       "      <td>-0.074567</td>\n",
       "      <td>...</td>\n",
       "      <td>0.000572</td>\n",
       "      <td>0.072110</td>\n",
       "      <td>-0.248432</td>\n",
       "      <td>0.191858</td>\n",
       "      <td>0.048817</td>\n",
       "      <td>0.298098</td>\n",
       "      <td>0.378243</td>\n",
       "      <td>0.353170</td>\n",
       "      <td>0.149073</td>\n",
       "      <td>0.093237</td>\n",
       "    </tr>\n",
       "    <tr>\n",
       "      <th>is_CA</th>\n",
       "      <td>-0.002477</td>\n",
       "      <td>0.011586</td>\n",
       "      <td>0.036981</td>\n",
       "      <td>0.065292</td>\n",
       "      <td>0.112881</td>\n",
       "      <td>0.006857</td>\n",
       "      <td>0.050651</td>\n",
       "      <td>1.000000</td>\n",
       "      <td>-0.228658</td>\n",
       "      <td>-0.383042</td>\n",
       "      <td>...</td>\n",
       "      <td>-0.022931</td>\n",
       "      <td>0.030492</td>\n",
       "      <td>-0.060583</td>\n",
       "      <td>-0.070951</td>\n",
       "      <td>0.074702</td>\n",
       "      <td>0.084979</td>\n",
       "      <td>0.073592</td>\n",
       "      <td>0.084765</td>\n",
       "      <td>0.079862</td>\n",
       "      <td>0.077994</td>\n",
       "    </tr>\n",
       "    <tr>\n",
       "      <th>is_TX</th>\n",
       "      <td>0.033725</td>\n",
       "      <td>0.015721</td>\n",
       "      <td>-0.001374</td>\n",
       "      <td>0.006154</td>\n",
       "      <td>-0.039606</td>\n",
       "      <td>-0.028598</td>\n",
       "      <td>-0.032068</td>\n",
       "      <td>-0.228658</td>\n",
       "      <td>1.000000</td>\n",
       "      <td>-0.076931</td>\n",
       "      <td>...</td>\n",
       "      <td>0.081196</td>\n",
       "      <td>0.058341</td>\n",
       "      <td>-0.051016</td>\n",
       "      <td>-0.011893</td>\n",
       "      <td>0.038868</td>\n",
       "      <td>-0.041256</td>\n",
       "      <td>0.021447</td>\n",
       "      <td>-0.053523</td>\n",
       "      <td>-0.025134</td>\n",
       "      <td>-0.053956</td>\n",
       "    </tr>\n",
       "    <tr>\n",
       "      <th>is_NY</th>\n",
       "      <td>-0.129478</td>\n",
       "      <td>-0.140477</td>\n",
       "      <td>-0.089675</td>\n",
       "      <td>-0.080016</td>\n",
       "      <td>0.053057</td>\n",
       "      <td>0.014125</td>\n",
       "      <td>-0.074567</td>\n",
       "      <td>-0.383042</td>\n",
       "      <td>-0.076931</td>\n",
       "      <td>1.000000</td>\n",
       "      <td>...</td>\n",
       "      <td>-0.020635</td>\n",
       "      <td>-0.018924</td>\n",
       "      <td>0.155741</td>\n",
       "      <td>-0.043488</td>\n",
       "      <td>0.014014</td>\n",
       "      <td>-0.063459</td>\n",
       "      <td>-0.058832</td>\n",
       "      <td>-0.062031</td>\n",
       "      <td>0.048286</td>\n",
       "      <td>0.056814</td>\n",
       "    </tr>\n",
       "    <tr>\n",
       "      <th>is_MA</th>\n",
       "      <td>0.022591</td>\n",
       "      <td>0.099841</td>\n",
       "      <td>0.046402</td>\n",
       "      <td>0.029944</td>\n",
       "      <td>-0.002374</td>\n",
       "      <td>0.080111</td>\n",
       "      <td>0.030814</td>\n",
       "      <td>-0.337824</td>\n",
       "      <td>-0.067849</td>\n",
       "      <td>-0.113659</td>\n",
       "      <td>...</td>\n",
       "      <td>0.048384</td>\n",
       "      <td>-0.055368</td>\n",
       "      <td>-0.070549</td>\n",
       "      <td>0.032068</td>\n",
       "      <td>-0.002094</td>\n",
       "      <td>0.088149</td>\n",
       "      <td>0.069374</td>\n",
       "      <td>0.034464</td>\n",
       "      <td>0.006999</td>\n",
       "      <td>0.083153</td>\n",
       "    </tr>\n",
       "    <tr>\n",
       "      <th>is_otherstate</th>\n",
       "      <td>0.070381</td>\n",
       "      <td>0.017405</td>\n",
       "      <td>-0.007751</td>\n",
       "      <td>-0.043993</td>\n",
       "      <td>-0.158110</td>\n",
       "      <td>-0.060279</td>\n",
       "      <td>-0.010574</td>\n",
       "      <td>-0.562282</td>\n",
       "      <td>-0.112930</td>\n",
       "      <td>-0.189177</td>\n",
       "      <td>...</td>\n",
       "      <td>-0.030290</td>\n",
       "      <td>-0.016503</td>\n",
       "      <td>0.029325</td>\n",
       "      <td>0.104749</td>\n",
       "      <td>-0.121637</td>\n",
       "      <td>-0.098182</td>\n",
       "      <td>-0.101259</td>\n",
       "      <td>-0.051287</td>\n",
       "      <td>-0.125765</td>\n",
       "      <td>-0.165782</td>\n",
       "    </tr>\n",
       "    <tr>\n",
       "      <th>is_software</th>\n",
       "      <td>0.100084</td>\n",
       "      <td>0.103388</td>\n",
       "      <td>0.121720</td>\n",
       "      <td>0.057618</td>\n",
       "      <td>-0.083279</td>\n",
       "      <td>-0.015276</td>\n",
       "      <td>-0.023830</td>\n",
       "      <td>-0.040845</td>\n",
       "      <td>0.019054</td>\n",
       "      <td>-0.095843</td>\n",
       "      <td>...</td>\n",
       "      <td>-0.025723</td>\n",
       "      <td>-0.308910</td>\n",
       "      <td>-0.125481</td>\n",
       "      <td>0.040484</td>\n",
       "      <td>-0.026020</td>\n",
       "      <td>0.078934</td>\n",
       "      <td>0.025277</td>\n",
       "      <td>0.027656</td>\n",
       "      <td>-0.018847</td>\n",
       "      <td>0.017801</td>\n",
       "    </tr>\n",
       "    <tr>\n",
       "      <th>is_web</th>\n",
       "      <td>-0.171891</td>\n",
       "      <td>-0.222326</td>\n",
       "      <td>-0.094467</td>\n",
       "      <td>-0.020943</td>\n",
       "      <td>0.030576</td>\n",
       "      <td>-0.098131</td>\n",
       "      <td>-0.128834</td>\n",
       "      <td>0.026697</td>\n",
       "      <td>-0.033009</td>\n",
       "      <td>0.045575</td>\n",
       "      <td>...</td>\n",
       "      <td>-0.024700</td>\n",
       "      <td>-0.296628</td>\n",
       "      <td>0.159939</td>\n",
       "      <td>-0.124559</td>\n",
       "      <td>0.058567</td>\n",
       "      <td>-0.111214</td>\n",
       "      <td>-0.136391</td>\n",
       "      <td>-0.082598</td>\n",
       "      <td>-0.017243</td>\n",
       "      <td>-0.004132</td>\n",
       "    </tr>\n",
       "    <tr>\n",
       "      <th>is_mobile</th>\n",
       "      <td>-0.054554</td>\n",
       "      <td>0.007172</td>\n",
       "      <td>-0.036586</td>\n",
       "      <td>0.018743</td>\n",
       "      <td>0.033663</td>\n",
       "      <td>0.102344</td>\n",
       "      <td>0.012570</td>\n",
       "      <td>-0.015766</td>\n",
       "      <td>-0.026596</td>\n",
       "      <td>0.002602</td>\n",
       "      <td>...</td>\n",
       "      <td>-0.017465</td>\n",
       "      <td>-0.209746</td>\n",
       "      <td>0.040593</td>\n",
       "      <td>0.074897</td>\n",
       "      <td>0.045638</td>\n",
       "      <td>0.029528</td>\n",
       "      <td>0.010097</td>\n",
       "      <td>0.030380</td>\n",
       "      <td>-0.029444</td>\n",
       "      <td>0.010730</td>\n",
       "    </tr>\n",
       "    <tr>\n",
       "      <th>is_enterprise</th>\n",
       "      <td>-0.042466</td>\n",
       "      <td>0.012271</td>\n",
       "      <td>0.020463</td>\n",
       "      <td>0.006813</td>\n",
       "      <td>0.088894</td>\n",
       "      <td>0.076364</td>\n",
       "      <td>-0.003994</td>\n",
       "      <td>-0.031179</td>\n",
       "      <td>0.057609</td>\n",
       "      <td>-0.039986</td>\n",
       "      <td>...</td>\n",
       "      <td>-0.016711</td>\n",
       "      <td>-0.200688</td>\n",
       "      <td>-0.000031</td>\n",
       "      <td>0.042393</td>\n",
       "      <td>0.047815</td>\n",
       "      <td>0.058833</td>\n",
       "      <td>0.014318</td>\n",
       "      <td>0.026053</td>\n",
       "      <td>-0.011423</td>\n",
       "      <td>0.069962</td>\n",
       "    </tr>\n",
       "    <tr>\n",
       "      <th>is_advertising</th>\n",
       "      <td>-0.072778</td>\n",
       "      <td>-0.057352</td>\n",
       "      <td>-0.001705</td>\n",
       "      <td>0.012041</td>\n",
       "      <td>0.114532</td>\n",
       "      <td>-0.000815</td>\n",
       "      <td>-0.037670</td>\n",
       "      <td>-0.000067</td>\n",
       "      <td>-0.057911</td>\n",
       "      <td>0.067463</td>\n",
       "      <td>...</td>\n",
       "      <td>-0.015533</td>\n",
       "      <td>-0.186540</td>\n",
       "      <td>0.042868</td>\n",
       "      <td>-0.039174</td>\n",
       "      <td>0.064707</td>\n",
       "      <td>0.013982</td>\n",
       "      <td>0.005899</td>\n",
       "      <td>-0.060952</td>\n",
       "      <td>-0.025082</td>\n",
       "      <td>0.045396</td>\n",
       "    </tr>\n",
       "    <tr>\n",
       "      <th>is_gamesvideo</th>\n",
       "      <td>-0.065050</td>\n",
       "      <td>-0.079815</td>\n",
       "      <td>-0.094763</td>\n",
       "      <td>-0.053448</td>\n",
       "      <td>0.018959</td>\n",
       "      <td>-0.003924</td>\n",
       "      <td>-0.022734</td>\n",
       "      <td>0.040930</td>\n",
       "      <td>-0.029633</td>\n",
       "      <td>0.119977</td>\n",
       "      <td>...</td>\n",
       "      <td>-0.014142</td>\n",
       "      <td>-0.169839</td>\n",
       "      <td>0.041485</td>\n",
       "      <td>-0.060087</td>\n",
       "      <td>0.042731</td>\n",
       "      <td>0.014604</td>\n",
       "      <td>-0.012328</td>\n",
       "      <td>-0.003066</td>\n",
       "      <td>-0.027822</td>\n",
       "      <td>-0.025351</td>\n",
       "    </tr>\n",
       "    <tr>\n",
       "      <th>is_ecommerce</th>\n",
       "      <td>-0.072856</td>\n",
       "      <td>-0.107254</td>\n",
       "      <td>-0.081790</td>\n",
       "      <td>-0.099207</td>\n",
       "      <td>-0.028308</td>\n",
       "      <td>-0.046584</td>\n",
       "      <td>-0.029367</td>\n",
       "      <td>-0.051885</td>\n",
       "      <td>-0.035250</td>\n",
       "      <td>0.027159</td>\n",
       "      <td>...</td>\n",
       "      <td>-0.009455</td>\n",
       "      <td>-0.113547</td>\n",
       "      <td>0.061667</td>\n",
       "      <td>0.002568</td>\n",
       "      <td>-0.016780</td>\n",
       "      <td>-0.076550</td>\n",
       "      <td>-0.041929</td>\n",
       "      <td>-0.031940</td>\n",
       "      <td>-0.055387</td>\n",
       "      <td>-0.078666</td>\n",
       "    </tr>\n",
       "    <tr>\n",
       "      <th>is_biotech</th>\n",
       "      <td>0.198899</td>\n",
       "      <td>0.195193</td>\n",
       "      <td>0.054814</td>\n",
       "      <td>0.003006</td>\n",
       "      <td>-0.067781</td>\n",
       "      <td>0.018474</td>\n",
       "      <td>0.205279</td>\n",
       "      <td>0.022041</td>\n",
       "      <td>-0.042195</td>\n",
       "      <td>-0.052473</td>\n",
       "      <td>...</td>\n",
       "      <td>-0.011318</td>\n",
       "      <td>-0.135916</td>\n",
       "      <td>-0.101449</td>\n",
       "      <td>0.036019</td>\n",
       "      <td>-0.073180</td>\n",
       "      <td>0.018980</td>\n",
       "      <td>0.056023</td>\n",
       "      <td>0.069599</td>\n",
       "      <td>0.069800</td>\n",
       "      <td>0.000664</td>\n",
       "    </tr>\n",
       "    <tr>\n",
       "      <th>is_consulting</th>\n",
       "      <td>-0.012798</td>\n",
       "      <td>0.030641</td>\n",
       "      <td>0.055236</td>\n",
       "      <td>0.040567</td>\n",
       "      <td>0.079870</td>\n",
       "      <td>0.028483</td>\n",
       "      <td>0.000572</td>\n",
       "      <td>-0.022931</td>\n",
       "      <td>0.081196</td>\n",
       "      <td>-0.020635</td>\n",
       "      <td>...</td>\n",
       "      <td>1.000000</td>\n",
       "      <td>-0.039678</td>\n",
       "      <td>-0.033502</td>\n",
       "      <td>0.041772</td>\n",
       "      <td>0.018091</td>\n",
       "      <td>-0.007145</td>\n",
       "      <td>0.059030</td>\n",
       "      <td>-0.019148</td>\n",
       "      <td>-0.031226</td>\n",
       "      <td>0.002550</td>\n",
       "    </tr>\n",
       "    <tr>\n",
       "      <th>is_othercategory</th>\n",
       "      <td>0.127728</td>\n",
       "      <td>0.103093</td>\n",
       "      <td>0.033228</td>\n",
       "      <td>0.003073</td>\n",
       "      <td>-0.072024</td>\n",
       "      <td>-0.008996</td>\n",
       "      <td>0.072110</td>\n",
       "      <td>0.030492</td>\n",
       "      <td>0.058341</td>\n",
       "      <td>-0.018924</td>\n",
       "      <td>...</td>\n",
       "      <td>-0.039678</td>\n",
       "      <td>1.000000</td>\n",
       "      <td>-0.067724</td>\n",
       "      <td>0.025803</td>\n",
       "      <td>-0.102120</td>\n",
       "      <td>-0.023339</td>\n",
       "      <td>0.058803</td>\n",
       "      <td>0.028442</td>\n",
       "      <td>0.074296</td>\n",
       "      <td>-0.042998</td>\n",
       "    </tr>\n",
       "    <tr>\n",
       "      <th>has_angel</th>\n",
       "      <td>-0.351299</td>\n",
       "      <td>-0.357929</td>\n",
       "      <td>-0.262300</td>\n",
       "      <td>-0.233818</td>\n",
       "      <td>-0.056960</td>\n",
       "      <td>0.011318</td>\n",
       "      <td>-0.248432</td>\n",
       "      <td>-0.060583</td>\n",
       "      <td>-0.051016</td>\n",
       "      <td>0.155741</td>\n",
       "      <td>...</td>\n",
       "      <td>-0.033502</td>\n",
       "      <td>-0.067724</td>\n",
       "      <td>1.000000</td>\n",
       "      <td>-0.206207</td>\n",
       "      <td>-0.139580</td>\n",
       "      <td>-0.294476</td>\n",
       "      <td>-0.249329</td>\n",
       "      <td>-0.126846</td>\n",
       "      <td>-0.030478</td>\n",
       "      <td>-0.069082</td>\n",
       "    </tr>\n",
       "    <tr>\n",
       "      <th>has_VC</th>\n",
       "      <td>0.163647</td>\n",
       "      <td>0.352767</td>\n",
       "      <td>0.104700</td>\n",
       "      <td>0.074519</td>\n",
       "      <td>-0.030867</td>\n",
       "      <td>0.336217</td>\n",
       "      <td>0.191858</td>\n",
       "      <td>-0.070951</td>\n",
       "      <td>-0.011893</td>\n",
       "      <td>-0.043488</td>\n",
       "      <td>...</td>\n",
       "      <td>0.041772</td>\n",
       "      <td>0.025803</td>\n",
       "      <td>-0.206207</td>\n",
       "      <td>1.000000</td>\n",
       "      <td>-0.198010</td>\n",
       "      <td>-0.004982</td>\n",
       "      <td>0.054779</td>\n",
       "      <td>0.026026</td>\n",
       "      <td>-0.037402</td>\n",
       "      <td>-0.057259</td>\n",
       "    </tr>\n",
       "    <tr>\n",
       "      <th>has_roundA</th>\n",
       "      <td>-0.297656</td>\n",
       "      <td>-0.094922</td>\n",
       "      <td>0.018169</td>\n",
       "      <td>0.117281</td>\n",
       "      <td>0.316202</td>\n",
       "      <td>0.261788</td>\n",
       "      <td>0.048817</td>\n",
       "      <td>0.074702</td>\n",
       "      <td>0.038868</td>\n",
       "      <td>0.014014</td>\n",
       "      <td>...</td>\n",
       "      <td>0.018091</td>\n",
       "      <td>-0.102120</td>\n",
       "      <td>-0.139580</td>\n",
       "      <td>-0.198010</td>\n",
       "      <td>1.000000</td>\n",
       "      <td>0.243327</td>\n",
       "      <td>-0.005082</td>\n",
       "      <td>-0.075784</td>\n",
       "      <td>-0.074422</td>\n",
       "      <td>0.181369</td>\n",
       "    </tr>\n",
       "    <tr>\n",
       "      <th>has_roundB</th>\n",
       "      <td>-0.055184</td>\n",
       "      <td>0.271655</td>\n",
       "      <td>0.191727</td>\n",
       "      <td>0.254008</td>\n",
       "      <td>0.291037</td>\n",
       "      <td>0.446442</td>\n",
       "      <td>0.298098</td>\n",
       "      <td>0.084979</td>\n",
       "      <td>-0.041256</td>\n",
       "      <td>-0.063459</td>\n",
       "      <td>...</td>\n",
       "      <td>-0.007145</td>\n",
       "      <td>-0.023339</td>\n",
       "      <td>-0.294476</td>\n",
       "      <td>-0.004982</td>\n",
       "      <td>0.243327</td>\n",
       "      <td>1.000000</td>\n",
       "      <td>0.316079</td>\n",
       "      <td>0.090943</td>\n",
       "      <td>0.015197</td>\n",
       "      <td>0.207956</td>\n",
       "    </tr>\n",
       "    <tr>\n",
       "      <th>has_roundC</th>\n",
       "      <td>0.038871</td>\n",
       "      <td>0.330493</td>\n",
       "      <td>0.202129</td>\n",
       "      <td>0.263328</td>\n",
       "      <td>0.256323</td>\n",
       "      <td>0.440951</td>\n",
       "      <td>0.378243</td>\n",
       "      <td>0.073592</td>\n",
       "      <td>0.021447</td>\n",
       "      <td>-0.058832</td>\n",
       "      <td>...</td>\n",
       "      <td>0.059030</td>\n",
       "      <td>0.058803</td>\n",
       "      <td>-0.249329</td>\n",
       "      <td>0.054779</td>\n",
       "      <td>-0.005082</td>\n",
       "      <td>0.316079</td>\n",
       "      <td>1.000000</td>\n",
       "      <td>0.310348</td>\n",
       "      <td>0.139741</td>\n",
       "      <td>0.163808</td>\n",
       "    </tr>\n",
       "    <tr>\n",
       "      <th>has_roundD</th>\n",
       "      <td>0.127162</td>\n",
       "      <td>0.323248</td>\n",
       "      <td>0.245890</td>\n",
       "      <td>0.240604</td>\n",
       "      <td>0.210003</td>\n",
       "      <td>0.328223</td>\n",
       "      <td>0.353170</td>\n",
       "      <td>0.084765</td>\n",
       "      <td>-0.053523</td>\n",
       "      <td>-0.062031</td>\n",
       "      <td>...</td>\n",
       "      <td>-0.019148</td>\n",
       "      <td>0.028442</td>\n",
       "      <td>-0.126846</td>\n",
       "      <td>0.026026</td>\n",
       "      <td>-0.075784</td>\n",
       "      <td>0.090943</td>\n",
       "      <td>0.310348</td>\n",
       "      <td>1.000000</td>\n",
       "      <td>0.190002</td>\n",
       "      <td>0.139769</td>\n",
       "    </tr>\n",
       "    <tr>\n",
       "      <th>avg_participants</th>\n",
       "      <td>0.127208</td>\n",
       "      <td>0.138088</td>\n",
       "      <td>0.066093</td>\n",
       "      <td>0.090142</td>\n",
       "      <td>0.113703</td>\n",
       "      <td>0.051556</td>\n",
       "      <td>0.149073</td>\n",
       "      <td>0.079862</td>\n",
       "      <td>-0.025134</td>\n",
       "      <td>0.048286</td>\n",
       "      <td>...</td>\n",
       "      <td>-0.031226</td>\n",
       "      <td>0.074296</td>\n",
       "      <td>-0.030478</td>\n",
       "      <td>-0.037402</td>\n",
       "      <td>-0.074422</td>\n",
       "      <td>0.015197</td>\n",
       "      <td>0.139741</td>\n",
       "      <td>0.190002</td>\n",
       "      <td>1.000000</td>\n",
       "      <td>0.182502</td>\n",
       "    </tr>\n",
       "    <tr>\n",
       "      <th>has_succeded</th>\n",
       "      <td>-0.067837</td>\n",
       "      <td>0.084297</td>\n",
       "      <td>0.167190</td>\n",
       "      <td>0.246254</td>\n",
       "      <td>0.356429</td>\n",
       "      <td>0.203439</td>\n",
       "      <td>0.093237</td>\n",
       "      <td>0.077994</td>\n",
       "      <td>-0.053956</td>\n",
       "      <td>0.056814</td>\n",
       "      <td>...</td>\n",
       "      <td>0.002550</td>\n",
       "      <td>-0.042998</td>\n",
       "      <td>-0.069082</td>\n",
       "      <td>-0.057259</td>\n",
       "      <td>0.181369</td>\n",
       "      <td>0.207956</td>\n",
       "      <td>0.163808</td>\n",
       "      <td>0.139769</td>\n",
       "      <td>0.182502</td>\n",
       "      <td>1.000000</td>\n",
       "    </tr>\n",
       "  </tbody>\n",
       "</table>\n",
       "<p>30 rows × 30 columns</p>\n",
       "</div>"
      ],
      "text/plain": [
       "                          age_first_funding_year  age_last_funding_year  \\\n",
       "age_first_funding_year                  1.000000               0.750737   \n",
       "age_last_funding_year                   0.750737               1.000000   \n",
       "age_first_milestone_year                0.464721               0.597394   \n",
       "age_last_milestone_year                 0.355531               0.538085   \n",
       "relationships                          -0.191995               0.077512   \n",
       "funding_rounds                         -0.155724               0.398542   \n",
       "funding_total_usd(MLN)                  0.102437               0.360486   \n",
       "is_CA                                  -0.002477               0.011586   \n",
       "is_TX                                   0.033725               0.015721   \n",
       "is_NY                                  -0.129478              -0.140477   \n",
       "is_MA                                   0.022591               0.099841   \n",
       "is_otherstate                           0.070381               0.017405   \n",
       "is_software                             0.100084               0.103388   \n",
       "is_web                                 -0.171891              -0.222326   \n",
       "is_mobile                              -0.054554               0.007172   \n",
       "is_enterprise                          -0.042466               0.012271   \n",
       "is_advertising                         -0.072778              -0.057352   \n",
       "is_gamesvideo                          -0.065050              -0.079815   \n",
       "is_ecommerce                           -0.072856              -0.107254   \n",
       "is_biotech                              0.198899               0.195193   \n",
       "is_consulting                          -0.012798               0.030641   \n",
       "is_othercategory                        0.127728               0.103093   \n",
       "has_angel                              -0.351299              -0.357929   \n",
       "has_VC                                  0.163647               0.352767   \n",
       "has_roundA                             -0.297656              -0.094922   \n",
       "has_roundB                             -0.055184               0.271655   \n",
       "has_roundC                              0.038871               0.330493   \n",
       "has_roundD                              0.127162               0.323248   \n",
       "avg_participants                        0.127208               0.138088   \n",
       "has_succeded                           -0.067837               0.084297   \n",
       "\n",
       "                          age_first_milestone_year  age_last_milestone_year  \\\n",
       "age_first_funding_year                    0.464721                 0.355531   \n",
       "age_last_funding_year                     0.597394                 0.538085   \n",
       "age_first_milestone_year                  1.000000                 0.776871   \n",
       "age_last_milestone_year                   0.776871                 1.000000   \n",
       "relationships                             0.246418                 0.338629   \n",
       "funding_rounds                            0.193299                 0.249115   \n",
       "funding_total_usd(MLN)                    0.240133                 0.240775   \n",
       "is_CA                                     0.036981                 0.065292   \n",
       "is_TX                                    -0.001374                 0.006154   \n",
       "is_NY                                    -0.089675                -0.080016   \n",
       "is_MA                                     0.046402                 0.029944   \n",
       "is_otherstate                            -0.007751                -0.043993   \n",
       "is_software                               0.121720                 0.057618   \n",
       "is_web                                   -0.094467                -0.020943   \n",
       "is_mobile                                -0.036586                 0.018743   \n",
       "is_enterprise                             0.020463                 0.006813   \n",
       "is_advertising                           -0.001705                 0.012041   \n",
       "is_gamesvideo                            -0.094763                -0.053448   \n",
       "is_ecommerce                             -0.081790                -0.099207   \n",
       "is_biotech                                0.054814                 0.003006   \n",
       "is_consulting                             0.055236                 0.040567   \n",
       "is_othercategory                          0.033228                 0.003073   \n",
       "has_angel                                -0.262300                -0.233818   \n",
       "has_VC                                    0.104700                 0.074519   \n",
       "has_roundA                                0.018169                 0.117281   \n",
       "has_roundB                                0.191727                 0.254008   \n",
       "has_roundC                                0.202129                 0.263328   \n",
       "has_roundD                                0.245890                 0.240604   \n",
       "avg_participants                          0.066093                 0.090142   \n",
       "has_succeded                              0.167190                 0.246254   \n",
       "\n",
       "                          relationships  funding_rounds  \\\n",
       "age_first_funding_year        -0.191995       -0.155724   \n",
       "age_last_funding_year          0.077512        0.398542   \n",
       "age_first_milestone_year       0.246418        0.193299   \n",
       "age_last_milestone_year        0.338629        0.249115   \n",
       "relationships                  1.000000        0.352159   \n",
       "funding_rounds                 0.352159        1.000000   \n",
       "funding_total_usd(MLN)         0.232857        0.460825   \n",
       "is_CA                          0.112881        0.006857   \n",
       "is_TX                         -0.039606       -0.028598   \n",
       "is_NY                          0.053057        0.014125   \n",
       "is_MA                         -0.002374        0.080111   \n",
       "is_otherstate                 -0.158110       -0.060279   \n",
       "is_software                   -0.083279       -0.015276   \n",
       "is_web                         0.030576       -0.098131   \n",
       "is_mobile                      0.033663        0.102344   \n",
       "is_enterprise                  0.088894        0.076364   \n",
       "is_advertising                 0.114532       -0.000815   \n",
       "is_gamesvideo                  0.018959       -0.003924   \n",
       "is_ecommerce                  -0.028308       -0.046584   \n",
       "is_biotech                    -0.067781        0.018474   \n",
       "is_consulting                  0.079870        0.028483   \n",
       "is_othercategory              -0.072024       -0.008996   \n",
       "has_angel                     -0.056960        0.011318   \n",
       "has_VC                        -0.030867        0.336217   \n",
       "has_roundA                     0.316202        0.261788   \n",
       "has_roundB                     0.291037        0.446442   \n",
       "has_roundC                     0.256323        0.440951   \n",
       "has_roundD                     0.210003        0.328223   \n",
       "avg_participants               0.113703        0.051556   \n",
       "has_succeded                   0.356429        0.203439   \n",
       "\n",
       "                          funding_total_usd(MLN)     is_CA     is_TX  \\\n",
       "age_first_funding_year                  0.102437 -0.002477  0.033725   \n",
       "age_last_funding_year                   0.360486  0.011586  0.015721   \n",
       "age_first_milestone_year                0.240133  0.036981 -0.001374   \n",
       "age_last_milestone_year                 0.240775  0.065292  0.006154   \n",
       "relationships                           0.232857  0.112881 -0.039606   \n",
       "funding_rounds                          0.460825  0.006857 -0.028598   \n",
       "funding_total_usd(MLN)                  1.000000  0.050651 -0.032068   \n",
       "is_CA                                   0.050651  1.000000 -0.228658   \n",
       "is_TX                                  -0.032068 -0.228658  1.000000   \n",
       "is_NY                                  -0.074567 -0.383042 -0.076931   \n",
       "is_MA                                   0.030814 -0.337824 -0.067849   \n",
       "is_otherstate                          -0.010574 -0.562282 -0.112930   \n",
       "is_software                            -0.023830 -0.040845  0.019054   \n",
       "is_web                                 -0.128834  0.026697 -0.033009   \n",
       "is_mobile                               0.012570 -0.015766 -0.026596   \n",
       "is_enterprise                          -0.003994 -0.031179  0.057609   \n",
       "is_advertising                         -0.037670 -0.000067 -0.057911   \n",
       "is_gamesvideo                          -0.022734  0.040930 -0.029633   \n",
       "is_ecommerce                           -0.029367 -0.051885 -0.035250   \n",
       "is_biotech                              0.205279  0.022041 -0.042195   \n",
       "is_consulting                           0.000572 -0.022931  0.081196   \n",
       "is_othercategory                        0.072110  0.030492  0.058341   \n",
       "has_angel                              -0.248432 -0.060583 -0.051016   \n",
       "has_VC                                  0.191858 -0.070951 -0.011893   \n",
       "has_roundA                              0.048817  0.074702  0.038868   \n",
       "has_roundB                              0.298098  0.084979 -0.041256   \n",
       "has_roundC                              0.378243  0.073592  0.021447   \n",
       "has_roundD                              0.353170  0.084765 -0.053523   \n",
       "avg_participants                        0.149073  0.079862 -0.025134   \n",
       "has_succeded                            0.093237  0.077994 -0.053956   \n",
       "\n",
       "                             is_NY  ...  is_consulting  is_othercategory  \\\n",
       "age_first_funding_year   -0.129478  ...      -0.012798          0.127728   \n",
       "age_last_funding_year    -0.140477  ...       0.030641          0.103093   \n",
       "age_first_milestone_year -0.089675  ...       0.055236          0.033228   \n",
       "age_last_milestone_year  -0.080016  ...       0.040567          0.003073   \n",
       "relationships             0.053057  ...       0.079870         -0.072024   \n",
       "funding_rounds            0.014125  ...       0.028483         -0.008996   \n",
       "funding_total_usd(MLN)   -0.074567  ...       0.000572          0.072110   \n",
       "is_CA                    -0.383042  ...      -0.022931          0.030492   \n",
       "is_TX                    -0.076931  ...       0.081196          0.058341   \n",
       "is_NY                     1.000000  ...      -0.020635         -0.018924   \n",
       "is_MA                    -0.113659  ...       0.048384         -0.055368   \n",
       "is_otherstate            -0.189177  ...      -0.030290         -0.016503   \n",
       "is_software              -0.095843  ...      -0.025723         -0.308910   \n",
       "is_web                    0.045575  ...      -0.024700         -0.296628   \n",
       "is_mobile                 0.002602  ...      -0.017465         -0.209746   \n",
       "is_enterprise            -0.039986  ...      -0.016711         -0.200688   \n",
       "is_advertising            0.067463  ...      -0.015533         -0.186540   \n",
       "is_gamesvideo             0.119977  ...      -0.014142         -0.169839   \n",
       "is_ecommerce              0.027159  ...      -0.009455         -0.113547   \n",
       "is_biotech               -0.052473  ...      -0.011318         -0.135916   \n",
       "is_consulting            -0.020635  ...       1.000000         -0.039678   \n",
       "is_othercategory         -0.018924  ...      -0.039678          1.000000   \n",
       "has_angel                 0.155741  ...      -0.033502         -0.067724   \n",
       "has_VC                   -0.043488  ...       0.041772          0.025803   \n",
       "has_roundA                0.014014  ...       0.018091         -0.102120   \n",
       "has_roundB               -0.063459  ...      -0.007145         -0.023339   \n",
       "has_roundC               -0.058832  ...       0.059030          0.058803   \n",
       "has_roundD               -0.062031  ...      -0.019148          0.028442   \n",
       "avg_participants          0.048286  ...      -0.031226          0.074296   \n",
       "has_succeded              0.056814  ...       0.002550         -0.042998   \n",
       "\n",
       "                          has_angel    has_VC  has_roundA  has_roundB  \\\n",
       "age_first_funding_year    -0.351299  0.163647   -0.297656   -0.055184   \n",
       "age_last_funding_year     -0.357929  0.352767   -0.094922    0.271655   \n",
       "age_first_milestone_year  -0.262300  0.104700    0.018169    0.191727   \n",
       "age_last_milestone_year   -0.233818  0.074519    0.117281    0.254008   \n",
       "relationships             -0.056960 -0.030867    0.316202    0.291037   \n",
       "funding_rounds             0.011318  0.336217    0.261788    0.446442   \n",
       "funding_total_usd(MLN)    -0.248432  0.191858    0.048817    0.298098   \n",
       "is_CA                     -0.060583 -0.070951    0.074702    0.084979   \n",
       "is_TX                     -0.051016 -0.011893    0.038868   -0.041256   \n",
       "is_NY                      0.155741 -0.043488    0.014014   -0.063459   \n",
       "is_MA                     -0.070549  0.032068   -0.002094    0.088149   \n",
       "is_otherstate              0.029325  0.104749   -0.121637   -0.098182   \n",
       "is_software               -0.125481  0.040484   -0.026020    0.078934   \n",
       "is_web                     0.159939 -0.124559    0.058567   -0.111214   \n",
       "is_mobile                  0.040593  0.074897    0.045638    0.029528   \n",
       "is_enterprise             -0.000031  0.042393    0.047815    0.058833   \n",
       "is_advertising             0.042868 -0.039174    0.064707    0.013982   \n",
       "is_gamesvideo              0.041485 -0.060087    0.042731    0.014604   \n",
       "is_ecommerce               0.061667  0.002568   -0.016780   -0.076550   \n",
       "is_biotech                -0.101449  0.036019   -0.073180    0.018980   \n",
       "is_consulting             -0.033502  0.041772    0.018091   -0.007145   \n",
       "is_othercategory          -0.067724  0.025803   -0.102120   -0.023339   \n",
       "has_angel                  1.000000 -0.206207   -0.139580   -0.294476   \n",
       "has_VC                    -0.206207  1.000000   -0.198010   -0.004982   \n",
       "has_roundA                -0.139580 -0.198010    1.000000    0.243327   \n",
       "has_roundB                -0.294476 -0.004982    0.243327    1.000000   \n",
       "has_roundC                -0.249329  0.054779   -0.005082    0.316079   \n",
       "has_roundD                -0.126846  0.026026   -0.075784    0.090943   \n",
       "avg_participants          -0.030478 -0.037402   -0.074422    0.015197   \n",
       "has_succeded              -0.069082 -0.057259    0.181369    0.207956   \n",
       "\n",
       "                          has_roundC  has_roundD  avg_participants  \\\n",
       "age_first_funding_year      0.038871    0.127162          0.127208   \n",
       "age_last_funding_year       0.330493    0.323248          0.138088   \n",
       "age_first_milestone_year    0.202129    0.245890          0.066093   \n",
       "age_last_milestone_year     0.263328    0.240604          0.090142   \n",
       "relationships               0.256323    0.210003          0.113703   \n",
       "funding_rounds              0.440951    0.328223          0.051556   \n",
       "funding_total_usd(MLN)      0.378243    0.353170          0.149073   \n",
       "is_CA                       0.073592    0.084765          0.079862   \n",
       "is_TX                       0.021447   -0.053523         -0.025134   \n",
       "is_NY                      -0.058832   -0.062031          0.048286   \n",
       "is_MA                       0.069374    0.034464          0.006999   \n",
       "is_otherstate              -0.101259   -0.051287         -0.125765   \n",
       "is_software                 0.025277    0.027656         -0.018847   \n",
       "is_web                     -0.136391   -0.082598         -0.017243   \n",
       "is_mobile                   0.010097    0.030380         -0.029444   \n",
       "is_enterprise               0.014318    0.026053         -0.011423   \n",
       "is_advertising              0.005899   -0.060952         -0.025082   \n",
       "is_gamesvideo              -0.012328   -0.003066         -0.027822   \n",
       "is_ecommerce               -0.041929   -0.031940         -0.055387   \n",
       "is_biotech                  0.056023    0.069599          0.069800   \n",
       "is_consulting               0.059030   -0.019148         -0.031226   \n",
       "is_othercategory            0.058803    0.028442          0.074296   \n",
       "has_angel                  -0.249329   -0.126846         -0.030478   \n",
       "has_VC                      0.054779    0.026026         -0.037402   \n",
       "has_roundA                 -0.005082   -0.075784         -0.074422   \n",
       "has_roundB                  0.316079    0.090943          0.015197   \n",
       "has_roundC                  1.000000    0.310348          0.139741   \n",
       "has_roundD                  0.310348    1.000000          0.190002   \n",
       "avg_participants            0.139741    0.190002          1.000000   \n",
       "has_succeded                0.163808    0.139769          0.182502   \n",
       "\n",
       "                          has_succeded  \n",
       "age_first_funding_year       -0.067837  \n",
       "age_last_funding_year         0.084297  \n",
       "age_first_milestone_year      0.167190  \n",
       "age_last_milestone_year       0.246254  \n",
       "relationships                 0.356429  \n",
       "funding_rounds                0.203439  \n",
       "funding_total_usd(MLN)        0.093237  \n",
       "is_CA                         0.077994  \n",
       "is_TX                        -0.053956  \n",
       "is_NY                         0.056814  \n",
       "is_MA                         0.083153  \n",
       "is_otherstate                -0.165782  \n",
       "is_software                   0.017801  \n",
       "is_web                       -0.004132  \n",
       "is_mobile                     0.010730  \n",
       "is_enterprise                 0.069962  \n",
       "is_advertising                0.045396  \n",
       "is_gamesvideo                -0.025351  \n",
       "is_ecommerce                 -0.078666  \n",
       "is_biotech                    0.000664  \n",
       "is_consulting                 0.002550  \n",
       "is_othercategory             -0.042998  \n",
       "has_angel                    -0.069082  \n",
       "has_VC                       -0.057259  \n",
       "has_roundA                    0.181369  \n",
       "has_roundB                    0.207956  \n",
       "has_roundC                    0.163808  \n",
       "has_roundD                    0.139769  \n",
       "avg_participants              0.182502  \n",
       "has_succeded                  1.000000  \n",
       "\n",
       "[30 rows x 30 columns]"
      ]
     },
     "execution_count": 42,
     "metadata": {},
     "output_type": "execute_result"
    }
   ],
   "source": [
    "df_corr = startup_clean.iloc[:,:]\n",
    "mat = df_corr.corr()\n",
    "mat"
   ]
  },
  {
   "cell_type": "code",
   "execution_count": 43,
   "id": "outside-sensitivity",
   "metadata": {},
   "outputs": [
    {
     "data": {
      "image/png": "[encoded data removed]",
      "text/plain": [
       "<Figure size 432x432 with 1 Axes>"
      ]
     },
     "metadata": {},
     "output_type": "display_data"
    }
   ],
   "source": [
    "#plt.subplots(figsize=(7, 5))\n",
    "f, ax = plt.subplots(figsize=(6,6))\n",
    "#plt.figure(figsize=(20,20))\n",
    "sns.heatmap(abs(mat),\n",
    "            ax = ax,\n",
    "            cmap = sns.cm.rocket_r,\n",
    "            cbar=False\n",
    "           )\n",
    "\n",
    "#ax.set_title('Heatmap for {} - {}'.format(start_date,end_date))\n",
    "plt.show()\n"
   ]
  },
  {
   "cell_type": "markdown",
   "id": "passive-gamma",
   "metadata": {},
   "source": [
    "# Classificator - Machine Learning"
   ]
  },
  {
   "cell_type": "code",
   "execution_count": 44,
   "id": "clinical-aruba",
   "metadata": {},
   "outputs": [],
   "source": [
    "from sklearn.svm import SVC\n",
    "from sklearn.model_selection import train_test_split\n",
    "from sklearn.model_selection import StratifiedKFold\n",
    "from sklearn.model_selection import KFold\n",
    "from sklearn.model_selection import cross_val_score\n"
   ]
  },
  {
   "cell_type": "code",
   "execution_count": 45,
   "id": "bacterial-episode",
   "metadata": {},
   "outputs": [],
   "source": [
    "#def get_score(model, X_train, X_test, y_train, y_test):\n",
    "#    model.fit(X_train, y_train)\n",
    "#    return fit.score(X_test, y_test)"
   ]
  },
  {
   "cell_type": "markdown",
   "id": "political-arkansas",
   "metadata": {},
   "source": [
    "We create two array X and y, in order to have all our features in X and the dependent variable in y"
   ]
  },
  {
   "cell_type": "code",
   "execution_count": 46,
   "id": "framed-columbus",
   "metadata": {},
   "outputs": [],
   "source": [
    "X = startup_clean[['age_first_funding_year','age_last_funding_year','age_first_milestone_year','age_last_milestone_year', 'relationships','funding_rounds', 'funding_total_usd(MLN)','is_CA','is_TX','is_NY'\n",
    "        ,'is_MA', 'is_otherstate', 'is_software', 'is_web', 'is_mobile', 'is_enterprise','is_advertising','is_gamesvideo','is_ecommerce','is_biotech','is_consulting','is_othercategory','has_angel',\n",
    "       'has_VC','has_roundA','has_roundB','has_roundC','has_roundD','avg_participants']].to_numpy()\n",
    "\n",
    "#X1 =startup_clean[['age_first_funding_year', 'age_last_funding_year']]\n",
    "\n",
    "y = startup_clean['has_succeded'].to_numpy()"
   ]
  },
  {
   "cell_type": "code",
   "execution_count": 47,
   "id": "heard-oracle",
   "metadata": {},
   "outputs": [
    {
     "name": "stdout",
     "output_type": "stream",
     "text": [
      "shape of X:\n",
      "(911, 29)\n",
      "type of X:\n",
      "<class 'numpy.ndarray'>\n",
      "shape of y:\n",
      "(911,)\n",
      "type of y:\n",
      "<class 'numpy.ndarray'>\n"
     ]
    }
   ],
   "source": [
    "print('shape of X:')\n",
    "print(X.shape)\n",
    "print('type of X:')\n",
    "print(type(X))\n",
    "print('shape of y:')\n",
    "print(y.shape)\n",
    "print('type of y:')\n",
    "print(type(y))"
   ]
  },
  {
   "cell_type": "markdown",
   "id": "proprietary-remove",
   "metadata": {},
   "source": [
    "Creation of n Folds"
   ]
  },
  {
   "cell_type": "code",
   "execution_count": 48,
   "id": "cardiac-occupation",
   "metadata": {},
   "outputs": [],
   "source": [
    "folds = StratifiedKFold(n_splits=10)\n",
    "#foldsr = RepeatedStratifiedKFold(n_splits=10, n_repeats=10)"
   ]
  },
  {
   "cell_type": "code",
   "execution_count": 49,
   "id": "handed-advancement",
   "metadata": {},
   "outputs": [
    {
     "data": {
      "text/html": [
       "<div>\n",
       "<style scoped>\n",
       "    .dataframe tbody tr th:only-of-type {\n",
       "        vertical-align: middle;\n",
       "    }\n",
       "\n",
       "    .dataframe tbody tr th {\n",
       "        vertical-align: top;\n",
       "    }\n",
       "\n",
       "    .dataframe thead th {\n",
       "        text-align: right;\n",
       "    }\n",
       "</style>\n",
       "<table border=\"1\" class=\"dataframe\">\n",
       "  <thead>\n",
       "    <tr style=\"text-align: right;\">\n",
       "      <th></th>\n",
       "      <th>name</th>\n",
       "      <th>age_first_funding_year</th>\n",
       "      <th>age_last_funding_year</th>\n",
       "      <th>age_first_milestone_year</th>\n",
       "      <th>age_last_milestone_year</th>\n",
       "      <th>relationships</th>\n",
       "      <th>funding_rounds</th>\n",
       "      <th>funding_total_usd(MLN)</th>\n",
       "      <th>is_CA</th>\n",
       "      <th>is_TX</th>\n",
       "      <th>...</th>\n",
       "      <th>is_consulting</th>\n",
       "      <th>is_othercategory</th>\n",
       "      <th>has_angel</th>\n",
       "      <th>has_VC</th>\n",
       "      <th>has_roundA</th>\n",
       "      <th>has_roundB</th>\n",
       "      <th>has_roundC</th>\n",
       "      <th>has_roundD</th>\n",
       "      <th>avg_participants</th>\n",
       "      <th>has_succeded</th>\n",
       "    </tr>\n",
       "  </thead>\n",
       "  <tbody>\n",
       "    <tr>\n",
       "      <th>0</th>\n",
       "      <td>Bandsintown</td>\n",
       "      <td>2.2493</td>\n",
       "      <td>3.0027</td>\n",
       "      <td>4.6685</td>\n",
       "      <td>6.7041</td>\n",
       "      <td>3.0</td>\n",
       "      <td>3.0</td>\n",
       "      <td>0.375</td>\n",
       "      <td>1.0</td>\n",
       "      <td>0.0</td>\n",
       "      <td>...</td>\n",
       "      <td>0.0</td>\n",
       "      <td>1.0</td>\n",
       "      <td>1.0</td>\n",
       "      <td>0.0</td>\n",
       "      <td>0.0</td>\n",
       "      <td>0.0</td>\n",
       "      <td>0.0</td>\n",
       "      <td>0.0</td>\n",
       "      <td>1.0000</td>\n",
       "      <td>1.0</td>\n",
       "    </tr>\n",
       "    <tr>\n",
       "      <th>1</th>\n",
       "      <td>TriCipher</td>\n",
       "      <td>5.1260</td>\n",
       "      <td>9.9973</td>\n",
       "      <td>7.0055</td>\n",
       "      <td>7.0055</td>\n",
       "      <td>9.0</td>\n",
       "      <td>4.0</td>\n",
       "      <td>40.100</td>\n",
       "      <td>1.0</td>\n",
       "      <td>0.0</td>\n",
       "      <td>...</td>\n",
       "      <td>0.0</td>\n",
       "      <td>0.0</td>\n",
       "      <td>0.0</td>\n",
       "      <td>1.0</td>\n",
       "      <td>0.0</td>\n",
       "      <td>1.0</td>\n",
       "      <td>1.0</td>\n",
       "      <td>1.0</td>\n",
       "      <td>4.7500</td>\n",
       "      <td>1.0</td>\n",
       "    </tr>\n",
       "    <tr>\n",
       "      <th>2</th>\n",
       "      <td>Plixi</td>\n",
       "      <td>1.0329</td>\n",
       "      <td>1.0329</td>\n",
       "      <td>1.4575</td>\n",
       "      <td>2.2055</td>\n",
       "      <td>5.0</td>\n",
       "      <td>1.0</td>\n",
       "      <td>2.600</td>\n",
       "      <td>1.0</td>\n",
       "      <td>0.0</td>\n",
       "      <td>...</td>\n",
       "      <td>0.0</td>\n",
       "      <td>0.0</td>\n",
       "      <td>0.0</td>\n",
       "      <td>0.0</td>\n",
       "      <td>1.0</td>\n",
       "      <td>0.0</td>\n",
       "      <td>0.0</td>\n",
       "      <td>0.0</td>\n",
       "      <td>4.0000</td>\n",
       "      <td>1.0</td>\n",
       "    </tr>\n",
       "    <tr>\n",
       "      <th>3</th>\n",
       "      <td>Solidcore Systems</td>\n",
       "      <td>3.1315</td>\n",
       "      <td>5.3151</td>\n",
       "      <td>6.0027</td>\n",
       "      <td>6.0027</td>\n",
       "      <td>5.0</td>\n",
       "      <td>3.0</td>\n",
       "      <td>40.000</td>\n",
       "      <td>1.0</td>\n",
       "      <td>0.0</td>\n",
       "      <td>...</td>\n",
       "      <td>0.0</td>\n",
       "      <td>0.0</td>\n",
       "      <td>0.0</td>\n",
       "      <td>0.0</td>\n",
       "      <td>0.0</td>\n",
       "      <td>1.0</td>\n",
       "      <td>1.0</td>\n",
       "      <td>1.0</td>\n",
       "      <td>3.3333</td>\n",
       "      <td>1.0</td>\n",
       "    </tr>\n",
       "    <tr>\n",
       "      <th>4</th>\n",
       "      <td>Inhale Digital</td>\n",
       "      <td>0.0000</td>\n",
       "      <td>1.6685</td>\n",
       "      <td>0.0384</td>\n",
       "      <td>0.0384</td>\n",
       "      <td>2.0</td>\n",
       "      <td>2.0</td>\n",
       "      <td>1.300</td>\n",
       "      <td>1.0</td>\n",
       "      <td>0.0</td>\n",
       "      <td>...</td>\n",
       "      <td>0.0</td>\n",
       "      <td>0.0</td>\n",
       "      <td>1.0</td>\n",
       "      <td>1.0</td>\n",
       "      <td>0.0</td>\n",
       "      <td>0.0</td>\n",
       "      <td>0.0</td>\n",
       "      <td>0.0</td>\n",
       "      <td>1.0000</td>\n",
       "      <td>0.0</td>\n",
       "    </tr>\n",
       "  </tbody>\n",
       "</table>\n",
       "<p>5 rows × 31 columns</p>\n",
       "</div>"
      ],
      "text/plain": [
       "                name  age_first_funding_year  age_last_funding_year  \\\n",
       "0        Bandsintown                  2.2493                 3.0027   \n",
       "1          TriCipher                  5.1260                 9.9973   \n",
       "2              Plixi                  1.0329                 1.0329   \n",
       "3  Solidcore Systems                  3.1315                 5.3151   \n",
       "4     Inhale Digital                  0.0000                 1.6685   \n",
       "\n",
       "   age_first_milestone_year  age_last_milestone_year  relationships  \\\n",
       "0                    4.6685                   6.7041            3.0   \n",
       "1                    7.0055                   7.0055            9.0   \n",
       "2                    1.4575                   2.2055            5.0   \n",
       "3                    6.0027                   6.0027            5.0   \n",
       "4                    0.0384                   0.0384            2.0   \n",
       "\n",
       "   funding_rounds  funding_total_usd(MLN)  is_CA  is_TX  ...  is_consulting  \\\n",
       "0             3.0                   0.375    1.0    0.0  ...            0.0   \n",
       "1             4.0                  40.100    1.0    0.0  ...            0.0   \n",
       "2             1.0                   2.600    1.0    0.0  ...            0.0   \n",
       "3             3.0                  40.000    1.0    0.0  ...            0.0   \n",
       "4             2.0                   1.300    1.0    0.0  ...            0.0   \n",
       "\n",
       "   is_othercategory  has_angel  has_VC  has_roundA  has_roundB  has_roundC  \\\n",
       "0               1.0        1.0     0.0         0.0         0.0         0.0   \n",
       "1               0.0        0.0     1.0         0.0         1.0         1.0   \n",
       "2               0.0        0.0     0.0         1.0         0.0         0.0   \n",
       "3               0.0        0.0     0.0         0.0         1.0         1.0   \n",
       "4               0.0        1.0     1.0         0.0         0.0         0.0   \n",
       "\n",
       "   has_roundD  avg_participants  has_succeded  \n",
       "0         0.0            1.0000           1.0  \n",
       "1         1.0            4.7500           1.0  \n",
       "2         0.0            4.0000           1.0  \n",
       "3         1.0            3.3333           1.0  \n",
       "4         0.0            1.0000           0.0  \n",
       "\n",
       "[5 rows x 31 columns]"
      ]
     },
     "execution_count": 49,
     "metadata": {},
     "output_type": "execute_result"
    }
   ],
   "source": [
    "startup_clean.head(5)"
   ]
  },
  {
   "cell_type": "code",
   "execution_count": 50,
   "id": "rational-roman",
   "metadata": {},
   "outputs": [],
   "source": [
    "X_train, X_test, y_train, y_test = train_test_split(X, y, test_size=0.1, random_state=0, shuffle=True, stratify=y)\n",
    "X_train, X_val, y_train, y_val   = train_test_split(X_train, y_train, test_size=0.3, random_state=0, shuffle=True, stratify=y_train)"
   ]
  },
  {
   "cell_type": "code",
   "execution_count": 51,
   "id": "recorded-complexity",
   "metadata": {},
   "outputs": [
    {
     "name": "stdout",
     "output_type": "stream",
     "text": [
      "573\n",
      "92\n",
      "246\n"
     ]
    }
   ],
   "source": [
    "print(len(X_train))\n",
    "print(len(X_test))\n",
    "print(len(X_val))"
   ]
  },
  {
   "cell_type": "code",
   "execution_count": 52,
   "id": "collaborative-drilling",
   "metadata": {},
   "outputs": [
    {
     "data": {
      "text/plain": [
       "array([[ 1.411     ,  2.5151    ,  3.05517186, ...,  0.        ,\n",
       "         0.        ,  1.        ],\n",
       "       [ 0.        ,  0.        ,  0.1096    , ...,  0.        ,\n",
       "         0.        ,  2.        ],\n",
       "       [ 1.189     ,  1.189     ,  2.189     , ...,  0.        ,\n",
       "         0.        ,  2.        ],\n",
       "       ...,\n",
       "       [ 1.2849    ,  1.2849    ,  0.        , ...,  0.        ,\n",
       "         0.        ,  1.        ],\n",
       "       [-0.8658    ,  6.1233    ,  5.0027    , ...,  0.        ,\n",
       "         0.        ,  3.        ],\n",
       "       [ 1.1671    ,  4.6658    ,  3.05517186, ...,  1.        ,\n",
       "         0.        ,  3.5       ]])"
      ]
     },
     "execution_count": 52,
     "metadata": {},
     "output_type": "execute_result"
    }
   ],
   "source": [
    "X_train"
   ]
  },
  {
   "cell_type": "code",
   "execution_count": 53,
   "id": "afraid-intersection",
   "metadata": {},
   "outputs": [
    {
     "data": {
      "text/plain": [
       "array([[2.2137    , 3.7863    , 4.0877    , ..., 0.        , 0.        ,\n",
       "        1.5       ],\n",
       "       [0.8164    , 0.8164    , 3.05517186, ..., 0.        , 0.        ,\n",
       "        1.        ],\n",
       "       [6.5452    , 8.6       , 5.0027    , ..., 1.        , 0.        ,\n",
       "        2.5       ],\n",
       "       ...,\n",
       "       [3.5041    , 5.4438    , 3.05517186, ..., 0.        , 0.        ,\n",
       "        3.        ],\n",
       "       [4.1315    , 6.1507    , 5.5699    , ..., 0.        , 0.        ,\n",
       "        3.        ],\n",
       "       [0.        , 3.9562    , 4.7616    , ..., 1.        , 1.        ,\n",
       "        3.8       ]])"
      ]
     },
     "execution_count": 53,
     "metadata": {},
     "output_type": "execute_result"
    }
   ],
   "source": [
    "X_test"
   ]
  },
  {
   "cell_type": "code",
   "execution_count": 54,
   "id": "lasting-sharp",
   "metadata": {},
   "outputs": [
    {
     "data": {
      "text/plain": [
       "array([[0.0164    , 0.0164    , 3.05517186, ..., 0.        , 0.        ,\n",
       "        1.        ],\n",
       "       [1.        , 3.1863    , 2.4301    , ..., 0.        , 0.        ,\n",
       "        1.5       ],\n",
       "       [4.9068    , 8.1014    , 3.05517186, ..., 0.        , 0.        ,\n",
       "        2.        ],\n",
       "       ...,\n",
       "       [1.589     , 1.589     , 1.1863    , ..., 0.        , 0.        ,\n",
       "        2.        ],\n",
       "       [0.4685    , 0.4685    , 1.1041    , ..., 0.        , 0.        ,\n",
       "        9.        ],\n",
       "       [1.126     , 1.4055    , 0.7918    , ..., 0.        , 0.        ,\n",
       "        2.        ]])"
      ]
     },
     "execution_count": 54,
     "metadata": {},
     "output_type": "execute_result"
    }
   ],
   "source": [
    "X_val"
   ]
  },
  {
   "cell_type": "code",
   "execution_count": 55,
   "id": "egyptian-accordance",
   "metadata": {},
   "outputs": [
    {
     "data": {
      "image/png": "[encoded data removed]",
      "text/plain": [
       "<Figure size 576x576 with 1 Axes>"
      ]
     },
     "metadata": {},
     "output_type": "display_data"
    }
   ],
   "source": [
    "plt.figure(figsize=(8,8))\n",
    "\n",
    "plt.scatter(x=X_test[:,[0]], y=X_test[:,[1]])\n",
    "plt.show()"
   ]
  },
  {
   "cell_type": "markdown",
   "id": "atlantic-honor",
   "metadata": {},
   "source": [
    "## Logistic Regression"
   ]
  },
  {
   "cell_type": "code",
   "execution_count": 56,
   "id": "balanced-favorite",
   "metadata": {},
   "outputs": [],
   "source": [
    "from sklearn.metrics import confusion_matrix\n",
    "from sklearn.linear_model import LogisticRegression\n",
    "import confusion_matrix_custom"
   ]
  },
  {
   "cell_type": "markdown",
   "id": "tropical-blogger",
   "metadata": {},
   "source": [
    "The first model that we would like to try is the Logistic Regression Model.<br>\n",
    "With the library sklearn we create the object lr."
   ]
  },
  {
   "cell_type": "code",
   "execution_count": 57,
   "id": "closed-gilbert",
   "metadata": {},
   "outputs": [],
   "source": [
    "lr = LogisticRegression(solver='liblinear')"
   ]
  },
  {
   "cell_type": "code",
   "execution_count": 58,
   "id": "therapeutic-links",
   "metadata": {},
   "outputs": [
    {
     "data": {
      "image/png": "[encoded data removed]",
      "text/plain": [
       "<Figure size 432x288 with 1 Axes>"
      ]
     },
     "metadata": {},
     "output_type": "display_data"
    }
   ],
   "source": [
    "accuracy_val_lr = []\n",
    "\n",
    "i=0\n",
    "for i in range(0,10):\n",
    "      \n",
    "      X_train, X_test, y_train, y_test = train_test_split(X, y, test_size=0.1, random_state=i, shuffle=True, stratify=y)\n",
    "      X_train, X_val, y_train, y_val   = train_test_split(X_train, y_train, test_size=0.3, random_state=0, shuffle=True, stratify=y_train)\n",
    "        \n",
    "      # for each iteration we create train and predict on the val, creating i confusion matrix   \n",
    "      fit = lr.fit(X_train, y_train)\n",
    "      y_pred = fit.predict(X_val)\n",
    "      globals()[f\"conf_mat_val_lr_{i}\"]  = confusion_matrix(y_val, y_pred)\n",
    "       \n",
    "      # from each of these confusion matrix we extract with the function ravel tn, fn, fp, tp and we calculate the accuracy\n",
    "      globals()[f\"tn_val_lr_{i}\"], globals()[f\"fp_val_lr_{i}\"], globals()[f\"fn_val_lr_{i}\"], globals()[f\"tp_val_lr_{i}\"] = globals()[f\"conf_mat_val_lr_{i}\"].ravel()  \n",
    "      globals()[f\"accuracy_val_lr_{i}\"] = (globals()[f\"tn_val_lr_{i}\"]+globals()[f\"tp_val_lr_{i}\"])/(globals()[f\"tn_val_lr_{i}\"]+globals()[f\"fn_val_lr_{i}\"]+globals()[f\"fp_val_lr_{i}\"]+globals()[f\"tp_val_lr_{i}\"])\n",
    "        \n",
    "      # we collect the accuracy in an array with len i  \n",
    "      accuracy_val_lr.append(globals()[f\"accuracy_val_lr_{i}\"])\n",
    "      i=i+1\n",
    "\n",
    "labels=['True label','Predicted label']\n",
    "#conf_mat_lr_perc = (conf_mat_lr/conf_mat_lr.sum())\n",
    "conf_mat_val_lr = (conf_mat_val_lr_0+conf_mat_val_lr_1+conf_mat_val_lr_2+conf_mat_val_lr_3+conf_mat_val_lr_4+conf_mat_val_lr_5+conf_mat_val_lr_6+conf_mat_val_lr_7+conf_mat_val_lr_8+conf_mat_val_lr_9)/10\n",
    "#sns.heatmap(conf_mat_lr_perc, square=True, annot=True, cmap='Blues',cbar=True,fmt='.2%')\n",
    "confusion_matrix_custom.make_confusion_matrix(conf_mat_val_lr,cbar=False)"
   ]
  },
  {
   "cell_type": "code",
   "execution_count": 59,
   "id": "inner-valentine",
   "metadata": {},
   "outputs": [
    {
     "data": {
      "text/plain": [
       "[0.7317073170731707,\n",
       " 0.7560975609756098,\n",
       " 0.7195121951219512,\n",
       " 0.7276422764227642,\n",
       " 0.7073170731707317,\n",
       " 0.7479674796747967,\n",
       " 0.7398373983739838,\n",
       " 0.7073170731707317,\n",
       " 0.7276422764227642,\n",
       " 0.6951219512195121]"
      ]
     },
     "execution_count": 59,
     "metadata": {},
     "output_type": "execute_result"
    }
   ],
   "source": [
    "accuracy_val_lr"
   ]
  },
  {
   "cell_type": "markdown",
   "id": "outdoor-pottery",
   "metadata": {},
   "source": [
    "In this part the idea is to use the method folds.split in order to apply the prediction to differents subset of our arrays.<br>\n",
    "For each iteration we collect the y predicted and the y test in order to obtain teh confusion matrix: in this way we have 10 confusion matrix.\n",
    "In order to plot it, we sum all the results in a single confusion matrix."
   ]
  },
  {
   "cell_type": "code",
   "execution_count": 60,
   "id": "fuzzy-fitting",
   "metadata": {},
   "outputs": [],
   "source": [
    "#folds.split(X,y)\n",
    "#\n",
    "#i=0\n",
    "#for train_index, test_index in folds.split(X,y):\n",
    "#      X_train, X_test, y_train, y_test = X[train_index], X[test_index], y[train_index], y[test_index]\n",
    "#      fit = lr.fit(X_train, y_train)\n",
    "#      y_pred = fit.predict(X_test)\n",
    "#      globals()[f\"conf_mat{i}\"]  = confusion_matrix(y_test, y_pred)\n",
    "#      i=i+1\n",
    "\n",
    "#labels=['True label','Predicted label']\n",
    "#conf_mat_lr_perc = (conf_mat_lr/conf_mat_lr.sum())\n",
    "#conf_mat_lr = conf_mat0+conf_mat1+conf_mat2+conf_mat3+conf_mat4+conf_mat5+conf_mat6+conf_mat7+conf_mat8+conf_mat9     \n",
    "#sns.heatmap(conf_mat_lr_perc, square=True, annot=True, cmap='Blues',cbar=True,fmt='.2%')\n",
    "#confusion_matrix_custom.make_confusion_matrix(conf_mat_lr,cbar=False)"
   ]
  },
  {
   "cell_type": "markdown",
   "id": "absent-underwear",
   "metadata": {},
   "source": [
    "## Random Forest Classifier"
   ]
  },
  {
   "cell_type": "code",
   "execution_count": 61,
   "id": "ongoing-maryland",
   "metadata": {},
   "outputs": [],
   "source": [
    "from sklearn.ensemble import RandomForestClassifier\n",
    "from numpy import random"
   ]
  },
  {
   "cell_type": "markdown",
   "id": "pleasant-knock",
   "metadata": {},
   "source": [
    "Now we would like to apply with the same data the classifier 'Random Forest'. Here in order to have the best results we need<br>\n",
    "to find the optimal n_estimators, that, as we can see, is required by the object."
   ]
  },
  {
   "cell_type": "code",
   "execution_count": 62,
   "id": "demographic-chair",
   "metadata": {},
   "outputs": [
    {
     "data": {
      "text/plain": [
       "54"
      ]
     },
     "execution_count": 62,
     "metadata": {},
     "output_type": "execute_result"
    }
   ],
   "source": [
    "n = random.randint(0,80)\n",
    "n"
   ]
  },
  {
   "cell_type": "code",
   "execution_count": 63,
   "id": "basic-rendering",
   "metadata": {},
   "outputs": [
    {
     "data": {
      "text/plain": [
       "array([0.75      , 0.78021978, 0.73626374, 0.85714286, 0.8021978 ,\n",
       "       0.75824176, 0.73626374, 0.81318681, 0.74725275, 0.71428571])"
      ]
     },
     "execution_count": 63,
     "metadata": {},
     "output_type": "execute_result"
    }
   ],
   "source": [
    "cross_val_score(RandomForestClassifier(n_estimators=n), X, y, cv=10)#"
   ]
  },
  {
   "cell_type": "markdown",
   "id": "military-parts",
   "metadata": {},
   "source": [
    "We create a dataframe to collect all the accuracies calculated by our classifier. After that we launch in loop the model <br>\n",
    "changing each iteration the n of estimators (from 2 to 80) and collecting the results in the dataframe. Sorting the dataframe by the <br>\n",
    "accuracy it is possible to get the best n of estimators."
   ]
  },
  {
   "cell_type": "code",
   "execution_count": 82,
   "id": "cardiac-connecticut",
   "metadata": {},
   "outputs": [
    {
     "name": "stdout",
     "output_type": "stream",
     "text": [
      "Wall time: 45.7 s\n"
     ]
    },
    {
     "data": {
      "text/plain": [
       "<AxesSubplot:xlabel='n_estimators'>"
      ]
     },
     "execution_count": 82,
     "metadata": {},
     "output_type": "execute_result"
    },
    {
     "data": {
      "image/png": "[encoded data removed]",
      "text/plain": [
       "<Figure size 864x432 with 1 Axes>"
      ]
     },
     "metadata": {},
     "output_type": "display_data"
    }
   ],
   "source": [
    "%%time\n",
    "\n",
    "#for collect the results of n_estimators and accuracy to plot\n",
    "accuracy_rf_nest=pd.DataFrame(np.array([(0, 0.0)]), columns=['n_estimators','accuracy_rf'])\n",
    "\n",
    "#first cicle for the n estimators\n",
    "for nest in range(2,80):\n",
    "    rf = RandomForestClassifier(n_estimators=nest) \n",
    "    globals()[f\"accuracy_val_rf{nest}\"]=[]\n",
    "    \n",
    "    #second cicle for K Cross Fold Validation\n",
    "    for i in range(0,10):\n",
    "\n",
    "          X_train, X_test, y_train, y_test = train_test_split(X, y, test_size=0.1, random_state=i, shuffle=True, stratify=y)\n",
    "          X_train, X_val, y_train, y_val   = train_test_split(X_train, y_train, test_size=0.3, random_state=0, shuffle=True, stratify=y_train)\n",
    "          \n",
    "          # for each iteration we create train and predict on the val, creating i confusion matrix  \n",
    "          fit = rf.fit(X_train, y_train)        \n",
    "          y_pred = fit.predict(X_val)\n",
    "          globals()[f\"conf_val_rf_{i}\"]  = confusion_matrix(y_val, y_pred)\n",
    "          \n",
    "          # from each of these confusion matrix we extract with the function ravel tn, fp, fn, tp and we calculate the accuracy (tn, fp, fn, tp = confusion_matrix([0, 1, 0, 1], [1, 1, 1, 0]).ravel())\n",
    "          globals()[f\"tn_val_rf_{i}\"], globals()[f\"fp_val_rf_{i}\"], globals()[f\"fn_val_rf_{i}\"], globals()[f\"tp_val_rf_{i}\"] = globals()[f\"conf_val_rf_{i}\"].ravel()  \n",
    "          globals()[f\"accuracy_{i}\"] = (globals()[f\"tn_val_rf_{i}\"]+globals()[f\"tp_val_rf_{i}\"]) / (globals()[f\"tn_val_rf_{i}\"]+globals()[f\"fp_val_rf_{i}\"]+globals()[f\"fn_val_rf_{i}\"]+globals()[f\"tp_val_rf_{i}\"])          \n",
    "          \n",
    "          # we collect the accuracy in an nest-esim array with len i\n",
    "          globals()[f\"accuracy_val_rf{nest}\"].append(globals()[f\"accuracy_{i}\"])     \n",
    "                \n",
    "                \n",
    "    #out of the second cycle we put for each iteration in our dataframe the n_est and the mean of the accuracies of the i-esim array            \n",
    "    accuracy_rf_nest['n_estimators'][nest-2] = nest\n",
    "    accuracy_rf_nest['accuracy_rf'][nest-2] = np.mean(globals()[f\"accuracy_val_rf{nest}\"])\n",
    "    accuracy_rf_nest = accuracy_rf_nest.append({'n_estimators':0, 'accuracy_rf':0}, ignore_index=True)  \n",
    "       \n",
    "\n",
    "#we plot all the means and we obtain the best n of estimators for our validations sets    \n",
    "accuracy_rf_nest=accuracy_rf_nest[accuracy_rf_nest['accuracy_rf']!=0]#.set_index()\n",
    "accuracy_rf_nest.plot(kind='line', x='n_estimators',  y='accuracy_rf', figsize=(12,6), color='mediumblue')      "
   ]
  },
  {
   "cell_type": "code",
   "execution_count": 83,
   "id": "olive-suite",
   "metadata": {},
   "outputs": [],
   "source": [
    "#%%time\n",
    "#\n",
    "#accuracy_rf_i=pd.DataFrame(np.array([(0, 0.0)]), columns=['n_estimators','accuracy_rf'])\n",
    "#\n",
    "#for i in range(2,81):\n",
    "#      accuracy_rf_a = cross_val_score(RandomForestClassifier(n_estimators=i), X, y, cv=10).mean()    \n",
    "# \n",
    "#      accuracy_rf_i['n_estimators'][i-2] = i\n",
    "#      accuracy_rf_i['accuracy_rf'][i-2] = accuracy_rf_a\n",
    "#      accuracy_rf_i = accuracy_rf_i.append({'n_estimators':0, 'accuracy_rf':0}, ignore_index=True)\n",
    "#\n",
    "#accuracy_rf_i=accuracy_rf_i[accuracy_rf_i['accuracy_rf']!=0]#.set_index()\n",
    "#accuracy_rf_i.plot(kind='line', x='n_estimators',  y='accuracy_rf', figsize=(12,6), color='mediumblue')"
   ]
  },
  {
   "cell_type": "code",
   "execution_count": 84,
   "id": "proof-network",
   "metadata": {},
   "outputs": [
    {
     "data": {
      "text/html": [
       "<div>\n",
       "<style scoped>\n",
       "    .dataframe tbody tr th:only-of-type {\n",
       "        vertical-align: middle;\n",
       "    }\n",
       "\n",
       "    .dataframe tbody tr th {\n",
       "        vertical-align: top;\n",
       "    }\n",
       "\n",
       "    .dataframe thead th {\n",
       "        text-align: right;\n",
       "    }\n",
       "</style>\n",
       "<table border=\"1\" class=\"dataframe\">\n",
       "  <thead>\n",
       "    <tr style=\"text-align: right;\">\n",
       "      <th></th>\n",
       "      <th>n_estimators</th>\n",
       "      <th>accuracy_rf</th>\n",
       "    </tr>\n",
       "  </thead>\n",
       "  <tbody>\n",
       "    <tr>\n",
       "      <th>0</th>\n",
       "      <td>74.0</td>\n",
       "      <td>0.776829</td>\n",
       "    </tr>\n",
       "    <tr>\n",
       "      <th>1</th>\n",
       "      <td>65.0</td>\n",
       "      <td>0.773577</td>\n",
       "    </tr>\n",
       "    <tr>\n",
       "      <th>2</th>\n",
       "      <td>77.0</td>\n",
       "      <td>0.773577</td>\n",
       "    </tr>\n",
       "    <tr>\n",
       "      <th>3</th>\n",
       "      <td>75.0</td>\n",
       "      <td>0.772764</td>\n",
       "    </tr>\n",
       "    <tr>\n",
       "      <th>4</th>\n",
       "      <td>71.0</td>\n",
       "      <td>0.771545</td>\n",
       "    </tr>\n",
       "    <tr>\n",
       "      <th>...</th>\n",
       "      <td>...</td>\n",
       "      <td>...</td>\n",
       "    </tr>\n",
       "    <tr>\n",
       "      <th>73</th>\n",
       "      <td>5.0</td>\n",
       "      <td>0.723577</td>\n",
       "    </tr>\n",
       "    <tr>\n",
       "      <th>74</th>\n",
       "      <td>6.0</td>\n",
       "      <td>0.709756</td>\n",
       "    </tr>\n",
       "    <tr>\n",
       "      <th>75</th>\n",
       "      <td>3.0</td>\n",
       "      <td>0.707317</td>\n",
       "    </tr>\n",
       "    <tr>\n",
       "      <th>76</th>\n",
       "      <td>4.0</td>\n",
       "      <td>0.676829</td>\n",
       "    </tr>\n",
       "    <tr>\n",
       "      <th>77</th>\n",
       "      <td>2.0</td>\n",
       "      <td>0.611382</td>\n",
       "    </tr>\n",
       "  </tbody>\n",
       "</table>\n",
       "<p>78 rows × 2 columns</p>\n",
       "</div>"
      ],
      "text/plain": [
       "    n_estimators  accuracy_rf\n",
       "0           74.0     0.776829\n",
       "1           65.0     0.773577\n",
       "2           77.0     0.773577\n",
       "3           75.0     0.772764\n",
       "4           71.0     0.771545\n",
       "..           ...          ...\n",
       "73           5.0     0.723577\n",
       "74           6.0     0.709756\n",
       "75           3.0     0.707317\n",
       "76           4.0     0.676829\n",
       "77           2.0     0.611382\n",
       "\n",
       "[78 rows x 2 columns]"
      ]
     },
     "execution_count": 84,
     "metadata": {},
     "output_type": "execute_result"
    }
   ],
   "source": [
    "accuracy_rf_nest = accuracy_rf_nest.sort_values('accuracy_rf', ascending=False).reset_index(drop=True)#.tail(3)\n",
    "accuracy_rf_nest"
   ]
  },
  {
   "cell_type": "code",
   "execution_count": 66,
   "id": "political-china",
   "metadata": {},
   "outputs": [
    {
     "data": {
      "text/plain": [
       "43.0"
      ]
     },
     "execution_count": 66,
     "metadata": {},
     "output_type": "execute_result"
    }
   ],
   "source": [
    "accuracy_rf_nest['n_estimators'][0]"
   ]
  },
  {
   "cell_type": "markdown",
   "id": "gross-uruguay",
   "metadata": {},
   "source": [
    "Once we know the best n estimators to use, we can use as before this number to get the accuracy of our model and <br>\n",
    "to plot the confusion matrix"
   ]
  },
  {
   "cell_type": "code",
   "execution_count": 85,
   "id": "capable-ridge",
   "metadata": {},
   "outputs": [],
   "source": [
    "rf = RandomForestClassifier(n_estimators=int(accuracy_rf_nest['n_estimators'][0]))"
   ]
  },
  {
   "cell_type": "code",
   "execution_count": 86,
   "id": "amber-ukraine",
   "metadata": {},
   "outputs": [
    {
     "data": {
      "image/png": "[encoded data removed]",
      "text/plain": [
       "<Figure size 432x288 with 1 Axes>"
      ]
     },
     "metadata": {},
     "output_type": "display_data"
    }
   ],
   "source": [
    "accuracy_val_rf = []\n",
    "\n",
    "i=0\n",
    "for i in range(0,10):\n",
    "      X_train, X_test, y_train, y_test = train_test_split(X, y, test_size=0.1, random_state=i, shuffle=True, stratify=y)\n",
    "      X_train, X_val, y_train, y_val   = train_test_split(X_train, y_train, test_size=0.3, random_state=0, shuffle=True, stratify=y_train)\n",
    "      fit = rf.fit(X_train, y_train)\n",
    "      y_pred = fit.predict(X_val)\n",
    "      globals()[f\"conf_mat_val_rf_{i}\"]  = confusion_matrix(y_val, y_pred)\n",
    "        \n",
    "      globals()[f\"tn_val_rf_{i}\"], globals()[f\"fp_val_rf_{i}\"], globals()[f\"fn_val_rf_{i}\"], globals()[f\"tp_val_rf_{i}\"] = globals()[f\"conf_mat_val_rf_{i}\"].ravel()  \n",
    "      globals()[f\"accuracy_val_rf_{i}\"] = (globals()[f\"tn_val_rf_{i}\"]+globals()[f\"tp_val_rf_{i}\"])/(globals()[f\"tn_val_rf_{i}\"]+globals()[f\"fn_val_rf_{i}\"]+globals()[f\"fp_val_rf_{i}\"]+globals()[f\"tp_val_rf_{i}\"])\n",
    "        \n",
    "      accuracy_val_rf.append(globals()[f\"accuracy_val_rf_{i}\"])\n",
    "      #i=i+1\n",
    "\n",
    "labels=['True label','Predicted label']\n",
    "#conf_mat_rf_perc = (conf_mat_rf/conf_mat_rf.sum())\n",
    "conf_mat_val_rf = (conf_mat_val_rf_0+conf_mat_val_rf_1+conf_mat_val_rf_2+conf_mat_val_rf_3+conf_mat_val_rf_4+conf_mat_val_rf_5+conf_mat_val_rf_6+conf_mat_val_rf_7+conf_mat_val_rf_8+conf_mat_val_rf_9)/10\n",
    "#sns.heatmap(conf_mat_rf_perc, square=True, annot=True, cmap='Blues',cbar=True,fmt='.2%')\n",
    "confusion_matrix_custom.make_confusion_matrix(conf_mat_val_rf,cbar=False)"
   ]
  },
  {
   "cell_type": "code",
   "execution_count": 87,
   "id": "paperback-dominant",
   "metadata": {},
   "outputs": [],
   "source": [
    "#i=0\n",
    "#for train_index, test_index in folds.split(X,y):\n",
    "#      X_train, X_test, y_train, y_test = X[train_index], X[test_index], y[train_index], y[test_index]\n",
    "#      fit = rf.fit(X_train, y_train)\n",
    "#      y_pred = fit.predict(X_test)\n",
    "#      globals()[f\"conf_mat{i}\"]  = confusion_matrix(y_test, y_pred)\n",
    "#      i=i+1\n",
    "\n",
    "#labels=['True label','Predicted label']\n",
    "#conf_mat_lr_perc = (conf_mat_lr/conf_mat_lr.sum())\n",
    "#conf_mat_rf = conf_mat1+conf_mat2+conf_mat3+conf_mat4+conf_mat5+conf_mat6+conf_mat7+conf_mat8+conf_mat9     \n",
    "#sns.heatmap(conf_mat_lr_perc, square=True, annot=True, cmap='Blues',cbar=True,fmt='.2%')\n",
    "#confusion_matrix_custom.make_confusion_matrix(conf_mat_rf, cbar=False)"
   ]
  },
  {
   "cell_type": "code",
   "execution_count": 88,
   "id": "angry-garlic",
   "metadata": {},
   "outputs": [
    {
     "data": {
      "text/plain": [
       "[0.7764227642276422,\n",
       " 0.7967479674796748,\n",
       " 0.7886178861788617,\n",
       " 0.7479674796747967,\n",
       " 0.7398373983739838,\n",
       " 0.7764227642276422,\n",
       " 0.7764227642276422,\n",
       " 0.7926829268292683,\n",
       " 0.7601626016260162,\n",
       " 0.7560975609756098]"
      ]
     },
     "execution_count": 88,
     "metadata": {},
     "output_type": "execute_result"
    }
   ],
   "source": [
    "accuracy_val_rf"
   ]
  },
  {
   "cell_type": "markdown",
   "id": "excessive-blogger",
   "metadata": {},
   "source": [
    "# Support Vector Machine"
   ]
  },
  {
   "cell_type": "code",
   "execution_count": 89,
   "id": "capital-murder",
   "metadata": {},
   "outputs": [],
   "source": [
    "from sklearn import svm"
   ]
  },
  {
   "cell_type": "code",
   "execution_count": 137,
   "id": "experienced-nebraska",
   "metadata": {},
   "outputs": [
    {
     "name": "stdout",
     "output_type": "stream",
     "text": [
      "Wall time: 18.3 s\n"
     ]
    },
    {
     "data": {
      "text/plain": [
       "<AxesSubplot:xlabel='c'>"
      ]
     },
     "execution_count": 137,
     "metadata": {},
     "output_type": "execute_result"
    },
    {
     "data": {
      "image/png": "[encoded data removed]",
      "text/plain": [
       "<Figure size 864x432 with 1 Axes>"
      ]
     },
     "metadata": {},
     "output_type": "display_data"
    }
   ],
   "source": [
    "%%time\n",
    "\n",
    "#for collect the results of n_estimators and accuracy to plot\n",
    "accuracy_svc_c_linear=pd.DataFrame(np.array([(0, 0.0)]), columns=['c','accuracy_svc_linear'])\n",
    "\n",
    "#first cicle for the n estimators\n",
    "for j in range(0,20):\n",
    "    c=(j+1)/20\n",
    "    svc = svm.SVC(C=c, kernel='linear')\n",
    "    globals()[f\"accuracy_val_svc{j}\"]=[]\n",
    "    \n",
    "    #second cicle for K Cross Fold Validation\n",
    "    for i in range(0,10):\n",
    "\n",
    "          X_train, X_test, y_train, y_test = train_test_split(X, y, test_size=0.1, random_state=i, shuffle=True, stratify=y)\n",
    "          X_train, X_val, y_train, y_val   = train_test_split(X_train, y_train, test_size=0.3, random_state=0, shuffle=True, stratify=y_train)\n",
    "          \n",
    "          # for each iteration we create train and predict on the val, creating i confusion matrix  \n",
    "          fit = svc.fit(X_train, y_train)        \n",
    "          y_pred = fit.predict(X_val)\n",
    "          globals()[f\"conf_val_svc_{i}\"]  = confusion_matrix(y_val, y_pred)\n",
    "          \n",
    "          # from each of these confusion matrix we extract with the function ravel tn, fn, fp, tp and we calculate the accuracy\n",
    "          globals()[f\"tn_val_svc_{i}\"], globals()[f\"fp_val_svc_{i}\"], globals()[f\"fn_val_svc_{i}\"], globals()[f\"tp_val_svc_{i}\"] = globals()[f\"conf_val_svc_{i}\"].ravel()  \n",
    "          globals()[f\"accuracy_svc{i}\"] = (globals()[f\"tn_val_svc_{i}\"]+globals()[f\"tp_val_svc_{i}\"]) / (globals()[f\"tn_val_svc_{i}\"]+globals()[f\"fn_val_svc_{i}\"]+globals()[f\"fp_val_svc_{i}\"]+globals()[f\"tp_val_svc_{i}\"])          \n",
    "          \n",
    "          # we collect the accuracy in an c-esim array with len i\n",
    "          globals()[f\"accuracy_val_svc{j}\"].append(globals()[f\"accuracy_svc{i}\"])     \n",
    "                \n",
    "                \n",
    "    #out of the second cycle we put for each iteration in our dataframe the n_est and the mean of the accuracies of the i-esim array            \n",
    "    accuracy_svc_c_linear['c'][j-2] = c\n",
    "    accuracy_svc_c_linear['accuracy_svc_linear'][j-2] = np.mean(globals()[f\"accuracy_val_svc{j}\"])\n",
    "    accuracy_svc_c_linear = accuracy_svc_c_linear.append({'c':0, 'accuracy_svc_linear':0}, ignore_index=True)  \n",
    "       \n",
    "\n",
    "#we plot all the means and we obtain the best n of estimators for our validations sets    \n",
    "accuracy_svc_c_linear=accuracy_svc_c_linear[accuracy_svc_c_linear['accuracy_svc_linear']!=0]#.set_index()\n",
    "accuracy_svc_c_linear.plot(kind='line', x='c',  y='accuracy_svc_linear', figsize=(12,6), color='mediumblue')     "
   ]
  },
  {
   "cell_type": "code",
   "execution_count": 116,
   "id": "integral-sight",
   "metadata": {},
   "outputs": [
    {
     "name": "stdout",
     "output_type": "stream",
     "text": [
      "Wall time: 4.83 s\n"
     ]
    },
    {
     "data": {
      "text/plain": [
       "<AxesSubplot:xlabel='c'>"
      ]
     },
     "execution_count": 116,
     "metadata": {},
     "output_type": "execute_result"
    },
    {
     "data": {
      "image/png": "[encoded data removed]",
      "text/plain": [
       "<Figure size 864x432 with 1 Axes>"
      ]
     },
     "metadata": {},
     "output_type": "display_data"
    }
   ],
   "source": [
    "%%time\n",
    "\n",
    "#for collect the results of n_estimators and accuracy to plot\n",
    "accuracy_svc_c_rbf=pd.DataFrame(np.array([(0, 0.0)]), columns=['c','accuracy_svc_rbf'])\n",
    "\n",
    "#first cicle for the n estimators\n",
    "for j in range(0,30):\n",
    "    c=(j+1)/10\n",
    "    svc = svm.SVC(C=c)\n",
    "    globals()[f\"accuracy_val_svc{j}\"]=[]\n",
    "    \n",
    "    #second cicle for K Cross Fold Validation\n",
    "    for i in range(0,10):\n",
    "\n",
    "          X_train, X_test, y_train, y_test = train_test_split(X, y, test_size=0.1, random_state=i, shuffle=True, stratify=y)\n",
    "          X_train, X_val, y_train, y_val   = train_test_split(X_train, y_train, test_size=0.3, random_state=0, shuffle=True, stratify=y_train)\n",
    "          \n",
    "          # for each iteration we create train and predict on the val, creating i confusion matrix  \n",
    "          fit = svc.fit(X_train, y_train)        \n",
    "          y_pred = fit.predict(X_val)\n",
    "          globals()[f\"conf_val_svc_{i}\"]  = confusion_matrix(y_val, y_pred)\n",
    "          \n",
    "          # from each of these confusion matrix we extract with the function ravel tn, fn, fp, tp and we calculate the accuracy\n",
    "          globals()[f\"tn_val_svc_{i}\"], globals()[f\"fp_val_svc_{i}\"], globals()[f\"fn_val_svc_{i}\"], globals()[f\"tp_val_svc_{i}\"] = globals()[f\"conf_val_svc_{i}\"].ravel()  \n",
    "          globals()[f\"accuracy_svc{i}\"] = (globals()[f\"tn_val_svc_{i}\"]+globals()[f\"tp_val_svc_{i}\"]) / (globals()[f\"tn_val_svc_{i}\"]+globals()[f\"fn_val_svc_{i}\"]+globals()[f\"fp_val_svc_{i}\"]+globals()[f\"tp_val_svc_{i}\"])          \n",
    "          \n",
    "          # we collect the accuracy in an c-esim array with len i\n",
    "          globals()[f\"accuracy_val_svc{j}\"].append(globals()[f\"accuracy_svc{i}\"])     \n",
    "                \n",
    "                \n",
    "    #out of the second cycle we put for each iteration in our dataframe the n_est and the mean of the accuracies of the i-esim array            \n",
    "    accuracy_svc_c_rbf['c'][j-2] = c\n",
    "    accuracy_svc_c_rbf['accuracy_svc_rbf'][j-2] = np.mean(globals()[f\"accuracy_val_svc{j}\"])\n",
    "    accuracy_svc_c_rbf = accuracy_svc_c_rbf.append({'c':0, 'accuracy_svc_rbf':0}, ignore_index=True)  \n",
    "       \n",
    "\n",
    "#we plot all the means and we obtain the best n of estimators for our validations sets    \n",
    "accuracy_svc_c_rbf=accuracy_svc_c_rbf[accuracy_svc_c_rbf['accuracy_svc_rbf']!=0]#.set_index()\n",
    "accuracy_svc_c_rbf.plot(kind='line', x='c',  y='accuracy_svc_rbf', figsize=(12,6), color='mediumblue')     "
   ]
  },
  {
   "cell_type": "code",
   "execution_count": 113,
   "id": "modified-phenomenon",
   "metadata": {},
   "outputs": [
    {
     "name": "stdout",
     "output_type": "stream",
     "text": [
      "Wall time: 3.58 s\n"
     ]
    },
    {
     "data": {
      "text/plain": [
       "<AxesSubplot:xlabel='c'>"
      ]
     },
     "execution_count": 113,
     "metadata": {},
     "output_type": "execute_result"
    },
    {
     "data": {
      "image/png": "[encoded data removed]",
      "text/plain": [
       "<Figure size 864x432 with 1 Axes>"
      ]
     },
     "metadata": {},
     "output_type": "display_data"
    }
   ],
   "source": [
    "%%time\n",
    "\n",
    "#for collect the results of n_estimators and accuracy to plot\n",
    "accuracy_svc_c=pd.DataFrame(np.array([(0, 0.0)]), columns=['c','accuracy_svc_sigmoid'])\n",
    "\n",
    "#first cicle for the n estimators\n",
    "for j in range(0,30):\n",
    "    c=(j+1)/20\n",
    "    svc = svm.SVC(C=c, kernel='sigmoid')\n",
    "    globals()[f\"accuracy_val_svc{j}\"]=[]\n",
    "    \n",
    "    #second cicle for K Cross Fold Validation\n",
    "    for i in range(0,10):\n",
    "\n",
    "          X_train, X_test, y_train, y_test = train_test_split(X, y, test_size=0.1, random_state=i, shuffle=True, stratify=y)\n",
    "          X_train, X_val, y_train, y_val   = train_test_split(X_train, y_train, test_size=0.3, random_state=0, shuffle=True, stratify=y_train)\n",
    "          \n",
    "          # for each iteration we create train and predict on the val, creating i confusion matrix  \n",
    "          fit = svc.fit(X_train, y_train)        \n",
    "          y_pred = fit.predict(X_val)\n",
    "          globals()[f\"conf_val_svc_{i}\"]  = confusion_matrix(y_val, y_pred)\n",
    "          \n",
    "          # from each of these confusion matrix we extract with the function ravel tn, fn, fp, tp and we calculate the accuracy\n",
    "          globals()[f\"tn_val_svc_{i}\"], globals()[f\"fp_val_svc_{i}\"], globals()[f\"fn_val_svc_{i}\"], globals()[f\"tp_val_svc_{i}\"] = globals()[f\"conf_val_svc_{i}\"].ravel()  \n",
    "          globals()[f\"accuracy_svc{i}\"] = (globals()[f\"tn_val_svc_{i}\"]+globals()[f\"tp_val_svc_{i}\"]) / (globals()[f\"tn_val_svc_{i}\"]+globals()[f\"fn_val_svc_{i}\"]+globals()[f\"fp_val_svc_{i}\"]+globals()[f\"tp_val_svc_{i}\"])          \n",
    "          \n",
    "          # we collect the accuracy in an c-esim array with len i\n",
    "          globals()[f\"accuracy_val_svc{j}\"].append(globals()[f\"accuracy_svc{i}\"])     \n",
    "                \n",
    "                \n",
    "    #out of the second cycle we put for each iteration in our dataframe the n_est and the mean of the accuracies of the i-esim array            \n",
    "    accuracy_svc_c['c'][j-2] = c\n",
    "    accuracy_svc_c['accuracy_svc_sigmoid'][j-2] = np.mean(globals()[f\"accuracy_val_svc{j}\"])\n",
    "    accuracy_svc_c = accuracy_svc_c.append({'c':0, 'accuracy_svc_sigmoid':0}, ignore_index=True)  \n",
    "       \n",
    "\n",
    "#we plot all the means and we obtain the best n of estimators for our validations sets    \n",
    "accuracy_svc_c=accuracy_svc_c[accuracy_svc_c['accuracy_svc_sigmoid']!=0]#.set_index()\n",
    "accuracy_svc_c.plot(kind='line', x='c',  y='accuracy_svc_sigmoid', figsize=(12,6), color='mediumblue')     "
   ]
  },
  {
   "cell_type": "markdown",
   "id": "varied-selection",
   "metadata": {},
   "source": [
    "We create a dataframe to collect all the accuracies calculated by our classifier. After that we launch in loop the model <br>\n",
    "changing each iteration the value of C and collecting the results in the dataframe. Sorting the dataframe by the <br>\n",
    "accuracy it is possible to get the best n of estimators."
   ]
  },
  {
   "cell_type": "code",
   "execution_count": 138,
   "id": "posted-pursuit",
   "metadata": {},
   "outputs": [
    {
     "data": {
      "text/html": [
       "<div>\n",
       "<style scoped>\n",
       "    .dataframe tbody tr th:only-of-type {\n",
       "        vertical-align: middle;\n",
       "    }\n",
       "\n",
       "    .dataframe tbody tr th {\n",
       "        vertical-align: top;\n",
       "    }\n",
       "\n",
       "    .dataframe thead th {\n",
       "        text-align: right;\n",
       "    }\n",
       "</style>\n",
       "<table border=\"1\" class=\"dataframe\">\n",
       "  <thead>\n",
       "    <tr style=\"text-align: right;\">\n",
       "      <th></th>\n",
       "      <th>c</th>\n",
       "      <th>accuracy_svc_linear</th>\n",
       "    </tr>\n",
       "  </thead>\n",
       "  <tbody>\n",
       "    <tr>\n",
       "      <th>0</th>\n",
       "      <td>0.15</td>\n",
       "      <td>0.731301</td>\n",
       "    </tr>\n",
       "    <tr>\n",
       "      <th>1</th>\n",
       "      <td>0.20</td>\n",
       "      <td>0.728862</td>\n",
       "    </tr>\n",
       "    <tr>\n",
       "      <th>2</th>\n",
       "      <td>0.25</td>\n",
       "      <td>0.728455</td>\n",
       "    </tr>\n",
       "    <tr>\n",
       "      <th>3</th>\n",
       "      <td>0.35</td>\n",
       "      <td>0.725203</td>\n",
       "    </tr>\n",
       "    <tr>\n",
       "      <th>4</th>\n",
       "      <td>0.30</td>\n",
       "      <td>0.724797</td>\n",
       "    </tr>\n",
       "  </tbody>\n",
       "</table>\n",
       "</div>"
      ],
      "text/plain": [
       "      c  accuracy_svc_linear\n",
       "0  0.15             0.731301\n",
       "1  0.20             0.728862\n",
       "2  0.25             0.728455\n",
       "3  0.35             0.725203\n",
       "4  0.30             0.724797"
      ]
     },
     "execution_count": 138,
     "metadata": {},
     "output_type": "execute_result"
    }
   ],
   "source": [
    "accuracy_svc_c_linear = accuracy_svc_c_linear.sort_values('accuracy_svc_linear', ascending=False).reset_index(drop=True)#.tail(3)\n",
    "accuracy_svc_c_linear.head(5)"
   ]
  },
  {
   "cell_type": "code",
   "execution_count": 134,
   "id": "nonprofit-coupon",
   "metadata": {},
   "outputs": [
    {
     "data": {
      "text/html": [
       "<div>\n",
       "<style scoped>\n",
       "    .dataframe tbody tr th:only-of-type {\n",
       "        vertical-align: middle;\n",
       "    }\n",
       "\n",
       "    .dataframe tbody tr th {\n",
       "        vertical-align: top;\n",
       "    }\n",
       "\n",
       "    .dataframe thead th {\n",
       "        text-align: right;\n",
       "    }\n",
       "</style>\n",
       "<table border=\"1\" class=\"dataframe\">\n",
       "  <thead>\n",
       "    <tr style=\"text-align: right;\">\n",
       "      <th></th>\n",
       "      <th>c</th>\n",
       "      <th>accuracy_svc_rbf</th>\n",
       "    </tr>\n",
       "  </thead>\n",
       "  <tbody>\n",
       "    <tr>\n",
       "      <th>0</th>\n",
       "      <td>2.9</td>\n",
       "      <td>0.735772</td>\n",
       "    </tr>\n",
       "    <tr>\n",
       "      <th>1</th>\n",
       "      <td>3.0</td>\n",
       "      <td>0.735366</td>\n",
       "    </tr>\n",
       "    <tr>\n",
       "      <th>2</th>\n",
       "      <td>2.8</td>\n",
       "      <td>0.735366</td>\n",
       "    </tr>\n",
       "    <tr>\n",
       "      <th>3</th>\n",
       "      <td>2.7</td>\n",
       "      <td>0.734146</td>\n",
       "    </tr>\n",
       "    <tr>\n",
       "      <th>4</th>\n",
       "      <td>2.6</td>\n",
       "      <td>0.733740</td>\n",
       "    </tr>\n",
       "  </tbody>\n",
       "</table>\n",
       "</div>"
      ],
      "text/plain": [
       "     c  accuracy_svc_rbf\n",
       "0  2.9          0.735772\n",
       "1  3.0          0.735366\n",
       "2  2.8          0.735366\n",
       "3  2.7          0.734146\n",
       "4  2.6          0.733740"
      ]
     },
     "execution_count": 134,
     "metadata": {},
     "output_type": "execute_result"
    }
   ],
   "source": [
    "accuracy_svc_c_rbf = accuracy_svc_c_rbf.sort_values('accuracy_svc_rbf', ascending=False).reset_index(drop=True)#.tail(3)\n",
    "accuracy_svc_c_rbf.head(5)"
   ]
  },
  {
   "cell_type": "code",
   "execution_count": 120,
   "id": "cognitive-significance",
   "metadata": {},
   "outputs": [
    {
     "data": {
      "text/plain": [
       "2.9"
      ]
     },
     "execution_count": 120,
     "metadata": {},
     "output_type": "execute_result"
    }
   ],
   "source": [
    "accuracy_svc_c_rbf['c'][0]"
   ]
  },
  {
   "cell_type": "code",
   "execution_count": 121,
   "id": "cognitive-trout",
   "metadata": {},
   "outputs": [],
   "source": [
    "svc = svm.SVC(C=int(accuracy_svc_c_rbf['c'][0]), kernel='rbf')"
   ]
  },
  {
   "cell_type": "code",
   "execution_count": 126,
   "id": "metallic-bride",
   "metadata": {},
   "outputs": [
    {
     "data": {
      "image/png": "[encoded data removed]",
      "text/plain": [
       "<Figure size 432x288 with 1 Axes>"
      ]
     },
     "metadata": {},
     "output_type": "display_data"
    }
   ],
   "source": [
    "accuracy_val_svc = []\n",
    "\n",
    "i=0\n",
    "for i in range(0,10):\n",
    "      X_train, X_test, y_train, y_test = train_test_split(X, y, test_size=0.1, random_state=i, shuffle=True, stratify=y)\n",
    "      X_train, X_val, y_train, y_val   = train_test_split(X_train, y_train, test_size=0.3, random_state=0, shuffle=True, stratify=y_train)\n",
    "      fit = svc.fit(X_train, y_train)\n",
    "      y_pred = fit.predict(X_val)\n",
    "      globals()[f\"conf_mat_val_svc_{i}\"]  = confusion_matrix(y_val, y_pred)\n",
    "        \n",
    "      globals()[f\"tn_val_svc_{i}\"], globals()[f\"fp_val_svc_{i}\"], globals()[f\"fn_val_svc_{i}\"], globals()[f\"tp_val_svc_{i}\"] = globals()[f\"conf_mat_val_svc_{i}\"].ravel()  \n",
    "      globals()[f\"accuracy_val_svc_{i}\"] = (globals()[f\"tn_val_svc_{i}\"]+globals()[f\"tp_val_svc_{i}\"])/(globals()[f\"tn_val_svc_{i}\"]+globals()[f\"fn_val_svc_{i}\"]+globals()[f\"fp_val_svc_{i}\"]+globals()[f\"tp_val_svc_{i}\"])\n",
    "        \n",
    "      accuracy_val_svc.append(globals()[f\"accuracy_val_svc_{i}\"])\n",
    "      i=i+1\n",
    "\n",
    "labels=['True label','Predicted label']\n",
    "#conf_mat_svc_perc = (conf_mat_svc/conf_mat_svc.sum())\n",
    "conf_mat_val_svc = (conf_mat_val_svc_0+conf_mat_val_svc_1+conf_mat_val_svc_2+conf_mat_val_svc_3+conf_mat_val_svc_4+conf_mat_val_svc_5+conf_mat_val_svc_6+conf_mat_val_svc_7+conf_mat_val_svc_8+conf_mat_val_svc_9)/10\n",
    "#sns.heatmap(conf_mat_svc_perc, square=True, annot=True, cmap='Blues',cbar=True,fmt='.2%')\n",
    "confusion_matrix_custom.make_confusion_matrix(conf_mat_val_svc,cbar=False)"
   ]
  },
  {
   "cell_type": "code",
   "execution_count": 123,
   "id": "automotive-radiation",
   "metadata": {},
   "outputs": [
    {
     "data": {
      "text/plain": [
       "[0.7682926829268293,\n",
       " 0.6910569105691057,\n",
       " 0.7642276422764228,\n",
       " 0.7235772357723578,\n",
       " 0.7073170731707317,\n",
       " 0.7682926829268293,\n",
       " 0.7195121951219512,\n",
       " 0.7520325203252033,\n",
       " 0.7195121951219512,\n",
       " 0.7113821138211383]"
      ]
     },
     "execution_count": 123,
     "metadata": {},
     "output_type": "execute_result"
    }
   ],
   "source": [
    "accuracy_val_svc"
   ]
  },
  {
   "cell_type": "code",
   "execution_count": 127,
   "id": "million-aerospace",
   "metadata": {},
   "outputs": [],
   "source": [
    "#i=0\n",
    "#for i in range(0,9):\n",
    "#      X_train, X_test, y_train, y_test = train_test_split(X, y, test_size=0.1, random_state=i, shuffle=True, stratify=y)\n",
    "#      X_train, X_val, y_train, y_val   = train_test_split(X_train, y_train, test_size=0.3, random_state=0, shuffle=True, stratify=y_train)\n",
    "#      fit = svc.fit(X_train, y_train)\n",
    "#      y_pred = fit.predict(X_val)\n",
    "#      globals()[f\"conf_mat{i}\"]  = confusion_matrix(y_val, y_pred)\n",
    "#      i=i+1\n",
    "\n",
    "#labels=['True label','Predicted label']\n",
    "#conf_mat_lr_perc = (conf_mat_lr/conf_mat_lr.sum())\n",
    "#conf_mat_svc = conf_mat0+conf_mat1+conf_mat2+conf_mat3+conf_mat4+conf_mat5+conf_mat6+conf_mat7+conf_mat8+conf_mat9     \n",
    "#sns.heatmap(conf_mat_lr_perc, square=True, annot=True, cmap='Blues',cbar=True,fmt='.2%')\n",
    "#confusion_matrix_custom.make_confusion_matrix(conf_mat_svc,cbar=False)"
   ]
  },
  {
   "cell_type": "code",
   "execution_count": null,
   "id": "advanced-colombia",
   "metadata": {},
   "outputs": [],
   "source": [
    "#i=0\n",
    "#for train_index, test_index in folds.split(X,y):\n",
    "#      X_train, X_test, y_train, y_test = X[train_index], X[test_index], y[train_index], y[test_index]\n",
    "#      fit = svc.fit(X_train, y_train)\n",
    "#      y_pred = fit.predict(X_test)\n",
    "#      globals()[f\"conf_mat{i}\"]  = confusion_matrix(y_test, y_pred)\n",
    "#      i=i+1\n",
    "#\n",
    "#labels=['True label','Predicted label']\n",
    "#conf_mat_lr_perc = (conf_mat_lr/conf_mat_lr.sum())\n",
    "#conf_mat_svc = conf_mat1+conf_mat2+conf_mat3+conf_mat4+conf_mat5+conf_mat6+conf_mat7+conf_mat8+conf_mat9     \n",
    "#sns.heatmap(conf_mat_svc, square=True, annot=True, cmap='Blues',cbar=True,fmt='d')\n",
    "#confusion_matrix_custom.make_confusion_matrix(conf_mat_svc)"
   ]
  },
  {
   "cell_type": "code",
   "execution_count": 128,
   "id": "elementary-violin",
   "metadata": {},
   "outputs": [],
   "source": [
    "#accuracy_svc = cross_val_score(svc, X, y, cv=10).mean()\n",
    "#accuracy_svc"
   ]
  },
  {
   "cell_type": "markdown",
   "id": "given-wiring",
   "metadata": {},
   "source": [
    "### Wilcoxon Test"
   ]
  },
  {
   "cell_type": "code",
   "execution_count": 142,
   "id": "subsequent-heritage",
   "metadata": {},
   "outputs": [],
   "source": [
    "from scipy.stats import wilcoxon"
   ]
  },
  {
   "cell_type": "markdown",
   "id": "single-matter",
   "metadata": {},
   "source": [
    "During the fit on the validation sets we collected all the accuracies for each model in these below arrays:"
   ]
  },
  {
   "cell_type": "code",
   "execution_count": 192,
   "id": "developing-stockholm",
   "metadata": {},
   "outputs": [
    {
     "data": {
      "image/png": "[encoded data removed]",
      "text/plain": [
       "<Figure size 864x576 with 1 Axes>"
      ]
     },
     "metadata": {},
     "output_type": "display_data"
    }
   ],
   "source": [
    "plt.figure(figsize=(12,8))\n",
    "\n",
    "ax=[0,1,2,3,4,5,6,7,8,9]\n",
    "\n",
    "plt.xlabel('Validation Set')\n",
    "plt.ylabel('Accuracy')\n",
    "\n",
    "plt.ylim( (0, 0.9) )\n",
    "\n",
    "plt.plot(ax, accuracy_val_lr, color =\"green\", label='Logistic Regression')\n",
    "plt.plot(ax, accuracy_val_rf, color =\"blue\", label='Random Forest')\n",
    "plt.plot(ax, accuracy_val_svc, color =\"red\", label='SVC')\n",
    "\n",
    "\n",
    "plt.legend()\n",
    "plt.show()"
   ]
  },
  {
   "cell_type": "code",
   "execution_count": 173,
   "id": "aware-overhead",
   "metadata": {},
   "outputs": [
    {
     "data": {
      "text/plain": [
       "[0.7317073170731707,\n",
       " 0.7560975609756098,\n",
       " 0.7195121951219512,\n",
       " 0.7276422764227642,\n",
       " 0.7073170731707317,\n",
       " 0.7479674796747967,\n",
       " 0.7398373983739838,\n",
       " 0.7073170731707317,\n",
       " 0.7276422764227642,\n",
       " 0.6951219512195121]"
      ]
     },
     "execution_count": 173,
     "metadata": {},
     "output_type": "execute_result"
    }
   ],
   "source": [
    "accuracy_val_lr"
   ]
  },
  {
   "cell_type": "code",
   "execution_count": 140,
   "id": "distant-brunswick",
   "metadata": {},
   "outputs": [
    {
     "data": {
      "text/plain": [
       "[0.7764227642276422,\n",
       " 0.7967479674796748,\n",
       " 0.7886178861788617,\n",
       " 0.7479674796747967,\n",
       " 0.7398373983739838,\n",
       " 0.7764227642276422,\n",
       " 0.7764227642276422,\n",
       " 0.7926829268292683,\n",
       " 0.7601626016260162,\n",
       " 0.7560975609756098]"
      ]
     },
     "execution_count": 140,
     "metadata": {},
     "output_type": "execute_result"
    }
   ],
   "source": [
    "accuracy_val_rf"
   ]
  },
  {
   "cell_type": "code",
   "execution_count": 141,
   "id": "small-happiness",
   "metadata": {},
   "outputs": [
    {
     "data": {
      "text/plain": [
       "[0.7682926829268293,\n",
       " 0.6910569105691057,\n",
       " 0.7642276422764228,\n",
       " 0.7235772357723578,\n",
       " 0.7073170731707317,\n",
       " 0.7682926829268293,\n",
       " 0.7195121951219512,\n",
       " 0.7520325203252033,\n",
       " 0.7195121951219512,\n",
       " 0.7113821138211383]"
      ]
     },
     "execution_count": 141,
     "metadata": {},
     "output_type": "execute_result"
    }
   ],
   "source": [
    "accuracy_val_svc"
   ]
  },
  {
   "cell_type": "markdown",
   "id": "planned-blackjack",
   "metadata": {},
   "source": [
    "At this point we need to perform the Wilcoxon test (https://docs.scipy.org/doc/scipy/reference/generated/scipy.stats.wilcoxon.html); due to the limit of the function we will perform the tests for each couple of <br>\n",
    "model (Round Robin)"
   ]
  },
  {
   "cell_type": "markdown",
   "id": "electric-reasoning",
   "metadata": {},
   "source": [
    "Logistic Regression vs Random Forest"
   ]
  },
  {
   "cell_type": "code",
   "execution_count": 207,
   "id": "raising-swing",
   "metadata": {},
   "outputs": [],
   "source": [
    "w_lr_rf, p_lr_rf = wilcoxon(accuracy_val_lr, accuracy_val_rf)"
   ]
  },
  {
   "cell_type": "code",
   "execution_count": 208,
   "id": "nervous-powder",
   "metadata": {},
   "outputs": [
    {
     "name": "stdout",
     "output_type": "stream",
     "text": [
      "P value of LR vs CRF:\n",
      "0.001953125\n"
     ]
    }
   ],
   "source": [
    "print('P value of LR vs CRF:') \n",
    "print(p_lr_rf)"
   ]
  },
  {
   "cell_type": "markdown",
   "id": "tough-brazilian",
   "metadata": {},
   "source": [
    "Random Forest  vs Suppport Vector Classifier"
   ]
  },
  {
   "cell_type": "code",
   "execution_count": 209,
   "id": "built-gilbert",
   "metadata": {},
   "outputs": [],
   "source": [
    "w_rf_svc, p_rf_svc = wilcoxon(accuracy_val_rf, accuracy_val_svc)"
   ]
  },
  {
   "cell_type": "code",
   "execution_count": 210,
   "id": "stone-employment",
   "metadata": {},
   "outputs": [
    {
     "name": "stdout",
     "output_type": "stream",
     "text": [
      "P value of RF vs SVC:\n",
      "0.001953125\n"
     ]
    }
   ],
   "source": [
    "print('P value of RF vs SVC:') \n",
    "print(p_rf_svc)"
   ]
  },
  {
   "cell_type": "markdown",
   "id": "judicial-harris",
   "metadata": {},
   "source": [
    "Logistic Regression vs Suppport Vector Classifier"
   ]
  },
  {
   "cell_type": "code",
   "execution_count": 205,
   "id": "complete-camera",
   "metadata": {},
   "outputs": [],
   "source": [
    "w_lr_svc, p_lr_svc = wilcoxon(accuracy_val_lr, accuracy_val_svc)"
   ]
  },
  {
   "cell_type": "code",
   "execution_count": 206,
   "id": "surprised-converter",
   "metadata": {},
   "outputs": [
    {
     "name": "stdout",
     "output_type": "stream",
     "text": [
      "P value of RF vs SVC:\n",
      "0.4764220527010231\n"
     ]
    }
   ],
   "source": [
    "print('P value of RF vs SVC:') \n",
    "print(p_lr_svc)"
   ]
  },
  {
   "cell_type": "markdown",
   "id": "later-street",
   "metadata": {},
   "source": [
    "### Final Perfomance Calculation with Test sets"
   ]
  },
  {
   "cell_type": "markdown",
   "id": "ignored-damages",
   "metadata": {},
   "source": [
    "We choose to use the Random Forest. In order to calculate the pesvcomances we create again the confusion matrix using the test indexes."
   ]
  },
  {
   "cell_type": "code",
   "execution_count": 212,
   "id": "fourth-concern",
   "metadata": {},
   "outputs": [
    {
     "data": {
      "image/png": "[encoded data removed]",
      "text/plain": [
       "<Figure size 432x288 with 1 Axes>"
      ]
     },
     "metadata": {},
     "output_type": "display_data"
    }
   ],
   "source": [
    "i=0\n",
    "for i in range(0,10):\n",
    "      X_train, X_test, y_train, y_test = train_test_split(X, y, test_size=0.1, random_state=i, shuffle=True, stratify=y)\n",
    "      X_train, X_val, y_train, y_val   = train_test_split(X_train, y_train, test_size=0.3, random_state=0, shuffle=True, stratify=y_train)\n",
    "      fit = rf.fit(X_train, y_train)\n",
    "      y_pred = fit.predict(X_test)\n",
    "      globals()[f\"conf_mat{i}\"]  = confusion_matrix(y_test, y_pred)\n",
    "      i=i+1\n",
    "\n",
    "labels=['True label','Predicted label']\n",
    "#conf_mat_lr_perc = (conf_mat_lr/conf_mat_lr.sum())\n",
    "conf_mat_rf = conf_mat0+conf_mat1+conf_mat2+conf_mat3+conf_mat4+conf_mat5+conf_mat6+conf_mat7+conf_mat8+conf_mat9     \n",
    "#sns.heatmap(conf_mat_lr_perc, square=True, annot=True, cmap='Blues',cbar=True,fmt='.2%')\n",
    "confusion_matrix_custom.make_confusion_matrix(conf_mat_rf,cbar=False)"
   ]
  },
  {
   "cell_type": "code",
   "execution_count": null,
   "id": "focal-surfing",
   "metadata": {},
   "outputs": [],
   "source": []
  },
  {
   "cell_type": "code",
   "execution_count": null,
   "id": "concrete-saint",
   "metadata": {},
   "outputs": [],
   "source": []
  }
 ],
 "metadata": {
  "kernelspec": {
   "display_name": "Python 3",
   "language": "python",
   "name": "python3"
  },
  "language_info": {
   "codemirror_mode": {
    "name": "ipython",
    "version": 3
   },
   "file_extension": ".py",
   "mimetype": "text/x-python",
   "name": "python",
   "nbconvert_exporter": "python",
   "pygments_lexer": "ipython3",
   "version": "3.8.5"
  }
 },
 "nbformat": 4,
 "nbformat_minor": 5
}
