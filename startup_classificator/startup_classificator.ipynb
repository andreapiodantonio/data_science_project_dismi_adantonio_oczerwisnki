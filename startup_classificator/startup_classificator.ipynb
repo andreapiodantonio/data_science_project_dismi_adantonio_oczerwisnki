{
 "cells": [
  {
   "cell_type": "code",
   "execution_count": 1,
   "id": "excessive-laser",
   "metadata": {},
   "outputs": [],
   "source": [
    "import pandas as pd\n",
    "import numpy as np\n",
    "import matplotlib.pyplot as plt \n",
    "import yaml\n",
    "import warnings\n",
    "import datetime\n",
    "import sklearn\n",
    "warnings.filterwarnings(\"ignore\")\n",
    "plt.style.use('ggplot')"
   ]
  },
  {
   "cell_type": "markdown",
   "id": "played-window",
   "metadata": {},
   "source": [
    "### collect data from CSV"
   ]
  },
  {
   "cell_type": "markdown",
   "id": "sensitive-pearl",
   "metadata": {},
   "source": [
    "https://www.kaggle.com/manishkc06/startup-success-prediction"
   ]
  },
  {
   "cell_type": "code",
   "execution_count": 2,
   "id": "general-active",
   "metadata": {},
   "outputs": [],
   "source": [
    "startup = pd.read_csv('data//in//startup_data.csv')"
   ]
  },
  {
   "cell_type": "code",
   "execution_count": 3,
   "id": "suburban-schema",
   "metadata": {},
   "outputs": [
    {
     "data": {
      "text/html": [
       "<div>\n",
       "<style scoped>\n",
       "    .dataframe tbody tr th:only-of-type {\n",
       "        vertical-align: middle;\n",
       "    }\n",
       "\n",
       "    .dataframe tbody tr th {\n",
       "        vertical-align: top;\n",
       "    }\n",
       "\n",
       "    .dataframe thead th {\n",
       "        text-align: right;\n",
       "    }\n",
       "</style>\n",
       "<table border=\"1\" class=\"dataframe\">\n",
       "  <thead>\n",
       "    <tr style=\"text-align: right;\">\n",
       "      <th></th>\n",
       "      <th>unamed:0</th>\n",
       "      <th>state_code</th>\n",
       "      <th>latitude</th>\n",
       "      <th>longitude</th>\n",
       "      <th>zip_code</th>\n",
       "      <th>id</th>\n",
       "      <th>city</th>\n",
       "      <th>Unnamed: 6</th>\n",
       "      <th>name</th>\n",
       "      <th>labels</th>\n",
       "      <th>...</th>\n",
       "      <th>object_id</th>\n",
       "      <th>has_VC</th>\n",
       "      <th>has_angel</th>\n",
       "      <th>has_roundA</th>\n",
       "      <th>has_roundB</th>\n",
       "      <th>has_roundC</th>\n",
       "      <th>has_roundD</th>\n",
       "      <th>avg_participants</th>\n",
       "      <th>is_top500</th>\n",
       "      <th>status</th>\n",
       "    </tr>\n",
       "  </thead>\n",
       "  <tbody>\n",
       "    <tr>\n",
       "      <th>0</th>\n",
       "      <td>1005</td>\n",
       "      <td>CA</td>\n",
       "      <td>42.358880</td>\n",
       "      <td>-71.056820</td>\n",
       "      <td>92101</td>\n",
       "      <td>c:6669</td>\n",
       "      <td>San Diego</td>\n",
       "      <td>NaN</td>\n",
       "      <td>Bandsintown</td>\n",
       "      <td>1.0</td>\n",
       "      <td>...</td>\n",
       "      <td>c:6669</td>\n",
       "      <td>0.0</td>\n",
       "      <td>1.0</td>\n",
       "      <td>0.0</td>\n",
       "      <td>0.0</td>\n",
       "      <td>0.0</td>\n",
       "      <td>0.0</td>\n",
       "      <td>1.0000</td>\n",
       "      <td>0.0</td>\n",
       "      <td>acquired</td>\n",
       "    </tr>\n",
       "    <tr>\n",
       "      <th>1</th>\n",
       "      <td>204</td>\n",
       "      <td>CA</td>\n",
       "      <td>37.238916</td>\n",
       "      <td>-121.973718</td>\n",
       "      <td>95032</td>\n",
       "      <td>c:16283</td>\n",
       "      <td>Los Gatos</td>\n",
       "      <td>NaN</td>\n",
       "      <td>TriCipher</td>\n",
       "      <td>1.0</td>\n",
       "      <td>...</td>\n",
       "      <td>c:16283</td>\n",
       "      <td>1.0</td>\n",
       "      <td>0.0</td>\n",
       "      <td>0.0</td>\n",
       "      <td>1.0</td>\n",
       "      <td>1.0</td>\n",
       "      <td>1.0</td>\n",
       "      <td>4.7500</td>\n",
       "      <td>1.0</td>\n",
       "      <td>acquired</td>\n",
       "    </tr>\n",
       "    <tr>\n",
       "      <th>2</th>\n",
       "      <td>1001</td>\n",
       "      <td>CA</td>\n",
       "      <td>32.901049</td>\n",
       "      <td>-117.192656</td>\n",
       "      <td>92121</td>\n",
       "      <td>c:65620</td>\n",
       "      <td>San Diego</td>\n",
       "      <td>San Diego CA 92121</td>\n",
       "      <td>Plixi</td>\n",
       "      <td>1.0</td>\n",
       "      <td>...</td>\n",
       "      <td>c:65620</td>\n",
       "      <td>0.0</td>\n",
       "      <td>0.0</td>\n",
       "      <td>1.0</td>\n",
       "      <td>0.0</td>\n",
       "      <td>0.0</td>\n",
       "      <td>0.0</td>\n",
       "      <td>4.0000</td>\n",
       "      <td>1.0</td>\n",
       "      <td>acquired</td>\n",
       "    </tr>\n",
       "    <tr>\n",
       "      <th>3</th>\n",
       "      <td>738</td>\n",
       "      <td>CA</td>\n",
       "      <td>37.320309</td>\n",
       "      <td>-122.050040</td>\n",
       "      <td>95014</td>\n",
       "      <td>c:42668</td>\n",
       "      <td>Cupertino</td>\n",
       "      <td>Cupertino CA 95014</td>\n",
       "      <td>Solidcore Systems</td>\n",
       "      <td>1.0</td>\n",
       "      <td>...</td>\n",
       "      <td>c:42668</td>\n",
       "      <td>0.0</td>\n",
       "      <td>0.0</td>\n",
       "      <td>0.0</td>\n",
       "      <td>1.0</td>\n",
       "      <td>1.0</td>\n",
       "      <td>1.0</td>\n",
       "      <td>3.3333</td>\n",
       "      <td>1.0</td>\n",
       "      <td>acquired</td>\n",
       "    </tr>\n",
       "    <tr>\n",
       "      <th>4</th>\n",
       "      <td>1002</td>\n",
       "      <td>CA</td>\n",
       "      <td>37.779281</td>\n",
       "      <td>-122.419236</td>\n",
       "      <td>94105</td>\n",
       "      <td>c:65806</td>\n",
       "      <td>San Francisco</td>\n",
       "      <td>San Francisco CA 94105</td>\n",
       "      <td>Inhale Digital</td>\n",
       "      <td>0.0</td>\n",
       "      <td>...</td>\n",
       "      <td>c:65806</td>\n",
       "      <td>1.0</td>\n",
       "      <td>1.0</td>\n",
       "      <td>0.0</td>\n",
       "      <td>0.0</td>\n",
       "      <td>0.0</td>\n",
       "      <td>0.0</td>\n",
       "      <td>1.0000</td>\n",
       "      <td>1.0</td>\n",
       "      <td>closed</td>\n",
       "    </tr>\n",
       "  </tbody>\n",
       "</table>\n",
       "<p>5 rows × 49 columns</p>\n",
       "</div>"
      ],
      "text/plain": [
       "  unamed:0 state_code   latitude   longitude zip_code       id           city  \\\n",
       "0     1005         CA  42.358880  -71.056820    92101   c:6669      San Diego   \n",
       "1      204         CA  37.238916 -121.973718    95032  c:16283      Los Gatos   \n",
       "2     1001         CA  32.901049 -117.192656    92121  c:65620      San Diego   \n",
       "3      738         CA  37.320309 -122.050040    95014  c:42668      Cupertino   \n",
       "4     1002         CA  37.779281 -122.419236    94105  c:65806  San Francisco   \n",
       "\n",
       "               Unnamed: 6               name  labels  ... object_id has_VC  \\\n",
       "0                     NaN        Bandsintown     1.0  ...    c:6669    0.0   \n",
       "1                     NaN          TriCipher     1.0  ...   c:16283    1.0   \n",
       "2      San Diego CA 92121              Plixi     1.0  ...   c:65620    0.0   \n",
       "3      Cupertino CA 95014  Solidcore Systems     1.0  ...   c:42668    0.0   \n",
       "4  San Francisco CA 94105     Inhale Digital     0.0  ...   c:65806    1.0   \n",
       "\n",
       "  has_angel has_roundA  has_roundB  has_roundC  has_roundD  avg_participants  \\\n",
       "0       1.0        0.0         0.0         0.0         0.0            1.0000   \n",
       "1       0.0        0.0         1.0         1.0         1.0            4.7500   \n",
       "2       0.0        1.0         0.0         0.0         0.0            4.0000   \n",
       "3       0.0        0.0         1.0         1.0         1.0            3.3333   \n",
       "4       1.0        0.0         0.0         0.0         0.0            1.0000   \n",
       "\n",
       "   is_top500    status  \n",
       "0        0.0  acquired  \n",
       "1        1.0  acquired  \n",
       "2        1.0  acquired  \n",
       "3        1.0  acquired  \n",
       "4        1.0    closed  \n",
       "\n",
       "[5 rows x 49 columns]"
      ]
     },
     "execution_count": 3,
     "metadata": {},
     "output_type": "execute_result"
    }
   ],
   "source": [
    "startup.head(5)"
   ]
  },
  {
   "cell_type": "code",
   "execution_count": 4,
   "id": "prime-sustainability",
   "metadata": {},
   "outputs": [
    {
     "name": "stdout",
     "output_type": "stream",
     "text": [
      "<class 'pandas.core.frame.DataFrame'>\n",
      "RangeIndex: 923 entries, 0 to 922\n",
      "Data columns (total 49 columns):\n",
      " #   Column                    Non-Null Count  Dtype  \n",
      "---  ------                    --------------  -----  \n",
      " 0   unamed:0                  923 non-null    object \n",
      " 1   state_code                915 non-null    object \n",
      " 2   latitude                  915 non-null    float64\n",
      " 3   longitude                 915 non-null    float64\n",
      " 4   zip_code                  915 non-null    object \n",
      " 5   id                        915 non-null    object \n",
      " 6   city                      915 non-null    object \n",
      " 7   Unnamed: 6                428 non-null    object \n",
      " 8   name                      915 non-null    object \n",
      " 9   labels                    915 non-null    float64\n",
      " 10  founded_at                915 non-null    object \n",
      " 11  closed_at                 333 non-null    object \n",
      " 12  first_funding_at          915 non-null    object \n",
      " 13  last_funding_at           915 non-null    object \n",
      " 14  age_first_funding_year    915 non-null    float64\n",
      " 15  age_last_funding_year     915 non-null    float64\n",
      " 16  age_first_milestone_year  764 non-null    float64\n",
      " 17  age_last_milestone_year   764 non-null    float64\n",
      " 18  relationships             915 non-null    float64\n",
      " 19  funding_rounds            915 non-null    float64\n",
      " 20  funding_total_usd         915 non-null    float64\n",
      " 21  milestones                915 non-null    float64\n",
      " 22  state_code.1              914 non-null    object \n",
      " 23  is_CA                     915 non-null    float64\n",
      " 24  is_NY                     915 non-null    float64\n",
      " 25  is_MA                     915 non-null    float64\n",
      " 26  is_TX                     915 non-null    float64\n",
      " 27  is_otherstate             915 non-null    float64\n",
      " 28  category_code             915 non-null    object \n",
      " 29  is_software               915 non-null    float64\n",
      " 30  is_web                    915 non-null    float64\n",
      " 31  is_mobile                 915 non-null    float64\n",
      " 32  is_enterprise             915 non-null    float64\n",
      " 33  is_advertising            915 non-null    float64\n",
      " 34  is_gamesvideo             915 non-null    float64\n",
      " 35  is_ecommerce              915 non-null    float64\n",
      " 36  is_biotech                915 non-null    float64\n",
      " 37  is_consulting             915 non-null    float64\n",
      " 38  is_othercategory          915 non-null    float64\n",
      " 39  object_id                 915 non-null    object \n",
      " 40  has_VC                    915 non-null    float64\n",
      " 41  has_angel                 915 non-null    float64\n",
      " 42  has_roundA                915 non-null    float64\n",
      " 43  has_roundB                915 non-null    float64\n",
      " 44  has_roundC                915 non-null    float64\n",
      " 45  has_roundD                915 non-null    float64\n",
      " 46  avg_participants          915 non-null    float64\n",
      " 47  is_top500                 915 non-null    float64\n",
      " 48  status                    915 non-null    object \n",
      "dtypes: float64(34), object(15)\n",
      "memory usage: 353.5+ KB\n"
     ]
    }
   ],
   "source": [
    "startup.info()"
   ]
  },
  {
   "cell_type": "markdown",
   "id": "ethical-david",
   "metadata": {},
   "source": [
    "# Data cleaning"
   ]
  },
  {
   "cell_type": "markdown",
   "id": "covered-connectivity",
   "metadata": {},
   "source": [
    "We take just the columns that could be used in a ML algorithm"
   ]
  },
  {
   "cell_type": "code",
   "execution_count": 5,
   "id": "turkish-fishing",
   "metadata": {},
   "outputs": [],
   "source": [
    "startup_clean = startup[['name','age_first_funding_year','age_last_funding_year','age_first_milestone_year','age_last_milestone_year', 'relationships','funding_rounds', 'funding_total_usd','is_CA','is_TX','is_NY'\n",
    "         ,'is_MA', 'is_otherstate', 'is_software', 'is_web', 'is_mobile', 'is_enterprise','is_advertising','is_gamesvideo','is_ecommerce','is_biotech','is_consulting','is_othercategory','has_angel',\n",
    "        'has_VC','has_roundA','has_roundB','has_roundC','has_roundD','avg_participants', 'status']]"
   ]
  },
  {
   "cell_type": "markdown",
   "id": "pleased-gender",
   "metadata": {},
   "source": [
    "We convert the 'status', that will be our Y to predict, in a boolean variable"
   ]
  },
  {
   "cell_type": "code",
   "execution_count": 6,
   "id": "statutory-pleasure",
   "metadata": {},
   "outputs": [],
   "source": [
    "startup_clean['status'] = startup_clean['status'].replace('acquired', 1)\n",
    "startup_clean['status'] = startup_clean['status'].replace('closed', 0)\n",
    "\n",
    "startup_clean = startup_clean.rename(columns={'status': 'has_succeded'})"
   ]
  },
  {
   "cell_type": "code",
   "execution_count": 7,
   "id": "disciplinary-trust",
   "metadata": {},
   "outputs": [],
   "source": [
    "startup_clean = startup_clean[startup_clean['has_succeded'].notna()]"
   ]
  },
  {
   "cell_type": "code",
   "execution_count": 8,
   "id": "numerous-blood",
   "metadata": {},
   "outputs": [
    {
     "name": "stdout",
     "output_type": "stream",
     "text": [
      "<class 'pandas.core.frame.DataFrame'>\n",
      "Int64Index: 915 entries, 0 to 922\n",
      "Data columns (total 31 columns):\n",
      " #   Column                    Non-Null Count  Dtype  \n",
      "---  ------                    --------------  -----  \n",
      " 0   name                      915 non-null    object \n",
      " 1   age_first_funding_year    915 non-null    float64\n",
      " 2   age_last_funding_year     915 non-null    float64\n",
      " 3   age_first_milestone_year  764 non-null    float64\n",
      " 4   age_last_milestone_year   764 non-null    float64\n",
      " 5   relationships             915 non-null    float64\n",
      " 6   funding_rounds            915 non-null    float64\n",
      " 7   funding_total_usd         915 non-null    float64\n",
      " 8   is_CA                     915 non-null    float64\n",
      " 9   is_TX                     915 non-null    float64\n",
      " 10  is_NY                     915 non-null    float64\n",
      " 11  is_MA                     915 non-null    float64\n",
      " 12  is_otherstate             915 non-null    float64\n",
      " 13  is_software               915 non-null    float64\n",
      " 14  is_web                    915 non-null    float64\n",
      " 15  is_mobile                 915 non-null    float64\n",
      " 16  is_enterprise             915 non-null    float64\n",
      " 17  is_advertising            915 non-null    float64\n",
      " 18  is_gamesvideo             915 non-null    float64\n",
      " 19  is_ecommerce              915 non-null    float64\n",
      " 20  is_biotech                915 non-null    float64\n",
      " 21  is_consulting             915 non-null    float64\n",
      " 22  is_othercategory          915 non-null    float64\n",
      " 23  has_angel                 915 non-null    float64\n",
      " 24  has_VC                    915 non-null    float64\n",
      " 25  has_roundA                915 non-null    float64\n",
      " 26  has_roundB                915 non-null    float64\n",
      " 27  has_roundC                915 non-null    float64\n",
      " 28  has_roundD                915 non-null    float64\n",
      " 29  avg_participants          915 non-null    float64\n",
      " 30  has_succeded              915 non-null    float64\n",
      "dtypes: float64(30), object(1)\n",
      "memory usage: 228.8+ KB\n"
     ]
    }
   ],
   "source": [
    "startup_clean.info()"
   ]
  },
  {
   "cell_type": "code",
   "execution_count": 9,
   "id": "becoming-disposal",
   "metadata": {},
   "outputs": [
    {
     "data": {
      "text/html": [
       "<div>\n",
       "<style scoped>\n",
       "    .dataframe tbody tr th:only-of-type {\n",
       "        vertical-align: middle;\n",
       "    }\n",
       "\n",
       "    .dataframe tbody tr th {\n",
       "        vertical-align: top;\n",
       "    }\n",
       "\n",
       "    .dataframe thead th {\n",
       "        text-align: right;\n",
       "    }\n",
       "</style>\n",
       "<table border=\"1\" class=\"dataframe\">\n",
       "  <thead>\n",
       "    <tr style=\"text-align: right;\">\n",
       "      <th></th>\n",
       "      <th>milestones</th>\n",
       "      <th>age_first_milestone_year</th>\n",
       "      <th>age_last_milestone_year</th>\n",
       "    </tr>\n",
       "  </thead>\n",
       "  <tbody>\n",
       "    <tr>\n",
       "      <th>12</th>\n",
       "      <td>0.0</td>\n",
       "      <td>NaN</td>\n",
       "      <td>NaN</td>\n",
       "    </tr>\n",
       "    <tr>\n",
       "      <th>15</th>\n",
       "      <td>0.0</td>\n",
       "      <td>NaN</td>\n",
       "      <td>NaN</td>\n",
       "    </tr>\n",
       "    <tr>\n",
       "      <th>24</th>\n",
       "      <td>0.0</td>\n",
       "      <td>NaN</td>\n",
       "      <td>NaN</td>\n",
       "    </tr>\n",
       "    <tr>\n",
       "      <th>28</th>\n",
       "      <td>NaN</td>\n",
       "      <td>NaN</td>\n",
       "      <td>NaN</td>\n",
       "    </tr>\n",
       "    <tr>\n",
       "      <th>32</th>\n",
       "      <td>0.0</td>\n",
       "      <td>NaN</td>\n",
       "      <td>NaN</td>\n",
       "    </tr>\n",
       "    <tr>\n",
       "      <th>...</th>\n",
       "      <td>...</td>\n",
       "      <td>...</td>\n",
       "      <td>...</td>\n",
       "    </tr>\n",
       "    <tr>\n",
       "      <th>885</th>\n",
       "      <td>0.0</td>\n",
       "      <td>NaN</td>\n",
       "      <td>NaN</td>\n",
       "    </tr>\n",
       "    <tr>\n",
       "      <th>903</th>\n",
       "      <td>0.0</td>\n",
       "      <td>NaN</td>\n",
       "      <td>NaN</td>\n",
       "    </tr>\n",
       "    <tr>\n",
       "      <th>904</th>\n",
       "      <td>0.0</td>\n",
       "      <td>NaN</td>\n",
       "      <td>NaN</td>\n",
       "    </tr>\n",
       "    <tr>\n",
       "      <th>906</th>\n",
       "      <td>0.0</td>\n",
       "      <td>NaN</td>\n",
       "      <td>NaN</td>\n",
       "    </tr>\n",
       "    <tr>\n",
       "      <th>912</th>\n",
       "      <td>0.0</td>\n",
       "      <td>NaN</td>\n",
       "      <td>NaN</td>\n",
       "    </tr>\n",
       "  </tbody>\n",
       "</table>\n",
       "<p>159 rows × 3 columns</p>\n",
       "</div>"
      ],
      "text/plain": [
       "     milestones  age_first_milestone_year  age_last_milestone_year\n",
       "12          0.0                       NaN                      NaN\n",
       "15          0.0                       NaN                      NaN\n",
       "24          0.0                       NaN                      NaN\n",
       "28          NaN                       NaN                      NaN\n",
       "32          0.0                       NaN                      NaN\n",
       "..          ...                       ...                      ...\n",
       "885         0.0                       NaN                      NaN\n",
       "903         0.0                       NaN                      NaN\n",
       "904         0.0                       NaN                      NaN\n",
       "906         0.0                       NaN                      NaN\n",
       "912         0.0                       NaN                      NaN\n",
       "\n",
       "[159 rows x 3 columns]"
      ]
     },
     "execution_count": 9,
     "metadata": {},
     "output_type": "execute_result"
    }
   ],
   "source": [
    "startup[startup['age_first_milestone_year'].isna()][['milestones','age_first_milestone_year','age_last_milestone_year']]"
   ]
  },
  {
   "cell_type": "markdown",
   "id": "developed-bulgarian",
   "metadata": {},
   "source": [
    "in order to avoid the null value on the fields 'age_first_milestone_year' and 'age_last_milestone_year' \n",
    "we procedeed in this way: <br>\n",
    "    - calculate the mean of these value <br>\n",
    "    - replace the nan with the mean"
   ]
  },
  {
   "cell_type": "code",
   "execution_count": 10,
   "id": "proved-aquatic",
   "metadata": {},
   "outputs": [],
   "source": [
    "age_fmy_mean = startup_clean['age_first_milestone_year'].mean()\n",
    "age_lmy_mean = startup_clean['age_last_milestone_year'].mean()\n",
    "\n",
    "startup_clean['age_first_milestone_year']= startup_clean['age_first_milestone_year'].fillna(age_fmy_mean)\n",
    "startup_clean['age_last_milestone_year']= startup_clean['age_last_milestone_year'].fillna(age_fmy_mean)"
   ]
  },
  {
   "cell_type": "markdown",
   "id": "annoying-jacob",
   "metadata": {},
   "source": [
    "check on null values"
   ]
  },
  {
   "cell_type": "code",
   "execution_count": 11,
   "id": "japanese-sheriff",
   "metadata": {},
   "outputs": [
    {
     "data": {
      "text/plain": [
       "name                        0\n",
       "age_first_funding_year      0\n",
       "age_last_funding_year       0\n",
       "age_first_milestone_year    0\n",
       "age_last_milestone_year     0\n",
       "relationships               0\n",
       "funding_rounds              0\n",
       "funding_total_usd           0\n",
       "is_CA                       0\n",
       "is_TX                       0\n",
       "is_NY                       0\n",
       "is_MA                       0\n",
       "is_otherstate               0\n",
       "is_software                 0\n",
       "is_web                      0\n",
       "is_mobile                   0\n",
       "is_enterprise               0\n",
       "is_advertising              0\n",
       "is_gamesvideo               0\n",
       "is_ecommerce                0\n",
       "is_biotech                  0\n",
       "is_consulting               0\n",
       "is_othercategory            0\n",
       "has_angel                   0\n",
       "has_VC                      0\n",
       "has_roundA                  0\n",
       "has_roundB                  0\n",
       "has_roundC                  0\n",
       "has_roundD                  0\n",
       "avg_participants            0\n",
       "has_succeded                0\n",
       "dtype: int64"
      ]
     },
     "execution_count": 11,
     "metadata": {},
     "output_type": "execute_result"
    }
   ],
   "source": [
    "startup_clean.isnull().sum()"
   ]
  },
  {
   "cell_type": "markdown",
   "id": "sitting-candidate",
   "metadata": {},
   "source": [
    "# Kfold validation"
   ]
  },
  {
   "cell_type": "code",
   "execution_count": 50,
   "id": "false-finnish",
   "metadata": {},
   "outputs": [],
   "source": [
    "from sklearn.linear_model import LogisticRegression\n",
    "from sklearn.ensemble import RandomForestClassifier\n",
    "from sklearn.svm import SVC\n",
    "from sklearn.model_selection import train_test_split\n",
    "from sklearn.datasets import load_digits\n",
    "from sklearn.model_selection import StratifiedKFold\n",
    "from sklearn.model_selection import cross_val_score"
   ]
  },
  {
   "cell_type": "markdown",
   "id": "incorrect-digit",
   "metadata": {},
   "source": [
    "function to get score of a model in a simpler way"
   ]
  },
  {
   "cell_type": "code",
   "execution_count": 33,
   "id": "extra-advice",
   "metadata": {},
   "outputs": [],
   "source": [
    "def get_score(model, X_train, X_test, y_train, y_test):\n",
    "    model.fit(X_train, y_train)\n",
    "    return fit.score(X_test, y_test)"
   ]
  },
  {
   "cell_type": "code",
   "execution_count": 13,
   "id": "horizontal-mediterranean",
   "metadata": {},
   "outputs": [],
   "source": [
    "X = startup_clean[['age_first_funding_year','age_last_funding_year','age_first_milestone_year','age_last_milestone_year', 'relationships','funding_rounds', 'funding_total_usd','is_CA','is_TX','is_NY'\n",
    "        ,'is_MA', 'is_otherstate', 'is_software', 'is_web', 'is_mobile', 'is_enterprise','is_advertising','is_gamesvideo','is_ecommerce','is_biotech','is_consulting','is_othercategory','has_angel',\n",
    "       'has_VC','has_roundA','has_roundB','has_roundC','has_roundD','avg_participants']].to_numpy()\n",
    "\n",
    "X1 =startup_clean[['age_first_funding_year', 'age_last_funding_year']]\n",
    "\n",
    "y = startup_clean['has_succeded'].to_numpy()"
   ]
  },
  {
   "cell_type": "code",
   "execution_count": 14,
   "id": "imperial-language",
   "metadata": {},
   "outputs": [
    {
     "name": "stdout",
     "output_type": "stream",
     "text": [
      "(915, 29)\n",
      "(915,)\n"
     ]
    }
   ],
   "source": [
    "print(X.shape)\n",
    "print(y.shape)"
   ]
  },
  {
   "cell_type": "code",
   "execution_count": 15,
   "id": "proper-destiny",
   "metadata": {},
   "outputs": [
    {
     "data": {
      "text/plain": [
       "array([[2.2493, 3.0027, 4.6685, ..., 0.    , 0.    , 1.    ],\n",
       "       [5.126 , 9.9973, 7.0055, ..., 1.    , 1.    , 4.75  ],\n",
       "       [1.0329, 1.0329, 1.4575, ..., 0.    , 0.    , 4.    ],\n",
       "       ...,\n",
       "       [8.4959, 8.4959, 9.0055, ..., 0.    , 1.    , 8.    ],\n",
       "       [0.7589, 2.8329, 0.7589, ..., 0.    , 0.    , 1.    ],\n",
       "       [3.1205, 3.1205, 4.0027, ..., 0.    , 0.    , 3.    ]])"
      ]
     },
     "execution_count": 15,
     "metadata": {},
     "output_type": "execute_result"
    }
   ],
   "source": [
    "X"
   ]
  },
  {
   "cell_type": "code",
   "execution_count": 16,
   "id": "digital-pocket",
   "metadata": {},
   "outputs": [
    {
     "data": {
      "text/plain": [
       "591.0"
      ]
     },
     "execution_count": 16,
     "metadata": {},
     "output_type": "execute_result"
    }
   ],
   "source": [
    "y.sum()"
   ]
  },
  {
   "cell_type": "code",
   "execution_count": 59,
   "id": "accepting-bulgarian",
   "metadata": {},
   "outputs": [],
   "source": [
    "#X_train, X_test, y_train, y_test = train_test_split(X, y, test_size=0.3)"
   ]
  },
  {
   "cell_type": "code",
   "execution_count": 46,
   "id": "terminal-emphasis",
   "metadata": {},
   "outputs": [],
   "source": [
    "folds = StratifiedKFold(n_splits=10)"
   ]
  },
  {
   "cell_type": "markdown",
   "id": "immune-storage",
   "metadata": {},
   "source": [
    "# Logistic Regression"
   ]
  },
  {
   "cell_type": "code",
   "execution_count": 19,
   "id": "authentic-customer",
   "metadata": {},
   "outputs": [],
   "source": [
    "lr = LogisticRegression()"
   ]
  },
  {
   "cell_type": "code",
   "execution_count": 20,
   "id": "human-celtic",
   "metadata": {},
   "outputs": [],
   "source": [
    "#fit = lr.fit(X_train, y_train)\n",
    "#fit.score(X_test, y_test)"
   ]
  },
  {
   "cell_type": "code",
   "execution_count": 36,
   "id": "linear-differential",
   "metadata": {},
   "outputs": [],
   "source": [
    "score_l =[]"
   ]
  },
  {
   "cell_type": "code",
   "execution_count": 48,
   "id": "little-latter",
   "metadata": {},
   "outputs": [],
   "source": [
    "for train_index, test_index in folds.split(X,y):\n",
    "    X_train, X_test, y_train, y_test = X[train_index], X[test_index], y[train_index], y[test_index]\n",
    "    score_l.append(get_score(LogisticRegression() ,X_train, X_test, y_train, y_test))  \n",
    "    "
   ]
  },
  {
   "cell_type": "code",
   "execution_count": 49,
   "id": "thorough-valley",
   "metadata": {},
   "outputs": [
    {
     "data": {
      "text/plain": [
       "[0.6521739130434783,\n",
       " 0.6413043478260869,\n",
       " 0.6413043478260869,\n",
       " 0.6413043478260869,\n",
       " 0.6413043478260869,\n",
       " 0.6483516483516484,\n",
       " 0.6483516483516484,\n",
       " 0.6483516483516484,\n",
       " 0.6483516483516484,\n",
       " 0.6483516483516484]"
      ]
     },
     "execution_count": 49,
     "metadata": {},
     "output_type": "execute_result"
    }
   ],
   "source": [
    "score_l"
   ]
  },
  {
   "cell_type": "markdown",
   "id": "premium-melbourne",
   "metadata": {},
   "source": [
    "# Random Forest"
   ]
  },
  {
   "cell_type": "code",
   "execution_count": 22,
   "id": "sophisticated-snowboard",
   "metadata": {},
   "outputs": [],
   "source": [
    "rf=RandomForestClassifier(n_estimators=40)"
   ]
  },
  {
   "cell_type": "code",
   "execution_count": 23,
   "id": "absent-graph",
   "metadata": {},
   "outputs": [
    {
     "data": {
      "text/plain": [
       "RandomForestClassifier(n_estimators=40)"
      ]
     },
     "execution_count": 23,
     "metadata": {},
     "output_type": "execute_result"
    }
   ],
   "source": [
    "rf.fit(X_train, y_train)"
   ]
  },
  {
   "cell_type": "code",
   "execution_count": 27,
   "id": "vocational-trance",
   "metadata": {},
   "outputs": [
    {
     "data": {
      "text/plain": [
       "0.9127272727272727"
      ]
     },
     "execution_count": 27,
     "metadata": {},
     "output_type": "execute_result"
    }
   ],
   "source": [
    "rf.score(X_test, y_test)"
   ]
  },
  {
   "cell_type": "code",
   "execution_count": 58,
   "id": "brutal-transmission",
   "metadata": {},
   "outputs": [
    {
     "data": {
      "text/plain": [
       "array([0.77173913, 0.77173913, 0.76086957, 0.82608696, 0.7826087 ,\n",
       "       0.79120879, 0.75824176, 0.82417582, 0.8021978 , 0.73626374])"
      ]
     },
     "execution_count": 58,
     "metadata": {},
     "output_type": "execute_result"
    }
   ],
   "source": [
    "cross_val_score(RandomForestClassifier(), X, y, cv=10)"
   ]
  },
  {
   "cell_type": "code",
   "execution_count": null,
   "id": "different-combat",
   "metadata": {},
   "outputs": [],
   "source": []
  },
  {
   "cell_type": "code",
   "execution_count": null,
   "id": "earned-forth",
   "metadata": {},
   "outputs": [],
   "source": []
  }
 ],
 "metadata": {
  "kernelspec": {
   "display_name": "Python 3",
   "language": "python",
   "name": "python3"
  },
  "language_info": {
   "codemirror_mode": {
    "name": "ipython",
    "version": 3
   },
   "file_extension": ".py",
   "mimetype": "text/x-python",
   "name": "python",
   "nbconvert_exporter": "python",
   "pygments_lexer": "ipython3",
   "version": "3.8.5"
  }
 },
 "nbformat": 4,
 "nbformat_minor": 5
}
