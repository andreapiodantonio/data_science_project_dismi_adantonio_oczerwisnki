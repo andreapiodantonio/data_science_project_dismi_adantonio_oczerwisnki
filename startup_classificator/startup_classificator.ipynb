{
 "cells": [
  {
   "cell_type": "code",
   "execution_count": 1,
   "id": "pregnant-painting",
   "metadata": {},
   "outputs": [],
   "source": [
    "import pandas as pd\n",
    "import numpy as np\n",
    "import matplotlib.pyplot as plt \n",
    "import yaml\n",
    "import warnings\n",
    "import datetime\n",
    "import sklearn\n",
    "warnings.filterwarnings(\"ignore\")\n",
    "plt.style.use('ggplot')"
   ]
  },
  {
   "cell_type": "markdown",
   "id": "efficient-leisure",
   "metadata": {},
   "source": [
    "### collect data from CSV"
   ]
  },
  {
   "cell_type": "markdown",
   "id": "sapphire-characterization",
   "metadata": {},
   "source": [
    "https://www.kaggle.com/manishkc06/startup-success-prediction"
   ]
  },
  {
   "cell_type": "code",
   "execution_count": 2,
   "id": "super-sailing",
   "metadata": {},
   "outputs": [],
   "source": [
    "startup = pd.read_csv('data//in//startup_data.csv')"
   ]
  },
  {
   "cell_type": "code",
   "execution_count": 3,
   "id": "forced-processing",
   "metadata": {},
   "outputs": [
    {
     "data": {
      "text/html": [
       "<div>\n",
       "<style scoped>\n",
       "    .dataframe tbody tr th:only-of-type {\n",
       "        vertical-align: middle;\n",
       "    }\n",
       "\n",
       "    .dataframe tbody tr th {\n",
       "        vertical-align: top;\n",
       "    }\n",
       "\n",
       "    .dataframe thead th {\n",
       "        text-align: right;\n",
       "    }\n",
       "</style>\n",
       "<table border=\"1\" class=\"dataframe\">\n",
       "  <thead>\n",
       "    <tr style=\"text-align: right;\">\n",
       "      <th></th>\n",
       "      <th>unamed:0</th>\n",
       "      <th>state_code</th>\n",
       "      <th>latitude</th>\n",
       "      <th>longitude</th>\n",
       "      <th>zip_code</th>\n",
       "      <th>id</th>\n",
       "      <th>city</th>\n",
       "      <th>Unnamed: 6</th>\n",
       "      <th>name</th>\n",
       "      <th>labels</th>\n",
       "      <th>...</th>\n",
       "      <th>object_id</th>\n",
       "      <th>has_VC</th>\n",
       "      <th>has_angel</th>\n",
       "      <th>has_roundA</th>\n",
       "      <th>has_roundB</th>\n",
       "      <th>has_roundC</th>\n",
       "      <th>has_roundD</th>\n",
       "      <th>avg_participants</th>\n",
       "      <th>is_top500</th>\n",
       "      <th>status</th>\n",
       "    </tr>\n",
       "  </thead>\n",
       "  <tbody>\n",
       "    <tr>\n",
       "      <th>0</th>\n",
       "      <td>1005</td>\n",
       "      <td>CA</td>\n",
       "      <td>42.358880</td>\n",
       "      <td>-71.056820</td>\n",
       "      <td>92101</td>\n",
       "      <td>c:6669</td>\n",
       "      <td>San Diego</td>\n",
       "      <td>NaN</td>\n",
       "      <td>Bandsintown</td>\n",
       "      <td>1.0</td>\n",
       "      <td>...</td>\n",
       "      <td>c:6669</td>\n",
       "      <td>0.0</td>\n",
       "      <td>1.0</td>\n",
       "      <td>0.0</td>\n",
       "      <td>0.0</td>\n",
       "      <td>0.0</td>\n",
       "      <td>0.0</td>\n",
       "      <td>1.0000</td>\n",
       "      <td>0.0</td>\n",
       "      <td>acquired</td>\n",
       "    </tr>\n",
       "    <tr>\n",
       "      <th>1</th>\n",
       "      <td>204</td>\n",
       "      <td>CA</td>\n",
       "      <td>37.238916</td>\n",
       "      <td>-121.973718</td>\n",
       "      <td>95032</td>\n",
       "      <td>c:16283</td>\n",
       "      <td>Los Gatos</td>\n",
       "      <td>NaN</td>\n",
       "      <td>TriCipher</td>\n",
       "      <td>1.0</td>\n",
       "      <td>...</td>\n",
       "      <td>c:16283</td>\n",
       "      <td>1.0</td>\n",
       "      <td>0.0</td>\n",
       "      <td>0.0</td>\n",
       "      <td>1.0</td>\n",
       "      <td>1.0</td>\n",
       "      <td>1.0</td>\n",
       "      <td>4.7500</td>\n",
       "      <td>1.0</td>\n",
       "      <td>acquired</td>\n",
       "    </tr>\n",
       "    <tr>\n",
       "      <th>2</th>\n",
       "      <td>1001</td>\n",
       "      <td>CA</td>\n",
       "      <td>32.901049</td>\n",
       "      <td>-117.192656</td>\n",
       "      <td>92121</td>\n",
       "      <td>c:65620</td>\n",
       "      <td>San Diego</td>\n",
       "      <td>San Diego CA 92121</td>\n",
       "      <td>Plixi</td>\n",
       "      <td>1.0</td>\n",
       "      <td>...</td>\n",
       "      <td>c:65620</td>\n",
       "      <td>0.0</td>\n",
       "      <td>0.0</td>\n",
       "      <td>1.0</td>\n",
       "      <td>0.0</td>\n",
       "      <td>0.0</td>\n",
       "      <td>0.0</td>\n",
       "      <td>4.0000</td>\n",
       "      <td>1.0</td>\n",
       "      <td>acquired</td>\n",
       "    </tr>\n",
       "    <tr>\n",
       "      <th>3</th>\n",
       "      <td>738</td>\n",
       "      <td>CA</td>\n",
       "      <td>37.320309</td>\n",
       "      <td>-122.050040</td>\n",
       "      <td>95014</td>\n",
       "      <td>c:42668</td>\n",
       "      <td>Cupertino</td>\n",
       "      <td>Cupertino CA 95014</td>\n",
       "      <td>Solidcore Systems</td>\n",
       "      <td>1.0</td>\n",
       "      <td>...</td>\n",
       "      <td>c:42668</td>\n",
       "      <td>0.0</td>\n",
       "      <td>0.0</td>\n",
       "      <td>0.0</td>\n",
       "      <td>1.0</td>\n",
       "      <td>1.0</td>\n",
       "      <td>1.0</td>\n",
       "      <td>3.3333</td>\n",
       "      <td>1.0</td>\n",
       "      <td>acquired</td>\n",
       "    </tr>\n",
       "    <tr>\n",
       "      <th>4</th>\n",
       "      <td>1002</td>\n",
       "      <td>CA</td>\n",
       "      <td>37.779281</td>\n",
       "      <td>-122.419236</td>\n",
       "      <td>94105</td>\n",
       "      <td>c:65806</td>\n",
       "      <td>San Francisco</td>\n",
       "      <td>San Francisco CA 94105</td>\n",
       "      <td>Inhale Digital</td>\n",
       "      <td>0.0</td>\n",
       "      <td>...</td>\n",
       "      <td>c:65806</td>\n",
       "      <td>1.0</td>\n",
       "      <td>1.0</td>\n",
       "      <td>0.0</td>\n",
       "      <td>0.0</td>\n",
       "      <td>0.0</td>\n",
       "      <td>0.0</td>\n",
       "      <td>1.0000</td>\n",
       "      <td>1.0</td>\n",
       "      <td>closed</td>\n",
       "    </tr>\n",
       "  </tbody>\n",
       "</table>\n",
       "<p>5 rows × 49 columns</p>\n",
       "</div>"
      ],
      "text/plain": [
       "  unamed:0 state_code   latitude   longitude zip_code       id           city  \\\n",
       "0     1005         CA  42.358880  -71.056820    92101   c:6669      San Diego   \n",
       "1      204         CA  37.238916 -121.973718    95032  c:16283      Los Gatos   \n",
       "2     1001         CA  32.901049 -117.192656    92121  c:65620      San Diego   \n",
       "3      738         CA  37.320309 -122.050040    95014  c:42668      Cupertino   \n",
       "4     1002         CA  37.779281 -122.419236    94105  c:65806  San Francisco   \n",
       "\n",
       "               Unnamed: 6               name  labels  ... object_id has_VC  \\\n",
       "0                     NaN        Bandsintown     1.0  ...    c:6669    0.0   \n",
       "1                     NaN          TriCipher     1.0  ...   c:16283    1.0   \n",
       "2      San Diego CA 92121              Plixi     1.0  ...   c:65620    0.0   \n",
       "3      Cupertino CA 95014  Solidcore Systems     1.0  ...   c:42668    0.0   \n",
       "4  San Francisco CA 94105     Inhale Digital     0.0  ...   c:65806    1.0   \n",
       "\n",
       "  has_angel has_roundA  has_roundB  has_roundC  has_roundD  avg_participants  \\\n",
       "0       1.0        0.0         0.0         0.0         0.0            1.0000   \n",
       "1       0.0        0.0         1.0         1.0         1.0            4.7500   \n",
       "2       0.0        1.0         0.0         0.0         0.0            4.0000   \n",
       "3       0.0        0.0         1.0         1.0         1.0            3.3333   \n",
       "4       1.0        0.0         0.0         0.0         0.0            1.0000   \n",
       "\n",
       "   is_top500    status  \n",
       "0        0.0  acquired  \n",
       "1        1.0  acquired  \n",
       "2        1.0  acquired  \n",
       "3        1.0  acquired  \n",
       "4        1.0    closed  \n",
       "\n",
       "[5 rows x 49 columns]"
      ]
     },
     "execution_count": 3,
     "metadata": {},
     "output_type": "execute_result"
    }
   ],
   "source": [
    "startup.head(5)"
   ]
  },
  {
   "cell_type": "code",
   "execution_count": 4,
   "id": "driving-wrong",
   "metadata": {},
   "outputs": [
    {
     "name": "stdout",
     "output_type": "stream",
     "text": [
      "<class 'pandas.core.frame.DataFrame'>\n",
      "RangeIndex: 923 entries, 0 to 922\n",
      "Data columns (total 49 columns):\n",
      " #   Column                    Non-Null Count  Dtype  \n",
      "---  ------                    --------------  -----  \n",
      " 0   unamed:0                  923 non-null    object \n",
      " 1   state_code                915 non-null    object \n",
      " 2   latitude                  915 non-null    float64\n",
      " 3   longitude                 915 non-null    float64\n",
      " 4   zip_code                  915 non-null    object \n",
      " 5   id                        915 non-null    object \n",
      " 6   city                      915 non-null    object \n",
      " 7   Unnamed: 6                428 non-null    object \n",
      " 8   name                      915 non-null    object \n",
      " 9   labels                    915 non-null    float64\n",
      " 10  founded_at                915 non-null    object \n",
      " 11  closed_at                 333 non-null    object \n",
      " 12  first_funding_at          915 non-null    object \n",
      " 13  last_funding_at           915 non-null    object \n",
      " 14  age_first_funding_year    915 non-null    float64\n",
      " 15  age_last_funding_year     915 non-null    float64\n",
      " 16  age_first_milestone_year  764 non-null    float64\n",
      " 17  age_last_milestone_year   764 non-null    float64\n",
      " 18  relationships             915 non-null    float64\n",
      " 19  funding_rounds            915 non-null    float64\n",
      " 20  funding_total_usd         915 non-null    float64\n",
      " 21  milestones                915 non-null    float64\n",
      " 22  state_code.1              914 non-null    object \n",
      " 23  is_CA                     915 non-null    float64\n",
      " 24  is_NY                     915 non-null    float64\n",
      " 25  is_MA                     915 non-null    float64\n",
      " 26  is_TX                     915 non-null    float64\n",
      " 27  is_otherstate             915 non-null    float64\n",
      " 28  category_code             915 non-null    object \n",
      " 29  is_software               915 non-null    float64\n",
      " 30  is_web                    915 non-null    float64\n",
      " 31  is_mobile                 915 non-null    float64\n",
      " 32  is_enterprise             915 non-null    float64\n",
      " 33  is_advertising            915 non-null    float64\n",
      " 34  is_gamesvideo             915 non-null    float64\n",
      " 35  is_ecommerce              915 non-null    float64\n",
      " 36  is_biotech                915 non-null    float64\n",
      " 37  is_consulting             915 non-null    float64\n",
      " 38  is_othercategory          915 non-null    float64\n",
      " 39  object_id                 915 non-null    object \n",
      " 40  has_VC                    915 non-null    float64\n",
      " 41  has_angel                 915 non-null    float64\n",
      " 42  has_roundA                915 non-null    float64\n",
      " 43  has_roundB                915 non-null    float64\n",
      " 44  has_roundC                915 non-null    float64\n",
      " 45  has_roundD                915 non-null    float64\n",
      " 46  avg_participants          915 non-null    float64\n",
      " 47  is_top500                 915 non-null    float64\n",
      " 48  status                    915 non-null    object \n",
      "dtypes: float64(34), object(15)\n",
      "memory usage: 353.5+ KB\n"
     ]
    }
   ],
   "source": [
    "startup.info()"
   ]
  },
  {
   "cell_type": "markdown",
   "id": "unsigned-screen",
   "metadata": {},
   "source": [
    "# Data cleaning"
   ]
  },
  {
   "cell_type": "markdown",
   "id": "jewish-biodiversity",
   "metadata": {},
   "source": [
    "We take just the columns that could be used in a ML algorithm"
   ]
  },
  {
   "cell_type": "code",
   "execution_count": 5,
   "id": "fitted-landscape",
   "metadata": {},
   "outputs": [],
   "source": [
    "startup_clean = startup[['name','age_first_funding_year','age_last_funding_year','age_first_milestone_year','age_last_milestone_year', 'relationships','funding_rounds', 'funding_total_usd','is_CA','is_TX','is_NY'\n",
    "         ,'is_MA', 'is_otherstate', 'is_software', 'is_web', 'is_mobile', 'is_enterprise','is_advertising','is_gamesvideo','is_ecommerce','is_biotech','is_consulting','is_othercategory','has_angel',\n",
    "        'has_VC','has_roundA','has_roundB','has_roundC','has_roundD','avg_participants', 'status']]"
   ]
  },
  {
   "cell_type": "markdown",
   "id": "bored-ivory",
   "metadata": {},
   "source": [
    "We convert the 'status', that will be our Y to predict, in a boolean variable"
   ]
  },
  {
   "cell_type": "code",
   "execution_count": 6,
   "id": "atmospheric-belfast",
   "metadata": {},
   "outputs": [],
   "source": [
    "startup_clean['status'] = startup_clean['status'].replace('acquired', 1)\n",
    "startup_clean['status'] = startup_clean['status'].replace('closed', 0)\n",
    "\n",
    "startup_clean = startup_clean.rename(columns={'status': 'has_succeded'})"
   ]
  },
  {
   "cell_type": "code",
   "execution_count": 7,
   "id": "coupled-fancy",
   "metadata": {},
   "outputs": [],
   "source": [
    "startup_clean = startup_clean[startup_clean['has_succeded'].notna()]"
   ]
  },
  {
   "cell_type": "code",
   "execution_count": 58,
   "id": "rubber-young",
   "metadata": {},
   "outputs": [
    {
     "name": "stdout",
     "output_type": "stream",
     "text": [
      "<class 'pandas.core.frame.DataFrame'>\n",
      "Int64Index: 915 entries, 0 to 922\n",
      "Data columns (total 31 columns):\n",
      " #   Column                    Non-Null Count  Dtype  \n",
      "---  ------                    --------------  -----  \n",
      " 0   name                      915 non-null    object \n",
      " 1   age_first_funding_year    915 non-null    float64\n",
      " 2   age_last_funding_year     915 non-null    float64\n",
      " 3   age_first_milestone_year  915 non-null    float64\n",
      " 4   age_last_milestone_year   915 non-null    float64\n",
      " 5   relationships             915 non-null    float64\n",
      " 6   funding_rounds            915 non-null    float64\n",
      " 7   funding_total_usd         915 non-null    float64\n",
      " 8   is_CA                     915 non-null    float64\n",
      " 9   is_TX                     915 non-null    float64\n",
      " 10  is_NY                     915 non-null    float64\n",
      " 11  is_MA                     915 non-null    float64\n",
      " 12  is_otherstate             915 non-null    float64\n",
      " 13  is_software               915 non-null    float64\n",
      " 14  is_web                    915 non-null    float64\n",
      " 15  is_mobile                 915 non-null    float64\n",
      " 16  is_enterprise             915 non-null    float64\n",
      " 17  is_advertising            915 non-null    float64\n",
      " 18  is_gamesvideo             915 non-null    float64\n",
      " 19  is_ecommerce              915 non-null    float64\n",
      " 20  is_biotech                915 non-null    float64\n",
      " 21  is_consulting             915 non-null    float64\n",
      " 22  is_othercategory          915 non-null    float64\n",
      " 23  has_angel                 915 non-null    float64\n",
      " 24  has_VC                    915 non-null    float64\n",
      " 25  has_roundA                915 non-null    float64\n",
      " 26  has_roundB                915 non-null    float64\n",
      " 27  has_roundC                915 non-null    float64\n",
      " 28  has_roundD                915 non-null    float64\n",
      " 29  avg_participants          915 non-null    float64\n",
      " 30  has_succeded              915 non-null    float64\n",
      "dtypes: float64(30), object(1)\n",
      "memory usage: 228.8+ KB\n"
     ]
    }
   ],
   "source": [
    "startup_clean.info()"
   ]
  },
  {
   "cell_type": "code",
   "execution_count": 20,
   "id": "stuffed-circular",
   "metadata": {},
   "outputs": [
    {
     "data": {
      "text/html": [
       "<div>\n",
       "<style scoped>\n",
       "    .dataframe tbody tr th:only-of-type {\n",
       "        vertical-align: middle;\n",
       "    }\n",
       "\n",
       "    .dataframe tbody tr th {\n",
       "        vertical-align: top;\n",
       "    }\n",
       "\n",
       "    .dataframe thead th {\n",
       "        text-align: right;\n",
       "    }\n",
       "</style>\n",
       "<table border=\"1\" class=\"dataframe\">\n",
       "  <thead>\n",
       "    <tr style=\"text-align: right;\">\n",
       "      <th></th>\n",
       "      <th>name</th>\n",
       "      <th>age_first_funding_year</th>\n",
       "      <th>age_last_funding_year</th>\n",
       "      <th>age_first_milestone_year</th>\n",
       "      <th>age_last_milestone_year</th>\n",
       "      <th>relationships</th>\n",
       "      <th>funding_rounds</th>\n",
       "      <th>funding_total_usd</th>\n",
       "      <th>is_CA</th>\n",
       "      <th>is_TX</th>\n",
       "      <th>...</th>\n",
       "      <th>is_consulting</th>\n",
       "      <th>is_othercategory</th>\n",
       "      <th>has_angel</th>\n",
       "      <th>has_VC</th>\n",
       "      <th>has_roundA</th>\n",
       "      <th>has_roundB</th>\n",
       "      <th>has_roundC</th>\n",
       "      <th>has_roundD</th>\n",
       "      <th>avg_participants</th>\n",
       "      <th>has_succeded</th>\n",
       "    </tr>\n",
       "  </thead>\n",
       "  <tbody>\n",
       "    <tr>\n",
       "      <th>0</th>\n",
       "      <td>Bandsintown</td>\n",
       "      <td>2.2493</td>\n",
       "      <td>3.0027</td>\n",
       "      <td>4.6685</td>\n",
       "      <td>6.7041</td>\n",
       "      <td>3.0</td>\n",
       "      <td>3.0</td>\n",
       "      <td>375000.0</td>\n",
       "      <td>1.0</td>\n",
       "      <td>0.0</td>\n",
       "      <td>...</td>\n",
       "      <td>0.0</td>\n",
       "      <td>1.0</td>\n",
       "      <td>1.0</td>\n",
       "      <td>0.0</td>\n",
       "      <td>0.0</td>\n",
       "      <td>0.0</td>\n",
       "      <td>0.0</td>\n",
       "      <td>0.0</td>\n",
       "      <td>1.0000</td>\n",
       "      <td>1.0</td>\n",
       "    </tr>\n",
       "    <tr>\n",
       "      <th>1</th>\n",
       "      <td>TriCipher</td>\n",
       "      <td>5.1260</td>\n",
       "      <td>9.9973</td>\n",
       "      <td>7.0055</td>\n",
       "      <td>7.0055</td>\n",
       "      <td>9.0</td>\n",
       "      <td>4.0</td>\n",
       "      <td>40100000.0</td>\n",
       "      <td>1.0</td>\n",
       "      <td>0.0</td>\n",
       "      <td>...</td>\n",
       "      <td>0.0</td>\n",
       "      <td>0.0</td>\n",
       "      <td>0.0</td>\n",
       "      <td>1.0</td>\n",
       "      <td>0.0</td>\n",
       "      <td>1.0</td>\n",
       "      <td>1.0</td>\n",
       "      <td>1.0</td>\n",
       "      <td>4.7500</td>\n",
       "      <td>1.0</td>\n",
       "    </tr>\n",
       "    <tr>\n",
       "      <th>2</th>\n",
       "      <td>Plixi</td>\n",
       "      <td>1.0329</td>\n",
       "      <td>1.0329</td>\n",
       "      <td>1.4575</td>\n",
       "      <td>2.2055</td>\n",
       "      <td>5.0</td>\n",
       "      <td>1.0</td>\n",
       "      <td>2600000.0</td>\n",
       "      <td>1.0</td>\n",
       "      <td>0.0</td>\n",
       "      <td>...</td>\n",
       "      <td>0.0</td>\n",
       "      <td>0.0</td>\n",
       "      <td>0.0</td>\n",
       "      <td>0.0</td>\n",
       "      <td>1.0</td>\n",
       "      <td>0.0</td>\n",
       "      <td>0.0</td>\n",
       "      <td>0.0</td>\n",
       "      <td>4.0000</td>\n",
       "      <td>1.0</td>\n",
       "    </tr>\n",
       "    <tr>\n",
       "      <th>3</th>\n",
       "      <td>Solidcore Systems</td>\n",
       "      <td>3.1315</td>\n",
       "      <td>5.3151</td>\n",
       "      <td>6.0027</td>\n",
       "      <td>6.0027</td>\n",
       "      <td>5.0</td>\n",
       "      <td>3.0</td>\n",
       "      <td>40000000.0</td>\n",
       "      <td>1.0</td>\n",
       "      <td>0.0</td>\n",
       "      <td>...</td>\n",
       "      <td>0.0</td>\n",
       "      <td>0.0</td>\n",
       "      <td>0.0</td>\n",
       "      <td>0.0</td>\n",
       "      <td>0.0</td>\n",
       "      <td>1.0</td>\n",
       "      <td>1.0</td>\n",
       "      <td>1.0</td>\n",
       "      <td>3.3333</td>\n",
       "      <td>1.0</td>\n",
       "    </tr>\n",
       "    <tr>\n",
       "      <th>4</th>\n",
       "      <td>Inhale Digital</td>\n",
       "      <td>0.0000</td>\n",
       "      <td>1.6685</td>\n",
       "      <td>0.0384</td>\n",
       "      <td>0.0384</td>\n",
       "      <td>2.0</td>\n",
       "      <td>2.0</td>\n",
       "      <td>1300000.0</td>\n",
       "      <td>1.0</td>\n",
       "      <td>0.0</td>\n",
       "      <td>...</td>\n",
       "      <td>0.0</td>\n",
       "      <td>0.0</td>\n",
       "      <td>1.0</td>\n",
       "      <td>1.0</td>\n",
       "      <td>0.0</td>\n",
       "      <td>0.0</td>\n",
       "      <td>0.0</td>\n",
       "      <td>0.0</td>\n",
       "      <td>1.0000</td>\n",
       "      <td>0.0</td>\n",
       "    </tr>\n",
       "    <tr>\n",
       "      <th>...</th>\n",
       "      <td>...</td>\n",
       "      <td>...</td>\n",
       "      <td>...</td>\n",
       "      <td>...</td>\n",
       "      <td>...</td>\n",
       "      <td>...</td>\n",
       "      <td>...</td>\n",
       "      <td>...</td>\n",
       "      <td>...</td>\n",
       "      <td>...</td>\n",
       "      <td>...</td>\n",
       "      <td>...</td>\n",
       "      <td>...</td>\n",
       "      <td>...</td>\n",
       "      <td>...</td>\n",
       "      <td>...</td>\n",
       "      <td>...</td>\n",
       "      <td>...</td>\n",
       "      <td>...</td>\n",
       "      <td>...</td>\n",
       "      <td>...</td>\n",
       "    </tr>\n",
       "    <tr>\n",
       "      <th>918</th>\n",
       "      <td>CoTweet</td>\n",
       "      <td>0.5178</td>\n",
       "      <td>0.5178</td>\n",
       "      <td>0.5808</td>\n",
       "      <td>4.5260</td>\n",
       "      <td>9.0</td>\n",
       "      <td>1.0</td>\n",
       "      <td>1100000.0</td>\n",
       "      <td>1.0</td>\n",
       "      <td>0.0</td>\n",
       "      <td>...</td>\n",
       "      <td>0.0</td>\n",
       "      <td>0.0</td>\n",
       "      <td>0.0</td>\n",
       "      <td>0.0</td>\n",
       "      <td>1.0</td>\n",
       "      <td>0.0</td>\n",
       "      <td>0.0</td>\n",
       "      <td>0.0</td>\n",
       "      <td>6.0000</td>\n",
       "      <td>1.0</td>\n",
       "    </tr>\n",
       "    <tr>\n",
       "      <th>919</th>\n",
       "      <td>Reef Point Systems</td>\n",
       "      <td>7.2521</td>\n",
       "      <td>9.2274</td>\n",
       "      <td>6.0027</td>\n",
       "      <td>6.0027</td>\n",
       "      <td>1.0</td>\n",
       "      <td>3.0</td>\n",
       "      <td>52000000.0</td>\n",
       "      <td>0.0</td>\n",
       "      <td>0.0</td>\n",
       "      <td>...</td>\n",
       "      <td>0.0</td>\n",
       "      <td>1.0</td>\n",
       "      <td>0.0</td>\n",
       "      <td>1.0</td>\n",
       "      <td>0.0</td>\n",
       "      <td>1.0</td>\n",
       "      <td>0.0</td>\n",
       "      <td>0.0</td>\n",
       "      <td>2.6667</td>\n",
       "      <td>0.0</td>\n",
       "    </tr>\n",
       "    <tr>\n",
       "      <th>920</th>\n",
       "      <td>Paracor Medical</td>\n",
       "      <td>8.4959</td>\n",
       "      <td>8.4959</td>\n",
       "      <td>9.0055</td>\n",
       "      <td>9.0055</td>\n",
       "      <td>5.0</td>\n",
       "      <td>1.0</td>\n",
       "      <td>44000000.0</td>\n",
       "      <td>1.0</td>\n",
       "      <td>0.0</td>\n",
       "      <td>...</td>\n",
       "      <td>0.0</td>\n",
       "      <td>0.0</td>\n",
       "      <td>0.0</td>\n",
       "      <td>0.0</td>\n",
       "      <td>0.0</td>\n",
       "      <td>0.0</td>\n",
       "      <td>0.0</td>\n",
       "      <td>1.0</td>\n",
       "      <td>8.0000</td>\n",
       "      <td>0.0</td>\n",
       "    </tr>\n",
       "    <tr>\n",
       "      <th>921</th>\n",
       "      <td>Causata</td>\n",
       "      <td>0.7589</td>\n",
       "      <td>2.8329</td>\n",
       "      <td>0.7589</td>\n",
       "      <td>3.8356</td>\n",
       "      <td>12.0</td>\n",
       "      <td>2.0</td>\n",
       "      <td>15500000.0</td>\n",
       "      <td>1.0</td>\n",
       "      <td>0.0</td>\n",
       "      <td>...</td>\n",
       "      <td>0.0</td>\n",
       "      <td>0.0</td>\n",
       "      <td>0.0</td>\n",
       "      <td>0.0</td>\n",
       "      <td>1.0</td>\n",
       "      <td>1.0</td>\n",
       "      <td>0.0</td>\n",
       "      <td>0.0</td>\n",
       "      <td>1.0000</td>\n",
       "      <td>1.0</td>\n",
       "    </tr>\n",
       "    <tr>\n",
       "      <th>922</th>\n",
       "      <td>Asempra Technologies</td>\n",
       "      <td>3.1205</td>\n",
       "      <td>3.1205</td>\n",
       "      <td>4.0027</td>\n",
       "      <td>4.0027</td>\n",
       "      <td>4.0</td>\n",
       "      <td>1.0</td>\n",
       "      <td>20000000.0</td>\n",
       "      <td>1.0</td>\n",
       "      <td>0.0</td>\n",
       "      <td>...</td>\n",
       "      <td>0.0</td>\n",
       "      <td>1.0</td>\n",
       "      <td>0.0</td>\n",
       "      <td>0.0</td>\n",
       "      <td>0.0</td>\n",
       "      <td>1.0</td>\n",
       "      <td>0.0</td>\n",
       "      <td>0.0</td>\n",
       "      <td>3.0000</td>\n",
       "      <td>1.0</td>\n",
       "    </tr>\n",
       "  </tbody>\n",
       "</table>\n",
       "<p>915 rows × 31 columns</p>\n",
       "</div>"
      ],
      "text/plain": [
       "                     name  age_first_funding_year  age_last_funding_year  \\\n",
       "0             Bandsintown                  2.2493                 3.0027   \n",
       "1               TriCipher                  5.1260                 9.9973   \n",
       "2                   Plixi                  1.0329                 1.0329   \n",
       "3       Solidcore Systems                  3.1315                 5.3151   \n",
       "4          Inhale Digital                  0.0000                 1.6685   \n",
       "..                    ...                     ...                    ...   \n",
       "918               CoTweet                  0.5178                 0.5178   \n",
       "919    Reef Point Systems                  7.2521                 9.2274   \n",
       "920       Paracor Medical                  8.4959                 8.4959   \n",
       "921               Causata                  0.7589                 2.8329   \n",
       "922  Asempra Technologies                  3.1205                 3.1205   \n",
       "\n",
       "     age_first_milestone_year  age_last_milestone_year  relationships  \\\n",
       "0                      4.6685                   6.7041            3.0   \n",
       "1                      7.0055                   7.0055            9.0   \n",
       "2                      1.4575                   2.2055            5.0   \n",
       "3                      6.0027                   6.0027            5.0   \n",
       "4                      0.0384                   0.0384            2.0   \n",
       "..                        ...                      ...            ...   \n",
       "918                    0.5808                   4.5260            9.0   \n",
       "919                    6.0027                   6.0027            1.0   \n",
       "920                    9.0055                   9.0055            5.0   \n",
       "921                    0.7589                   3.8356           12.0   \n",
       "922                    4.0027                   4.0027            4.0   \n",
       "\n",
       "     funding_rounds  funding_total_usd  is_CA  is_TX  ...  is_consulting  \\\n",
       "0               3.0           375000.0    1.0    0.0  ...            0.0   \n",
       "1               4.0         40100000.0    1.0    0.0  ...            0.0   \n",
       "2               1.0          2600000.0    1.0    0.0  ...            0.0   \n",
       "3               3.0         40000000.0    1.0    0.0  ...            0.0   \n",
       "4               2.0          1300000.0    1.0    0.0  ...            0.0   \n",
       "..              ...                ...    ...    ...  ...            ...   \n",
       "918             1.0          1100000.0    1.0    0.0  ...            0.0   \n",
       "919             3.0         52000000.0    0.0    0.0  ...            0.0   \n",
       "920             1.0         44000000.0    1.0    0.0  ...            0.0   \n",
       "921             2.0         15500000.0    1.0    0.0  ...            0.0   \n",
       "922             1.0         20000000.0    1.0    0.0  ...            0.0   \n",
       "\n",
       "     is_othercategory  has_angel  has_VC  has_roundA  has_roundB  has_roundC  \\\n",
       "0                 1.0        1.0     0.0         0.0         0.0         0.0   \n",
       "1                 0.0        0.0     1.0         0.0         1.0         1.0   \n",
       "2                 0.0        0.0     0.0         1.0         0.0         0.0   \n",
       "3                 0.0        0.0     0.0         0.0         1.0         1.0   \n",
       "4                 0.0        1.0     1.0         0.0         0.0         0.0   \n",
       "..                ...        ...     ...         ...         ...         ...   \n",
       "918               0.0        0.0     0.0         1.0         0.0         0.0   \n",
       "919               1.0        0.0     1.0         0.0         1.0         0.0   \n",
       "920               0.0        0.0     0.0         0.0         0.0         0.0   \n",
       "921               0.0        0.0     0.0         1.0         1.0         0.0   \n",
       "922               1.0        0.0     0.0         0.0         1.0         0.0   \n",
       "\n",
       "     has_roundD  avg_participants  has_succeded  \n",
       "0           0.0            1.0000           1.0  \n",
       "1           1.0            4.7500           1.0  \n",
       "2           0.0            4.0000           1.0  \n",
       "3           1.0            3.3333           1.0  \n",
       "4           0.0            1.0000           0.0  \n",
       "..          ...               ...           ...  \n",
       "918         0.0            6.0000           1.0  \n",
       "919         0.0            2.6667           0.0  \n",
       "920         1.0            8.0000           0.0  \n",
       "921         0.0            1.0000           1.0  \n",
       "922         0.0            3.0000           1.0  \n",
       "\n",
       "[915 rows x 31 columns]"
      ]
     },
     "execution_count": 20,
     "metadata": {},
     "output_type": "execute_result"
    }
   ],
   "source": [
    "startup_clean#[startup['age_first_milestone_year'].isna()][['milestones','age_first_milestone_year','age_last_milestone_year']]"
   ]
  },
  {
   "cell_type": "markdown",
   "id": "surrounded-scottish",
   "metadata": {},
   "source": [
    "in order to avoid the null value on the fields 'age_first_milestone_year' and 'age_last_milestone_year' \n",
    "we procedeed in this way: <br>\n",
    "    - calculate the mean of these value <br>\n",
    "    - replace the nan with the mean"
   ]
  },
  {
   "cell_type": "code",
   "execution_count": 10,
   "id": "dedicated-majority",
   "metadata": {},
   "outputs": [],
   "source": [
    "age_fmy_mean = startup_clean['age_first_milestone_year'].mean()\n",
    "age_lmy_mean = startup_clean['age_last_milestone_year'].mean()\n",
    "\n",
    "startup_clean['age_first_milestone_year']= startup_clean['age_first_milestone_year'].fillna(age_fmy_mean)\n",
    "startup_clean['age_last_milestone_year']= startup_clean['age_last_milestone_year'].fillna(age_fmy_mean)"
   ]
  },
  {
   "cell_type": "markdown",
   "id": "acceptable-vacation",
   "metadata": {},
   "source": [
    "check on null values"
   ]
  },
  {
   "cell_type": "code",
   "execution_count": 11,
   "id": "northern-health",
   "metadata": {},
   "outputs": [
    {
     "data": {
      "text/plain": [
       "name                        0\n",
       "age_first_funding_year      0\n",
       "age_last_funding_year       0\n",
       "age_first_milestone_year    0\n",
       "age_last_milestone_year     0\n",
       "relationships               0\n",
       "funding_rounds              0\n",
       "funding_total_usd           0\n",
       "is_CA                       0\n",
       "is_TX                       0\n",
       "is_NY                       0\n",
       "is_MA                       0\n",
       "is_otherstate               0\n",
       "is_software                 0\n",
       "is_web                      0\n",
       "is_mobile                   0\n",
       "is_enterprise               0\n",
       "is_advertising              0\n",
       "is_gamesvideo               0\n",
       "is_ecommerce                0\n",
       "is_biotech                  0\n",
       "is_consulting               0\n",
       "is_othercategory            0\n",
       "has_angel                   0\n",
       "has_VC                      0\n",
       "has_roundA                  0\n",
       "has_roundB                  0\n",
       "has_roundC                  0\n",
       "has_roundD                  0\n",
       "avg_participants            0\n",
       "has_succeded                0\n",
       "dtype: int64"
      ]
     },
     "execution_count": 11,
     "metadata": {},
     "output_type": "execute_result"
    }
   ],
   "source": [
    "startup_clean.isnull().sum()"
   ]
  },
  {
   "cell_type": "markdown",
   "id": "medical-applicant",
   "metadata": {},
   "source": [
    "# Kfold validation"
   ]
  },
  {
   "cell_type": "code",
   "execution_count": 12,
   "id": "postal-dominant",
   "metadata": {},
   "outputs": [],
   "source": [
    "from sklearn.linear_model import LogisticRegression\n",
    "from sklearn.ensemble import RandomForestClassifier\n",
    "from sklearn.svm import SVC\n",
    "from sklearn.model_selection import train_test_split\n",
    "from sklearn.model_selection import StratifiedKFold\n",
    "from sklearn.model_selection import cross_val_score"
   ]
  },
  {
   "cell_type": "markdown",
   "id": "persistent-catch",
   "metadata": {},
   "source": [
    "function to get score of a model in a simpler way"
   ]
  },
  {
   "cell_type": "code",
   "execution_count": 13,
   "id": "concrete-necklace",
   "metadata": {},
   "outputs": [],
   "source": [
    "def get_score(model, X_train, X_test, y_train, y_test):\n",
    "    model.fit(X_train, y_train)\n",
    "    return fit.score(X_test, y_test)"
   ]
  },
  {
   "cell_type": "code",
   "execution_count": 14,
   "id": "trained-relative",
   "metadata": {},
   "outputs": [],
   "source": [
    "X = startup_clean[['age_first_funding_year','age_last_funding_year','age_first_milestone_year','age_last_milestone_year', 'relationships','funding_rounds', 'funding_total_usd','is_CA','is_TX','is_NY'\n",
    "        ,'is_MA', 'is_otherstate', 'is_software', 'is_web', 'is_mobile', 'is_enterprise','is_advertising','is_gamesvideo','is_ecommerce','is_biotech','is_consulting','is_othercategory','has_angel',\n",
    "       'has_VC','has_roundA','has_roundB','has_roundC','has_roundD','avg_participants']].to_numpy()\n",
    "\n",
    "#X1 =startup_clean[['age_first_funding_year', 'age_last_funding_year']]\n",
    "\n",
    "y = startup_clean['has_succeded'].to_numpy()"
   ]
  },
  {
   "cell_type": "code",
   "execution_count": 15,
   "id": "threatened-steel",
   "metadata": {},
   "outputs": [
    {
     "name": "stdout",
     "output_type": "stream",
     "text": [
      "(915, 29)\n",
      "(915,)\n"
     ]
    }
   ],
   "source": [
    "print(X.shape)\n",
    "print(y.shape)"
   ]
  },
  {
   "cell_type": "code",
   "execution_count": 23,
   "id": "flying-forwarding",
   "metadata": {},
   "outputs": [
    {
     "data": {
      "text/plain": [
       "array([[2.2493, 3.0027, 4.6685, ..., 0.    , 0.    , 1.    ],\n",
       "       [5.126 , 9.9973, 7.0055, ..., 1.    , 1.    , 4.75  ],\n",
       "       [1.0329, 1.0329, 1.4575, ..., 0.    , 0.    , 4.    ],\n",
       "       ...,\n",
       "       [8.4959, 8.4959, 9.0055, ..., 0.    , 1.    , 8.    ],\n",
       "       [0.7589, 2.8329, 0.7589, ..., 0.    , 0.    , 1.    ],\n",
       "       [3.1205, 3.1205, 4.0027, ..., 0.    , 0.    , 3.    ]])"
      ]
     },
     "execution_count": 23,
     "metadata": {},
     "output_type": "execute_result"
    }
   ],
   "source": [
    "X#[1][0]"
   ]
  },
  {
   "cell_type": "code",
   "execution_count": 17,
   "id": "bizarre-capitol",
   "metadata": {},
   "outputs": [
    {
     "data": {
      "text/plain": [
       "array([1., 1., 1., 1., 0., 0., 1., 1., 1., 1., 1., 0., 0., 1., 1., 0., 0.,\n",
       "       1., 1., 0., 1., 0., 0., 0., 0., 1., 1., 1., 1., 0., 1., 0., 1., 0.,\n",
       "       0., 0., 0., 1., 1., 1., 1., 0., 1., 1., 1., 1., 1., 1., 1., 1., 1.,\n",
       "       1., 1., 1., 0., 1., 1., 1., 1., 0., 0., 1., 0., 1., 1., 0., 1., 1.,\n",
       "       1., 1., 1., 1., 1., 0., 0., 0., 1., 1., 0., 1., 0., 0., 1., 1., 0.,\n",
       "       1., 0., 0., 1., 1., 0., 1., 1., 1., 0., 1., 0., 1., 0., 0., 1., 1.,\n",
       "       1., 1., 0., 1., 0., 1., 0., 1., 1., 0., 1., 0., 1., 0., 1., 1., 1.,\n",
       "       0., 1., 0., 1., 1., 1., 1., 0., 0., 1., 1., 0., 1., 1., 0., 1., 0.,\n",
       "       1., 1., 0., 1., 1., 0., 1., 1., 1., 1., 1., 1., 1., 0., 0., 0., 1.,\n",
       "       0., 1., 1., 1., 0., 0., 1., 0., 0., 1., 0., 1., 1., 0., 1., 1., 1.,\n",
       "       0., 1., 1., 1., 0., 0., 0., 1., 0., 0., 1., 1., 1., 0., 0., 1., 1.,\n",
       "       1., 1., 1., 1., 0., 1., 1., 1., 1., 0., 0., 1., 1., 0., 0., 1., 0.,\n",
       "       1., 0., 0., 1., 0., 1., 1., 1., 0., 0., 1., 0., 1., 1., 1., 1., 1.,\n",
       "       0., 0., 0., 0., 1., 1., 1., 0., 1., 1., 1., 1., 0., 1., 0., 1., 1.,\n",
       "       0., 0., 0., 1., 1., 0., 1., 1., 1., 1., 0., 1., 1., 0., 1., 0., 1.,\n",
       "       1., 0., 1., 1., 1., 0., 0., 0., 1., 1., 1., 1., 1., 0., 1., 1., 1.,\n",
       "       1., 0., 1., 1., 0., 1., 0., 1., 1., 0., 0., 0., 1., 1., 0., 1., 0.,\n",
       "       1., 0., 0., 0., 0., 1., 1., 0., 0., 0., 0., 1., 1., 0., 1., 0., 1.,\n",
       "       1., 1., 1., 1., 1., 1., 0., 1., 0., 1., 1., 1., 1., 1., 1., 1., 1.,\n",
       "       0., 0., 0., 1., 0., 1., 0., 1., 0., 1., 1., 0., 1., 1., 1., 1., 1.,\n",
       "       1., 1., 0., 0., 0., 0., 1., 1., 0., 1., 1., 0., 1., 1., 1., 1., 1.,\n",
       "       1., 1., 0., 1., 1., 1., 1., 1., 1., 1., 0., 1., 1., 1., 1., 1., 0.,\n",
       "       1., 1., 1., 1., 1., 1., 1., 1., 1., 1., 1., 0., 0., 1., 0., 1., 1.,\n",
       "       1., 1., 1., 1., 1., 1., 1., 1., 0., 0., 1., 1., 1., 0., 1., 1., 1.,\n",
       "       0., 0., 1., 1., 1., 1., 1., 0., 1., 1., 0., 1., 0., 0., 1., 0., 0.,\n",
       "       1., 1., 1., 1., 0., 0., 1., 0., 0., 1., 1., 0., 0., 1., 1., 1., 1.,\n",
       "       1., 1., 1., 1., 1., 1., 0., 1., 1., 0., 1., 1., 0., 1., 1., 1., 0.,\n",
       "       1., 0., 1., 0., 1., 1., 0., 0., 1., 1., 0., 0., 1., 1., 1., 1., 1.,\n",
       "       0., 0., 0., 1., 1., 1., 1., 0., 1., 1., 0., 1., 0., 0., 0., 0., 1.,\n",
       "       0., 1., 1., 1., 1., 0., 1., 0., 0., 1., 1., 1., 1., 0., 0., 1., 1.,\n",
       "       1., 0., 1., 1., 1., 1., 1., 1., 0., 1., 1., 1., 1., 0., 1., 1., 1.,\n",
       "       0., 1., 1., 0., 0., 0., 1., 1., 1., 1., 1., 0., 1., 0., 1., 1., 1.,\n",
       "       1., 1., 0., 1., 1., 1., 0., 1., 1., 1., 0., 1., 1., 0., 1., 0., 0.,\n",
       "       1., 1., 1., 0., 0., 1., 0., 1., 1., 1., 1., 0., 1., 0., 1., 1., 1.,\n",
       "       1., 1., 0., 0., 1., 0., 1., 0., 1., 1., 1., 0., 1., 1., 1., 0., 1.,\n",
       "       1., 1., 0., 1., 0., 1., 1., 0., 1., 1., 0., 1., 0., 1., 0., 1., 1.,\n",
       "       0., 0., 1., 0., 1., 1., 1., 1., 0., 0., 1., 1., 0., 0., 0., 0., 0.,\n",
       "       0., 0., 1., 0., 1., 0., 1., 0., 1., 0., 1., 1., 1., 1., 1., 1., 0.,\n",
       "       0., 1., 1., 1., 1., 1., 1., 0., 0., 0., 0., 1., 0., 1., 1., 0., 1.,\n",
       "       1., 1., 1., 1., 1., 0., 1., 0., 0., 1., 1., 0., 1., 1., 0., 1., 1.,\n",
       "       1., 0., 1., 1., 1., 0., 0., 1., 1., 0., 1., 1., 0., 1., 1., 1., 0.,\n",
       "       0., 0., 0., 0., 0., 0., 1., 1., 0., 0., 0., 0., 1., 0., 1., 1., 0.,\n",
       "       0., 1., 0., 1., 1., 0., 1., 1., 1., 1., 1., 1., 0., 1., 1., 1., 0.,\n",
       "       0., 1., 0., 1., 1., 0., 1., 0., 1., 0., 1., 1., 0., 0., 1., 1., 1.,\n",
       "       1., 0., 1., 1., 0., 0., 1., 1., 0., 1., 1., 1., 1., 1., 1., 1., 1.,\n",
       "       1., 0., 0., 1., 1., 1., 1., 1., 0., 1., 0., 1., 0., 0., 1., 0., 1.,\n",
       "       0., 1., 1., 1., 0., 0., 1., 1., 1., 1., 1., 1., 1., 1., 0., 1., 0.,\n",
       "       1., 0., 1., 1., 0., 1., 1., 1., 1., 1., 0., 1., 1., 1., 1., 1., 1.,\n",
       "       1., 1., 0., 0., 1., 0., 0., 1., 0., 1., 0., 1., 1., 1., 0., 1., 0.,\n",
       "       1., 0., 1., 1., 0., 0., 1., 1., 1., 1., 1., 1., 0., 1., 1., 1., 1.,\n",
       "       1., 0., 0., 1., 1., 0., 1., 1., 1., 1., 0., 1., 1., 1., 1., 1., 0.,\n",
       "       1., 0., 1., 1., 1., 1., 1., 0., 1., 1., 0., 1., 0., 1., 1., 1., 0.,\n",
       "       0., 1., 1., 1., 1., 1., 1., 0., 1., 0., 1., 1., 0., 0., 1., 1., 1.,\n",
       "       1., 1., 0., 1., 0., 1., 0., 1., 1., 1., 0., 0., 1., 1.])"
      ]
     },
     "execution_count": 17,
     "metadata": {},
     "output_type": "execute_result"
    }
   ],
   "source": [
    "y"
   ]
  },
  {
   "cell_type": "code",
   "execution_count": 18,
   "id": "associate-rouge",
   "metadata": {},
   "outputs": [],
   "source": [
    "folds = StratifiedKFold(n_splits=10)"
   ]
  },
  {
   "cell_type": "markdown",
   "id": "functioning-clear",
   "metadata": {},
   "source": [
    "# Logistic Regression"
   ]
  },
  {
   "cell_type": "code",
   "execution_count": 24,
   "id": "wrong-present",
   "metadata": {},
   "outputs": [],
   "source": [
    "lr = LogisticRegression()"
   ]
  },
  {
   "cell_type": "code",
   "execution_count": 39,
   "id": "incoming-bench",
   "metadata": {},
   "outputs": [],
   "source": [
    "X_train, X_test, y_train, y_test = train_test_split(X, y, test_size=0.3)"
   ]
  },
  {
   "cell_type": "code",
   "execution_count": 40,
   "id": "incredible-impression",
   "metadata": {},
   "outputs": [],
   "source": [
    "fit = lr.fit(X_train, y_train)"
   ]
  },
  {
   "cell_type": "code",
   "execution_count": 41,
   "id": "bound-times",
   "metadata": {},
   "outputs": [
    {
     "data": {
      "text/plain": [
       "0.6436363636363637"
      ]
     },
     "execution_count": 41,
     "metadata": {},
     "output_type": "execute_result"
    }
   ],
   "source": [
    "fit.score(X_test, y_test)"
   ]
  },
  {
   "cell_type": "code",
   "execution_count": 44,
   "id": "bibliographic-yugoslavia",
   "metadata": {},
   "outputs": [],
   "source": [
    "score_lr =[]"
   ]
  },
  {
   "cell_type": "code",
   "execution_count": 45,
   "id": "brief-cheat",
   "metadata": {},
   "outputs": [],
   "source": [
    "for train_index, test_index in folds.split(X,y):\n",
    "    X_train, X_test, y_train, y_test = X[train_index], X[test_index], y[train_index], y[test_index]\n",
    "    score_lr.append(get_score(LogisticRegression() ,X_train, X_test, y_train, y_test))  \n",
    "    "
   ]
  },
  {
   "cell_type": "code",
   "execution_count": 46,
   "id": "south-brunswick",
   "metadata": {},
   "outputs": [
    {
     "data": {
      "text/plain": [
       "[0.6521739130434783,\n",
       " 0.6413043478260869,\n",
       " 0.6413043478260869,\n",
       " 0.6413043478260869,\n",
       " 0.6413043478260869,\n",
       " 0.6483516483516484,\n",
       " 0.6483516483516484,\n",
       " 0.6483516483516484,\n",
       " 0.6483516483516484,\n",
       " 0.6483516483516484]"
      ]
     },
     "execution_count": 46,
     "metadata": {},
     "output_type": "execute_result"
    }
   ],
   "source": [
    "score_lr"
   ]
  },
  {
   "cell_type": "markdown",
   "id": "traditional-centre",
   "metadata": {},
   "source": [
    "# Random Forest"
   ]
  },
  {
   "cell_type": "code",
   "execution_count": 47,
   "id": "greatest-camel",
   "metadata": {},
   "outputs": [],
   "source": [
    "rf=RandomForestClassifier(n_estimators=40)"
   ]
  },
  {
   "cell_type": "code",
   "execution_count": 23,
   "id": "acting-maple",
   "metadata": {},
   "outputs": [
    {
     "data": {
      "text/plain": [
       "RandomForestClassifier(n_estimators=40)"
      ]
     },
     "execution_count": 23,
     "metadata": {},
     "output_type": "execute_result"
    }
   ],
   "source": [
    "rf.fit(X_train, y_train)"
   ]
  },
  {
   "cell_type": "code",
   "execution_count": 27,
   "id": "resistant-southwest",
   "metadata": {},
   "outputs": [
    {
     "data": {
      "text/plain": [
       "0.9127272727272727"
      ]
     },
     "execution_count": 27,
     "metadata": {},
     "output_type": "execute_result"
    }
   ],
   "source": [
    "rf.score(X_test, y_test)"
   ]
  },
  {
   "cell_type": "code",
   "execution_count": 49,
   "id": "aquatic-india",
   "metadata": {},
   "outputs": [
    {
     "data": {
      "text/plain": [
       "array([0.65217391, 0.64130435, 0.64130435, 0.64130435, 0.64130435,\n",
       "       0.64835165, 0.64835165, 0.64835165, 0.64835165, 0.64835165])"
      ]
     },
     "execution_count": 49,
     "metadata": {},
     "output_type": "execute_result"
    }
   ],
   "source": [
    "cross_val_score(LogisticRegression(), X, y, cv=10)"
   ]
  },
  {
   "cell_type": "code",
   "execution_count": null,
   "id": "widespread-beaver",
   "metadata": {},
   "outputs": [],
   "source": []
  },
  {
   "cell_type": "code",
   "execution_count": null,
   "id": "local-vacation",
   "metadata": {},
   "outputs": [],
   "source": []
  }
 ],
 "metadata": {
  "kernelspec": {
   "display_name": "Python 3",
   "language": "python",
   "name": "python3"
  },
  "language_info": {
   "codemirror_mode": {
    "name": "ipython",
    "version": 3
   },
   "file_extension": ".py",
   "mimetype": "text/x-python",
   "name": "python",
   "nbconvert_exporter": "python",
   "pygments_lexer": "ipython3",
   "version": "3.8.5"
  }
 },
 "nbformat": 4,
 "nbformat_minor": 5
}
